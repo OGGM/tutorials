{
 "cells": [
  {
   "cell_type": "markdown",
   "metadata": {},
   "source": [
    "# Create local topography maps from different DEM sources with OGGM"
   ]
  },
  {
   "cell_type": "markdown",
   "metadata": {},
   "source": [
    "There are a number of datasets available [out-of-the box](https://rgitools.readthedocs.io/en/latest/dems.html) in OGGM. This Notebook will show you how to download the original sources and create the local glacier centered map.\n",
    "It is also possible to use your own DEM data in OGGM."
   ]
  },
  {
   "cell_type": "markdown",
   "metadata": {},
   "source": [
    "## Set-up "
   ]
  },
  {
   "cell_type": "code",
   "execution_count": null,
   "metadata": {},
   "outputs": [],
   "source": [
    "import xarray as xr\n",
    "import matplotlib.pyplot as plt\n",
    "import oggm\n",
    "from oggm import cfg, utils, workflow, tasks, graphics\n",
    "from oggm.core import gis\n",
    "cfg.initialize(logging_level='WARNING')\n",
    "cfg.PARAMS['border'] = 10"
   ]
  },
  {
   "cell_type": "markdown",
   "metadata": {},
   "source": [
    "## RGI outlines "
   ]
  },
  {
   "cell_type": "markdown",
   "metadata": {},
   "source": [
    "We use the RGI outlines to identify the necessary DEM tiles. If you haven't downloaded the RGI files yet, this will also download them. Feel free to use your desired RGI-ID here, otherwise let's use the Hintereisferner glacier as an example. "
   ]
  },
  {
   "cell_type": "code",
   "execution_count": null,
   "metadata": {},
   "outputs": [],
   "source": [
    "entity = utils.get_rgi_glacier_entities(['RGI60-11.00897'])\n",
    "entity.plot();"
   ]
  },
  {
   "cell_type": "markdown",
   "metadata": {},
   "source": [
    "## Choose a DEM source (e.g. SRTM)"
   ]
  },
  {
   "cell_type": "markdown",
   "metadata": {},
   "source": [
    "If not specifying anything, OGGM will use it's default settings, i.e. NASADEM for mid- and low-latitudes (60°S-60°N). However, this needs registration at [NASA Earthdata](https://urs.earthdata.nasa.gov/) (see [below](#register)). Here, \n",
    "we choose the **SRTM** source as example DEM (no registration necessary)."
   ]
  },
  {
   "cell_type": "code",
   "execution_count": null,
   "metadata": {},
   "outputs": [],
   "source": [
    "# Let's make a working directory for this DEM \n",
    "cfg.PATHS['working_dir'] = utils.gettempdir('default', reset=True)\n",
    "gdir = workflow.init_glacier_directories(entity)[0]\n",
    "tasks.define_glacier_region(gdir, source='SRTM')\n",
    "# if not yet installed, you have to install rasterio"
   ]
  },
  {
   "cell_type": "markdown",
   "metadata": {},
   "source": [
    "You can access the (reprojected and interpolated) DEM file in the working directory:"
   ]
  },
  {
   "cell_type": "code",
   "execution_count": null,
   "metadata": {},
   "outputs": [],
   "source": [
    "dem_path = gdir.get_filepath('dem')\n",
    "dem_path"
   ]
  },
  {
   "cell_type": "markdown",
   "metadata": {},
   "source": [
    "It is a geotiff file. [Xarray](http://xarray.pydata.org) can open them thanks to [rasterio](https://rasterio.readthedocs.io):"
   ]
  },
  {
   "cell_type": "code",
   "execution_count": null,
   "metadata": {},
   "outputs": [],
   "source": [
    "da = xr.open_rasterio(dem_path)\n",
    "f, ax = plt.subplots()\n",
    "da.plot(cmap='terrain', ax=ax);\n",
    "# Add the outlines\n",
    "gdir.read_shapefile('outlines').plot(ax=ax, color='none', edgecolor='black');"
   ]
  },
  {
   "cell_type": "markdown",
   "metadata": {},
   "source": [
    "The source of the DEM is documented in the directory itself:"
   ]
  },
  {
   "cell_type": "code",
   "execution_count": null,
   "metadata": {},
   "outputs": [],
   "source": [
    "with open(gdir.get_filepath('dem_source'), 'r') as f:\n",
    "    print(f.read())"
   ]
  },
  {
   "cell_type": "markdown",
   "metadata": {},
   "source": [
    "**OGGM is neither the owner nor the distributer of these datasets! OGGM only provides tools to access it. It is your responsibility as the data user to read the individual usage requirements and cite and acknowledge the original data sources accordingly.**"
   ]
  },
  {
   "cell_type": "markdown",
   "metadata": {},
   "source": [
    "## OGGM provided datasets"
   ]
  },
  {
   "cell_type": "markdown",
   "metadata": {},
   "source": [
    "At the moment OGGM is able to download and process the following DEM sources:"
   ]
  },
  {
   "cell_type": "code",
   "execution_count": null,
   "metadata": {},
   "outputs": [],
   "source": [
    "for src in utils.DEM_SOURCES:\n",
    "    print('{:<10}: {}'.format(src, gis.DEM_SOURCE_INFO[src].split('\\n')[0]))"
   ]
  },
  {
   "cell_type": "markdown",
   "metadata": {},
   "source": [
    "<a id='register'></a>\n",
    "The default DEM source for low and mid-latitudes (60°S-60°N), **NASADEM**, requires a user account to download data, so you need to register at [NASA Earthdata](https://urs.earthdata.nasa.gov/). There are other DEM sources where a registration is necessary; for **ASTGTMV3** at [NASA Earthdata](https://urs.earthdata.nasa.gov/), for **TanDEM-X** at [DLR](https://sso.eoc.dlr.de/tdm90/selfservice/), and for **COPDEM** at [spacedata.copernicus.eu/](https://spacedata.copernicus.eu).\n",
    "\n",
    "After that you can use the command line functionality `oggm_netrc_credentials` to store your user credentials in a local `~/.netrc` file. Your user credentials are only stored locally and are only used by the download function for authentification with the original DEM source. **Credentials are not needed if you use the RGI-TOPO data (see below).**"
   ]
  },
  {
   "cell_type": "markdown",
   "metadata": {},
   "source": [
    "## Use pre-processed DEMs from RGI-TOPO "
   ]
  },
  {
   "cell_type": "markdown",
   "metadata": {},
   "source": [
    "The [RGI-TOPO](https://rgitools.readthedocs.io/en/latest/dems.html) dataset is an RGI-provided dataset in beta release. These data are available for everyone, and were created with OGGM. Of course you can easily use these data in OGGM as well:"
   ]
  },
  {
   "cell_type": "code",
   "execution_count": null,
   "metadata": {},
   "outputs": [],
   "source": [
    "# use NASADEM, the default DEM for low and mid-latitudes in OGGM, you can also change to e.g. 'COPDEM'\n",
    "from oggm.shop import rgitopo\n",
    "cfg.PATHS['working_dir'] = utils.gettempdir('rgitopo', reset=True)\n",
    "gdir = rgitopo.init_glacier_directories_from_rgitopo(['RGI60-11.00897'], dem_source='NASADEM')[0]\n",
    "graphics.plot_domain(gdir)"
   ]
  },
  {
   "cell_type": "markdown",
   "metadata": {},
   "source": [
    "## Use another DEM source"
   ]
  },
  {
   "cell_type": "markdown",
   "metadata": {},
   "source": [
    "Using RGI-TOPO DEMs is by far the easiest since all data is prepared for you and ready to use. But if you really want, you can go back to the original data sources:"
   ]
  },
  {
   "cell_type": "code",
   "execution_count": null,
   "metadata": {},
   "outputs": [],
   "source": [
    "# Let's make a working directory for this DEM \n",
    "cfg.PATHS['working_dir'] = utils.gettempdir('alternative')\n",
    "try:\n",
    "    gdir = workflow.init_glacier_directories(entity)[0]\n",
    "    tasks.define_glacier_region(gdir, source='DEM3')\n",
    "except oggm.exceptions.InvalidDEMError as err:\n",
    "    print(err)"
   ]
  },
  {
   "cell_type": "markdown",
   "metadata": {},
   "source": [
    "Let's check that the source text is updated as well:"
   ]
  },
  {
   "cell_type": "code",
   "execution_count": null,
   "metadata": {},
   "outputs": [],
   "source": [
    "with open(gdir.get_filepath('dem_source'), 'r') as f:\n",
    "    print(f.read())"
   ]
  },
  {
   "cell_type": "code",
   "execution_count": null,
   "metadata": {},
   "outputs": [],
   "source": [
    "f, ax = plt.subplots()\n",
    "da_dem3 = xr.open_rasterio(gdir.get_filepath('dem'))\n",
    "da_dem3.plot(cmap='terrain', ax=ax);\n",
    "gdir.read_shapefile('outlines').plot(ax=ax, color='none', edgecolor='black');"
   ]
  },
  {
   "cell_type": "markdown",
   "metadata": {},
   "source": [
    "There might not be much difference a first sight, but by subtracting them the difference become clear:  "
   ]
  },
  {
   "cell_type": "code",
   "execution_count": null,
   "metadata": {},
   "outputs": [],
   "source": [
    "f, ax = plt.subplots()\n",
    "(da_dem3 - da).plot(ax=ax);\n",
    "plt.title('DEM3 - SRTM');\n",
    "gdir.read_shapefile('outlines').plot(ax=ax, color='none', edgecolor='black');"
   ]
  },
  {
   "cell_type": "markdown",
   "metadata": {},
   "source": [
    "## Regional DEMs / DEM availability"
   ]
  },
  {
   "cell_type": "markdown",
   "metadata": {},
   "source": [
    "Of course not all sources are available for every glacier as some of the DEMs are regional only. If we for example try the GIMP DEM, which is a Greenland specific DEM, it will not work for glaciers outside that region:"
   ]
  },
  {
   "cell_type": "code",
   "execution_count": null,
   "metadata": {},
   "outputs": [],
   "source": [
    "# Let's make a working directory for this DEM \n",
    "cfg.PATHS['working_dir'] = utils.gettempdir('gimp', reset=True)\n",
    "try:\n",
    "    gdir = workflow.init_glacier_directories(entity)[0]\n",
    "    tasks.define_glacier_region(gdir, source='GIMP')\n",
    "except oggm.exceptions.InvalidDEMError as err:\n",
    "    print(err)"
   ]
  },
  {
   "cell_type": "markdown",
   "metadata": {},
   "source": [
    "## User provided DEM "
   ]
  },
  {
   "cell_type": "markdown",
   "metadata": {},
   "source": [
    "Users should be able to use any DEM file which can be opened by rasterio (i.e. geotiff). Here, we use a subset SRTM file shipped with OGGM as an example:"
   ]
  },
  {
   "cell_type": "code",
   "execution_count": null,
   "metadata": {},
   "outputs": [],
   "source": [
    "custom_dem_path = utils.get_demo_file('hef_srtm.tif')\n",
    "custom_dem_path"
   ]
  },
  {
   "cell_type": "markdown",
   "metadata": {},
   "source": [
    "We tell OGGM to use it by changing the entry in the RGI table and by giving the path to the file:"
   ]
  },
  {
   "cell_type": "code",
   "execution_count": null,
   "metadata": {},
   "outputs": [],
   "source": [
    "cfg.PATHS['dem_file'] = custom_dem_path"
   ]
  },
  {
   "cell_type": "code",
   "execution_count": null,
   "metadata": {},
   "outputs": [],
   "source": [
    "cfg.PATHS['working_dir'] = utils.gettempdir('user', reset=True)\n",
    "gdir = workflow.init_glacier_directories(entity)[0]\n",
    "tasks.define_glacier_region(gdir, source='USER')"
   ]
  },
  {
   "cell_type": "markdown",
   "metadata": {},
   "source": [
    "Now the user provided DEM is used:"
   ]
  },
  {
   "cell_type": "code",
   "execution_count": null,
   "metadata": {},
   "outputs": [],
   "source": [
    "f, ax = plt.subplots()\n",
    "da_user = xr.open_rasterio(gdir.get_filepath('dem'))\n",
    "da_user.plot(cmap='terrain', ax=ax);\n",
    "gdir.read_shapefile('outlines').plot(ax=ax, color='none', edgecolor='black');"
   ]
  },
  {
   "cell_type": "markdown",
   "metadata": {},
   "source": [
    "## The border value, or how to chose the size of the topographic map"
   ]
  },
  {
   "cell_type": "markdown",
   "metadata": {},
   "source": [
    "It is possible to specify the extent of the local topographic map. All maps are centered on the glacier and the size of the map is determined in grid points around the glacier. The number of grid points that was used in this example are 10 in order to save storage. But depending on your study you might need a larger topographic map. \n",
    "\n",
    "OGGM's [pre-processed directories](https://docs.oggm.org/en/stable/input-data.html#pre-processed-directories) come in 4 border sizes: 10, 40, 80 and 160. But if you process the topography yourself you can chose every value."
   ]
  },
  {
   "cell_type": "code",
   "execution_count": null,
   "metadata": {},
   "outputs": [],
   "source": [
    "# print the currently used number of gridpoints around a glacier\n",
    "cfg.PARAMS['border']"
   ]
  },
  {
   "cell_type": "code",
   "execution_count": null,
   "metadata": {},
   "outputs": [],
   "source": [
    "cfg.PARAMS['border'] = 1"
   ]
  },
  {
   "cell_type": "code",
   "execution_count": null,
   "metadata": {},
   "outputs": [],
   "source": [
    "# Let's make a working directory for this DEM \n",
    "cfg.PATHS['working_dir'] = utils.gettempdir('border1')\n",
    "gdir = workflow.init_glacier_directories(entity)[0]\n",
    "tasks.define_glacier_region(gdir)\n",
    "da = xr.open_rasterio(gdir.get_filepath('dem'))\n",
    "f, ax = plt.subplots()\n",
    "da.plot(cmap='terrain', ax=ax);\n",
    "# Add the outlines\n",
    "gdir.read_shapefile('outlines').plot(ax=ax, color='none', edgecolor='black');"
   ]
  },
  {
   "cell_type": "code",
   "execution_count": null,
   "metadata": {},
   "outputs": [],
   "source": [
    "cfg.PARAMS['border'] = 100"
   ]
  },
  {
   "cell_type": "code",
   "execution_count": null,
   "metadata": {},
   "outputs": [],
   "source": [
    "# Let's make a working directory for this DEM \n",
    "cfg.PATHS['working_dir'] = utils.gettempdir('border100')\n",
    "gdir = workflow.init_glacier_directories(entity)[0]\n",
    "tasks.define_glacier_region(gdir)\n",
    "da = xr.open_rasterio(gdir.get_filepath('dem'))\n",
    "f, ax = plt.subplots()\n",
    "da.plot(cmap='terrain', ax=ax);\n",
    "# Add the outlines\n",
    "gdir.read_shapefile('outlines').plot(ax=ax, color='none', edgecolor='black');"
   ]
  },
  {
   "cell_type": "markdown",
   "metadata": {},
   "source": [
    "## What's next?\n",
    "\n",
    "- return to the [OGGM documentation](https://docs.oggm.org)\n",
    "- back to the [table of contents](welcome.ipynb)"
   ]
  }
 ],
 "metadata": {
  "hide_input": false,
  "kernelspec": {
   "display_name": "Python 3",
   "language": "python",
   "name": "python3"
  },
  "language_info": {
   "codemirror_mode": {
    "name": "ipython",
    "version": 3
   },
   "file_extension": ".py",
   "mimetype": "text/x-python",
   "name": "python",
   "nbconvert_exporter": "python",
   "pygments_lexer": "ipython3",
   "version": "3.8.5"
  },
  "latex_envs": {
   "LaTeX_envs_menu_present": true,
   "autoclose": false,
   "autocomplete": true,
   "bibliofile": "biblio.bib",
   "cite_by": "apalike",
   "current_citInitial": 1,
   "eqLabelWithNumbers": true,
   "eqNumInitial": 1,
   "hotkeys": {
    "equation": "Ctrl-E",
    "itemize": "Ctrl-I"
   },
   "labels_anchors": false,
   "latex_user_defs": false,
   "report_style_numbering": false,
   "user_envs_cfg": false
  },
  "nbTranslate": {
   "displayLangs": [
    "*"
   ],
   "hotkey": "alt-t",
   "langInMainMenu": true,
   "sourceLang": "en",
   "targetLang": "fr",
   "useGoogleTranslate": true
  },
  "toc": {
   "base_numbering": 1,
   "nav_menu": {},
   "number_sections": false,
   "sideBar": true,
   "skip_h1_title": true,
   "title_cell": "Table of Contents",
   "title_sidebar": "Contents",
   "toc_cell": false,
   "toc_position": {},
   "toc_section_display": true,
   "toc_window_display": false
  }
 },
 "nbformat": 4,
 "nbformat_minor": 4
}
