{
 "cells": [
  {
   "cell_type": "markdown",
   "metadata": {},
   "source": [
    "# Storing glacier directories for later use"
   ]
  },
  {
   "cell_type": "markdown",
   "metadata": {},
   "source": [
    "\"Glacier directories\" are the fundamental data structure used by OGGM. They allow to share data between runs, between the OGGM developers and users, and between users themselves. \n",
    "\n",
    "GLacier directories can also be confusing at times, and can contain a high number of files, making them hard to move between clusters or computers. This notebook explains how these directories are structured and how to store them for move and later use.\n",
    "\n",
    "The main use-cases documented by this notebook are:\n",
    "- pre-process a number of glacier directories\n",
    "- stop working, and then re-start again from the same location\n",
    "- stop working, store them and copy them to another storage, or move them to another machine\n",
    "- re-start from them on another machine / instance"
   ]
  },
  {
   "cell_type": "code",
   "execution_count": null,
   "metadata": {},
   "outputs": [],
   "source": [
    "# Libs\n",
    "import os\n",
    "import shutil\n",
    "\n",
    "# Locals\n",
    "import oggm.cfg as cfg\n",
    "from oggm import utils, workflow, tasks"
   ]
  },
  {
   "cell_type": "markdown",
   "metadata": {},
   "source": [
    "## The structure of the working directory"
   ]
  },
  {
   "cell_type": "markdown",
   "metadata": {},
   "source": [
    "Let's open a new workflow for two glaciers:"
   ]
  },
  {
   "cell_type": "code",
   "execution_count": null,
   "metadata": {},
   "outputs": [],
   "source": [
    "# Initialize OGGM and set up the default run parameters\n",
    "cfg.initialize(logging_level='WARNING')\n",
    "rgi_version = '62'\n",
    "cfg.PARAMS['border'] = 80\n",
    "\n",
    "# Local working directory (where OGGM will write its output)\n",
    "WORKING_DIR = utils.gettempdir('oggm_gdirs_wd')\n",
    "utils.mkdir(WORKING_DIR, reset=True)\n",
    "cfg.PATHS['working_dir'] = WORKING_DIR\n",
    "\n",
    "# RGI glaciers: Hintereisferner and Kesselwandferner\n",
    "rgi_ids = utils.get_rgi_glacier_entities(['RGI60-11.00897', 'RGI60-11.00787'])\n",
    "\n",
    "# Go - get the pre-processed glacier directories\n",
    "gdirs = workflow.init_glacier_directories(rgi_ids, from_prepro_level=3)"
   ]
  },
  {
   "cell_type": "markdown",
   "metadata": {},
   "source": [
    "OGGM downloaded the pre-processed directories, stored the tar files in your cache, and extracted them in your working directory. But how is this working directory structured? Let's have a look:"
   ]
  },
  {
   "cell_type": "code",
   "execution_count": null,
   "metadata": {},
   "outputs": [],
   "source": [
    "def file_tree_print(prepro_dir=False):\n",
    "    # Just a utility function to show the dir structure and selected files\n",
    "    print(\"cfg.PATHS['working_dir']/\")\n",
    "    tab = '  '\n",
    "    for dirname, dirnames, filenames in os.walk(cfg.PATHS['working_dir']):\n",
    "        for subdirname in dirnames:\n",
    "            print(tab + subdirname + '/')\n",
    "        for filename in filenames:\n",
    "            if '.tar' in filename and 'RGI' in filename:\n",
    "                print(tab + filename)\n",
    "        tab += '  '"
   ]
  },
  {
   "cell_type": "code",
   "execution_count": null,
   "metadata": {},
   "outputs": [],
   "source": [
    "file_tree_print()"
   ]
  },
  {
   "cell_type": "markdown",
   "metadata": {},
   "source": [
    "OK, so from the `WORKING_DIR`, OGGM creates a `per_glacier` folder (always)  where the glacier directories are stored. In order to avoid a large cluttering of the folder (and for other reasons which become apparent later), the directories are organised in regional (here `RGI60-16`) and then in  folders containing up to 1000 glaciers (here `RGI60-16.02`, i.e. for ids `RGI60-16.020000` to `RGI60-16.029999`).\n",
    "\n",
    "Our files are located in the final folders of this tree (not shown in the tree). For example:"
   ]
  },
  {
   "cell_type": "code",
   "execution_count": null,
   "metadata": {},
   "outputs": [],
   "source": [
    "gdirs[0].get_filepath('dem').replace(WORKING_DIR, 'WORKING_DIR')"
   ]
  },
  {
   "cell_type": "markdown",
   "metadata": {},
   "source": [
    "Let's add some steps to our workflow, for example a spinup run that we would like to store for later: "
   ]
  },
  {
   "cell_type": "code",
   "execution_count": null,
   "metadata": {},
   "outputs": [],
   "source": [
    "# Run\n",
    "workflow.execute_entity_task(tasks.run_from_climate_data, gdirs, \n",
    "                             output_filesuffix='_spinup',  # to use the files as input later on\n",
    "                             );"
   ]
  },
  {
   "cell_type": "markdown",
   "metadata": {},
   "source": [
    "## Stop there and restart from the same spot "
   ]
  },
  {
   "cell_type": "markdown",
   "metadata": {},
   "source": [
    "The glacier directories are on disk, and won't move away. This means that next time you'll open OGGM, from this notebook or another script, you can start from them again. The only steps you have to take:\n",
    "- set the working directory to the one you want to start from\n",
    "- initialize the working directories without arguments (or, faster, with the list of IDs)\n",
    "\n",
    "See for example:"
   ]
  },
  {
   "cell_type": "code",
   "execution_count": null,
   "metadata": {},
   "outputs": [],
   "source": [
    "# Set the working dir correctly\n",
    "cfg.PATHS['working_dir'] = utils.gettempdir('oggm_gdirs_wd')\n",
    "\n",
    "# Go - re-open the pre-processed glacier directories from what's there\n",
    "gdirs = workflow.init_glacier_directories()"
   ]
  },
  {
   "cell_type": "markdown",
   "metadata": {},
   "source": [
    "The step above can be quite slow (because OGGM has to parse quite some info from the directories). Better is to start from the list of glaciers you want to work with:"
   ]
  },
  {
   "cell_type": "code",
   "execution_count": null,
   "metadata": {},
   "outputs": [],
   "source": [
    "# Go - re-open the pre-processed glacier directories from what's there but with the list of glaciers\n",
    "gdirs = workflow.init_glacier_directories(rgi_ids)"
   ]
  },
  {
   "cell_type": "markdown",
   "metadata": {},
   "source": [
    "**!!!CAREFUL!!!** do **not** start from a preprocessed level (or from a tar file), or your local directories (which may contain new data) will be overwritten, i.e. `workflow.init_glacier_directories(rgi_ids, from_prepro_level=3)` will always start from the pre-processed, fresh state."
   ]
  },
  {
   "cell_type": "markdown",
   "metadata": {},
   "source": [
    "## Store the single glacier directories into tar files"
   ]
  },
  {
   "cell_type": "markdown",
   "metadata": {},
   "source": [
    "The `gdir_to_tar` task will compress each single glacier directory into the same folder per default (but you can actually also put the compressed files somewhere else, e.g. in a folder in your `$home`):"
   ]
  },
  {
   "cell_type": "code",
   "execution_count": null,
   "metadata": {},
   "outputs": [],
   "source": [
    "utils.gdir_to_tar?"
   ]
  },
  {
   "cell_type": "code",
   "execution_count": null,
   "metadata": {},
   "outputs": [],
   "source": [
    "workflow.execute_entity_task(utils.gdir_to_tar, gdirs, delete=False);\n",
    "file_tree_print()"
   ]
  },
  {
   "cell_type": "markdown",
   "metadata": {},
   "source": [
    "Most of the time, you will actually want to delete the orginal directories because they are not needed for this run anymore:"
   ]
  },
  {
   "cell_type": "code",
   "execution_count": null,
   "metadata": {},
   "outputs": [],
   "source": [
    "workflow.execute_entity_task(utils.gdir_to_tar, gdirs, delete=True);\n",
    "file_tree_print()"
   ]
  },
  {
   "cell_type": "markdown",
   "metadata": {},
   "source": [
    "Now the original directories are gone, and the `gdirs` objects are useless (attempting to do anything with them will lead to an error).\n",
    "\n",
    "Since they are already available in the correct file structure, however, OGGM will know how to reconstruct them from the tar files if asked to:"
   ]
  },
  {
   "cell_type": "code",
   "execution_count": null,
   "metadata": {},
   "outputs": [],
   "source": [
    "gdirs = workflow.init_glacier_directories(rgi_ids, from_tar=True, delete_tar=True)\n",
    "file_tree_print()"
   ]
  },
  {
   "cell_type": "markdown",
   "metadata": {},
   "source": [
    "These directories are now ready to be used again! To summarize: thanks to this first step, you already reduced the number of files to move around from N x M (where M is the number of files in each glacier directory) to N (where N is the number of glaciers).\n",
    "\n",
    "You can now move this working directory somewhere else, and in another OGGM run instance, simply start from them as shown above."
   ]
  },
  {
   "cell_type": "markdown",
   "metadata": {},
   "source": [
    "## Bundle of directories"
   ]
  },
  {
   "cell_type": "markdown",
   "metadata": {},
   "source": [
    "It turned out that the file structure above was a bit cumbersome to use, in particular for glacier directories that we wanted to share online. For this, we found it more convenient to bundle the directories into groups of 1000 glaciers. Fortunately, this is easy to do:"
   ]
  },
  {
   "cell_type": "code",
   "execution_count": null,
   "metadata": {},
   "outputs": [],
   "source": [
    "utils.base_dir_to_tar?"
   ]
  },
  {
   "cell_type": "code",
   "execution_count": null,
   "metadata": {},
   "outputs": [],
   "source": [
    "# Tar the individual ones first\n",
    "workflow.execute_entity_task(utils.gdir_to_tar, gdirs, delete=True);\n",
    "# Then tar the bundles\n",
    "utils.base_dir_to_tar(WORKING_DIR, delete=True)\n",
    "file_tree_print()"
   ]
  },
  {
   "cell_type": "markdown",
   "metadata": {},
   "source": [
    "Now, the glacier directories are bundled in a file at a higher level even. This is even more convenient to move around (less files), but is not a mandatory step. The nice part about this bundling is that you can still select individual glaciers, as we will see in the next section. In the meantime, you can do: "
   ]
  },
  {
   "cell_type": "code",
   "execution_count": null,
   "metadata": {},
   "outputs": [],
   "source": [
    "gdirs = workflow.init_glacier_directories(rgi_ids, from_tar=True)\n",
    "file_tree_print()"
   ]
  },
  {
   "cell_type": "markdown",
   "metadata": {},
   "source": [
    "Which did the trick! Note that the bundled tar files are never deleted. This is why they are useful for another purpose explained in the next section: creating your own \"pre-processed directories\"."
   ]
  },
  {
   "cell_type": "markdown",
   "metadata": {},
   "source": [
    "## Self-made pre-processed directories for \"restart\" workflows"
   ]
  },
  {
   "cell_type": "markdown",
   "metadata": {},
   "source": [
    "This workflow is the one used by OGGM to prepare the preprocessed directories that many of you are using. It is a variant of the workflow above, the only difference being that the directories are re-started from a file which is located elsewhere than in the working directory:"
   ]
  },
  {
   "cell_type": "code",
   "execution_count": null,
   "metadata": {},
   "outputs": [],
   "source": [
    "# Where to put the compressed dirs\n",
    "PREPRO_DIR = utils.get_temp_dir('prepro_dir')\n",
    "if os.path.exists(PREPRO_DIR):\n",
    "    shutil.rmtree(PREPRO_DIR)\n",
    "\n",
    "# Lets start from a clean state\n",
    "utils.mkdir(WORKING_DIR, reset=True)\n",
    "gdirs = workflow.init_glacier_directories(rgi_ids, from_prepro_level=3)\n",
    "\n",
    "# Then tar the gdirs and bundle\n",
    "workflow.execute_entity_task(utils.gdir_to_tar, gdirs, delete=True)\n",
    "utils.base_dir_to_tar(delete=True)\n",
    "\n",
    "# Copy the outcome in a new directory: scratch folder, new machine, etc.\n",
    "shutil.copytree(os.path.join(WORKING_DIR, 'per_glacier'), PREPRO_DIR);"
   ]
  },
  {
   "cell_type": "markdown",
   "metadata": {},
   "source": [
    "OK so this `PREPRO_DIR` directory is where the files will stay for longer now. You can start from there at wish with:"
   ]
  },
  {
   "cell_type": "code",
   "execution_count": null,
   "metadata": {},
   "outputs": [],
   "source": [
    "# Lets start from a clean state\n",
    "utils.mkdir(WORKING_DIR, reset=True)\n",
    "# This needs https://github.com/OGGM/oggm/pull/1158 to work\n",
    "# It uses the files you prepared beforehand to start the dirs\n",
    "gdirs = workflow.init_glacier_directories(rgi_ids, from_tar=PREPRO_DIR)\n",
    "file_tree_print()"
   ]
  },
  {
   "cell_type": "markdown",
   "metadata": {},
   "source": [
    "## What's next?\n",
    "\n",
    "- return to the [OGGM documentation](https://docs.oggm.org)\n",
    "- back to the [table of contents](welcome.ipynb)"
   ]
  }
 ],
 "metadata": {
  "hide_input": false,
  "kernelspec": {
   "display_name": "Python 3",
   "language": "python",
   "name": "python3"
  },
  "language_info": {
   "codemirror_mode": {
    "name": "ipython",
    "version": 3
   },
   "file_extension": ".py",
   "mimetype": "text/x-python",
   "name": "python",
   "nbconvert_exporter": "python",
   "pygments_lexer": "ipython3",
   "version": "3.8.5"
  },
  "latex_envs": {
   "LaTeX_envs_menu_present": true,
   "autoclose": false,
   "autocomplete": true,
   "bibliofile": "biblio.bib",
   "cite_by": "apalike",
   "current_citInitial": 1,
   "eqLabelWithNumbers": true,
   "eqNumInitial": 1,
   "hotkeys": {
    "equation": "Ctrl-E",
    "itemize": "Ctrl-I"
   },
   "labels_anchors": false,
   "latex_user_defs": false,
   "report_style_numbering": false,
   "user_envs_cfg": false
  },
  "nbTranslate": {
   "displayLangs": [
    "*"
   ],
   "hotkey": "alt-t",
   "langInMainMenu": true,
   "sourceLang": "en",
   "targetLang": "fr",
   "useGoogleTranslate": true
  },
  "toc": {
   "base_numbering": 1,
   "nav_menu": {},
   "number_sections": false,
   "sideBar": true,
   "skip_h1_title": true,
   "title_cell": "Table of Contents",
   "title_sidebar": "Contents",
   "toc_cell": false,
   "toc_position": {},
   "toc_section_display": true,
   "toc_window_display": false
  }
 },
 "nbformat": 4,
 "nbformat_minor": 4
}
