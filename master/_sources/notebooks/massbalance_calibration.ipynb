{
 "cells": [
  {
   "cell_type": "markdown",
   "metadata": {},
   "source": [
    "# A quick look into the mass-balance calibration procedure"
   ]
  },
  {
   "cell_type": "markdown",
   "metadata": {},
   "source": [
    "The default mass-balance model of OGGM is a very standard [temperature index melt model](https://www.sciencedirect.com/science/article/pii/S0022169403002579). What's ... unusual about it, is the calibration procedure. We have explained it in quite some length in the [documentation](https://docs.oggm.org/en/stable/mass-balance.html), in [our paper](https://www.geosci-model-dev.net/12/909/2019/), in the [original publication](https://www.the-cryosphere.net/6/1295/2012/tc-6-1295-2012.html) that introduced it for the first time, and we have created [a website](https://cluster.klima.uni-bremen.de/~oggm/ref_mb_params/oggm_v1.4/crossval.html) to monitor its performance. The method is not perfect (by far), but it is quite powerful: I've often said that it is the best idea that Ben ever had, and he has a lot of good ideas.\n",
    "\n",
    "However, experience shows that most people (including us sometimes ;) don't understand how it works. Let's add a new tutorial to the list, and jump on the opportunity to play around with the calibration procedure (don't do this at home!)."
   ]
  },
  {
   "cell_type": "markdown",
   "metadata": {},
   "source": [
    "## Set-up"
   ]
  },
  {
   "cell_type": "code",
   "execution_count": null,
   "metadata": {},
   "outputs": [],
   "source": [
    "import matplotlib.pyplot as plt\n",
    "import pandas as pd\n",
    "import numpy as np\n",
    "import os\n",
    "\n",
    "import oggm\n",
    "from oggm import cfg, utils, workflow, tasks, graphics\n",
    "from oggm.core import massbalance, climate"
   ]
  },
  {
   "cell_type": "code",
   "execution_count": null,
   "metadata": {},
   "outputs": [],
   "source": [
    "cfg.initialize(logging_level='WARNING')\n",
    "cfg.PATHS['working_dir'] = utils.gettempdir(dirname='OGGM-ref-mb', reset=True)\n",
    "cfg.PARAMS['border'] = 10"
   ]
  },
  {
   "cell_type": "markdown",
   "metadata": {},
   "source": [
    "We start from two well known glaciers in the Austrian Alps, Kesselwandferner and Hintereisferner:"
   ]
  },
  {
   "cell_type": "code",
   "execution_count": null,
   "metadata": {},
   "outputs": [],
   "source": [
    "gdirs = workflow.init_glacier_directories(['RGI60-11.00787', 'RGI60-11.00897'], from_prepro_level=3)"
   ]
  },
  {
   "cell_type": "markdown",
   "metadata": {},
   "source": [
    "The two glaciers are neighbors but have very different geometries:"
   ]
  },
  {
   "cell_type": "code",
   "execution_count": null,
   "metadata": {},
   "outputs": [],
   "source": [
    "f, ax = plt.subplots(figsize=(8, 8))\n",
    "graphics.plot_googlemap(gdirs, ax=ax)"
   ]
  },
  {
   "cell_type": "markdown",
   "metadata": {},
   "source": [
    "## Calibration on glaciers with data"
   ]
  },
  {
   "cell_type": "markdown",
   "metadata": {},
   "source": [
    "Like most models, they are always \"perfect\" where observations are available (both glaciers are reference glaciers in the WGMS database):"
   ]
  },
  {
   "cell_type": "code",
   "execution_count": null,
   "metadata": {},
   "outputs": [],
   "source": [
    "# Get HEF\n",
    "gdir = gdirs[1]\n",
    "# Get the reference mass-balance from the WGMS\n",
    "ref_df = gdir.get_ref_mb_data()\n",
    "# Get the calibrated mass-balance model\n",
    "mbmod = massbalance.PastMassBalance(gdir)\n",
    "# Compute the specific MB for this glacier\n",
    "fls = gdir.read_pickle('inversion_flowlines')\n",
    "ref_df['OGGM (calib)'] = mbmod.get_specific_mb(fls=fls, year=ref_df.index.values)\n",
    "ref_df[['ANNUAL_BALANCE', 'OGGM (calib)']].plot();"
   ]
  },
  {
   "cell_type": "markdown",
   "metadata": {},
   "source": [
    "Perfect? **Not really:** the model is calibrated so that the bias over the calibration period is zero, but other uncertainties remain: the variability in our timeseries is too high (this has something to do with precipitation amounts) and we have a stronger trend in the model than observations (this is due to the changing glacier geometry, that our model doesn't know about here: so this is more a \"feature\" than a bug). "
   ]
  },
  {
   "cell_type": "markdown",
   "metadata": {},
   "source": [
    "What's important for OGGM here is the bias, which is zero:"
   ]
  },
  {
   "cell_type": "code",
   "execution_count": null,
   "metadata": {},
   "outputs": [],
   "source": [
    "ref_df[['ANNUAL_BALANCE', 'OGGM (calib)']].mean()"
   ]
  },
  {
   "cell_type": "markdown",
   "metadata": {},
   "source": [
    "The calibration procedure did following: it found a year $t^*$ in the past which is selected so that the glacier, with its present day geometry, would be in equilibrium with a 31-yr climate centered on $t^*$ (see the [documentation](https://docs.oggm.org/en/stable/mass-balance.html) for more info). The year $t^*$ and the associated temperature sensitivity $\\mu^*$ (units: mm K$^{-1}$ yr$^{-1}$) for this glacier are:"
   ]
  },
  {
   "cell_type": "code",
   "execution_count": null,
   "metadata": {},
   "outputs": [],
   "source": [
    "gdir.read_json('local_mustar')['t_star'], gdir.read_json('local_mustar')['mu_star_glacierwide']"
   ]
  },
  {
   "cell_type": "markdown",
   "metadata": {},
   "source": [
    "What about Kesselwandferner?"
   ]
  },
  {
   "cell_type": "code",
   "execution_count": null,
   "metadata": {},
   "outputs": [],
   "source": [
    "gdir = gdirs[0]\n",
    "gdir.read_json('local_mustar')['t_star'], gdir.read_json('local_mustar')['mu_star_glacierwide']"
   ]
  },
  {
   "cell_type": "markdown",
   "metadata": {},
   "source": [
    "These are very different values! Not surprising: the two glaciers are in the same climate (from the forcing data) but are very different in size, orientation and geometry. The resulting mass-balance values are also different:"
   ]
  },
  {
   "cell_type": "code",
   "execution_count": null,
   "metadata": {},
   "outputs": [],
   "source": [
    "ref_df = gdir.get_ref_mb_data()\n",
    "mbmod = massbalance.PastMassBalance(gdir)\n",
    "ref_df['OGGM (calib)'] = mbmod.get_specific_mb(fls=gdir.read_pickle('inversion_flowlines'), year=ref_df.index.values)\n",
    "ref_df[['ANNUAL_BALANCE', 'OGGM (calib)']].mean()"
   ]
  },
  {
   "cell_type": "markdown",
   "metadata": {},
   "source": [
    "Kesselwandferner has a mass-balance less negative than its neighbor, probably because it is smaller in size and spans less altitude."
   ]
  },
  {
   "cell_type": "markdown",
   "metadata": {},
   "source": [
    "## Calibration on glaciers without data "
   ]
  },
  {
   "cell_type": "markdown",
   "metadata": {},
   "source": [
    "Let's trick OGGM a little. Let's make it appear that no data is available at Kesselwandferner for calibration:"
   ]
  },
  {
   "cell_type": "code",
   "execution_count": null,
   "metadata": {},
   "outputs": [],
   "source": [
    "# Set an empty reference mass-balance\n",
    "gdir.set_ref_mb_data(ref_df.iloc[[]])"
   ]
  },
  {
   "cell_type": "markdown",
   "metadata": {},
   "source": [
    "And re-run the mass-balance calibration:"
   ]
  },
  {
   "cell_type": "code",
   "execution_count": null,
   "metadata": {},
   "outputs": [],
   "source": [
    "cfg.PARAMS['run_mb_calibration'] = True\n",
    "climate.compute_ref_t_stars(gdirs)\n",
    "workflow.execute_entity_task(tasks.local_t_star, gdirs);\n",
    "workflow.execute_entity_task(tasks.mu_star_calibration, gdirs);"
   ]
  },
  {
   "cell_type": "markdown",
   "metadata": {},
   "source": [
    "Now, what's the new $\\mu^*$ of Kesselwandferner?"
   ]
  },
  {
   "cell_type": "code",
   "execution_count": null,
   "metadata": {},
   "outputs": [],
   "source": [
    "gdir.read_json('local_mustar')['t_star'], gdir.read_json('local_mustar')['mu_star_glacierwide']"
   ]
  },
  {
   "cell_type": "markdown",
   "metadata": {},
   "source": [
    "In the absence of other glaciers to interpolate from (usually the 10 closest), OGGM simply assigned the value of $t^*$ from Hintereisferner to Kesselwandferner (1963). From this, $\\mu^*$ could be estimated. This \"blind\" mass-balance model is of course not as good as if we calibrated it using observations:"
   ]
  },
  {
   "cell_type": "code",
   "execution_count": null,
   "metadata": {},
   "outputs": [],
   "source": [
    "mbmod = massbalance.PastMassBalance(gdir)\n",
    "ref_df['OGGM (blind)'] = mbmod.get_specific_mb(fls=gdir.read_pickle('inversion_flowlines'), year=ref_df.index.values)\n",
    "ref_df[['ANNUAL_BALANCE', 'OGGM (calib)', 'OGGM (blind)']].mean()"
   ]
  },
  {
   "cell_type": "markdown",
   "metadata": {},
   "source": [
    "Quite a negative bias! This is as good as OGGM can be in the absence of observations and without any other reference glacier in vicinity (OGGM needs at least one). \n",
    "\n",
    "What else could we do to calibrate  $\\mu^*$  for this glacier? We tried for example to simply interpolate $\\mu^*$, and found that on average, this leads to worse results. Here for example: "
   ]
  },
  {
   "cell_type": "code",
   "execution_count": null,
   "metadata": {},
   "outputs": [],
   "source": [
    "mbmod = massbalance.PastMassBalance(gdir, mu_star=221.275)  # Apply mu* from Hintereisferner\n",
    "ref_df['OGGM (μ∗ from HEF)'] = mbmod.get_specific_mb(fls=gdir.read_pickle('inversion_flowlines'), year=ref_df.index.values)\n",
    "ref_df[['ANNUAL_BALANCE', 'OGGM (calib)', 'OGGM (blind)', 'OGGM (μ∗ from HEF)']].mean()"
   ]
  },
  {
   "cell_type": "markdown",
   "metadata": {},
   "source": [
    "Interpolating $\\mu^*$ instead of $t^*$ is quite quite worse! And we found out that this is generally the case globally:"
   ]
  },
  {
   "cell_type": "markdown",
   "metadata": {},
   "source": [
    "![img](https://docs.oggm.org/en/latest/_images/mb_crossval_panel.png)\n",
    "*Benefit of spatially interpolating $t^*$ instead of $\\mu^*$ as shown by leave-one-glacier-out cross-validation (N = 255). Left: error distribution of the computed mass-balance if determined by the interpolated $t^*$. Right: error distribution of the mass-balance if determined by interpolation of $\\mu^*$. From [Maussion et al., 2019](https://www.geosci-model-dev.net/12/909/2019)*."
   ]
  },
  {
   "cell_type": "markdown",
   "metadata": {},
   "source": [
    "If you come up with a great idea to make the calibration procedure better, please reach out! We have some ideas, but haven't come up to try it yet. There are so many things we want to try out with OGGM!"
   ]
  },
  {
   "cell_type": "markdown",
   "metadata": {},
   "source": [
    "## Prepared reference t* lists"
   ]
  },
  {
   "cell_type": "markdown",
   "metadata": {},
   "source": [
    "As of OGGM v1.4, we offer various t* lists for download and use in your workflow. You will find them here:\n",
    "\n",
    "https://cluster.klima.uni-bremen.de/~oggm/ref_mb_params\n",
    "\n",
    "The easiest is to let OGGM download them for you with, for example:\n",
    "\n",
    "```python\n",
    "# Reference data for the recalibration of the mass-balance\n",
    "ref_tstars_url = 'https://cluster.klima.uni-bremen.de/~oggm/ref_mb_params/oggm_v1.4/RGIV62/CRU/centerlines/qc3/pcp2.5'\n",
    "workflow.download_ref_tstars(base_url=ref_tstars_url)\n",
    "```\n",
    "\n",
    "See also: [local_t_star](https://docs.oggm.org/en/stable/generated/oggm.tasks.local_t_star.html#oggm.tasks.local_t_star) documentation."
   ]
  },
  {
   "cell_type": "markdown",
   "metadata": {},
   "source": [
    "## Bonus: additional MB data for OGGM"
   ]
  },
  {
   "cell_type": "markdown",
   "metadata": {},
   "source": [
    "This is a rare, but possible use case: you might have mass-balance data that is not yet available in the WGMS database, or reanalyzed data that you would like to use in place of the default WGMS. Doing this is quite simple: let's assume we have some secret data for a third glacier, here the Oberer Grindelwald Glacier in the Swiss Alps (this is an example of course):"
   ]
  },
  {
   "cell_type": "code",
   "execution_count": null,
   "metadata": {},
   "outputs": [],
   "source": [
    "gdirs = workflow.init_glacier_directories(['RGI60-11.00787', 'RGI60-11.00897', 'RGI60-11.01270'], from_prepro_level=3, reset=True, force=True)\n",
    "# Let's make sure that OGG is not a reference glacier: this line would throw an error:\n",
    "# gdirs[2].get_ref_mb_data()"
   ]
  },
  {
   "cell_type": "markdown",
   "metadata": {},
   "source": [
    "**First**, let's start by adding some data to this glacier. We are just creating some fake data and giving it to the glacier directory object."
   ]
  },
  {
   "cell_type": "code",
   "execution_count": null,
   "metadata": {},
   "outputs": [],
   "source": [
    "# This dataframe just needs some index and an 'ANN'\n",
    "df = pd.DataFrame(index=range(1980, 2010))\n",
    "# Get random but repeatable results\n",
    "np.random.seed(0)\n",
    "df['ANNUAL_BALANCE'] = np.random.randn(len(df.index)) * 800 - 200\n",
    "df.plot();\n",
    "\n",
    "# Give it to the object\n",
    "gdir = gdirs[2]  # get OGG\n",
    "gdir.set_ref_mb_data(df)"
   ]
  },
  {
   "cell_type": "markdown",
   "metadata": {},
   "source": [
    "**Second**, we have to tell OGGM that this glacier is a reference glacier. We do this by adding it's ID to the list:"
   ]
  },
  {
   "cell_type": "code",
   "execution_count": null,
   "metadata": {},
   "outputs": [],
   "source": [
    "# Make sure the default list is generated\n",
    "utils.get_ref_mb_glaciers_candidates(rgi_version='6');\n",
    "# Append our glacier\n",
    "cfg.DATA['RGI60_ref_ids'].append(gdir.rgi_id)\n",
    "# Make sure all three glaciers are now reference glaciers\n",
    "assert len(utils.get_ref_mb_glaciers(gdirs)) == 3"
   ]
  },
  {
   "cell_type": "markdown",
   "metadata": {},
   "source": [
    "**Third**, re-run the calibration!"
   ]
  },
  {
   "cell_type": "code",
   "execution_count": null,
   "metadata": {},
   "outputs": [],
   "source": [
    "cfg.PARAMS['run_mb_calibration'] = True\n",
    "climate.compute_ref_t_stars(gdirs)\n",
    "workflow.execute_entity_task(tasks.local_t_star, gdirs);\n",
    "workflow.execute_entity_task(tasks.mu_star_calibration, gdirs);"
   ]
  },
  {
   "cell_type": "markdown",
   "metadata": {},
   "source": [
    "**Note:** what just happened here? We asked OGGM to recalibrate its mass-balance model. In essence, it is as simple as computing a list of so-called \"reference $t^*$\" from which the model can interpolate from. This list is then written as CSV file in the working directory:"
   ]
  },
  {
   "cell_type": "code",
   "execution_count": null,
   "metadata": {},
   "outputs": [],
   "source": [
    "df_tstar = pd.read_csv(os.path.join(cfg.PATHS['working_dir'], 'ref_tstars.csv'), index_col=0)\n",
    "df_tstar"
   ]
  },
  {
   "cell_type": "markdown",
   "metadata": {},
   "source": [
    "This list has to be generated once, and **has to be copied in each working directory you use if you want OGGM to take it into account**. In the absence of this file in the working directory, OGGM will use its default pre-calibrated file, located in the online [sample data repository](https://github.com/OGGM/oggm-sample-data/blob/master/wgms/oggm_ref_tstars_rgi6_cru4.csv).\n",
    "\n",
    "After copying the file in a fresh working directory, the task `compute_ref_t_stars` should not be called. Only `local_t_star` and `mu_star_calibration` matter."
   ]
  },
  {
   "cell_type": "markdown",
   "metadata": {},
   "source": [
    "Let's see how well our new glacier's mass-balance can be reproduced:"
   ]
  },
  {
   "cell_type": "code",
   "execution_count": null,
   "metadata": {},
   "outputs": [],
   "source": [
    "ref_df = gdir.get_ref_mb_data()\n",
    "mbmod = massbalance.PastMassBalance(gdir)\n",
    "ref_df['OGGM (fake calib)'] = mbmod.get_specific_mb(fls=gdir.read_pickle('inversion_flowlines'), \n",
    "                                                    year=ref_df.index.values)\n",
    "ref_df[['ANNUAL_BALANCE', 'OGGM (fake calib)']].mean()"
   ]
  },
  {
   "cell_type": "markdown",
   "metadata": {},
   "source": [
    "A bias of zero! Works perfectly, right? ;-) "
   ]
  },
  {
   "cell_type": "code",
   "execution_count": null,
   "metadata": {},
   "outputs": [],
   "source": [
    "ref_df[['ANNUAL_BALANCE', 'OGGM (fake calib)']].plot();"
   ]
  },
  {
   "cell_type": "markdown",
   "metadata": {},
   "source": [
    "## Take home points"
   ]
  },
  {
   "cell_type": "markdown",
   "metadata": {},
   "source": [
    "- We illustrated with a simplified example how to do a simple cross-validation of the mass-balance calibration of OGGM. In reality, the $t^*$ are interpolated, not assigned like this. The results of the full cross-validation are therefore different for Kesselwandferner.\n",
    "- It is possible to play around with OGGM mass-balance data for sensitivity experiments.\n",
    "- It is also possible to add custom mass-balance data to OGGM glaciers and re-calibrate the model based on this data\n",
    "- The mass-balance model of OGGM can lead to substantial biases at the local scale. We show that *on average* the bias is low, but individual glaciers can have substantial biases.\n",
    "- Future improvements will have to deal with this bias, e.g. by making use of the increasingly available geodetic mass-balance measurements."
   ]
  },
  {
   "cell_type": "markdown",
   "metadata": {},
   "source": [
    "## What's next?\n",
    "\n",
    "- return to the [OGGM documentation](https://docs.oggm.org)\n",
    "- back to the [table of contents](welcome.ipynb)"
   ]
  }
 ],
 "metadata": {
  "hide_input": false,
  "kernelspec": {
   "display_name": "Python 3",
   "language": "python",
   "name": "python3"
  },
  "language_info": {
   "codemirror_mode": {
    "name": "ipython",
    "version": 3
   },
   "file_extension": ".py",
   "mimetype": "text/x-python",
   "name": "python",
   "nbconvert_exporter": "python",
   "pygments_lexer": "ipython3",
   "version": "3.8.5"
  },
  "latex_envs": {
   "LaTeX_envs_menu_present": true,
   "autoclose": false,
   "autocomplete": true,
   "bibliofile": "biblio.bib",
   "cite_by": "apalike",
   "current_citInitial": 1,
   "eqLabelWithNumbers": true,
   "eqNumInitial": 1,
   "hotkeys": {
    "equation": "Ctrl-E",
    "itemize": "Ctrl-I"
   },
   "labels_anchors": false,
   "latex_user_defs": false,
   "report_style_numbering": false,
   "user_envs_cfg": false
  },
  "nbTranslate": {
   "displayLangs": [
    "*"
   ],
   "hotkey": "alt-t",
   "langInMainMenu": true,
   "sourceLang": "en",
   "targetLang": "fr",
   "useGoogleTranslate": true
  },
  "toc": {
   "base_numbering": 1,
   "nav_menu": {},
   "number_sections": false,
   "sideBar": true,
   "skip_h1_title": true,
   "title_cell": "Table of Contents",
   "title_sidebar": "Contents",
   "toc_cell": false,
   "toc_position": {},
   "toc_section_display": true,
   "toc_window_display": false
  }
 },
 "nbformat": 4,
 "nbformat_minor": 4
}
