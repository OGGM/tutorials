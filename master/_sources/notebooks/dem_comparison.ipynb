{
 "cells": [
  {
   "cell_type": "markdown",
   "metadata": {},
   "source": [
    "# Compare different DEMs for individual glaciers"
   ]
  },
  {
   "cell_type": "markdown",
   "metadata": {},
   "source": [
    "For most glaciers in the world there are several digital elevation models (DEM) which cover the respective glacier. In OGGM we have currently implemented 10 different open access DEMs to choose from. Some are regional and only available in certain areas (e.g. Greenland or Antarctica) and some cover almost the entire globe. For more information, visit the [rgitools documentation about DEMs](https://rgitools.readthedocs.io/en/latest/dems.html).\n",
    "\n",
    "This notebook allows to see which of the DEMs are available for a selected glacier and how they compare to each other. That way it is easy to spot systematic differences and also invalid points in the DEMs."
   ]
  },
  {
   "cell_type": "markdown",
   "metadata": {},
   "source": [
    "## Input parameters "
   ]
  },
  {
   "cell_type": "markdown",
   "metadata": {},
   "source": [
    "This notebook can be run as a script with parameters using [papermill](https://github.com/nteract/papermill), but it is not necessary. The following cell contains the parameters you can choose from:"
   ]
  },
  {
   "cell_type": "code",
   "execution_count": null,
   "metadata": {
    "papermill": {
     "duration": 0.017019,
     "end_time": "2019-05-02T12:29:41.613572",
     "exception": false,
     "start_time": "2019-05-02T12:29:41.596553",
     "status": "completed"
    },
    "tags": [
     "parameters"
    ]
   },
   "outputs": [],
   "source": [
    "# The RGI Id of the glaciers you want to look for\n",
    "# Use the original shapefiles or the GLIMS viewer to check for the ID: https://www.glims.org/maps/glims\n",
    "rgi_id = 'RGI60-11.00897'\n",
    "\n",
    "# The default is to test for all sources available for this glacier\n",
    "# Set to a list of source names to override this\n",
    "sources = None\n",
    "# Where to write the plots. Default is in the current working directory\n",
    "plot_dir = ''\n",
    "# The RGI version to use\n",
    "# V62 is an unofficial modification of V6 with only minor, backwards compatible modifications\n",
    "prepro_rgi_version = 62\n",
    "# Size of the map around the glacier. Currently only 10 and 40 are available\n",
    "prepro_border = 10\n",
    "# Degree of processing level.  Currently only 1 is available.\n",
    "from_prepro_level = 1"
   ]
  },
  {
   "cell_type": "markdown",
   "metadata": {},
   "source": [
    "## Check input and set up"
   ]
  },
  {
   "cell_type": "code",
   "execution_count": null,
   "metadata": {
    "papermill": {
     "duration": 0.015677,
     "end_time": "2019-05-02T12:29:41.666761",
     "exception": false,
     "start_time": "2019-05-02T12:29:41.651084",
     "status": "completed"
    },
    "tags": []
   },
   "outputs": [],
   "source": [
    "# The sources can be given as parameters\n",
    "if sources is not None and isinstance(sources, str):\n",
    "    sources = sources.split(',')"
   ]
  },
  {
   "cell_type": "code",
   "execution_count": null,
   "metadata": {
    "papermill": {
     "duration": 0.015098,
     "end_time": "2019-05-02T12:29:41.691832",
     "exception": false,
     "start_time": "2019-05-02T12:29:41.676734",
     "status": "completed"
    },
    "tags": []
   },
   "outputs": [],
   "source": [
    "# Plotting directory as well\n",
    "if not plot_dir:\n",
    "    plot_dir = './' + rgi_id\n",
    "import os\n",
    "plot_dir = os.path.abspath(plot_dir)"
   ]
  },
  {
   "cell_type": "code",
   "execution_count": null,
   "metadata": {
    "papermill": {
     "duration": 1.830809,
     "end_time": "2019-05-02T12:29:43.532252",
     "exception": false,
     "start_time": "2019-05-02T12:29:41.701443",
     "status": "completed"
    },
    "tags": []
   },
   "outputs": [],
   "source": [
    "import pandas as pd\n",
    "import numpy as np\n",
    "from oggm import cfg, utils, workflow, tasks, graphics, GlacierDirectory\n",
    "import xarray as xr\n",
    "import geopandas as gpd\n",
    "import salem\n",
    "import matplotlib.pyplot as plt\n",
    "from mpl_toolkits.axes_grid1 import AxesGrid\n",
    "import itertools\n",
    "\n",
    "from oggm.utils import DEM_SOURCES\n",
    "from oggm.workflow import init_glacier_directories"
   ]
  },
  {
   "cell_type": "code",
   "execution_count": null,
   "metadata": {
    "papermill": {
     "duration": 0.093459,
     "end_time": "2019-05-02T12:29:43.661588",
     "exception": false,
     "start_time": "2019-05-02T12:29:43.568129",
     "status": "completed"
    },
    "tags": []
   },
   "outputs": [],
   "source": [
    "# Make sure the plot directory exists\n",
    "utils.mkdir(plot_dir);\n",
    "# Use OGGM to download the data\n",
    "cfg.initialize()\n",
    "cfg.PATHS['working_dir'] = utils.gettempdir(dirname='OGGM-DEMS', reset=True)\n",
    "cfg.PARAMS['use_intersects'] = False"
   ]
  },
  {
   "cell_type": "markdown",
   "metadata": {},
   "source": [
    "## Download the data using OGGM utility functions "
   ]
  },
  {
   "cell_type": "markdown",
   "metadata": {},
   "source": [
    "Note that you could reach the same goal by downloading the data manually from https://cluster.klima.uni-bremen.de/~oggm/gdirs/oggm_v1.4/rgitopo/ "
   ]
  },
  {
   "cell_type": "code",
   "execution_count": null,
   "metadata": {},
   "outputs": [],
   "source": [
    "# URL of the preprocessed GDirs\n",
    "gdir_url = 'https://cluster.klima.uni-bremen.de/~oggm/gdirs/oggm_v1.4/rgitopo/'\n",
    "# We use OGGM to download the data\n",
    "gdir = init_glacier_directories([rgi_id], from_prepro_level=1, prepro_border=10, \n",
    "                                 prepro_rgi_version='62', prepro_base_url=gdir_url)[0]"
   ]
  },
  {
   "cell_type": "markdown",
   "metadata": {},
   "source": [
    "## Read the DEMs and store them all in a dataset "
   ]
  },
  {
   "cell_type": "code",
   "execution_count": null,
   "metadata": {
    "papermill": {
     "duration": 0.028343,
     "end_time": "2019-05-02T12:29:44.137034",
     "exception": false,
     "start_time": "2019-05-02T12:29:44.108691",
     "status": "completed"
    },
    "tags": []
   },
   "outputs": [],
   "source": [
    "if sources is None:\n",
    "    sources = [src for src in os.listdir(gdir.dir) if src in utils.DEM_SOURCES]"
   ]
  },
  {
   "cell_type": "code",
   "execution_count": null,
   "metadata": {
    "papermill": {
     "duration": 0.019044,
     "end_time": "2019-05-02T12:29:44.166408",
     "exception": false,
     "start_time": "2019-05-02T12:29:44.147364",
     "status": "completed"
    },
    "tags": []
   },
   "outputs": [],
   "source": [
    "print('RGI ID:', rgi_id)\n",
    "print('Available DEM sources:', sources)\n",
    "print('Plotting directory:', plot_dir)"
   ]
  },
  {
   "cell_type": "code",
   "execution_count": null,
   "metadata": {
    "papermill": {
     "duration": 0.081067,
     "end_time": "2019-05-02T12:30:18.702292",
     "exception": false,
     "start_time": "2019-05-02T12:30:18.621225",
     "status": "completed"
    },
    "tags": []
   },
   "outputs": [],
   "source": [
    "# We use xarray to store the data\n",
    "ods = xr.Dataset()\n",
    "for src in sources:\n",
    "    demfile = os.path.join(gdir.dir, src) + '/dem.tif'\n",
    "    with xr.open_rasterio(demfile) as ds:\n",
    "        data = ds.sel(band=1).load() * 1.\n",
    "        ods[src] = data.where(data > -100, np.NaN)\n",
    "    \n",
    "    sy, sx = np.gradient(ods[src], gdir.grid.dx, gdir.grid.dx)\n",
    "    ods[src + '_slope'] = ('y', 'x'),  np.arctan(np.sqrt(sy**2 + sx**2))\n",
    "\n",
    "with xr.open_rasterio(gdir.get_filepath('glacier_mask')) as ds:\n",
    "    ods['mask'] = ds.sel(band=1).load()"
   ]
  },
  {
   "cell_type": "code",
   "execution_count": null,
   "metadata": {
    "papermill": {
     "duration": 0.0212,
     "end_time": "2019-05-02T12:30:18.877473",
     "exception": false,
     "start_time": "2019-05-02T12:30:18.856273",
     "status": "completed"
    },
    "tags": []
   },
   "outputs": [],
   "source": [
    "# Decide on the number of plots and figure size\n",
    "ns = len(sources)\n",
    "x_size = 12\n",
    "n_cols = 3\n",
    "n_rows = -(-ns // n_cols)\n",
    "y_size = x_size / n_cols * n_rows"
   ]
  },
  {
   "cell_type": "markdown",
   "metadata": {},
   "source": [
    "## Raw topography data "
   ]
  },
  {
   "cell_type": "code",
   "execution_count": null,
   "metadata": {
    "papermill": {
     "duration": 3.510211,
     "end_time": "2019-05-02T12:30:22.402979",
     "exception": false,
     "start_time": "2019-05-02T12:30:18.892768",
     "status": "completed"
    },
    "tags": []
   },
   "outputs": [],
   "source": [
    "smap = salem.graphics.Map(gdir.grid, countries=False)\n",
    "smap.set_shapefile(gdir.read_shapefile('outlines'))\n",
    "smap.set_plot_params(cmap='topo')\n",
    "smap.set_lonlat_contours(add_tick_labels=False)\n",
    "smap.set_plot_params(vmin=np.nanquantile([ods[s].min() for s in sources], 0.25),\n",
    "                     vmax=np.nanquantile([ods[s].max() for s in sources], 0.75))\n",
    "\n",
    "fig = plt.figure(figsize=(x_size, y_size))\n",
    "grid = AxesGrid(fig, 111,\n",
    "                nrows_ncols=(n_rows, n_cols),\n",
    "                axes_pad=0.7,\n",
    "                cbar_mode='each',\n",
    "                cbar_location='right',\n",
    "                cbar_pad=0.1\n",
    "                )\n",
    "\n",
    "for i, s in enumerate(sources):\n",
    "    data = ods[s]\n",
    "    smap.set_data(data)\n",
    "    ax = grid[i]\n",
    "    smap.visualize(ax=ax, addcbar=False, title=s)\n",
    "    if np.isnan(data).all():\n",
    "        grid[i].cax.remove()\n",
    "        continue\n",
    "    cax = grid.cbar_axes[i]\n",
    "    smap.colorbarbase(cax)\n",
    "    \n",
    "# take care of uneven grids\n",
    "if ax != grid[-1]:\n",
    "    grid[-1].remove()\n",
    "    grid[-1].cax.remove()\n",
    "\n",
    "plt.savefig(os.path.join(plot_dir, 'dem_topo_color.png'), dpi=150, bbox_inches='tight')"
   ]
  },
  {
   "cell_type": "markdown",
   "metadata": {},
   "source": [
    "## Shaded relief "
   ]
  },
  {
   "cell_type": "code",
   "execution_count": null,
   "metadata": {
    "papermill": {
     "duration": 3.282248,
     "end_time": "2019-05-02T12:30:25.712385",
     "exception": false,
     "start_time": "2019-05-02T12:30:22.430137",
     "status": "completed"
    },
    "tags": []
   },
   "outputs": [],
   "source": [
    "fig = plt.figure(figsize=(x_size, y_size))\n",
    "grid = AxesGrid(fig, 111,\n",
    "                nrows_ncols=(n_rows, n_cols),\n",
    "                axes_pad=0.7,\n",
    "                cbar_mode='none',\n",
    "                cbar_location='right',\n",
    "                cbar_pad=0.1\n",
    "                )\n",
    "smap.set_plot_params(cmap='Blues')\n",
    "smap.set_shapefile()\n",
    "for i, s in enumerate(sources):\n",
    "    data = ods[s].copy().where(np.isfinite(ods[s]), 0)\n",
    "    smap.set_data(data * 0)\n",
    "    ax = grid[i]\n",
    "    smap.set_topography(data)\n",
    "    smap.visualize(ax=ax, addcbar=False, title=s)\n",
    "    \n",
    "# take care of uneven grids\n",
    "if ax != grid[-1]:\n",
    "    grid[-1].remove()\n",
    "    grid[-1].cax.remove()\n",
    "\n",
    "plt.savefig(os.path.join(plot_dir, 'dem_topo_shade.png'), dpi=150, bbox_inches='tight')"
   ]
  },
  {
   "cell_type": "markdown",
   "metadata": {},
   "source": [
    "## Slope "
   ]
  },
  {
   "cell_type": "code",
   "execution_count": null,
   "metadata": {},
   "outputs": [],
   "source": [
    "fig = plt.figure(figsize=(x_size, y_size))\n",
    "grid = AxesGrid(fig, 111,\n",
    "                nrows_ncols=(n_rows, n_cols),\n",
    "                axes_pad=0.7,\n",
    "                cbar_mode='each',\n",
    "                cbar_location='right',\n",
    "                cbar_pad=0.1\n",
    "                )\n",
    "\n",
    "smap.set_topography();\n",
    "smap.set_plot_params(vmin=0, vmax=0.7, cmap='Blues')\n",
    "\n",
    "for i, s in enumerate(sources):\n",
    "    data = ods[s + '_slope']\n",
    "    smap.set_data(data)\n",
    "    ax = grid[i]\n",
    "    smap.visualize(ax=ax, addcbar=False, title=s + ' (slope)')\n",
    "    cax = grid.cbar_axes[i]\n",
    "    smap.colorbarbase(cax)\n",
    "    \n",
    "# take care of uneven grids\n",
    "if ax != grid[-1]:\n",
    "    grid[-1].remove()\n",
    "    grid[-1].cax.remove()\n",
    "\n",
    "plt.savefig(os.path.join(plot_dir, 'dem_slope.png'), dpi=150, bbox_inches='tight')"
   ]
  },
  {
   "cell_type": "markdown",
   "metadata": {},
   "source": [
    "## Some simple statistics about the DEMs "
   ]
  },
  {
   "cell_type": "code",
   "execution_count": null,
   "metadata": {},
   "outputs": [],
   "source": [
    "df = pd.DataFrame()\n",
    "for s in sources:\n",
    "    df[s] = ods[s].data.flatten()[ods.mask.data.flatten() == 1]\n",
    "\n",
    "dfs = pd.DataFrame()\n",
    "for s in sources:\n",
    "    dfs[s] = ods[s + '_slope'].data.flatten()[ods.mask.data.flatten() == 1]"
   ]
  },
  {
   "cell_type": "code",
   "execution_count": null,
   "metadata": {},
   "outputs": [],
   "source": [
    "df.describe()"
   ]
  },
  {
   "cell_type": "markdown",
   "metadata": {},
   "source": [
    "## Comparison matrix plot "
   ]
  },
  {
   "cell_type": "code",
   "execution_count": null,
   "metadata": {},
   "outputs": [],
   "source": [
    "# Table of differences between DEMS\n",
    "df_diff = pd.DataFrame()\n",
    "done = []\n",
    "for s1, s2 in itertools.product(sources, sources):\n",
    "    if s1 == s2:\n",
    "        continue\n",
    "    if (s2, s1) in done:\n",
    "        continue\n",
    "    df_diff[s1 + '-' + s2] = df[s1] - df[s2]\n",
    "    done.append((s1, s2))"
   ]
  },
  {
   "cell_type": "code",
   "execution_count": null,
   "metadata": {},
   "outputs": [],
   "source": [
    "# Decide on plot levels\n",
    "max_diff = df_diff.quantile(0.99).max()\n",
    "base_levels = np.array([-8, -5, -3, -1.5, -1, -0.5, -0.2, -0.1, 0, 0.1, 0.2, 0.5, 1, 1.5, 3, 5, 8])\n",
    "if max_diff < 10:\n",
    "    levels = base_levels\n",
    "elif max_diff < 100:\n",
    "    levels = base_levels * 10\n",
    "elif max_diff < 1000:\n",
    "    levels = base_levels * 100\n",
    "else:\n",
    "    levels = base_levels * 1000\n",
    "levels = [l for l in levels if abs(l) < max_diff]\n",
    "if max_diff > 10:\n",
    "    levels = [int(l) for l in levels]\n",
    "levels"
   ]
  },
  {
   "cell_type": "code",
   "execution_count": null,
   "metadata": {
    "papermill": {
     "duration": 3.367876,
     "end_time": "2019-05-02T12:30:29.111637",
     "exception": false,
     "start_time": "2019-05-02T12:30:25.743761",
     "status": "completed"
    },
    "tags": []
   },
   "outputs": [],
   "source": [
    "smap.set_plot_params(levels=levels, cmap='PuOr', extend='both')\n",
    "smap.set_shapefile(gdir.read_shapefile('outlines'))\n",
    "\n",
    "fig = plt.figure(figsize=(14, 14))\n",
    "grid = AxesGrid(fig, 111,\n",
    "                nrows_ncols=(ns - 1, ns - 1),\n",
    "                axes_pad=0.3,\n",
    "                cbar_mode='single',\n",
    "                cbar_location='right',\n",
    "                cbar_pad=0.1\n",
    "                )\n",
    "done = []\n",
    "for ax in grid:\n",
    "    ax.set_axis_off()\n",
    "for s1, s2 in itertools.product(sources, sources):\n",
    "    if s1 == s2:\n",
    "        continue\n",
    "    if (s2, s1) in done:\n",
    "        continue\n",
    "    data = ods[s1] - ods[s2]\n",
    "    ax = grid[sources.index(s1) * (ns - 1) + sources[1:].index(s2)]\n",
    "    ax.set_axis_on()\n",
    "    smap.set_data(data)\n",
    "    smap.visualize(ax=ax, addcbar=False)\n",
    "    done.append((s1, s2))\n",
    "    ax.set_title(s1 + '-' + s2, fontsize=8)\n",
    "    \n",
    "cax = grid.cbar_axes[0]\n",
    "smap.colorbarbase(cax);\n",
    "\n",
    "plt.savefig(os.path.join(plot_dir, 'dem_diffs.png'), dpi=150, bbox_inches='tight')"
   ]
  },
  {
   "cell_type": "markdown",
   "metadata": {},
   "source": [
    "## Comparison scatter plot "
   ]
  },
  {
   "cell_type": "code",
   "execution_count": null,
   "metadata": {
    "papermill": {
     "duration": 28.675102,
     "end_time": "2019-05-02T12:30:57.924205",
     "exception": false,
     "start_time": "2019-05-02T12:30:29.249103",
     "status": "completed"
    },
    "tags": []
   },
   "outputs": [],
   "source": [
    "import seaborn as sns\n",
    "sns.set(style=\"ticks\")\n",
    "\n",
    "l1, l2 = (utils.nicenumber(df.min().min(), binsize=50, lower=True), \n",
    "          utils.nicenumber(df.max().max(), binsize=50, lower=False))\n",
    "\n",
    "def plot_unity(xdata, ydata, **kwargs):\n",
    "    points = np.linspace(l1, l2, 100)\n",
    "    plt.gca().plot(points, points, color='k', marker=None,\n",
    "                   linestyle=':', linewidth=3.0)\n",
    "\n",
    "g = sns.pairplot(df.dropna(how='all', axis=1).dropna(), plot_kws=dict(s=50, edgecolor=\"C0\", linewidth=1));\n",
    "g.map_offdiag(plot_unity)\n",
    "for asx in g.axes:\n",
    "    for ax in asx:\n",
    "        ax.set_xlim((l1, l2))\n",
    "        ax.set_ylim((l1, l2))\n",
    "\n",
    "plt.savefig(os.path.join(plot_dir, 'dem_scatter.png'), dpi=150, bbox_inches='tight')"
   ]
  },
  {
   "cell_type": "markdown",
   "metadata": {},
   "source": [
    "## Table statistics "
   ]
  },
  {
   "cell_type": "code",
   "execution_count": null,
   "metadata": {
    "papermill": {
     "duration": 0.074215,
     "end_time": "2019-05-02T12:30:58.035917",
     "exception": false,
     "start_time": "2019-05-02T12:30:57.961702",
     "status": "completed"
    },
    "tags": []
   },
   "outputs": [],
   "source": [
    "df.describe()"
   ]
  },
  {
   "cell_type": "code",
   "execution_count": null,
   "metadata": {
    "papermill": {
     "duration": 0.065549,
     "end_time": "2019-05-02T12:30:58.159184",
     "exception": false,
     "start_time": "2019-05-02T12:30:58.093635",
     "status": "completed"
    },
    "tags": []
   },
   "outputs": [],
   "source": [
    "df.corr()"
   ]
  },
  {
   "cell_type": "code",
   "execution_count": null,
   "metadata": {},
   "outputs": [],
   "source": [
    "df_diff.describe()"
   ]
  },
  {
   "cell_type": "code",
   "execution_count": null,
   "metadata": {},
   "outputs": [],
   "source": [
    "df_diff.abs().describe()"
   ]
  },
  {
   "cell_type": "markdown",
   "metadata": {},
   "source": [
    "## What's next?\n",
    "\n",
    "- return to the [OGGM documentation](https://docs.oggm.org)\n",
    "- back to the [table of contents](welcome.ipynb)"
   ]
  }
 ],
 "metadata": {
  "celltoolbar": "Tags",
  "hide_input": false,
  "kernelspec": {
   "display_name": "Python 3",
   "language": "python",
   "name": "python3"
  },
  "language_info": {
   "codemirror_mode": {
    "name": "ipython",
    "version": 3
   },
   "file_extension": ".py",
   "mimetype": "text/x-python",
   "name": "python",
   "nbconvert_exporter": "python",
   "pygments_lexer": "ipython3",
   "version": "3.9.1"
  },
  "latex_envs": {
   "LaTeX_envs_menu_present": true,
   "autoclose": false,
   "autocomplete": true,
   "bibliofile": "biblio.bib",
   "cite_by": "apalike",
   "current_citInitial": 1,
   "eqLabelWithNumbers": true,
   "eqNumInitial": 1,
   "hotkeys": {
    "equation": "Ctrl-E",
    "itemize": "Ctrl-I"
   },
   "labels_anchors": false,
   "latex_user_defs": false,
   "report_style_numbering": false,
   "user_envs_cfg": false
  },
  "nbTranslate": {
   "displayLangs": [
    "*"
   ],
   "hotkey": "alt-t",
   "langInMainMenu": true,
   "sourceLang": "en",
   "targetLang": "fr",
   "useGoogleTranslate": true
  },
  "papermill": {
   "duration": 78.878142,
   "end_time": "2019-05-02T12:30:59.784271",
   "environment_variables": {},
   "exception": null,
   "input_path": "dem_comparison.ipynb",
   "output_path": "out-param.ipynb",
   "parameters": {
    "rgi_id": "RGI60-03.02489"
   },
   "start_time": "2019-05-02T12:29:40.906129",
   "version": "1.0.0"
  },
  "toc": {
   "base_numbering": 1,
   "nav_menu": {},
   "number_sections": false,
   "sideBar": true,
   "skip_h1_title": true,
   "title_cell": "Table of Contents",
   "title_sidebar": "Contents",
   "toc_cell": false,
   "toc_position": {},
   "toc_section_display": true,
   "toc_window_display": false
  }
 },
 "nbformat": 4,
 "nbformat_minor": 4
}
