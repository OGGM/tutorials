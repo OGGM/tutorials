{
 "cells": [
  {
   "cell_type": "markdown",
   "id": "c10fd154-c7eb-44ab-a3f6-203e0c3b9f81",
   "metadata": {},
   "source": [
    "# Compute area and thickness changes on a grid (experimental!)"
   ]
  },
  {
   "cell_type": "code",
   "execution_count": null,
   "id": "eb728ce4",
   "metadata": {
    "tags": []
   },
   "outputs": [],
   "source": [
    "from oggm import cfg\n",
    "from oggm import tasks, utils, workflow, graphics\n",
    "import xarray as xr\n",
    "import matplotlib.pyplot as plt"
   ]
  },
  {
   "cell_type": "markdown",
   "id": "729da606",
   "metadata": {},
   "source": [
    "This notebook proposes a method for redistributing glacier ice that has been simulated along the flowline after a glacier retreat simulation. Extrapolating the glacier ice onto a map involves certain assumptions and trade-offs. Depending on the purpose, different choices may be preferred. For example, higher resolution may be desired for visualization compared to using the output for a hydrological model. It is possible to add different options to the final function to allow users to select the option that best suits their needs.\n",
    "\n",
    "This notebook demonstrates the redistribution process using a single glacier. Its purpose is to initiate further discussion before incorporating it into the main OGGM code base (currently in the sandbox)."
   ]
  },
  {
   "cell_type": "markdown",
   "id": "03a90daf-0095-48db-b8ac-e375f92b2a8e",
   "metadata": {},
   "source": [
    "## Pick a glacier "
   ]
  },
  {
   "cell_type": "code",
   "execution_count": null,
   "id": "504b03c3",
   "metadata": {
    "tags": []
   },
   "outputs": [],
   "source": [
    "# Initialize OGGM and set up the default run parameters\n",
    "cfg.initialize(logging_level='WARNING')\n",
    "\n",
    "# Local working directory (where OGGM will write its output)\n",
    "# WORKING_DIR = utils.gettempdir('OGGM_distr4')\n",
    "cfg.PATHS['working_dir'] = utils.get_temp_dir('OGGM_distributed', reset=True)"
   ]
  },
  {
   "cell_type": "code",
   "execution_count": null,
   "id": "4c86bebf",
   "metadata": {
    "tags": []
   },
   "outputs": [],
   "source": [
    "rgi_ids = ['RGI60-11.01450']  # This is Aletsch\n",
    "base_url = 'https://cluster.klima.uni-bremen.de/~oggm/gdirs/oggm_v1.6/L3-L5_files/2023.1/elev_bands/W5E5'\n",
    "\n",
    "gdir = workflow.init_glacier_directories(rgi_ids, prepro_base_url=base_url, from_prepro_level=3, prepro_border=80)[0]"
   ]
  },
  {
   "cell_type": "markdown",
   "id": "51adee20",
   "metadata": {
    "tags": []
   },
   "source": [
    "### Experiment: currently only a random warming simulation"
   ]
  },
  {
   "cell_type": "markdown",
   "id": "a24878ce-7998-404e-9925-6d48b6fe2b5f",
   "metadata": {},
   "source": [
    "There is a little bit more work needed on OGGM for more complex workflows including past and future simulations (not much! coming soon)."
   ]
  },
  {
   "cell_type": "code",
   "execution_count": null,
   "id": "0587e522-2e98-4098-aff0-7c346e8107be",
   "metadata": {
    "tags": []
   },
   "outputs": [],
   "source": [
    "# Do a random run with a bit of warming\n",
    "tasks.run_random_climate(gdir, nyears=100, \n",
    "                         y0=2000,  # Climate of 1985-2015\n",
    "                         seed=1,  # Change for another randomness \n",
    "                         temperature_bias=1,  # casual warming - change for other scenarios\n",
    "                         store_fl_diagnostics=True,  # important! This will be needed for the redistribution\n",
    "                         output_filesuffix='_rdn_1',  # optional - here I just want to make things explicit as to which run we are using afterwards\n",
    "                        );"
   ]
  },
  {
   "cell_type": "markdown",
   "id": "5253f50b-c3f6-4fb4-99b9-35b880aa8de5",
   "metadata": {},
   "source": [
    "## Redistribute: preprocessing"
   ]
  },
  {
   "cell_type": "markdown",
   "id": "e3766596-9cd9-467e-a741-0c25e6b0ec3b",
   "metadata": {},
   "source": [
    "The required tasks can be found in the `distribute_2d` module of the sandbox:"
   ]
  },
  {
   "cell_type": "code",
   "execution_count": null,
   "id": "8ef440c6-3ceb-4383-ada6-dcb63ca5fa43",
   "metadata": {
    "tags": []
   },
   "outputs": [],
   "source": [
    "from oggm.sandbox import distribute_2d"
   ]
  },
  {
   "cell_type": "code",
   "execution_count": null,
   "id": "7bbf4da9-b704-459b-b656-1fb9b9ea2337",
   "metadata": {
    "tags": []
   },
   "outputs": [],
   "source": [
    "# This is to add a new topography to the file (smoothed differently)\n",
    "distribute_2d.add_smoothed_glacier_topo(gdir)\n",
    "# This is to get the bed map at the start of the simulation\n",
    "tasks.distribute_thickness_per_altitude(gdir)\n",
    "# This is to prepare the glacier directory for the interpolation (needs to be done only once)\n",
    "distribute_2d.assign_points_to_band(gdir)"
   ]
  },
  {
   "cell_type": "markdown",
   "id": "fe11b54f-571b-4549-8e9d-e364aa95153f",
   "metadata": {},
   "source": [
    "Let's have a look at what we just did:"
   ]
  },
  {
   "cell_type": "code",
   "execution_count": null,
   "id": "bd7720e7-2501-43f8-8ee6-0501d7eb160a",
   "metadata": {
    "tags": []
   },
   "outputs": [],
   "source": [
    "with xr.open_dataset(gdir.get_filepath('gridded_data')) as ds:\n",
    "    ds = ds.load()"
   ]
  },
  {
   "cell_type": "code",
   "execution_count": null,
   "id": "7ba7cdd2-bd73-4d6b-b472-c4ce4bf4ef03",
   "metadata": {
    "tags": []
   },
   "outputs": [],
   "source": [
    "# Inititial glacier thickness\n",
    "f, ax = plt.subplots()\n",
    "ds.distributed_thickness.plot(ax=ax);\n",
    "ax.axis('equal');"
   ]
  },
  {
   "cell_type": "code",
   "execution_count": null,
   "id": "335f858d-4898-4769-a447-0a90deed9bc2",
   "metadata": {
    "tags": []
   },
   "outputs": [],
   "source": [
    "# Which points belongs to which band, and then within one band which are the first to melt\n",
    "f, (ax1, ax2) = plt.subplots(1, 2, figsize=(12, 4))\n",
    "ds.band_index.plot(ax=ax1);\n",
    "ds.rank_per_band.plot(ax=ax2);\n",
    "ax1.axis('equal'); ax2.axis('equal'); plt.tight_layout();"
   ]
  },
  {
   "cell_type": "markdown",
   "id": "98515c10-a2c0-47db-915d-7d143345b317",
   "metadata": {
    "tags": []
   },
   "source": [
    "## Redistribute simulation "
   ]
  },
  {
   "cell_type": "markdown",
   "id": "a88e826e-dcf9-43a8-bca0-6d3dddf3c8a2",
   "metadata": {},
   "source": [
    "The tasks above need to be run only once. The next one however should be done for each simulation:"
   ]
  },
  {
   "cell_type": "code",
   "execution_count": null,
   "id": "be21018c-fc67-4e7a-9adf-c71d9da1944c",
   "metadata": {
    "tags": []
   },
   "outputs": [],
   "source": [
    "distribute_2d.distribute_thickness_from_simulation(gdir, input_filesuffix='_rdn_1')"
   ]
  },
  {
   "cell_type": "markdown",
   "id": "30e60e71-8753-4c58-b38b-8ce3dd8daf12",
   "metadata": {},
   "source": [
    "## Plot "
   ]
  },
  {
   "cell_type": "markdown",
   "id": "32ebbfee-5ff9-4cad-b642-67701b8ee4f4",
   "metadata": {},
   "source": [
    "Let's have a look!"
   ]
  },
  {
   "cell_type": "code",
   "execution_count": null,
   "id": "bc10382e-3f9b-4c6b-aaa2-b092ddedba09",
   "metadata": {
    "tags": []
   },
   "outputs": [],
   "source": [
    "with xr.open_dataset(gdir.get_filepath('gridded_data')) as ds:\n",
    "    ds = ds.load()"
   ]
  },
  {
   "cell_type": "code",
   "execution_count": null,
   "id": "04d36bc7-0c1a-4160-92d0-a8d5643ba6f9",
   "metadata": {
    "tags": []
   },
   "outputs": [],
   "source": [
    "ds.time"
   ]
  },
  {
   "cell_type": "code",
   "execution_count": null,
   "id": "4f02cbd9-00de-42fb-be14-e8beb3285007",
   "metadata": {
    "tags": []
   },
   "outputs": [],
   "source": [
    "f, (ax1, ax2, ax3) = plt.subplots(1, 3, figsize=(14, 4))\n",
    "ds.simulation_distributed_thickness_rdn_1.sel(time=0).plot(ax=ax1, vmax=400);\n",
    "ds.simulation_distributed_thickness_rdn_1.sel(time=40).plot(ax=ax2, vmax=400);\n",
    "ds.simulation_distributed_thickness_rdn_1.sel(time=80).plot(ax=ax3, vmax=400);\n",
    "ax1.axis('equal'); ax2.axis('equal'); plt.tight_layout();"
   ]
  },
  {
   "cell_type": "markdown",
   "id": "5b6fbede-7bf2-4f2e-a012-4c55cf39839b",
   "metadata": {},
   "source": [
    "## Animation!"
   ]
  },
  {
   "cell_type": "code",
   "execution_count": null,
   "id": "1b8249b3",
   "metadata": {
    "jupyter": {
     "outputs_hidden": false
    }
   },
   "outputs": [],
   "source": [
    "from matplotlib import animation\n",
    "from IPython.display import HTML, display\n",
    "\n",
    "# Get a handle on the figure and the axes\n",
    "fig, ax = plt.subplots()\n",
    "\n",
    "thk = ds['simulation_distributed_thickness_rdn_1']\n",
    "\n",
    "# Plot the initial frame. \n",
    "cax = thk.isel(time=0).plot(ax=ax,\n",
    "    add_colorbar=True,\n",
    "    cmap='viridis',\n",
    "    vmin=0, vmax=350,\n",
    "    cbar_kwargs={\n",
    "        'extend':'neither'\n",
    "    }\n",
    ")\n",
    "ax.axis('equal')\n",
    "\n",
    "def animate(frame):\n",
    "    ax.set_title(f'Year {int(frame)}')\n",
    "    cax.set_array(thk.values[frame, :].flatten())\n",
    "\n",
    "ani_glacier = animation.FuncAnimation(fig, animate, frames=len(thk.time), interval=200);"
   ]
  },
  {
   "cell_type": "code",
   "execution_count": null,
   "id": "024bc499-bcb1-43e3-aa0c-5765b7397f13",
   "metadata": {
    "tags": []
   },
   "outputs": [],
   "source": [
    "HTML(ani_glacier.to_jshtml())"
   ]
  },
  {
   "cell_type": "code",
   "execution_count": null,
   "id": "d02b3bdd-43ec-439d-aaea-d14c08952ded",
   "metadata": {
    "tags": []
   },
   "outputs": [],
   "source": [
    "# Write to mp4?\n",
    "# FFwriter = animation.FFMpegWriter(fps=10)\n",
    "# ani2.save('animation.mp4', writer=FFwriter)"
   ]
  }
 ],
 "metadata": {
  "kernelspec": {
   "display_name": "Python 3 (ipykernel)",
   "language": "python",
   "name": "python3"
  },
  "language_info": {
   "codemirror_mode": {
    "name": "ipython",
    "version": 3
   },
   "file_extension": ".py",
   "mimetype": "text/x-python",
   "name": "python",
   "nbconvert_exporter": "python",
   "pygments_lexer": "ipython3",
   "version": "3.10.9"
  }
 },
 "nbformat": 4,
 "nbformat_minor": 5
}
