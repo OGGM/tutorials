{
 "cells": [
  {
   "cell_type": "markdown",
   "metadata": {
    "hideCode": true,
    "hidePrompt": true
   },
   "source": [
    "# Plotting the OGGM surface mass-balance, the ELA and AAR"
   ]
  },
  {
   "cell_type": "markdown",
   "metadata": {
    "hideCode": true,
    "hidePrompt": true
   },
   "source": [
    "A few recipes to help you to plot and analyse the mass-balance (MB) computed by OGGM."
   ]
  },
  {
   "cell_type": "code",
   "execution_count": null,
   "metadata": {},
   "outputs": [],
   "source": [
    "import os\n",
    "import matplotlib.pyplot as plt\n",
    "import pandas as pd\n",
    "import xarray as xr\n",
    "import numpy as np\n",
    "import pandas as pd\n",
    "\n",
    "import oggm\n",
    "from oggm import cfg, utils, workflow, tasks, graphics, global_tasks\n",
    "from oggm.core import massbalance, flowline"
   ]
  },
  {
   "cell_type": "code",
   "execution_count": null,
   "metadata": {},
   "outputs": [],
   "source": [
    "cfg.initialize(logging_level='WARNING')\n",
    "cfg.PATHS['working_dir'] = utils.gettempdir(dirname='OGGM-ref-mb', reset=True)\n",
    "cfg.PARAMS['border'] = 80\n",
    "cfg.PARAMS['store_model_geometry'] = True"
   ]
  },
  {
   "cell_type": "markdown",
   "metadata": {},
   "source": [
    "We use Hintereisferner:"
   ]
  },
  {
   "cell_type": "code",
   "execution_count": null,
   "metadata": {},
   "outputs": [],
   "source": [
    "# (The second glacier here we will only use in the second part of this notebook.)\n",
    "# in OGGM v1.6 you have to explicitly indicate the url from where you want to start from\n",
    "# we will use here the centerlines to actually look at different flowlines\n",
    "base_url = ('https://cluster.klima.uni-bremen.de/~oggm/gdirs/oggm_v1.6/'\n",
    "            'L3-L5_files/2023.1/centerlines/W5E5/')\n",
    "gdirs = workflow.init_glacier_directories(['RGI60-11.00897', 'RGI60-11.00001'], from_prepro_level=3,\n",
    "                                          prepro_base_url=base_url)\n",
    "# when using centerlines, the new default `SemiImplicit` scheme does not work at the moment,\n",
    "# we have to use the `FluxBased` scheme instead:\n",
    "cfg.PARAMS['evolution_model'] = 'FluxBased'\n",
    "\n",
    "gdir = gdirs[0]\n",
    "tasks.init_present_time_glacier(gdir)"
   ]
  },
  {
   "cell_type": "markdown",
   "metadata": {
    "hideCode": true,
    "hidePrompt": true
   },
   "source": [
    "## With a static geometry"
   ]
  },
  {
   "cell_type": "markdown",
   "metadata": {
    "hideCode": true,
    "hidePrompt": true
   },
   "source": [
    "That's by far the easiest - that is how we mostly test and develop mass-balance models ourselves."
   ]
  },
  {
   "cell_type": "markdown",
   "metadata": {},
   "source": [
    "### The very easy way "
   ]
  },
  {
   "cell_type": "code",
   "execution_count": null,
   "metadata": {},
   "outputs": [],
   "source": [
    "# Get the calibrated mass-balance model - the default is to use OGGM's \"MonthlyTIModel\"\n",
    "mbmod = massbalance.MultipleFlowlineMassBalance(gdir)\n",
    "\n",
    "# Compute the specific MB for this glacier\n",
    "fls = gdir.read_pickle('model_flowlines')\n",
    "years = np.arange(1950, 2019)\n",
    "mb_ts = mbmod.get_specific_mb(fls=fls, year=years)\n",
    "\n",
    "plt.plot(years, mb_ts);\n",
    "plt.ylabel('Specific MB (mm w.e.)');\n",
    "plt.xlabel('Year');"
   ]
  },
  {
   "cell_type": "markdown",
   "metadata": {},
   "source": [
    "In this particular case (Hintereisferner), we can also plot the measured data:"
   ]
  },
  {
   "cell_type": "code",
   "execution_count": null,
   "metadata": {},
   "outputs": [],
   "source": [
    "# Get the reference mass-balance from the WGMS\n",
    "ref_df = gdir.get_ref_mb_data()\n",
    "# Get OGGM MB at the same dates\n",
    "ref_df['OGGM'] = mbmod.get_specific_mb(fls=fls, year=ref_df.index.values)\n",
    "# Plot\n",
    "plt.plot(ref_df.index, ref_df.OGGM, label='OGGM');\n",
    "plt.plot(ref_df.index, ref_df.ANNUAL_BALANCE, label='WGMS');\n",
    "plt.ylabel('Specific MB (mm w.e.)'); plt.legend();\n",
    "plt.xlabel('Year');"
   ]
  },
  {
   "cell_type": "markdown",
   "metadata": {},
   "source": [
    "### Mass-balance profiles on flowlines"
   ]
  },
  {
   "cell_type": "markdown",
   "metadata": {},
   "source": [
    "Let's start by noting that I used the `MultipleFlowlineMassBalance` model here. This is what OGGM uses for its runs, because we allow different model parameters for different flowlines. In many cases we don't need this, but sometimes we do. Let's see if we have different mass-balance model parameters for Hintereisferner or not. Note, that the new calibration can cause any of the mass-balance model parameters (melt factor, temperature bias or precipitation factor) to be different (more in the [massbalance_calibration](../advanced/massbalance_calibration.ipynb) notebook)."
   ]
  },
  {
   "cell_type": "code",
   "execution_count": null,
   "metadata": {},
   "outputs": [],
   "source": [
    "for flmod in mbmod.flowline_mb_models:\n",
    "    print(flmod.melt_f, f'{flmod.temp_bias:.2f}', f'{flmod.prcp_fac:.2f}')"
   ]
  },
  {
   "cell_type": "markdown",
   "metadata": {},
   "source": [
    "So here we have the same mass-balance model parameters for each flowline (that's frequently the case). To get the mass-balance as a function of height we have several possibilities:"
   ]
  },
  {
   "cell_type": "code",
   "execution_count": null,
   "metadata": {},
   "outputs": [],
   "source": [
    "# Where the flowlines are:\n",
    "heights, widths, mb = mbmod.get_annual_mb_on_flowlines(fls, year=2000)\n",
    "# units kg ice per second to mm w.e. per year:\n",
    "mb = mb * cfg.SEC_IN_YEAR * cfg.PARAMS['ice_density'] \n",
    "\n",
    "# Plot\n",
    "plt.plot(mb, heights, '*', label='2000');\n",
    "\n",
    "# Another year:\n",
    "heights, widths, mb = mbmod.get_annual_mb_on_flowlines(fls, year=2001)\n",
    "# units kg ice per second to mm w.e. per year:\n",
    "mb = mb * cfg.SEC_IN_YEAR * cfg.PARAMS['ice_density'] \n",
    "# Plot\n",
    "plt.plot(mb, heights, '*', label='2001');\n",
    "plt.ylabel('Elevation (m a.s.l.)'); plt.xlabel('MB (mm w.e. yr$^{-1}$)'); plt.legend();"
   ]
  },
  {
   "cell_type": "markdown",
   "metadata": {},
   "source": [
    "### Mass-balance at any height"
   ]
  },
  {
   "cell_type": "markdown",
   "metadata": {},
   "source": [
    "For this, we can either \"pick\" one of the single flowline mass-balance models or use the multiple one (it's the same):"
   ]
  },
  {
   "cell_type": "code",
   "execution_count": null,
   "metadata": {},
   "outputs": [],
   "source": [
    "heights = np.arange(2500, 4000)\n",
    "# Method 1\n",
    "mbmod1 = mbmod.flowline_mb_models[0]\n",
    "mb = mbmod1.get_annual_mb(heights, year=2001) * cfg.SEC_IN_YEAR * cfg.PARAMS['ice_density'] \n",
    "# Method 2\n",
    "mb2 = mbmod.get_annual_mb(heights, year=2001, fl_id=0) * cfg.SEC_IN_YEAR * cfg.PARAMS['ice_density'] \n",
    "np.testing.assert_allclose(mb, mb2)\n",
    "# Plot\n",
    "plt.plot(mb, heights, label='2001');\n",
    "plt.ylabel('Elevation (m a.s.l.)'); plt.xlabel('MB (mm w.e. yr$^{-1}$)'); plt.legend();"
   ]
  },
  {
   "cell_type": "markdown",
   "metadata": {},
   "source": [
    "But again, for certain glaciers the mass-balance might change from one flowline to another!"
   ]
  },
  {
   "cell_type": "markdown",
   "metadata": {},
   "source": [
    "## Mass-balance during a transient run + bonus info (timestamps in OGGM)"
   ]
  },
  {
   "cell_type": "markdown",
   "metadata": {},
   "source": [
    "### Specific (glacier-wide) mass-balance"
   ]
  },
  {
   "cell_type": "markdown",
   "metadata": {},
   "source": [
    "At the time of writing, we only store the glacier volume, which is roughly equivalent to the mass-balance (up to numerical accuracy in the dynamical model)."
   ]
  },
  {
   "cell_type": "code",
   "execution_count": null,
   "metadata": {},
   "outputs": [],
   "source": [
    "# We want to use these flowline files for the AAR (see later)\n",
    "cfg.PARAMS['store_fl_diagnostics'] = True\n",
    "# Run from outline inventory year (2003 for HEF) to 2017 (end of CRU data in hydro year convention, see below)\n",
    "tasks.run_from_climate_data(gdir, ye=2020);"
   ]
  },
  {
   "cell_type": "code",
   "execution_count": null,
   "metadata": {},
   "outputs": [],
   "source": [
    "ds_diag = xr.open_dataset(gdir.get_filepath('model_diagnostics'))\n",
    "ds_diag.volume_m3.plot(); plt.title('Volume evolution of Hintereisferner');"
   ]
  },
  {
   "cell_type": "markdown",
   "metadata": {},
   "source": [
    "### Important: timestamps in OGGM"
   ]
  },
  {
   "cell_type": "markdown",
   "metadata": {},
   "source": [
    "OGGM was initially developed to follow the traditional \"hydrological year\" convention. Since OGGM v1.6 or even earlier, we stopped using the hydrological year operationally and use instead simple calendar years. One of the reasons is that our geodetic data used for calibration are also in calendar years. We still give the hydrological year in output files, therefore we introduce it shortly:\n",
    "\n",
    "We use what we call a \"floating year\" time stamp, which can be converted to real dates easily in the model:"
   ]
  },
  {
   "cell_type": "code",
   "execution_count": null,
   "metadata": {},
   "outputs": [],
   "source": [
    "from oggm.utils import floatyear_to_date, hydrodate_to_calendardate\n",
    "print('Hydro dates')\n",
    "print(floatyear_to_date(2003.0))\n",
    "print(floatyear_to_date(2003.99))\n",
    "print('Calendar dates')\n",
    "print(hydrodate_to_calendardate(*floatyear_to_date(2003.0), start_month=10))\n",
    "print(hydrodate_to_calendardate(*floatyear_to_date(2003.99), start_month=10))"
   ]
  },
  {
   "cell_type": "markdown",
   "metadata": {},
   "source": [
    "The timestamp used in the OGGM output files uses the same convention:"
   ]
  },
  {
   "cell_type": "code",
   "execution_count": null,
   "metadata": {},
   "outputs": [],
   "source": [
    "# calendar year and month\n",
    "print(ds_diag.time.values[0], ds_diag.calendar_year.values[0], ds_diag.calendar_month.values[0])"
   ]
  },
  {
   "cell_type": "code",
   "execution_count": null,
   "metadata": {},
   "outputs": [],
   "source": [
    "# hydro year and month\n",
    "print(ds_diag.time.values[0], ds_diag.hydro_year.values[0], ds_diag.hydro_month.values[0])"
   ]
  },
  {
   "cell_type": "markdown",
   "metadata": {},
   "source": [
    "So the simulation started in January 2004 (calendar year: 2004.0), which corresponds to the hydrological year 2004 and month 4, as the hydrological year 2004 starts in October 2003 in the Northern Hemisphere. This is almost in accordance with the RGI inventory date (probably based on satellite imagery taken in the summer 2003):"
   ]
  },
  {
   "cell_type": "code",
   "execution_count": null,
   "metadata": {},
   "outputs": [],
   "source": [
    "gdir.rgi_date"
   ]
  },
  {
   "cell_type": "markdown",
   "metadata": {},
   "source": [
    "Similarly, the simulation ends at the last possible date for which we have climate data for (i.e. the simulation stops at the end of December 2019):"
   ]
  },
  {
   "cell_type": "code",
   "execution_count": null,
   "metadata": {},
   "outputs": [],
   "source": [
    "print(ds_diag.time.values[-1], ds_diag.calendar_year.values[-1], ds_diag.calendar_month.values[-1])"
   ]
  },
  {
   "cell_type": "code",
   "execution_count": null,
   "metadata": {},
   "outputs": [],
   "source": [
    "print(ds_diag.time.values[-1], ds_diag.hydro_year.values[-1], ds_diag.hydro_month.values[-1])"
   ]
  },
  {
   "cell_type": "markdown",
   "metadata": {},
   "source": [
    "When interpreting the data or reporting them to others, be careful and mention which convention you use. For the moment, it is best to use the simple calendar years. "
   ]
  },
  {
   "cell_type": "markdown",
   "metadata": {},
   "source": [
    "### Specific mass-balance from volume change time series "
   ]
  },
  {
   "cell_type": "markdown",
   "metadata": {},
   "source": [
    "We compute the specific mass-balance from the delta volume divided by the glacier area, and compare it to observations and to the mass-balance computed with a fixed geometry:"
   ]
  },
  {
   "cell_type": "code",
   "execution_count": null,
   "metadata": {},
   "outputs": [],
   "source": [
    "# Specific MB over time (i.e. with changing geometry feedbacks)\n",
    "smb = (ds_diag.volume_m3.values[1:] - ds_diag.volume_m3.values[:-1]) / ds_diag.area_m2.values[1:]\n",
    "smb = smb * cfg.PARAMS['ice_density']  # in mm\n",
    "plt.plot(ds_diag.time[:-1], smb, label='OGGM (dynamics)'); \n",
    "# The SMB from WGMS and fixed geometry we already have\n",
    "plt.plot(ref_df.loc[2004:].index, ref_df.loc[2004:].OGGM, label='OGGM (fixed geom)');\n",
    "plt.plot(ref_df.loc[2004:].index, ref_df.loc[2004:].ANNUAL_BALANCE, label='WGMS');\n",
    "plt.legend();"
   ]
  },
  {
   "cell_type": "markdown",
   "metadata": {},
   "source": [
    "A few comments:\n",
    "- the systematic difference between WGMS and OGGM is due to the calibration of the model, which is done with fixed geometry (the bias is zero over the entire calibration period but changes sign over the 50 year period, see plot above)\n",
    "- the difference between OGGM dynamics and fixed geometry (so small that they are barely visible for this short time period) is due to:\n",
    "    - the changes in geometry during the simulation time (i.e. this difference grows with time)\n",
    "    - melt at the tongue which might be larger than the glacier thickness is not accounted for in the fixed geometry data (these are assumed to be small)\n",
    "    - numerical differences in the dynamical model (these are assumed to be small as well)"
   ]
  },
  {
   "cell_type": "markdown",
   "metadata": {
    "hideCode": true,
    "hidePrompt": true
   },
   "source": [
    "### Mass-balance profiles"
   ]
  },
  {
   "cell_type": "markdown",
   "metadata": {},
   "source": [
    "At time of writing, we do not store the mass-balance profiles during a transient run, although we could (and [should](https://github.com/OGGM/oggm/issues/1022)). To get the profiles with a dynamically changing geometry, there is no other way than either get the mass-balance during the simulation, or to fetch the model output and re-compute the mass-balance retroactively. \n",
    "\n",
    "**Note: the mass-balance profiles themselves of course are not really affected by the changing geometry - what changes from one year to another is the altitude at which the model will compute the mass-balance.** In other terms, if you are interested in the mass-balance profiles you are better of to use the fixed geometries approaches explained at the beginning of the notebook."
   ]
  },
  {
   "cell_type": "markdown",
   "metadata": {},
   "source": [
    "#### Retrospective mass-balance from model output "
   ]
  },
  {
   "cell_type": "code",
   "execution_count": null,
   "metadata": {},
   "outputs": [],
   "source": [
    "# This reads the model output file and makes it look like an OGGM flowline model\n",
    "dyn_mod = flowline.FileModel(gdir.get_filepath('model_geometry'))\n",
    "# Get the calibrated mass-balance model\n",
    "mbmod = massbalance.MultipleFlowlineMassBalance(gdir)\n",
    "# We can loop over the years and read the flowlines for each year\n",
    "for year in range(2004, 2017):\n",
    "    dyn_mod.run_until(year)\n",
    "    # Compute the SMB from the mass balance model and the flowlines heights at each year\n",
    "    h = []\n",
    "    smb = []\n",
    "    for fl_id, fl in enumerate(dyn_mod.fls):\n",
    "        h = np.append(h, fl.surface_h)\n",
    "        mb = mbmod.get_annual_mb(fl.surface_h, year=year, fl_id=fl_id) \n",
    "        smb = np.append(smb, mb * cfg.SEC_IN_YEAR * cfg.PARAMS['ice_density'] )\n",
    "    plt.plot(smb, h, '.', label=year)\n",
    "\n",
    "plt.legend(title='year');\n",
    "plt.ylabel('Elevation (m a.s.l.)'); plt.xlabel('MB (mm w.e. yr$^{-1}$)');"
   ]
  },
  {
   "cell_type": "markdown",
   "metadata": {},
   "source": [
    "#### Compute the mass-balance during the simulation "
   ]
  },
  {
   "cell_type": "code",
   "execution_count": null,
   "metadata": {},
   "outputs": [],
   "source": [
    "# TODO - add the same, but based on the new flowline outputs (like for AAR below)"
   ]
  },
  {
   "cell_type": "markdown",
   "metadata": {},
   "source": [
    "## Equilibrium Line Altitude \n",
    "\n",
    "The second part of this notebook shows how you can compute the Equilbrium Line Altitude (ELA, the altitude at which the mass-balance is equal to 0) with OGGM.\n",
    "\n",
    "As the ELA in OGGM only depends on the [mass balance model](https://docs.oggm.org/en/stable/mass-balance.html) itself (not on glacier geometry), there is no need to do a full model run to collect these values. This is also the reason why the ELA is no longer a part of the model run output, but is instead  a diagnostic variable that can be computed separately since OGGM v1.6."
   ]
  },
  {
   "cell_type": "markdown",
   "metadata": {},
   "source": [
    "### Compute and compile the ELA "
   ]
  },
  {
   "cell_type": "code",
   "execution_count": null,
   "metadata": {},
   "outputs": [],
   "source": [
    "global_tasks.compile_ela(gdirs, ys=2000, ye=2019);"
   ]
  },
  {
   "cell_type": "markdown",
   "metadata": {},
   "source": [
    "Per default, the file will be stored in the working directory and named `ELA.hdf` (you can choose to save the data in a `csv` file instead by setting the `csv` keyword to `True`). The location where the file is saved can be changed by specifying the `path` keyword.\n",
    "\n",
    "Let's read the file and plot it:"
   ]
  },
  {
   "cell_type": "code",
   "execution_count": null,
   "metadata": {},
   "outputs": [],
   "source": [
    "# Read the file\n",
    "ela_df = pd.read_hdf(os.path.join(cfg.PATHS['working_dir'], 'ELA.hdf'))\n",
    "\n",
    "# Plot it\n",
    "ela_df.plot();\n",
    "plt.xlabel('year'); plt.ylabel('ELA [m]');"
   ]
  },
  {
   "cell_type": "markdown",
   "metadata": {},
   "source": [
    "When looking at many glaciers it might be useful to also plot the mean or average of the data. Let's plot the mean ELA and the glacier area weighted ELA average. Of course, if you only use a few glaciers, as here, it can be much more robust to use the median instead. In the code below, median and mean are the same, because we just used two glaciers ;-) :"
   ]
  },
  {
   "cell_type": "code",
   "execution_count": null,
   "metadata": {},
   "outputs": [],
   "source": [
    "areas = [gd.rgi_area_km2 for gd in gdirs]\n",
    "\n",
    "avg = ela_df.mean(axis=1).to_frame(name='mean')\n",
    "avg['weighted average'] = np.average(ela_df, axis=1, weights=areas)\n",
    "avg['median'] = np.median(ela_df, axis=1)\n",
    "\n",
    "avg.plot();\n",
    "plt.xlabel('year'); plt.ylabel('ELA [m]');"
   ]
  },
  {
   "cell_type": "markdown",
   "metadata": {},
   "source": [
    "How would the ELA look like if the climate is 1° warmer? Lets have a look at one of the glaciers:"
   ]
  },
  {
   "cell_type": "code",
   "execution_count": null,
   "metadata": {},
   "outputs": [],
   "source": [
    "mbmod = massbalance.MonthlyTIModel(gdir, filename='climate_historical')"
   ]
  },
  {
   "cell_type": "code",
   "execution_count": null,
   "metadata": {},
   "outputs": [],
   "source": [
    "mbmod"
   ]
  },
  {
   "cell_type": "code",
   "execution_count": null,
   "metadata": {},
   "outputs": [],
   "source": [
    "# We first need to get the currently applied temperature bias (that corrects for biases\n",
    "# in the local climate) and then we add the additional temperature bias on top of it \n",
    "# (note that since OGGM v1.6, the calibrated temp_bias is very likely to be \n",
    "# different for every glacier)\n",
    "corr_temp_bias = gdirs[0].read_json('mb_calib')['temp_bias']\n",
    "corr_temp_bias"
   ]
  },
  {
   "cell_type": "code",
   "execution_count": null,
   "metadata": {},
   "outputs": [],
   "source": [
    "global_tasks.compile_ela(gdirs[0], ys=2000, ye=2019,\n",
    "                        temperature_bias=corr_temp_bias+1,\n",
    "                        filesuffix='_t1')\n",
    "ela_df_t1 = pd.read_hdf(os.path.join(cfg.PATHS['working_dir'], 'ELA_t1.hdf'))"
   ]
  },
  {
   "cell_type": "code",
   "execution_count": null,
   "metadata": {},
   "outputs": [],
   "source": [
    "# we only look at the first glacier\n",
    "plt.plot(ela_df[[ela_df.columns[0]]].mean(axis=1), label='default climate')\n",
    "plt.plot(ela_df_t1.mean(axis=1), label=('default climate +1℃'))\n",
    "plt.xlabel('year CE'); plt.ylabel('ELA [m]'); plt.legend();"
   ]
  },
  {
   "cell_type": "markdown",
   "metadata": {},
   "source": [
    "By using the `precipitation_factor` keyword, you can change the precipitation. Feel free to try that by yourself! At the moment, `gdirs[0].read_json('mb_calib')['prcp_fac']` is applied. \n",
    "\n",
    "Lets look at a longer timeseries, for one glacier only: "
   ]
  },
  {
   "cell_type": "code",
   "execution_count": null,
   "metadata": {},
   "outputs": [],
   "source": [
    "global_tasks.compile_ela(gdirs[0], ys=1902, ye=2019, filesuffix='_1901_2019', csv=True)\n",
    "ela_df_long = pd.read_csv(os.path.join(cfg.PATHS['working_dir'], 'ELA_1901_2019.csv'),\n",
    "                          index_col=0)"
   ]
  },
  {
   "cell_type": "markdown",
   "metadata": {},
   "source": [
    "The ELA can have a high year-to-year variability. Therefore we plot in addition to the regular ELA timeseries, the 5-year moving average. "
   ]
  },
  {
   "cell_type": "code",
   "execution_count": null,
   "metadata": {},
   "outputs": [],
   "source": [
    "ax = ela_df_long.plot();\n",
    "ela_df_long.rolling(5).mean().plot(ax=ax, lw=2, color='k', label='')\n",
    "plt.xlabel('year CE'); plt.ylabel('ELA [m]'); ax.legend([\"Annual\", \"5-yr average\"]);"
   ]
  },
  {
   "cell_type": "markdown",
   "metadata": {},
   "source": [
    "In case you're only intrested in specific years there is an option to just compute the ELA in those years. There is actually no need to save this data. Therefore we now just compute the ELA. "
   ]
  },
  {
   "cell_type": "code",
   "execution_count": null,
   "metadata": {},
   "outputs": [],
   "source": [
    "yrs = [2000, 1950, 1980, 1960]\n",
    "ela_yrs = massbalance.compute_ela(gdirs[0], years=yrs)\n",
    "ela_yrs"
   ]
  },
  {
   "cell_type": "markdown",
   "metadata": {},
   "source": [
    "See in this case you can use any year as long as you have climate available for that year. However for plotting purposes it might be worth to sort the data, otherwise the following happens ;)"
   ]
  },
  {
   "cell_type": "code",
   "execution_count": null,
   "metadata": {},
   "outputs": [],
   "source": [
    "ela_yrs.plot();"
   ]
  },
  {
   "cell_type": "code",
   "execution_count": null,
   "metadata": {},
   "outputs": [],
   "source": [
    "ela_yrs.sort_index(ascending=True).plot();\n",
    "plt.xlabel('year CE'); plt.ylabel('ELA [m]');"
   ]
  },
  {
   "cell_type": "markdown",
   "metadata": {},
   "source": [
    "By now we have addressed most of the keyword agruments of the compile_ela and compute_ela functions. To use different climate than the default climate, you can make use of the `climate_filename` and `climate_input_filesuffix` keywords. In case you're not familiar with those yet, please check out the [run_with_gcm](../10minutes/run_with_gcm.ipynb) notebook."
   ]
  },
  {
   "cell_type": "markdown",
   "metadata": {},
   "source": [
    "# Accumulation Area Ratio "
   ]
  },
  {
   "cell_type": "markdown",
   "metadata": {},
   "source": [
    "Like the ELA, the Accumulation Area Ratio (AAR) is a diagostic variable. The AAR is currently not an output \n",
    "variable in OGGM, but it can easily be computed. It is even a part of the [glacier simulator](https://bokeh.oggm.org/simulator/app) and its [documentation](https://edu.oggm.org/en/latest/simulator.html#aar-accumulation-area-ratio). Below we give an example of how it can be computed after a model run. From the ELA \n",
    "computation, we already know the height where the mass balance is equal to zero. Now we need to compute the area \n",
    "of the glacier that is located above that line. Let's start with a **static geometry** glacier with multiple flowlines."
   ]
  },
  {
   "cell_type": "markdown",
   "metadata": {},
   "source": [
    "We first search the points along the flowlines that are above the ELA in a given year. Lets use Hintereisferner. \n",
    "\n",
    "We use a `True`, `False` array saying which part is above the ELA and sum the corresponding area at each timestep: "
   ]
  },
  {
   "cell_type": "code",
   "execution_count": null,
   "metadata": {},
   "outputs": [],
   "source": [
    "rgi_id = 'RGI60-11.00897'\n",
    "\n",
    "tot_area = 0\n",
    "tot_area_above = 0\n",
    "for fl in fls:\n",
    "    # The area is constant\n",
    "    tot_area += fl.area_m2\n",
    "    # The area above a certain limit is not - we make a (nx, nt) array\n",
    "    # This is a little bit of dimensional juggling (broadcasting)\n",
    "    is_above = (fl.surface_h[:, np.newaxis, ] > ela_df[rgi_id].values)\n",
    "    # Here too - but the time dim is constant\n",
    "    area = fl.bin_area_m2[:, np.newaxis] * np.ones(len(ela_df))\n",
    "    tot_area_above += (area * is_above).sum(axis=0)\n",
    "\n",
    "# Write the output\n",
    "fixed_aar = pd.DataFrame(index=ela_df.index)\n",
    "fixed_aar['AAR'] = tot_area_above / tot_area\n",
    "\n",
    "# Plot ELA and AAR on the same plot\n",
    "fixed_aar['ELA'] = ela_df[rgi_id]\n",
    "fixed_aar.plot(secondary_y='ELA');"
   ]
  },
  {
   "cell_type": "markdown",
   "metadata": {},
   "source": [
    "Unsurprisingly, the AAR is strongly correlated to the ELA, but it is not fully linear due to the area distribution of the glacier:"
   ]
  },
  {
   "cell_type": "code",
   "execution_count": null,
   "metadata": {},
   "outputs": [],
   "source": [
    "fixed_aar.plot.scatter(x='AAR', y='ELA');"
   ]
  },
  {
   "cell_type": "markdown",
   "metadata": {},
   "source": [
    "Now that we have looked at the static case, let's to the same for glaciers with changing surface height:"
   ]
  },
  {
   "cell_type": "code",
   "execution_count": null,
   "metadata": {},
   "outputs": [],
   "source": [
    "# We start by reading the flowline geometry diagnostic files\n",
    "tot_area = 0\n",
    "tot_area_above = 0\n",
    "\n",
    "ela_ds = xr.DataArray(ela_df[rgi_id], dims=('time'))\n",
    "\n",
    "for fn in np.arange(len(fls)):\n",
    "    with xr.open_dataset(gdir.get_filepath('fl_diagnostics'), group='fl_' + str(fn)) as ds:\n",
    "        ds = ds.load()\n",
    "    tot_area += ds.area_m2.sum(dim='dis_along_flowline')\n",
    "\n",
    "    # Compute the surface elevation\n",
    "    surface_h = ds.thickness_m + ds.bed_h\n",
    "\n",
    "    # In xarray things are much easier - the broadcasting is automatic\n",
    "    is_above = surface_h > ela_ds\n",
    "    area = is_above * ds.area_m2\n",
    "    tot_area_above += (area * is_above).sum(dim='dis_along_flowline')\n",
    "\n",
    "# Write the output\n",
    "dyna_aar = pd.DataFrame(index=tot_area_above.time)\n",
    "dyna_aar['AAR_dyna'] = tot_area_above / tot_area\n",
    "dyna_aar['AAR_fixed'] = fixed_aar['AAR']\n",
    "\n",
    "dyna_aar.plot(); plt.ylabel('AAR');"
   ]
  },
  {
   "cell_type": "markdown",
   "metadata": {},
   "source": [
    "You can see in the plot that the difference between the AAR calculated from the dynamic glacier and the one of the \n",
    "static glacier is quite similar. Over time you can expect that this difference becomes larger. Feel free to play \n",
    "around with that. "
   ]
  },
  {
   "cell_type": "markdown",
   "metadata": {},
   "source": [
    "Keep in mind that this is just an example for computing the AAR. For a different glacier experiment you might need\n",
    "to adjust the code. e.g. if the glacier flowlines would have different MB model parameters, you need to take\n",
    "that in to consideration.  "
   ]
  },
  {
   "cell_type": "markdown",
   "metadata": {},
   "source": [
    "Here we computed the AAR from the \"model perspective\", where the glacier is located in bins. You can however also \n",
    "choose to do some interpolation between the grid point above and below the ELA. "
   ]
  },
  {
   "cell_type": "markdown",
   "metadata": {
    "tags": []
   },
   "source": [
    "## What's next?\n",
    "\n",
    "- look at the [OGGM-Shop documentation](https://docs.oggm.org/en/stable/input-data.html#)\n",
    "- back to the [table of contents](../welcome.ipynb)"
   ]
  },
  {
   "cell_type": "code",
   "execution_count": null,
   "metadata": {},
   "outputs": [],
   "source": []
  }
 ],
 "metadata": {
  "hide_code_all_hidden": true,
  "hide_input": false,
  "kernelspec": {
   "display_name": "Python 3 (ipykernel)",
   "language": "python",
   "name": "python3"
  },
  "language_info": {
   "codemirror_mode": {
    "name": "ipython",
    "version": 3
   },
   "file_extension": ".py",
   "mimetype": "text/x-python",
   "name": "python",
   "nbconvert_exporter": "python",
   "pygments_lexer": "ipython3",
   "version": "3.8.15"
  },
  "latex_envs": {
   "LaTeX_envs_menu_present": true,
   "autoclose": false,
   "autocomplete": true,
   "bibliofile": "biblio.bib",
   "cite_by": "apalike",
   "current_citInitial": 1,
   "eqLabelWithNumbers": true,
   "eqNumInitial": 1,
   "hotkeys": {
    "equation": "Ctrl-E",
    "itemize": "Ctrl-I"
   },
   "labels_anchors": false,
   "latex_user_defs": false,
   "report_style_numbering": false,
   "user_envs_cfg": false
  },
  "nbTranslate": {
   "displayLangs": [
    "*"
   ],
   "hotkey": "alt-t",
   "langInMainMenu": true,
   "sourceLang": "en",
   "targetLang": "fr",
   "useGoogleTranslate": true
  },
  "toc": {
   "base_numbering": 1,
   "nav_menu": {},
   "number_sections": false,
   "sideBar": true,
   "skip_h1_title": true,
   "title_cell": "Table of Contents",
   "title_sidebar": "Contents",
   "toc_cell": false,
   "toc_position": {},
   "toc_section_display": true,
   "toc_window_display": false
  }
 },
 "nbformat": 4,
 "nbformat_minor": 4
}
