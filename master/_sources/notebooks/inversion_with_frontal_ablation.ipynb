{
 "cells": [
  {
   "cell_type": "markdown",
   "metadata": {},
   "source": [
    "# Ice thickness inversion with frontal ablation: a case study"
   ]
  },
  {
   "cell_type": "markdown",
   "metadata": {},
   "source": [
    "In this notebook we are illustrating how OGGM searches for a frontal calving flux which is compatible with mass conservation, ice thickness estimation based on Glen's flow law, and the calving parameterization of [Oerlemans and Nick (2005)](https://www.cambridge.org/core/journals/annals-of-glaciology/article/minimal-model-of-a-tidewater-glacier/C6B72F547D8C44CDAAAD337E1F2FC97F).\n",
    "\n",
    "For more details, see [Recinos et al., (2019)](https://www.the-cryosphere.net/13/2657/2019/tc-13-2657-2019.html).\n",
    "\n",
    "**History:**\n",
    "- Feb 2019: this file was created for the [first round of reviews](https://www.the-cryosphere-discuss.net/tc-2018-254/). This original version is still available [here](https://nbviewer.jupyter.org/gist/bearecinos/a0e9c4e80d27b112e9fdb55dd40c4859)\n",
    "- Jun 2019: the file was moved to a new repository and modified following a new methodology as suggested by the reviewers in the second round of reviews\n",
    "- April 2020: updated for recent changes in code"
   ]
  },
  {
   "cell_type": "markdown",
   "metadata": {},
   "source": [
    "## Set-up"
   ]
  },
  {
   "cell_type": "markdown",
   "metadata": {},
   "source": [
    "These are the usual OGGM workflow commands."
   ]
  },
  {
   "cell_type": "code",
   "execution_count": null,
   "metadata": {},
   "outputs": [],
   "source": [
    "import seaborn as sns\n",
    "sns.set_context('notebook')"
   ]
  },
  {
   "cell_type": "code",
   "execution_count": null,
   "metadata": {},
   "outputs": [],
   "source": [
    "import numpy as np\n",
    "import pandas as pd\n",
    "import geopandas as gpd\n",
    "import matplotlib.pyplot as plt\n",
    "import oggm\n",
    "from oggm import cfg, utils, workflow, tasks, graphics\n",
    "from oggm.core.inversion import find_inversion_calving, calving_flux_from_depth"
   ]
  },
  {
   "cell_type": "code",
   "execution_count": null,
   "metadata": {},
   "outputs": [],
   "source": [
    "cfg.initialize()\n",
    "cfg.PATHS['working_dir'] = utils.gettempdir(dirname='OGGM-Calving', reset=True)\n",
    "cfg.PARAMS['border'] = 10"
   ]
  },
  {
   "cell_type": "markdown",
   "metadata": {},
   "source": [
    "## Pick a glacier "
   ]
  },
  {
   "cell_type": "markdown",
   "metadata": {},
   "source": [
    "Here we experiment with Leconte glacier (`RGI60-01.03622`). But you can try with other glaciers as well! See [this list](https://github.com/OGGM/oggm-edu-notebooks/tree/master/data/tidewater_glaciers_wo_processing.csv) for nearly all glaciers simulated in [Recinos et al., (2019)](https://www.the-cryosphere.net/13/2657/2019/tc-13-2657-2019.html) (we took out the glaciers that need special processing, i.e. because of incorrect outlines like Columbia)."
   ]
  },
  {
   "cell_type": "code",
   "execution_count": null,
   "metadata": {},
   "outputs": [],
   "source": [
    "gdir = workflow.init_glacier_directories(['RGI60-01.03622'], from_prepro_level=3)[0]"
   ]
  },
  {
   "cell_type": "code",
   "execution_count": null,
   "metadata": {},
   "outputs": [],
   "source": [
    "graphics.plot_centerlines(gdir, use_flowlines=True);"
   ]
  },
  {
   "cell_type": "markdown",
   "metadata": {},
   "source": [
    "**Let's first see the results of the inversion without calving:**"
   ]
  },
  {
   "cell_type": "code",
   "execution_count": null,
   "metadata": {},
   "outputs": [],
   "source": [
    "graphics.plot_inversion(gdir);"
   ]
  },
  {
   "cell_type": "markdown",
   "metadata": {},
   "source": [
    "## The basic principles"
   ]
  },
  {
   "cell_type": "markdown",
   "metadata": {},
   "source": [
    "We use a simple calving law borrowed from [Oerlemans and Nick (2005)](https://www.cambridge.org/core/journals/annals-of-glaciology/article/minimal-model-of-a-tidewater-glacier/C6B72F547D8C44CDAAAD337E1F2FC97F), which relates the frontal calving flux $q_{calving}$ to the frontal ice thickness $h_f$, the water depth $d$ and the terminus width $w$\n",
    "\n",
    " $$q_{calving} = k h_f d w \\qquad \\qquad \\qquad (eq. \\: 1)$$ \n",
    "\n",
    "With $q_{calving}$ in km$^3$ yr$^{-1}$, $k$ a calibration parameter (default 2.4 yr$^{-1}$) and $d =$ $h_{f}$ - $E_{t}$ ($E_{t}$ being the free board).\n",
    "\n",
    "As explained in [Recinos et al., (2019)](https://www.the-cryosphere.net/13/2657/2019/tc-13-2657-2019.html), ice conservation methods applied to tidewater glaciers *must* take into account this mass-flux at the terminus, otherwise the ice thickness is underestimated. In fact, the default OGGM ice thickness inversion procedure assumes an ice flux of zero at the terminus: "
   ]
  },
  {
   "cell_type": "code",
   "execution_count": null,
   "metadata": {},
   "outputs": [],
   "source": [
    "# Default calving flux:\n",
    "calving_flux_from_depth(gdir, water_level=0)"
   ]
  },
  {
   "cell_type": "markdown",
   "metadata": {},
   "source": [
    "Here, `flux` is the calving flux ($q_{calving}$) in km$^3$ yr$^{-1}$, `free_board` is the height of ice above water ($E_{t}$, i.e. above 0 m a.s.l), `thick` the frontal ice thickness ($h_{f}$) in m (equal to zero per construction in OGGM), `water_depth` the water depth in m (negative here because of the zero ice thickness and a terminus elevation equal to the freeboard imply a positive bedrock elevation), `width` the front width in m.\n",
    "\n",
    "Now let's see how this calving flux would change if we increase the ice thickness (while keeping the free board fixed, because the surface elevation at the terminus is the only thing we know with \"certainty\"):"
   ]
  },
  {
   "cell_type": "code",
   "execution_count": null,
   "metadata": {},
   "outputs": [],
   "source": [
    "df = []\n",
    "for thick in np.linspace(0, 500, 51):\n",
    "    # This function simply computes the calving law\n",
    "    df.append(calving_flux_from_depth(gdir, thick=thick, water_level=0))\n",
    "df = pd.DataFrame(df).set_index('thick')"
   ]
  },
  {
   "cell_type": "code",
   "execution_count": null,
   "metadata": {},
   "outputs": [],
   "source": [
    "df[['flux']].plot();\n",
    "plt.ylabel('Calving flux (km$^3$ yr$^{-1}$)');"
   ]
  },
  {
   "cell_type": "markdown",
   "metadata": {},
   "source": [
    "The flux is zero as long as the ice isn't thick enough to reach the water surface, after which the water depth is positive and calving occurs. The calving flux varies with $H$ as a polynomial of degree 2.\n",
    "\n",
    "We don't know which is the **real** value of the calving flux at this glacier. From here, let's make some very coarse assumptions:\n",
    "- the Oerlemans and Nick calving law is perfectly exact\n",
    "- the tuning parameter $k$ is known\n",
    "- our glacier is in equilibrium (a fundamental assumption necessary for mass-conservation inversion)\n",
    "- ice deformation at the glacier terminus follows Glen's flow law\n",
    "\n",
    "Under these assumptions, we are now going to show, that there are two solutions for the frontal thickness which complies with the calving law and the ice thickness inversion model of OGGM, but only one solution that provides a realistic thickness.\n",
    "\n",
    "To make our point, we are going to compute a calving flux (from the calving law) for a range of frontal ice thicknesses, then give this flux back to the OGGM inversion model, which will use this flux to compute the frontal ice thickness according to the physics of ice flow (see the [documentation](https://docs.oggm.org/en/stable/inversion.html) or [Recinos et al., (2019)](https://www.the-cryosphere.net/13/2657/2019/tc-13-2657-2019.html) for more info). \n",
    "\n",
    "Let's see how this works:"
   ]
  },
  {
   "cell_type": "code",
   "execution_count": null,
   "metadata": {},
   "outputs": [],
   "source": [
    "# Reference data for the recalibration of the mass-balance\n",
    "ref_tstars_url = 'https://cluster.klima.uni-bremen.de/~oggm/ref_mb_params/oggm_v1.4/RGIV62/CRU/centerlines/qc3/pcp2.5'\n",
    "workflow.download_ref_tstars(base_url=ref_tstars_url)"
   ]
  },
  {
   "cell_type": "code",
   "execution_count": null,
   "metadata": {},
   "outputs": [],
   "source": [
    "with utils.DisableLogger():  # this scraps some output - to use with caution!!!\n",
    "    # Ouput dataframe\n",
    "    df = []\n",
    "    # Range of frontal ice thickness from 0 to 500m\n",
    "    for thick in np.linspace(0, 500, 51):\n",
    "\n",
    "        # This function simply computes the flux from the calving law\n",
    "        out = calving_flux_from_depth(gdir, thick=thick, water_level=0)\n",
    "        out['thick (prescribed)'] = out.pop('thick')\n",
    "\n",
    "        # Now we feed it back to OGGM\n",
    "        gdir.inversion_calving_rate = out['flux']\n",
    "\n",
    "        # The mass-balance has to adapt in order to create a flux\n",
    "        tasks.local_t_star(gdir)    \n",
    "        tasks.mu_star_calibration(gdir)\n",
    "        tasks.prepare_for_inversion(gdir)\n",
    "        v_inv = tasks.mass_conservation_inversion(gdir)\n",
    "\n",
    "        # Now we get the OGGM ice thickness \n",
    "        out['thick (oggm)'] = calving_flux_from_depth(gdir, water_level=0)['thick']\n",
    "\n",
    "        # Add sliding (the fs value is outdated, but still)\n",
    "        v_inv = tasks.mass_conservation_inversion(gdir, fs=5.7e-20)\n",
    "        out['thick (oggm+sliding)'] = calving_flux_from_depth(gdir, water_level=0)['thick']\n",
    "\n",
    "        # Store\n",
    "        df.append(out)\n",
    "\n",
    "df = pd.DataFrame(df)"
   ]
  },
  {
   "cell_type": "markdown",
   "metadata": {},
   "source": [
    "We've got:"
   ]
  },
  {
   "cell_type": "code",
   "execution_count": null,
   "metadata": {},
   "outputs": [],
   "source": [
    "df[['flux', 'thick (prescribed)', 'thick (oggm)']].plot(x='flux');\n",
    "plt.xlabel('Calving flux (km$^3$ yr$^{-1}$)');\n",
    "plt.ylabel('Ice thickness (m)');"
   ]
  },
  {
   "cell_type": "markdown",
   "metadata": {},
   "source": [
    "We already know that the calving law (**eq. 1**) relates the thickness to the flux with a root of degree two (blue curve). Now, what explains the shape of the orange curve? It is Glen's flow law, which relates ice thickness to the flux with a 5th degree root (assuming n=3). The graphic shows that, for this glacier, there is at least one solution to the problem of finding a calving flux which is compatible with both the calving law and the physics of ice deformation (where the two lines cross).\n",
    "\n",
    "Note that adding sliding doesn't change the problem (we still solve a polynomial of degree 5 in OGGM, [with a new term in degree 3](https://docs.oggm.org/en/stable/ice-dynamics.html)):"
   ]
  },
  {
   "cell_type": "code",
   "execution_count": null,
   "metadata": {},
   "outputs": [],
   "source": [
    "df[['flux', 'thick (prescribed)', 'thick (oggm)', 'thick (oggm+sliding)']].plot(x='flux');\n",
    "plt.xlabel('Calving flux (km$^3$ yr$^{-1}$)');\n",
    "plt.ylabel('Ice thickness (m)');   "
   ]
  },
  {
   "cell_type": "markdown",
   "metadata": {},
   "source": [
    "This plot is a bit misleading. The orange and green curve cross the blue line in two places, as we are going to show."
   ]
  },
  {
   "cell_type": "markdown",
   "metadata": {},
   "source": [
    "## Finding the \"correct\" flux "
   ]
  },
  {
   "cell_type": "markdown",
   "metadata": {},
   "source": [
    "What we are looking for are the frontal ice thickness (and corresponding calving flux) that satisfy the following equation: \n",
    "\n",
    "$$q_{calving}(h) = q_{OGGM}(h) \\qquad \\qquad \\qquad (eq. \\: 2)$$\n",
    "\n",
    "Where $q_{calving}$ is the flux of ice from the calving law and $q_{OGGM}$ is the [flux of ice due to deformation](https://oggm.readthedocs.io/en/latest/inversion.html). See [Recinos et al., (2019)](https://www.the-cryosphere.net/13/2657/2019/tc-13-2657-2019.html) for the details on the equations."
   ]
  },
  {
   "cell_type": "markdown",
   "metadata": {},
   "source": [
    "In this case, eq. 2 is a polynomial and could therefore be solved analytically and with [root finding methods](https://docs.scipy.org/doc/numpy/reference/generated/numpy.roots.html). However, we prefer to solve it numerically, for two main reasons:\n",
    "- finding a numerical solution implied the least change (and copy-paste) in the existing and well-tested code base, therefore minimizing the risk of creating bugs\n",
    "- numerical solvers are very flexible and can virtually be applied to any other formulation of $q_{calving}$ and $q_{OGGM}$, i.e. the method will still be applicable if we use the lateral drag parameterization in OGGM or use another formulation for the calving law."
   ]
  },
  {
   "cell_type": "markdown",
   "metadata": {},
   "source": [
    "Now solve eq. 2 with a [Bound-Constrained minimization method](https://docs.scipy.org/doc/scipy/reference/generated/scipy.optimize.minimize.html). We solve for water depth $d$ (not $h$), because the two are equivalent if the free-board $E_{t}$ is known ($h$ = $d$ + $E_{t}$)."
   ]
  },
  {
   "cell_type": "markdown",
   "metadata": {},
   "source": [
    "Let's have a look at the function(s) we are seeking roots for:"
   ]
  },
  {
   "cell_type": "code",
   "execution_count": null,
   "metadata": {},
   "outputs": [],
   "source": [
    "from oggm.core.inversion import sia_thickness\n",
    "\n",
    "# Slope and with at the glacier front\n",
    "cls = gdir.read_pickle('inversion_input')[-1]\n",
    "slope = cls['slope_angle'][-1]\n",
    "width = cls['width'][-1]\n",
    "\n",
    "def to_solve_default(wd):\n",
    "    # Flux from calving law at given water depth\n",
    "    fl = calving_flux_from_depth(gdir, water_depth=wd, water_level=0)\n",
    "    # OGGM thickness obtained from the prescribed flux\n",
    "    oggm = sia_thickness(slope, width, fl['flux'] * 1e9 / cfg.SEC_IN_YEAR)\n",
    "    # Difference in thicknesses\n",
    "    return fl['thick'] - oggm\n",
    "\n",
    "\n",
    "def to_solve_with_sliding(wd):\n",
    "    # Flux from calving law at given water depth\n",
    "    fl = calving_flux_from_depth(gdir, water_depth=wd, water_level=0)\n",
    "    # OGGM thickness obtained from the prescribed flux\n",
    "    oggm = sia_thickness(slope, width, fl['flux'] * 1e9 / cfg.SEC_IN_YEAR, fs=5.7e-20)\n",
    "    # Difference in thicknesses\n",
    "    return fl['thick'] - oggm"
   ]
  },
  {
   "cell_type": "markdown",
   "metadata": {},
   "source": [
    "And plot them for a range of possible water depths:"
   ]
  },
  {
   "cell_type": "code",
   "execution_count": null,
   "metadata": {},
   "outputs": [],
   "source": [
    "# Ouput dataframe\n",
    "df = []\n",
    "\n",
    "# Range of frontal water depth from 0.1 to 400m\n",
    "for wd in np.linspace(0.1, 400, 100):\n",
    "    \n",
    "    out = {\n",
    "        'Water depth [m]': wd,\n",
    "        'Calving law - OGGM': to_solve_default(wd),\n",
    "        'Calving law - OGGM (with sliding)': to_solve_with_sliding(wd),\n",
    "          }\n",
    "    \n",
    "    # Store\n",
    "    df.append(out)\n",
    "    \n",
    "df = pd.DataFrame(df).set_index('Water depth [m]')\n",
    "df.plot(color=['C1', 'C2']);\n",
    "plt.hlines([0], 0, 400);\n",
    "plt.xlabel('Water depth [m]');\n",
    "plt.ylabel('Difference in thickness [m]');\n",
    "plt.legend(loc='upper right');"
   ]
  },
  {
   "cell_type": "markdown",
   "metadata": {},
   "source": [
    "In this representation of the same data as above (here as a function of the prescribed water depth), one sees more clearly that there exist two locations where the zero line is crossed. This pattern is consistent for all but one glaciers in Alaska (see below), and we choose to pick the only realistic solution (the larger of the two). Indeed, the smallest solution leads to unrealistically small water depths and calving fluxes. Note that in the first two versions of the manuscript (with a different way to solve the equations), it is always the largest solution that was found: therefore, there is no noticeable change in the results between the last two manuscript versions."
   ]
  },
  {
   "cell_type": "markdown",
   "metadata": {},
   "source": [
    "To solve our problem, we first seek the absolute minimum of the function(s), and then look for zeros above and below this point. It's the larger solution which is retained."
   ]
  },
  {
   "cell_type": "code",
   "execution_count": null,
   "metadata": {},
   "outputs": [],
   "source": [
    "from scipy import optimize\n",
    "# Absolute minima\n",
    "abs_min = optimize.minimize(to_solve_default, [1], bounds=((1e-4, 1e4), ))\n",
    "abs_min['x'][0]"
   ]
  },
  {
   "cell_type": "markdown",
   "metadata": {},
   "source": [
    "Now we find the roots of the functions between the interval  [0.0001 - 10000]. Using the python tool: [optimize.brentq()](https://docs.scipy.org/doc/scipy-0.14.0/reference/generated/scipy.optimize.brentq.html).\n",
    "\n",
    "As observed in the previous plot we have two minima:"
   ]
  },
  {
   "cell_type": "code",
   "execution_count": null,
   "metadata": {},
   "outputs": [],
   "source": [
    "print('Optimum water depth 1 (in m)', optimize.brentq(to_solve_default, 1e-4, abs_min['x'][0]))\n",
    "print('Optimum water depth 2 (in m)', optimize.brentq(to_solve_default, abs_min['x'][0], 1e4))"
   ]
  },
  {
   "cell_type": "markdown",
   "metadata": {},
   "source": [
    "A frontal ablation flux produced with such small water depth will result in a non realistic thickness at the front.\n",
    "In the code we always pick the larger solution. "
   ]
  },
  {
   "cell_type": "code",
   "execution_count": null,
   "metadata": {},
   "outputs": [],
   "source": [
    "opt = optimize.brentq(to_solve_default, abs_min['x'][0], 1e4)"
   ]
  },
  {
   "cell_type": "markdown",
   "metadata": {},
   "source": [
    "Now we give this value to the calving law and calculate a flux:"
   ]
  },
  {
   "cell_type": "code",
   "execution_count": null,
   "metadata": {},
   "outputs": [],
   "source": [
    "out = calving_flux_from_depth(gdir, water_depth=opt, water_level=0)\n",
    "out"
   ]
  },
  {
   "cell_type": "markdown",
   "metadata": {},
   "source": [
    "The process described above is implemented in the OGGM codebase in the following task: [find_inversion_calving()](https://docs.oggm.org/en/stable/generated/oggm.tasks.find_inversion_calving.html?highlight=find_inversion_calving#oggm-tasks-find-inversion-calving). This is what we use in operation, when `use_kcalving_for_inversion` is switched on, and it provides the same results:"
   ]
  },
  {
   "cell_type": "code",
   "execution_count": null,
   "metadata": {},
   "outputs": [],
   "source": [
    "# this is switched off in the default settings\n",
    "cfg.PARAMS['use_kcalving_for_inversion'] = True\n",
    "out = find_inversion_calving(gdir, water_level=0)\n",
    "out"
   ]
  },
  {
   "cell_type": "markdown",
   "metadata": {},
   "source": [
    "## Testing consistency "
   ]
  },
  {
   "cell_type": "markdown",
   "metadata": {},
   "source": [
    "Per definition, the two calving fluxes (OGGM and calving law) are now the same. It is a good consistency check to verify that this is the case:"
   ]
  },
  {
   "cell_type": "code",
   "execution_count": null,
   "metadata": {},
   "outputs": [],
   "source": [
    "thick = out['calving_front_thick'] \n",
    "df = calving_flux_from_depth(gdir, thick=thick, water_level=0)\n",
    "np.testing.assert_almost_equal(df['flux'], out['calving_flux']) \n",
    "np.testing.assert_almost_equal(gdir.read_pickle('inversion_output')[-1]['thick'][-1], thick)"
   ]
  },
  {
   "cell_type": "markdown",
   "metadata": {},
   "source": [
    "Same flux!!"
   ]
  },
  {
   "cell_type": "markdown",
   "metadata": {},
   "source": [
    "## Free board and water level"
   ]
  },
  {
   "cell_type": "markdown",
   "metadata": {},
   "source": [
    "In the example above, the glacier has a \"free-board\" (thickness of the calving front *above* water) of about 85 m. This value is given by the glacier DEM (by construction of the OGGM flowlines, it is the lowest point on the glacier outline). Sometimes, this value can be unrealistically high (> 200 m a.s.l) or low (0 m a.s.l), leading to unrealistic calving values.\n",
    "\n",
    "Since [this change](https://github.com/OGGM/oggm/pull/996), we are now artificially adapting the water level so that the free-board is within a reasonable range. This range is given by the model parameters:"
   ]
  },
  {
   "cell_type": "code",
   "execution_count": null,
   "metadata": {},
   "outputs": [],
   "source": [
    "cfg.PARAMS['free_board_marine_terminating']  # units: m"
   ]
  },
  {
   "cell_type": "markdown",
   "metadata": {},
   "source": [
    "This means that we do not allow free-board higher than 50 (conservative value, could be changed to 75 m). This has an influence on the results. See how the calving flux changes with these new defaults: "
   ]
  },
  {
   "cell_type": "code",
   "execution_count": null,
   "metadata": {},
   "outputs": [],
   "source": [
    "find_inversion_calving(gdir, water_level=None)  # use default values"
   ]
  },
  {
   "cell_type": "markdown",
   "metadata": {},
   "source": [
    "In this case, the calving flux slightly increased as a result of an increase in the water depth and the frontal thickness. "
   ]
  },
  {
   "cell_type": "markdown",
   "metadata": {},
   "source": [
    "## Mass conservation and the temperature sensitivity $\\mu^*$ "
   ]
  },
  {
   "cell_type": "markdown",
   "metadata": {},
   "source": [
    "While the computed flux satisfies eq. 2, we still need to check with the mass balace module if the flux computed above complies with mass conservation. Per construction, OGGM calibrates the mass-balance model so that the flux at the glacier front is zero under equilibrium climate conditions. This is obviously not the case for calving glaciers, and this newly computed flux can be used to better calibrate the model:"
   ]
  },
  {
   "cell_type": "code",
   "execution_count": null,
   "metadata": {},
   "outputs": [],
   "source": [
    "# Feed a zero flux to OGGM\n",
    "gdir.inversion_calving_rate = 0\n",
    "\n",
    "# Calibrate the mass balance\n",
    "tasks.local_t_star(gdir)    \n",
    "tasks.mu_star_calibration(gdir)\n",
    "\n",
    "# Output\n",
    "print('mu* for the glacier without calving (in mm w.e. mth-1): '\n",
    "      '{:.2f}'.format(gdir.read_json('local_mustar')['mu_star_glacierwide']))\n",
    "\n",
    "# Feed the computed flux now\n",
    "gdir.inversion_calving_rate = out['calving_flux']\n",
    "\n",
    "# Calibrate the mass balance\n",
    "tasks.local_t_star(gdir)    \n",
    "tasks.mu_star_calibration(gdir)\n",
    "\n",
    "# Output\n",
    "print('mu* for the glacier with calving (in mm w.e. mth-1): '\n",
    "      '{:.2f}'.format(gdir.read_json('local_mustar')['mu_star_glacierwide']))\n",
    "\n",
    "# Invert for fun\n",
    "tasks.prepare_for_inversion(gdir)\n",
    "v_inv = tasks.mass_conservation_inversion(gdir)"
   ]
  },
  {
   "cell_type": "markdown",
   "metadata": {},
   "source": [
    "This is consistent: in order to allow for a frontal ablation flux, melt has to be reduced along the glacier. Note that not only the frontal thickness is affected by this change, the entire glacier becomes thicker:"
   ]
  },
  {
   "cell_type": "code",
   "execution_count": null,
   "metadata": {},
   "outputs": [],
   "source": [
    "graphics.plot_inversion(gdir);"
   ]
  },
  {
   "cell_type": "markdown",
   "metadata": {},
   "source": [
    "## Cases where the calving flux isn't consistent with climate "
   ]
  },
  {
   "cell_type": "markdown",
   "metadata": {},
   "source": [
    "There is a physical lower bound for $\\mu^*$ of zero (which means no melt at all). In this case, all the mass accumulated on the glacier via solid precipitation is transported and lost at the calving front. In our experiments, this happens when the calving flux is overestimated (likely given all the uncertainties involved in the calving law and the boundary conditions (see [Recinos et al., (2019)](https://www.the-cryosphere.net/13/2657/2019/tc-13-2657-2019.html)) or the climate data is biased (also likely). In these cases, we don't accept the solution provided by the calving law but **clip the temperature sensitivity $\\mu^*$ to zero**, compute the associated frontal flux, and keep the later as the final solution.\n",
    "\n",
    "We try a big number for the $k$ parameter to illustrate this event: "
   ]
  },
  {
   "cell_type": "code",
   "execution_count": null,
   "metadata": {},
   "outputs": [],
   "source": [
    "# Will provide a flux too large for OGGM to cope with\n",
    "cfg.PARAMS['inversion_calving_k'] = 2.4 * 10 \n",
    "# Change the default clip mechanism to zero\n",
    "cfg.PARAMS['calving_min_mu_star_frac'] = 0\n",
    "\n",
    "out = find_inversion_calving(gdir)\n",
    "out"
   ]
  },
  {
   "cell_type": "markdown",
   "metadata": {},
   "source": [
    "After clipping $\\mu^*$, we keep the thickness and flux that still statisfy mass-conservation and ice deformation ($q_{OGGM}$) instead of the calving law ($q_{calving}$). \n",
    "\n",
    "**New as for version 1.4: we now have a mechanism to clip mu* to a value higher than 0, given as a fraction of the non-calving mu*:**"
   ]
  },
  {
   "cell_type": "code",
   "execution_count": null,
   "metadata": {},
   "outputs": [],
   "source": [
    "# Will provide a flux too large for OGGM to cope with\n",
    "cfg.PARAMS['inversion_calving_k'] = 2.4 * 10 \n",
    "# Change the default clip mechanism to 70 of non-calving mu*\n",
    "cfg.PARAMS['calving_min_mu_star_frac'] = 0.7\n",
    "\n",
    "out = find_inversion_calving(gdir)\n",
    "out"
   ]
  },
  {
   "cell_type": "markdown",
   "metadata": {},
   "source": [
    "## Check the robustness of our method"
   ]
  },
  {
   "cell_type": "markdown",
   "metadata": {},
   "source": [
    "We apply our algorithm to a handful of glaciers and check the solutions. This is not a formal test, see the original paper for regional results:"
   ]
  },
  {
   "cell_type": "code",
   "execution_count": null,
   "metadata": {},
   "outputs": [],
   "source": [
    "cfg.initialize(logging_level='CRITICAL')\n",
    "cfg.PATHS['working_dir'] = utils.gettempdir(dirname='OGGM-Calving', reset=True)\n",
    "cfg.PARAMS['border'] = 10\n",
    "\n",
    "cfg.PARAMS['inversion_calving_k'] = 2.4  # We put it higher for this example\n",
    "\n",
    "# Randomly selected IDs\n",
    "ids = [\n",
    "'RGI60-01.04375',\n",
    "'RGI60-01.03377',\n",
    "'RGI60-01.01390',\n",
    "'RGI60-01.14391',\n",
    "'RGI60-01.20891',\n",
    "'RGI60-01.10612',\n",
    "'RGI60-01.17807'\n",
    "]\n",
    "\n",
    "for rid in ids:\n",
    "\n",
    "    gdir = workflow.init_glacier_directories([rid], from_prepro_level=3)[0]\n",
    "\n",
    "    cls = gdir.read_pickle('inversion_input')[-1]\n",
    "    slope = cls['slope_angle'][-1]\n",
    "    width = cls['width'][-1]\n",
    "\n",
    "    def to_minimize(wd):\n",
    "        fl = calving_flux_from_depth(gdir, water_depth=wd, water_level=0)\n",
    "        oggm = sia_thickness(slope, width, np.array([fl['flux'] * 1e9 / cfg.SEC_IN_YEAR]))\n",
    "        return fl['thick'] - oggm\n",
    "    \n",
    "    abs_min = optimize.minimize(to_minimize, [1], bounds=((1e-4, 1e4), ))\n",
    "    print(rid)\n",
    "    print('Optimum small (in m)', optimize.brentq(to_minimize, 1e-4, abs_min['x'][0]))\n",
    "    print('Optimum large (in m)', optimize.brentq(to_minimize, abs_min['x'][0], 1e4))\n",
    "# this can take a few minutes"
   ]
  },
  {
   "cell_type": "markdown",
   "metadata": {},
   "source": [
    "The algorithm implemented in OGGM always seeks for the larger solution."
   ]
  },
  {
   "cell_type": "markdown",
   "metadata": {},
   "source": [
    "## What about glaciers where no optimal thickness exists?"
   ]
  },
  {
   "cell_type": "markdown",
   "metadata": {},
   "source": [
    "For 6 glaciers in Alaska, there is no solution which complies with the calving law and ice deformation **with the previous default parameters**. Here for example glacier `RGI60-01.23642` (Tsaa Glacier): "
   ]
  },
  {
   "cell_type": "code",
   "execution_count": null,
   "metadata": {},
   "outputs": [],
   "source": [
    "# Reference data for the recalibration of the mass-balance\n",
    "ref_tstars_url = 'https://cluster.klima.uni-bremen.de/~oggm/ref_mb_params/oggm_v1.4/RGIV62/CRU/centerlines/qc3/pcp2.5'\n",
    "workflow.download_ref_tstars(base_url=ref_tstars_url)"
   ]
  },
  {
   "cell_type": "code",
   "execution_count": null,
   "metadata": {},
   "outputs": [],
   "source": [
    "gdir = workflow.init_glacier_directories(['RGI60-01.23642'], from_prepro_level=3)[0]\n",
    "\n",
    "cls = gdir.read_pickle('inversion_input')[-1]\n",
    "slope = cls['slope_angle'][-1]\n",
    "width = cls['width'][-1]\n",
    "\n",
    "def to_minimize(wd):\n",
    "    fl = calving_flux_from_depth(gdir, water_depth=wd, water_level=0)\n",
    "    oggm = sia_thickness(slope, width, np.array([fl['flux'] * 1e9 / cfg.SEC_IN_YEAR]))\n",
    "    return fl['thick'] - oggm\n",
    "\n",
    "wd = np.linspace(0.1, 400)\n",
    "out = []\n",
    "for w in wd:\n",
    "    out.append(to_minimize(w)) \n",
    "    \n",
    "plt.plot(wd, out);\n",
    "plt.hlines([0], 0, 400);\n",
    "plt.xlabel('Water depth');\n",
    "plt.ylabel('Difference Calving Law - OGGM');"
   ]
  },
  {
   "cell_type": "markdown",
   "metadata": {},
   "source": [
    "Put another way, the two laws are simply incompatible. Both curves will never meet in a domain between $q_{calving}$ $>$ 0 and a $q_{calving}$ that results in a non negative $\\mu*$. This could be due to several reasons: \n",
    "- a difference > 0 between both fluxes in **eq. 2** corresponds to a glacier state outside of the equilibrium condition under this specific geometry\n",
    "- the calving law and the ice deformation equation do not represent the physical process affecting this glacier in particulary. Both are parameterised and therefore an approximation of reality\n",
    "- uncertain boundary conditions"
   ]
  },
  {
   "cell_type": "markdown",
   "metadata": {},
   "source": [
    "Note that the number of cases where this happens is reduced to only one case when we correct for observed water depths and frontal width, indicating that uncertainties in the boundary conditions are the main problem here.\n",
    "\n",
    "**With the new defaults, let's see if OGGM can find a suitable solution to this glacier**:"
   ]
  },
  {
   "cell_type": "code",
   "execution_count": null,
   "metadata": {},
   "outputs": [],
   "source": [
    "cfg.PARAMS['inversion_calving_k'] = 0.6\n",
    "cfg.PARAMS['use_kcalving_for_inversion'] = True\n",
    "out = tasks.find_inversion_calving(gdir)\n",
    "out"
   ]
  },
  {
   "cell_type": "markdown",
   "metadata": {},
   "source": [
    "The glacier now calves."
   ]
  },
  {
   "cell_type": "markdown",
   "metadata": {},
   "source": [
    "## Discussion\n",
    "\n",
    "We have shown that under certain assumptions, our method is able to estimate a ice thickness consistent with the calving law and ice deformation. Of course, there are many uncertainties involved, and it is not our attempt to find the \"true\" calving flux here. See [Recinos et al., (2019)](https://www.the-cryosphere.net/13/2657/2019/tc-13-2657-2019.html) for our motivations and a discussion about why it is crucial to include frontal ablation in regional ice thickness estimates.\n"
   ]
  },
  {
   "cell_type": "markdown",
   "metadata": {},
   "source": [
    "## What's next?\n",
    "\n",
    "- return to the [OGGM documentation](https://docs.oggm.org)\n",
    "- back to the [table of contents](welcome.ipynb)"
   ]
  }
 ],
 "metadata": {
  "celltoolbar": "Raw Cell Format",
  "hide_input": false,
  "kernelspec": {
   "display_name": "Python 3",
   "language": "python",
   "name": "python3"
  },
  "language_info": {
   "codemirror_mode": {
    "name": "ipython",
    "version": 3
   },
   "file_extension": ".py",
   "mimetype": "text/x-python",
   "name": "python",
   "nbconvert_exporter": "python",
   "pygments_lexer": "ipython3",
   "version": "3.8.5"
  },
  "latex_envs": {
   "LaTeX_envs_menu_present": true,
   "autoclose": false,
   "autocomplete": true,
   "bibliofile": "biblio.bib",
   "cite_by": "apalike",
   "current_citInitial": 1,
   "eqLabelWithNumbers": true,
   "eqNumInitial": 1,
   "hotkeys": {
    "equation": "Ctrl-E",
    "itemize": "Ctrl-I"
   },
   "labels_anchors": false,
   "latex_user_defs": false,
   "report_style_numbering": false,
   "user_envs_cfg": false
  },
  "nbTranslate": {
   "displayLangs": [
    "*"
   ],
   "hotkey": "alt-t",
   "langInMainMenu": true,
   "sourceLang": "en",
   "targetLang": "fr",
   "useGoogleTranslate": true
  },
  "toc": {
   "base_numbering": 1,
   "nav_menu": {},
   "number_sections": false,
   "sideBar": true,
   "skip_h1_title": true,
   "title_cell": "Table of Contents",
   "title_sidebar": "Contents",
   "toc_cell": false,
   "toc_position": {},
   "toc_section_display": true,
   "toc_window_display": false
  }
 },
 "nbformat": 4,
 "nbformat_minor": 4
}
