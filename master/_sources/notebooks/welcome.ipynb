{
 "cells": [
  {
   "cell_type": "markdown",
   "metadata": {},
   "source": [
    "# Welcome to the OGGM tutorials!"
   ]
  },
  {
   "cell_type": "markdown",
   "metadata": {},
   "source": [
    "If you are new to jupyter notebooks or to jupyterlab, we recommend to have a look at our [introduction to jupyter notebooks](https://edu.oggm.org/en/latest/notebooks_howto.html) first!\n",
    "\n",
    "If you are reading this from our webpage (https://oggm.org/tutorials), remember that each page displayed here is in fact a jupyter notebook! You can start an interactive version of these tutorials online with [MyBinder](https://docs.oggm.org/en/latest/cloud.html) by clicking on the \"launch button\" on the top right of this page (the little rocket 🚀)."
   ]
  },
  {
   "cell_type": "markdown",
   "metadata": {},
   "source": [
    "Ready to go?\n",
    "\n",
    "**Beginner tutorials:**\n",
    "- [getting_started](getting_started.ipynb) will get you through all the steps of an OGGM run and explain the OGGM fundamentals\n",
    "- [working_with_rgi](working_with_rgi.ipynb) will show you how to read glacier outline files\n",
    "- [store_and_compress_glacierdirs](store_and_compress_glacierdirs.ipynb): storing glacier directories for later use\n",
    "- [elevation_bands_vs_centerlines](elevation_bands_vs_centerlines.ipynb): comparing the two methods to compute glacier flowlines\n",
    "- [plot_mass_balance](plot_mass_balance.ipynb): fetch and plot the simulated mass-balance\n",
    "- [area_length_filter](area_length_filter.ipynb): a short tutorial about how to filter spikes in the area and length outputs\n",
    "- [run_with_gcm](run_with_gcm.ipynb): run a simulation with GCM data (CMIP5 projections)\n",
    "- [deal_with_errors](deal_with_errors.ipynb): dealing with errors after a run\n",
    "- [inversion](inversion.ipynb): run the OGGM ice thickness inversion model with various ice parameters\n",
    "- [hydrological_output](hydrological_output.ipynb): hydrological mass-balance output. **New in version 1.5!**\n",
    "- [oggm_shop](oggm_shop.ipynb): getting acquainted with the ideas behind GlacierDirectories in OGGM and how you can use the shop to add data to them\n",
    "\n",
    "**Advanced tutorials:**\n",
    "- [preprocessing_errors](preprocessing_errors.ipynb): error analysis of the global pre-processing workflow\n",
    "- [run_with_a_spinup_and_gcm_data](run_with_a_spinup_and_gcm_data.ipynb): start from a glacier state different than the inventory date\n",
    "- [dem_sources](dem_sources.ipynb): create local topography maps from different DEM sources with OGGM\n",
    "- [thickness_model](thickness_model.ipynb): use OGGM to extract gridded attributes on a glacier (e.g. slope) and make a toy statistical model of ice thickness\n",
    "- [inversion_with_frontal_ablation](inversion_with_frontal_ablation.ipynb): a case study about ice thickness inversion with frontal ablation\n",
    "- [kcalving_parameterization](kcalving_parameterization.ipynb): the Oerlemans & Nick frontal ablation parameterization in OGGM\n",
    "- [merging_glaciers](merging_glaciers.ipynb): a tutorial about how to merge two or more glaciers for advancing glacier scenarios\n",
    "- [use_your_own_inventory](use_your_own_inventory.ipynb): use custom glacier inventories with OGGM\n",
    "- [massbalance_calibration](massbalance_calibration.ipynb): yet another way to show how the mass-balance calibration works, and tweak the model a little bit\n",
    "- [where_are_the_flowlines](where_are_the_flowlines.ipynb): how to access the OGGM flowlines location before, during, and after a run. \n",
    "\n",
    "**Other things:**\n",
    "- [holoviz_intro](holoviz_intro.ipynb): an introduction to the HoloViz vizualisation ecosystem (previously called PyViz)\n",
    "- [dem_comparison](dem_comparison.ipynb): compare the various DEMs available in OGGM"
   ]
  },
  {
   "cell_type": "markdown",
   "metadata": {},
   "source": [
    "Have fun learning OGGM!"
   ]
  }
 ],
 "metadata": {
  "hide_input": false,
  "kernelspec": {
   "display_name": "Python 3",
   "language": "python",
   "name": "python3"
  },
  "language_info": {
   "codemirror_mode": {
    "name": "ipython",
    "version": 3
   },
   "file_extension": ".py",
   "mimetype": "text/x-python",
   "name": "python",
   "nbconvert_exporter": "python",
   "pygments_lexer": "ipython3",
   "version": "3.8.5"
  },
  "latex_envs": {
   "LaTeX_envs_menu_present": true,
   "autoclose": false,
   "autocomplete": true,
   "bibliofile": "biblio.bib",
   "cite_by": "apalike",
   "current_citInitial": 1,
   "eqLabelWithNumbers": true,
   "eqNumInitial": 1,
   "hotkeys": {
    "equation": "Ctrl-E",
    "itemize": "Ctrl-I"
   },
   "labels_anchors": false,
   "latex_user_defs": false,
   "report_style_numbering": false,
   "user_envs_cfg": false
  },
  "nbTranslate": {
   "displayLangs": [
    "*"
   ],
   "hotkey": "alt-t",
   "langInMainMenu": true,
   "sourceLang": "en",
   "targetLang": "fr",
   "useGoogleTranslate": true
  },
  "toc": {
   "base_numbering": 1,
   "nav_menu": {},
   "number_sections": false,
   "sideBar": true,
   "skip_h1_title": true,
   "title_cell": "Table of Contents",
   "title_sidebar": "Contents",
   "toc_cell": false,
   "toc_position": {},
   "toc_section_display": true,
   "toc_window_display": false
  }
 },
 "nbformat": 4,
 "nbformat_minor": 4
}
