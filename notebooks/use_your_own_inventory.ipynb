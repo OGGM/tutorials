{
 "cells": [
  {
   "cell_type": "markdown",
   "metadata": {},
   "source": [
    "# Using your our own glacier inventory with OGGM"
   ]
  },
  {
   "cell_type": "markdown",
   "metadata": {},
   "source": [
    "[The Randolph Glacier Inventory](https://www.glims.org/RGI/) is a key dataset to model glaciers at any scale: it includes outlines of the extent of each glacier in the world, an information that is critical in figuring out how much a particular glacier might contribute to rising sea level. These glacier outlines are the starting point of any simulation in OGGM. The RGI's latest version (v6), as well as v5, are provided and supported by OGGM (see the [documentation](https://oggm.readthedocs.io/en/latest/input-data.html#glacier-outlines-and-intersects)). However, there are [several issues](https://rgitools.readthedocs.io/en/latest/known-issues.html) in the RGI that might make you want to use your own corrected glacier outlines. \n",
    "\n",
    "This notebook describes how to feed OGGM with them. We will show you three case studies about how to give any geometry to OGGM and avoid errors of incompatibility between your shapefile and the model framework.\n",
    "\n",
    "We have three case studies which should cover a number of applications:\n",
    "1. [Dividing a glacier into smaller entities](#case1) (common case, useful for poorly outlined glaciers, which are in reality separate dynamical entities)\n",
    "2. [Merging two glaciers together](#case2) (useful for tidewater glaciers in particular, not much elsewhere)\n",
    "3. [Start from a completely independent inventory](#case3)"
   ]
  },
  {
   "cell_type": "markdown",
   "metadata": {},
   "source": [
    "## TLDR;"
   ]
  },
  {
   "cell_type": "markdown",
   "metadata": {},
   "source": [
    "If you want to use custom data to feed OGGM with, you should:\n",
    "- **make a shapefile that resembles the RGI one: same attributes, and the glacier geometries should be in lon/lat projection**. The most important attribute is `geometry`, of course, but others are used by OGGM as well: refer to [the OGGM documentation](https://docs.oggm.org/en/stable/input-data.html#glacier-outlines-and-intersects) to decide which ones. The RGI documentation (found in the RGI directory after download) is useful as well! We also have a useful function (`oggm.utils.cook_rgidf`) which can help you with that.\n",
    "- **compute and use a new [glacier interesects](https://rgitools.readthedocs.io/en/latest/tools.html#glacier-intersects) file**, or make sure you don't need one and disable this option in OGGM. "
   ]
  },
  {
   "cell_type": "markdown",
   "metadata": {},
   "source": [
    "## Structure of an RGI file"
   ]
  },
  {
   "cell_type": "code",
   "execution_count": null,
   "metadata": {},
   "outputs": [],
   "source": [
    "import numpy as np\n",
    "import pandas as pd\n",
    "import geopandas as gpd\n",
    "import matplotlib.pyplot as plt\n",
    "import oggm\n",
    "import os\n",
    "from oggm import cfg, utils, workflow, tasks, graphics\n",
    "from oggm.core import inversion\n",
    "cfg.initialize(logging_level='WARNING')"
   ]
  },
  {
   "cell_type": "markdown",
   "metadata": {},
   "source": [
    "Let's read a file from the standard RGI:"
   ]
  },
  {
   "cell_type": "code",
   "execution_count": null,
   "metadata": {},
   "outputs": [],
   "source": [
    "utils.get_rgi_dir(version='61')"
   ]
  },
  {
   "cell_type": "code",
   "execution_count": null,
   "metadata": {},
   "outputs": [],
   "source": [
    "sh = utils.get_rgi_region_file('11', version='61')\n",
    "sh"
   ]
  },
  {
   "cell_type": "markdown",
   "metadata": {},
   "source": [
    "Shapefiles are best read an manipulated with [geopandas](http://geopandas.org/) in python (see also our [working_with_rgi.ipynb](working_with_rgi.ipynb) tutorial):"
   ]
  },
  {
   "cell_type": "code",
   "execution_count": null,
   "metadata": {},
   "outputs": [],
   "source": [
    "gdf = gpd.read_file(sh)\n",
    "gdf.head()"
   ]
  },
  {
   "cell_type": "markdown",
   "metadata": {},
   "source": [
    "An RGI file contains the actual glacier geometries, but also a number of attribute which are used by OGGM afterwards. Let's learn how to make our own file now. "
   ]
  },
  {
   "cell_type": "markdown",
   "metadata": {},
   "source": [
    "<a id='case1'></a>\n",
    "## Case 1: dividing a glacier into smaller entities"
   ]
  },
  {
   "cell_type": "markdown",
   "metadata": {},
   "source": [
    "A typical example of wrongly divided glacier is Hintereisferner, in Austria:"
   ]
  },
  {
   "cell_type": "code",
   "execution_count": null,
   "metadata": {},
   "outputs": [],
   "source": [
    "# OGGM set-up\n",
    "cfg.PATHS['working_dir'] = utils.gettempdir(dirname='rgi-case-1', reset=True)\n",
    "cfg.PARAMS['border'] = 10\n",
    "\n",
    "# Get the HEF geometry and plot it\n",
    "gl = utils.get_rgi_glacier_entities(['RGI60-11.00897'])\n",
    "gl.plot(edgecolor='k');"
   ]
  },
  {
   "cell_type": "markdown",
   "metadata": {},
   "source": [
    "Obviously, the two smaller tongues used to flow in the main one but this is not the case anymore today. We need updated geometries."
   ]
  },
  {
   "cell_type": "markdown",
   "metadata": {},
   "source": [
    "### Make a new \"RGI file\""
   ]
  },
  {
   "cell_type": "markdown",
   "metadata": {},
   "source": [
    "There is no simple way to automate the process of finding these bad geometries, but we are [working on this](https://github.com/OGGM/partitioning) (don't hold your breath, this has been in development since a long time). Here we use a geometry that we prepared in QGis:"
   ]
  },
  {
   "cell_type": "code",
   "execution_count": null,
   "metadata": {},
   "outputs": [],
   "source": [
    "# We simulate the case where we only have the geometry, nothing else\n",
    "divides = gpd.read_file(utils.get_demo_file('divides_alps.shp'))\n",
    "divides = divides.loc[divides.RGIId == 'RGI50-11.00897'][['geometry']]\n",
    "divides"
   ]
  },
  {
   "cell_type": "code",
   "execution_count": null,
   "metadata": {},
   "outputs": [],
   "source": [
    "divides.plot(edgecolor='k');"
   ]
  },
  {
   "cell_type": "markdown",
   "metadata": {},
   "source": [
    "Now we use the RGI entity as template - it's good to use the same attributes as the original RGI glacier, because most of them are already correct:"
   ]
  },
  {
   "cell_type": "code",
   "execution_count": null,
   "metadata": {},
   "outputs": [],
   "source": [
    "template = pd.concat([gl]*3, ignore_index=True)\n",
    "template"
   ]
  },
  {
   "cell_type": "markdown",
   "metadata": {},
   "source": [
    "We change the important ones:"
   ]
  },
  {
   "cell_type": "code",
   "execution_count": null,
   "metadata": {},
   "outputs": [],
   "source": [
    "# Attributes\n",
    "template['RGIId'] = ['RGI60-11.00897_d01', 'RGI60-11.00897_d02', 'RGI60-11.00897_d03']\n",
    "template['Name'] = ['Hintereisferner d01', 'Hintereisferner d02', 'Hintereisferner d03']\n",
    "# Geometries\n",
    "template['geometry'] = divides['geometry'].values\n",
    "# Center point\n",
    "for i, geom in template[['geometry']].iterrows():\n",
    "    cenlon, cenlat = geom.geometry.centroid.xy\n",
    "    template.loc[i, 'CenLon'] = cenlon\n",
    "    template.loc[i, 'CenLat'] = cenlat\n",
    "# This is important to properly georeference the file\n",
    "import salem\n",
    "template.crs = salem.wgs84.srs"
   ]
  },
  {
   "cell_type": "code",
   "execution_count": null,
   "metadata": {},
   "outputs": [],
   "source": [
    "template.plot(edgecolor='k');"
   ]
  },
  {
   "cell_type": "markdown",
   "metadata": {},
   "source": [
    "Save it: "
   ]
  },
  {
   "cell_type": "code",
   "execution_count": null,
   "metadata": {},
   "outputs": [],
   "source": [
    "hef_new_shape_path = os.path.join(cfg.PATHS['working_dir'], 'hef_divided.shp')\n",
    "template.to_file(hef_new_shape_path)"
   ]
  },
  {
   "cell_type": "markdown",
   "metadata": {},
   "source": [
    "### Compute the intersects"
   ]
  },
  {
   "cell_type": "markdown",
   "metadata": {},
   "source": [
    "Hintereisferner has a divide with another glacier as well! Let's find out which:"
   ]
  },
  {
   "cell_type": "code",
   "execution_count": null,
   "metadata": {},
   "outputs": [],
   "source": [
    "intersects_alps = gpd.read_file(utils.get_rgi_intersects_region_file('11'))\n",
    "intersects_hef = intersects_alps.loc[(intersects_alps.RGIId_1 == 'RGI60-11.00897') | (intersects_alps.RGIId_2 == 'RGI60-11.00897')]\n",
    "intersects_hef"
   ]
  },
  {
   "cell_type": "markdown",
   "metadata": {},
   "source": [
    "Ok, we can now create a file which has all the glaciers we need to compute the relevant intersects (note that we could also use the full standard RGI with just HEF replaced):"
   ]
  },
  {
   "cell_type": "code",
   "execution_count": null,
   "metadata": {},
   "outputs": [],
   "source": [
    "for_intersects = pd.concat([template, utils.get_rgi_glacier_entities(['RGI60-11.00846'])], ignore_index=True)\n",
    "for_intersects.crs = salem.wgs84.srs\n",
    "for_intersects.plot(edgecolor='k');"
   ]
  },
  {
   "cell_type": "markdown",
   "metadata": {},
   "source": [
    "Good! Let's use [rgitools](https://rgitools.readthedocs.io) to compute the intersects for this new situation: "
   ]
  },
  {
   "cell_type": "code",
   "execution_count": null,
   "metadata": {},
   "outputs": [],
   "source": [
    "from rgitools.funcs import compute_intersects\n",
    "new_intersects = compute_intersects(for_intersects)"
   ]
  },
  {
   "cell_type": "markdown",
   "metadata": {},
   "source": [
    "If this raises an error, you might have to install [rgitools](https://rgitools.readthedocs.io) first (e.g. `pip install git+https://github.com/OGGM/rgitools.git`)\n",
    "and also [networkx](https://networkx.org/documentation/stable/index.html) (`pip install networkx`)"
   ]
  },
  {
   "cell_type": "code",
   "execution_count": null,
   "metadata": {},
   "outputs": [],
   "source": [
    "f, ax = plt.subplots()\n",
    "for_intersects.plot(ax=ax, edgecolor='k');\n",
    "new_intersects.plot(ax=ax, edgecolor='r');"
   ]
  },
  {
   "cell_type": "markdown",
   "metadata": {},
   "source": [
    "Good! We can store our intersects to use them with OGGM afterwards:"
   ]
  },
  {
   "cell_type": "code",
   "execution_count": null,
   "metadata": {},
   "outputs": [],
   "source": [
    "hef_intersects_path = os.path.join(cfg.PATHS['working_dir'], 'hef_divided_intersects.shp')\n",
    "new_intersects.to_file(hef_intersects_path)"
   ]
  },
  {
   "cell_type": "markdown",
   "metadata": {},
   "source": [
    "### Finally: the OGGM run "
   ]
  },
  {
   "cell_type": "code",
   "execution_count": null,
   "metadata": {},
   "outputs": [],
   "source": [
    "# This is important! We tell OGGM to recompute the glacier area for us\n",
    "cfg.PARAMS['use_rgi_area'] = False\n",
    "# This is the default anyway, but we set it here to be sure\n",
    "cfg.PARAMS['use_intersects'] = True\n",
    "\n",
    "# This is important!\n",
    "cfg.set_intersects_db(hef_intersects_path)\n",
    "\n",
    "# This is to avoid a download in the tutorial, you dont' need do this at home\n",
    "cfg.PATHS['dem_file'] = utils.get_demo_file('hef_srtm.tif')\n",
    "\n",
    "# This is important again - standard OGGM \n",
    "rgidf = gpd.read_file(hef_new_shape_path)\n",
    "gdirs = workflow.init_glacier_directories(rgidf, reset=True, force=True)"
   ]
  },
  {
   "cell_type": "code",
   "execution_count": null,
   "metadata": {},
   "outputs": [],
   "source": [
    "workflow.execute_entity_task(tasks.define_glacier_region, gdirs);\n",
    "workflow.execute_entity_task(tasks.glacier_masks, gdirs);\n",
    "workflow.execute_entity_task(tasks.compute_centerlines, gdirs);\n",
    "workflow.execute_entity_task(tasks.initialize_flowlines, gdirs);\n",
    "workflow.execute_entity_task(tasks.catchment_area, gdirs);\n",
    "workflow.execute_entity_task(tasks.catchment_width_geom, gdirs);\n",
    "workflow.execute_entity_task(tasks.catchment_width_correction, gdirs);"
   ]
  },
  {
   "cell_type": "markdown",
   "metadata": {},
   "source": [
    "If you get \"NameError 'skdraw' is not defined\", you have to install the python image processing package [scikit-image](https://scikit-image.org/docs/stable/install.html#installation-via-pip-and-conda) first (e.g. via `conda install scikit-image`)"
   ]
  },
  {
   "cell_type": "code",
   "execution_count": null,
   "metadata": {},
   "outputs": [],
   "source": [
    "graphics.plot_catchment_width(gdirs, add_intersects=True, corrected=True)"
   ]
  },
  {
   "cell_type": "markdown",
   "metadata": {},
   "source": [
    "It works!\n",
    "\n",
    "**The intersects in OGGM are used for two main things:**\n",
    "- when a grid-point glacier section touches an intersect, it will be attributed a rectangular bed (instead of a parabolic one)\n",
    "- when interpolating the ice thickness to a 2D grid, the boundary condition thickness=0 at the glacier outline is removed where there are intersects\n",
    "\n",
    "**We recommend to use intersects for your runs as well.**"
   ]
  },
  {
   "cell_type": "markdown",
   "metadata": {},
   "source": [
    "<a id='case2'></a>\n",
    "## Case 2: merging glaciers "
   ]
  },
  {
   "cell_type": "markdown",
   "metadata": {},
   "source": [
    "Sometimes, you may want to *merge* glaciers together. This case is less frequent than Case 1, but might be useful for calving glaciers, which are sometimes divided in the RGI."
   ]
  },
  {
   "cell_type": "markdown",
   "metadata": {},
   "source": [
    "### Original RGI outlines"
   ]
  },
  {
   "cell_type": "markdown",
   "metadata": {},
   "source": [
    "We use a case study for two marine-terminating glaciers in Alaska that have to be merged into a single outline in order to model a correct calving flux for these glaciers (following the methods described in\n",
    "[Recinos et al., (2019)](https://www.the-cryosphere.net/13/2657/2019/tc-13-2657-2019.html)). The resulting shapefile is a new one that needs to be adapted in order for OGGM to run."
   ]
  },
  {
   "cell_type": "markdown",
   "metadata": {},
   "source": [
    "We will study the Sawyer Glacier (`RGI60-01.03890`) that is actually connected via the calving front with this other entity (`RGI60-01.23664`). Visit this [link](https://glacierchange.wordpress.com/2011/03/16/saywer-glacier-alaska-retreat/) to learn more about the retreat of the Sawyer Glacier and see images illustrating this connection."
   ]
  },
  {
   "cell_type": "code",
   "execution_count": null,
   "metadata": {},
   "outputs": [],
   "source": [
    "gl = utils.get_rgi_glacier_entities(['RGI60-01.03890', 'RGI60-01.23664'])"
   ]
  },
  {
   "cell_type": "markdown",
   "metadata": {},
   "source": [
    "Here OGGM downloaded the outlines for both glaciers. If we plot them together, we can see that both glaciers drain into the same fjord. See the google map below:"
   ]
  },
  {
   "cell_type": "code",
   "execution_count": null,
   "metadata": {},
   "outputs": [],
   "source": [
    "cfg.initialize(logging_level='WARNING')\n",
    "cfg.PATHS['working_dir'] = utils.gettempdir(dirname='rgi-case-2-example', reset=True)\n",
    "cfg.PARAMS['border'] = 10\n",
    "gdirs = workflow.init_glacier_directories(['RGI60-01.03890', 'RGI60-01.23664'], from_prepro_level=3, reset=True, force=True)\n",
    "graphics.plot_googlemap(gdirs, figsize=(6, 6));"
   ]
  },
  {
   "cell_type": "markdown",
   "metadata": {},
   "source": [
    "The upper glacier map is a zoom version of the plot below. \n",
    "They share the same glaciers terminus. Therefore, to estimate a calving flux for these glaciers we need them connected. "
   ]
  },
  {
   "cell_type": "markdown",
   "metadata": {},
   "source": [
    "### Let's merge these two outlines using geopandas"
   ]
  },
  {
   "cell_type": "code",
   "execution_count": null,
   "metadata": {},
   "outputs": [],
   "source": [
    "merged = gl.dissolve(by='O2Region', as_index=False) \n",
    "merged = merged[gl.columns]\n",
    "merged.plot(edgecolor='k');"
   ]
  },
  {
   "cell_type": "markdown",
   "metadata": {},
   "source": [
    "### RGI attributes "
   ]
  },
  {
   "cell_type": "markdown",
   "metadata": {},
   "source": [
    "We now have a new shapefile, which resembles an RGI one but has wrong attributes. Some aren't relevant, but some are. See the [documentation](https://oggm.readthedocs.io/en/latest/input-data.html#glacier-outlines-and-intersects) for a list. \n",
    "\n",
    "The important ones are: RGIId, CenLon, CenLat, TermType, Area. Area and CenLon, Cenlat can be calculated by OGGM later, as we have seen earlier. Here, we prefer to keep the Area computed by the RGI for consistency."
   ]
  },
  {
   "cell_type": "code",
   "execution_count": null,
   "metadata": {},
   "outputs": [],
   "source": [
    "# We use the RGI as template (this avoids strange IO issues)\n",
    "template = gl.iloc[[0]].copy()\n",
    "template['geometry'] = merged['geometry'].values"
   ]
  },
  {
   "cell_type": "code",
   "execution_count": null,
   "metadata": {},
   "outputs": [],
   "source": [
    "# Change CenLon, CenLat\n",
    "cenlon, cenlat = merged.iloc[0].geometry.representative_point().xy\n",
    "template['CenLon'] = cenlon\n",
    "template['CenLat'] = cenlat\n",
    "\n",
    "# We sum up the areas\n",
    "template['Area'] = gl.Area.sum()\n",
    "template['Area']"
   ]
  },
  {
   "cell_type": "markdown",
   "metadata": {},
   "source": [
    "In [Recinos et al., (2019)](https://www.the-cryosphere.net/13/2657/2019/tc-13-2657-2019.html) we wanted to estimate a frontal ablation flux for this new outline and compare it with previous estimates found in the literature for the Sawyer Glacier ([McNabb et al., 2015](https://agupubs.onlinelibrary.wiley.com/doi/full/10.1002/2014JF003276)). \n",
    "\n",
    "For this reason we kept the Sawyer glacier attributes to the following variables:\n",
    "`RGIId, GLIMSId, Name`\n",
    "\n",
    "The `TermType` should be equal to 1, for Marine-terminating. "
   ]
  },
  {
   "cell_type": "code",
   "execution_count": null,
   "metadata": {},
   "outputs": [],
   "source": [
    "template['TermType'] = 1\n",
    "template['Name'] = 'Sawyer Glacier merged with RGI60-01.23664'"
   ]
  },
  {
   "cell_type": "markdown",
   "metadata": {},
   "source": [
    "Now we can write a new shapefile for this glacier. \n",
    "We recommend doing this if you have to make several model runs. You can also integrate this outline to your main RGI shapefile:"
   ]
  },
  {
   "cell_type": "code",
   "execution_count": null,
   "metadata": {},
   "outputs": [],
   "source": [
    "cfg.initialize()\n",
    "cfg.PATHS['working_dir'] = utils.gettempdir(dirname='rgi-case-2', reset=True)\n",
    "template.crs = salem.wgs84.srs\n",
    "template.to_file(os.path.join(cfg.PATHS['working_dir'], 'merged.shp'))"
   ]
  },
  {
   "cell_type": "markdown",
   "metadata": {},
   "source": [
    "### Run OGGM with this new glacier"
   ]
  },
  {
   "cell_type": "markdown",
   "metadata": {},
   "source": [
    "For simplicity, we do not compute the intersects in this case: **however, we recommend you do do so (see above). In all cases, do not use the intersects provided automatically with OGGM when using custom inventories, as they are likely to be wrong.**"
   ]
  },
  {
   "cell_type": "code",
   "execution_count": null,
   "metadata": {},
   "outputs": [],
   "source": [
    "# Set-up the run\n",
    "cfg.PARAMS['border'] = 10\n",
    "\n",
    "# We don't use intersects here\n",
    "cfg.PARAMS['use_intersects'] = False\n",
    "\n",
    "# We prefer OGGM to use the area we computed ourselves\n",
    "cfg.PARAMS['use_rgi_area'] = True\n",
    "\n",
    "# Use our merged file\n",
    "rgidf = gpd.read_file(os.path.join(cfg.PATHS['working_dir'], 'merged.shp'))\n",
    "gdirs = workflow.init_glacier_directories(rgidf, reset=True, force=True)\n",
    "gdirs"
   ]
  },
  {
   "cell_type": "markdown",
   "metadata": {},
   "source": [
    "Here we are not able to use the [Pre-processed directories](https://docs.oggm.org/en/stable/input-data.html#pre-processed-directories) and the respective [Processing levels](https://docs.oggm.org/en/stable/input-data.html#preprodir) that OGGM provides for a easy run set up. We can't use this workflow simply because we have a different beginning than OGGM, we have a different RGI! We just need to type more and run all the model task one by one:"
   ]
  },
  {
   "cell_type": "code",
   "execution_count": null,
   "metadata": {},
   "outputs": [],
   "source": [
    "from oggm.workflow import execute_entity_task\n",
    "\n",
    "# Calculate the DEMs and the masks\n",
    "execute_entity_task(tasks.define_glacier_region, gdirs, source = 'SRTM')\n",
    "execute_entity_task(tasks.glacier_masks, gdirs)\n",
    "\n",
    "# Calculate the Pre-processing tasks\n",
    "task_list = [\n",
    "    tasks.compute_centerlines,\n",
    "    tasks.initialize_flowlines,\n",
    "    tasks.catchment_area,\n",
    "    tasks.catchment_width_geom,\n",
    "    tasks.catchment_width_correction,\n",
    "]\n",
    "\n",
    "for task in task_list:\n",
    "    execute_entity_task(task, gdirs)"
   ]
  },
  {
   "cell_type": "markdown",
   "metadata": {},
   "source": [
    "note that we used in `tasks.define_glacier_region` SRTM as DEM source which is not the default one in OGGM. \n",
    "The default one is NASADEM, but for that you have to register at [NASA Earthdata](https://urs.earthdata.nasa.gov/) \n",
    "more info in [dem_sources.ipynb/register](dem_sources.ipynb#register)"
   ]
  },
  {
   "cell_type": "code",
   "execution_count": null,
   "metadata": {},
   "outputs": [],
   "source": [
    "graphics.plot_googlemap(gdirs, figsize=(6, 6));"
   ]
  },
  {
   "cell_type": "code",
   "execution_count": null,
   "metadata": {},
   "outputs": [],
   "source": [
    "graphics.plot_catchment_width(gdirs, corrected=True);"
   ]
  },
  {
   "cell_type": "markdown",
   "metadata": {},
   "source": [
    "<a id='case3'></a>\n",
    "## Case 3: start from a completely independent inventory"
   ]
  },
  {
   "cell_type": "markdown",
   "metadata": {},
   "source": [
    "OGGM (since version 1.6) now offers a function (`utils.cook_rgidf()`) to make it easier of using a non-RGI glacier inventory in OGGM. Now, let's use a non-RGI glacier inventory from the second Chinese glacier inventory (CGI2, https://doi.org/10.3189/2015JoG14J209) to show how it works."
   ]
  },
  {
   "cell_type": "code",
   "execution_count": null,
   "metadata": {},
   "outputs": [],
   "source": [
    "# Let's get the sample CGI2 glacier inventory and see what it looks like\n",
    "from oggm import utils\n",
    "import geopandas as gpd\n",
    "cgidf = gpd.read_file(utils.get_demo_file('cgi2.shp'))\n",
    "cgidf"
   ]
  },
  {
   "cell_type": "markdown",
   "metadata": {},
   "source": [
    "Ha! There are some Chinese characters! But it should not influence our work. Now, let's try with the simplest case:"
   ]
  },
  {
   "cell_type": "code",
   "execution_count": null,
   "metadata": {},
   "outputs": [],
   "source": [
    "rgidf_simple = utils.cook_rgidf(cgidf, o1_region='13')\n",
    "rgidf_simple"
   ]
  },
  {
   "cell_type": "markdown",
   "metadata": {},
   "source": [
    "In this case, we fake all of the columns values except for `geometry`. With this `rgidf_simple`, we can handle most of the OGGM procedure after set `cfg.PARAMS['use_rgi_area'] = False`. Let's have a try:"
   ]
  },
  {
   "cell_type": "code",
   "execution_count": null,
   "metadata": {},
   "outputs": [],
   "source": [
    "from oggm import cfg, workflow\n",
    "\n",
    "cfg.initialize()\n",
    "cfg.PARAMS['use_rgi_area'] = False\n",
    "cfg.PARAMS['use_intersects'] = False\n",
    "cfg.PATHS['working_dir'] = utils.gettempdir(dirname='cook_rgidf', reset=True)\n",
    "gdirs = workflow.init_glacier_directories(rgidf_simple)\n",
    "\n",
    "# The tasks below require downloading new data - we comment them for the tutorial, but it should work for you!\n",
    "# workflow.gis_prepro_tasks(gdirs)\n",
    "# workflow.download_ref_tstars('https://cluster.klima.uni-bremen.de/~oggm/ref_mb_params/oggm_v1.4/RGIV62/CRU/centerlines/qc3/pcp2.5')\n",
    "# workflow.climate_tasks(gdirs)\n",
    "# workflow.inversion_tasks(gdirs)\n",
    "\n",
    "utils.compile_glacier_statistics(gdirs)"
   ]
  },
  {
   "cell_type": "markdown",
   "metadata": {},
   "source": [
    "Sometimes, the information in the original glacier inventory also covered what RGI need, but with different name. For example, both CGI2 and RGI include Lon-lat coordinate to indicate the location of the glacier but with different names. CGI2 used `Glc_Long` and `Glc_Lati`, while RGI6 used `CenLon` and `CenLat`. Also, CGI2 include glacier area information with name `Glc_Area`, while RGI named glacier area as `Area`. If we want to keep those values but rename them following RGI, we can use the `assign_column_values` keyword argument:"
   ]
  },
  {
   "cell_type": "code",
   "execution_count": null,
   "metadata": {},
   "outputs": [],
   "source": [
    "rgidf_save_columns = utils.cook_rgidf(cgidf, o1_region='13', assign_column_values={'Glc_Long': 'CenLon', 'Glc_Lati': 'CenLat', 'Glc_Area': 'Area', 'GLIMS_ID': 'GLIMSId'})\n",
    "rgidf_save_columns"
   ]
  },
  {
   "cell_type": "markdown",
   "metadata": {},
   "source": [
    "Seems perfect! However, the glacier area in CGI2 is in $m^2$, but it is in $km^2$ for RGI. So, we need to correct the `Area` values right:"
   ]
  },
  {
   "cell_type": "code",
   "execution_count": null,
   "metadata": {},
   "outputs": [],
   "source": [
    "rgidf_save_columns['Area'] = rgidf_save_columns.Area * 1e-6\n",
    "rgidf_save_columns.Area"
   ]
  },
  {
   "cell_type": "markdown",
   "metadata": {},
   "source": [
    "### Note:\n",
    "\n",
    "Despite that `cook_rgidf()` can handle most of the cases for OGGM, there are some limitations. Here, we try to point out some of cases in which the `rgidf` sourced from `cook_rgidf()` might get you in trouble:\n",
    "- in `cook_rgidf()`, we assign the glacier form with '0' (Glacier) for all of the glaciers in the original data. OGGM assigns different parameters for glaciers (form '0') and ice caps (form '1').\n",
    "- `termtype` was also assign as '0' which means 'land-terminating'. Here again, OGGM treats 'Marine-terminating' glaciers differently (see ['Frontal ablation'](https://docs.oggm.org/en/stable/frontal-ablation.html)). \n",
    "\n",
    "For these kinds of attribution, there is nothing we can do automatically. Users need to assign the right values according the actual condition of their glaciers, if the attribution is important to their use cases."
   ]
  },
  {
   "cell_type": "markdown",
   "metadata": {},
   "source": [
    "## What's next?\n",
    "\n",
    "- return to the [OGGM documentation](https://docs.oggm.org)\n",
    "- back to the [table of contents](welcome.ipynb)"
   ]
  }
 ],
 "metadata": {
  "kernelspec": {
   "display_name": "Python 3",
   "language": "python",
   "name": "python3"
  },
  "language_info": {
   "codemirror_mode": {
    "name": "ipython",
    "version": 3
   },
   "file_extension": ".py",
   "mimetype": "text/x-python",
   "name": "python",
   "nbconvert_exporter": "python",
   "pygments_lexer": "ipython3",
   "version": "3.8.5"
  },
  "metadata": {
   "interpreter": {
    "hash": "705f036afebab14ba3958dfbf5720c1e1e37a03d5afe33574ff09620abf8737d"
   }
  }
 },
 "nbformat": 4,
 "nbformat_minor": 4
}
