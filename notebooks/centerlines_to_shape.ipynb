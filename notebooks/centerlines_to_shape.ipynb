{
 "cells": [
  {
   "cell_type": "markdown",
   "metadata": {},
   "source": [
    "# Compute smoother centerlines for shapefile output"
   ]
  },
  {
   "cell_type": "markdown",
   "metadata": {},
   "source": [
    "This notebook describes how to compute centerlines with OGGM and write them to disk. It is meant for users who are mostly interested in the centerlines, not so much the rest of the OGGM model.\n",
    "\n",
    "We use an example of a user-provided glacier inventory and DEM (thanks to [Liss Andreassen](https://www.nve.no/hydrology/our-researchers/liss-marie-andreassen/) for providing the data)."
   ]
  },
  {
   "cell_type": "code",
   "execution_count": null,
   "metadata": {},
   "outputs": [],
   "source": [
    "import rioxarray as rioxr\n",
    "import geopandas as gpd\n",
    "import matplotlib.pyplot as plt\n",
    "\n",
    "from oggm import cfg, utils, workflow, tasks"
   ]
  },
  {
   "cell_type": "markdown",
   "metadata": {},
   "source": [
    "## Data preparation"
   ]
  },
  {
   "cell_type": "markdown",
   "metadata": {},
   "source": [
    "Download the demo data. This is a subset of a regional glacier inventory and DEM in Norway:"
   ]
  },
  {
   "cell_type": "code",
   "execution_count": null,
   "metadata": {},
   "outputs": [],
   "source": [
    "fpath_inventory = utils.file_downloader('https://cluster.klima.uni-bremen.de/~oggm/tutorials/Norway_Inventory_sel.zip')\n",
    "fpath_dem = utils.file_downloader('https://cluster.klima.uni-bremen.de/~oggm/tutorials/Norway_DEM_sel.tif')"
   ]
  },
  {
   "cell_type": "markdown",
   "metadata": {},
   "source": [
    "Read the data and plot it:"
   ]
  },
  {
   "cell_type": "code",
   "execution_count": null,
   "metadata": {},
   "outputs": [],
   "source": [
    "inventory = gpd.read_file(fpath_inventory)\n",
    "dem = rioxr.open_rasterio(fpath_dem)\n",
    "\n",
    "f, ax = plt.subplots(figsize=(9, 9))\n",
    "dem.plot(ax=ax, cmap='terrain', vmin=0);\n",
    "inventory.plot(ax=ax, edgecolor='k', facecolor='C1');"
   ]
  },
  {
   "cell_type": "markdown",
   "metadata": {},
   "source": [
    "The resolution of the DEM is 10m:"
   ]
  },
  {
   "cell_type": "code",
   "execution_count": null,
   "metadata": {},
   "outputs": [],
   "source": [
    "print((dem.x[1] - dem.x[0]).item())"
   ]
  },
  {
   "cell_type": "markdown",
   "metadata": {},
   "source": [
    "In this inventory, one geometry has a topological error (the figure of eight where the outlines touch):"
   ]
  },
  {
   "cell_type": "code",
   "execution_count": null,
   "metadata": {},
   "outputs": [],
   "source": [
    "inventory.loc[~inventory.is_valid].plot();"
   ]
  },
  {
   "cell_type": "markdown",
   "metadata": {},
   "source": [
    "Let's correct it:"
   ]
  },
  {
   "cell_type": "code",
   "execution_count": null,
   "metadata": {},
   "outputs": [],
   "source": [
    "inventory.loc[~inventory.is_valid, 'geometry'] = inventory.loc[~inventory.is_valid].buffer(0)"
   ]
  },
  {
   "cell_type": "markdown",
   "metadata": {},
   "source": [
    "A final preparation step is to convert the format of the inventory to a file which resembles the RGI (see [use_your_own_inventory.ipynb](use_your_own_inventory.ipynb)):"
   ]
  },
  {
   "cell_type": "code",
   "execution_count": null,
   "metadata": {},
   "outputs": [],
   "source": [
    "# We keep the original ID for later reference\n",
    "gdf = utils.cook_rgidf(inventory, o1_region='08', assign_column_values={'breID':'breID'})"
   ]
  },
  {
   "cell_type": "markdown",
   "metadata": {},
   "source": [
    "## Compute the centerlines"
   ]
  },
  {
   "cell_type": "markdown",
   "metadata": {},
   "source": [
    "We use the standard OGGM procedure for this:"
   ]
  },
  {
   "cell_type": "code",
   "execution_count": null,
   "metadata": {},
   "outputs": [],
   "source": [
    "cfg.initialize(logging_level='WARNING')\n",
    "\n",
    "# Parameters\n",
    "cfg.PARAMS['use_multiprocessing'] = True  # this is often a good idea\n",
    "cfg.PARAMS['use_rgi_area'] = False  # this is required for user-defined inventories\n",
    "cfg.PARAMS['use_intersects'] = False  # we don't care about intersects for centerlines\n",
    "cfg.PARAMS['border'] = 10  # no need to make a large map\n",
    "\n",
    "# Optional: change the grid resolution\n",
    "# E.g. fixed grid spacing\n",
    "# cfg.PARAMS['grid_dx_method'] = 'fixed'\n",
    "# cfg.PARAMS['fixed_dx'] = 10\n",
    "# Or variable but twice higher than default \n",
    "cfg.PARAMS['grid_dx_method'] = 'square'\n",
    "cfg.PARAMS['d1'] = 7  # (default is 14)\n",
    "cfg.PARAMS['d2'] = 5  # (default is 10)\n",
    "cfg.PARAMS['dmax'] = 200  # (default is 100)\n",
    "\n",
    "# Tell OGGM to use our user DEM (important!)\n",
    "cfg.PATHS['dem_file'] = fpath_dem\n",
    "\n",
    "# Where to work\n",
    "cfg.PATHS['working_dir'] = utils.gettempdir(dirname='NORWAY_CENTERLINES', reset=True)"
   ]
  },
  {
   "cell_type": "markdown",
   "metadata": {},
   "source": [
    "Now the workflow: "
   ]
  },
  {
   "cell_type": "code",
   "execution_count": null,
   "metadata": {},
   "outputs": [],
   "source": [
    "gdirs = workflow.init_glacier_directories(gdf)\n",
    "\n",
    "workflow.execute_entity_task(tasks.define_glacier_region, gdirs, source='USER');  # Use the user DEM\n",
    "\n",
    "workflow.execute_entity_task(tasks.glacier_masks, gdirs);\n",
    "workflow.execute_entity_task(tasks.compute_centerlines, gdirs);"
   ]
  },
  {
   "cell_type": "markdown",
   "metadata": {},
   "source": [
    "**Note: the default in OGGM is to use a grid size of varying resolution for each glacier. I think it makes sense in many cases, but you may prefer to use the native resolution of your DEM. You can do so by commenting / un-commenting the options above.**"
   ]
  },
  {
   "cell_type": "markdown",
   "metadata": {},
   "source": [
    "## Write the data to a shapefile with optional smoothing"
   ]
  },
  {
   "cell_type": "markdown",
   "metadata": {},
   "source": [
    "The relevant task is \"write_centerlines_to_shape\", which writes everything to a shapefile:"
   ]
  },
  {
   "cell_type": "code",
   "execution_count": null,
   "metadata": {},
   "outputs": [],
   "source": [
    "from oggm.utils import write_centerlines_to_shape\n",
    "\n",
    "write_centerlines_to_shape(gdirs,  # The glaciers to process\n",
    "                           path='outputs/Norway_Centerlines.shp',  # The output file\n",
    "                           to_tar=False,  # set to True to put everything into one single tar file\n",
    "                           to_crs=inventory.crs,  # Write into the projection of the original inventory\n",
    "                           keep_main_only=True,  # Write only the main flowline and discard the tributaries\n",
    "                          )"
   ]
  },
  {
   "cell_type": "markdown",
   "metadata": {},
   "source": [
    "Let's have a look at the output:"
   ]
  },
  {
   "cell_type": "code",
   "execution_count": null,
   "metadata": {},
   "outputs": [],
   "source": [
    "cls_default = gpd.read_file('outputs/Norway_Centerlines.shp')\n",
    "cls_default['breID'] = gdf['breID']  # This only works this way because we have one centerline per glacier!\n",
    "\n",
    "cls_default.head()"
   ]
  },
  {
   "cell_type": "markdown",
   "metadata": {},
   "source": [
    "`LE_SEGMENT` is the length of the centerline in meters. The RGI \"IDs\" are fake (OGGM needs them) but the breID are real. Lets use them as index for the file:"
   ]
  },
  {
   "cell_type": "code",
   "execution_count": null,
   "metadata": {},
   "outputs": [],
   "source": [
    "cls_default = cls_default.set_index('breID')\n",
    "orig_inventory = inventory.set_index('breID')"
   ]
  },
  {
   "cell_type": "markdown",
   "metadata": {},
   "source": [
    "Now we can plot an example:"
   ]
  },
  {
   "cell_type": "code",
   "execution_count": null,
   "metadata": {},
   "outputs": [],
   "source": [
    "sel_breID = 1189  # 5570\n",
    "\n",
    "f, ax = plt.subplots(figsize=(9, 4))\n",
    "orig_inventory.loc[[sel_breID]].plot(ax=ax, facecolor='lightblue');\n",
    "cls_default.loc[[sel_breID]].plot(ax=ax);"
   ]
  },
  {
   "cell_type": "markdown",
   "metadata": {},
   "source": [
    "What can we see?\n",
    "\n",
    "-the centerline does not end *exactly* at the glacier outline\n",
    "-the line seems \"crooked\", it has sudden turns\n",
    "\n",
    "Both effects are due to the algorithm we use to compute the centerlines ([Kienholz et al., (2014)](https://tc.copernicus.org/articles/8/503/2014/)),\n",
    "which works on the underlying glacier grid. Each vertice (point) in the line corresponds to the center of the grid point.\n",
    "\n",
    "**We have implemented a few new options in OGGM v1.6, which allow to circumvent these limitations**. We illustrate them here:"
   ]
  },
  {
   "cell_type": "code",
   "execution_count": null,
   "metadata": {},
   "outputs": [],
   "source": [
    "write_centerlines_to_shape(gdirs,  # The glaciers to process\n",
    "                           path='outputs/Norway_Centerlines_smooth.shp',  # The output file\n",
    "                           to_tar=False,  # set to True to put everything into one single tar file\n",
    "                           to_crs=inventory.crs,  # Write into the projection of the original inventory\n",
    "                           keep_main_only=True,  # Write only the main flowline and discard the tributaries\n",
    "                           ensure_exterior_match=True,  # NEW! Ensure that the lines are touching the outlines\n",
    "                           simplify_line=0.5,  # NEW! this option reduces the number of vertices along the line\n",
    "                           corner_cutting=5,  # BEW! this then augments the number of vertices again\n",
    "                          )"
   ]
  },
  {
   "cell_type": "markdown",
   "metadata": {},
   "source": [
    "The `simplify_line` and `corner_cutting` options are cosmetic and subjective. The former will simplify the line, by making it look less edgy but also less precise, while the latter then \"smoothes\" it. Users may try different combinations to see their effect (see the [documentation](https://docs.oggm.org/en/latest/generated/oggm.global_tasks.write_centerlines_to_shape.html))."
   ]
  },
  {
   "cell_type": "code",
   "execution_count": null,
   "metadata": {},
   "outputs": [],
   "source": [
    "cls_smooth = gpd.read_file('outputs/Norway_Centerlines_smooth.shp')\n",
    "cls_smooth['breID'] = gdf['breID']\n",
    "cls_smooth = cls_smooth.set_index('breID')"
   ]
  },
  {
   "cell_type": "code",
   "execution_count": null,
   "metadata": {},
   "outputs": [],
   "source": [
    "sel_breID = 1189\n",
    "\n",
    "f, ax = plt.subplots(figsize=(9, 4))\n",
    "orig_inventory.loc[[sel_breID]].plot(ax=ax, facecolor='lightblue');\n",
    "cls_default.loc[[sel_breID]].plot(ax=ax);\n",
    "cls_smooth.loc[[sel_breID]].plot(ax=ax, color='C3');"
   ]
  },
  {
   "cell_type": "markdown",
   "metadata": {},
   "source": [
    "## Final remarks"
   ]
  },
  {
   "cell_type": "markdown",
   "metadata": {},
   "source": [
    "While the centerline algorithm is quite robust, the results will vary as a function of the resolution of the underlying grid, and the smoothing options. After trying a little, it seems difficult to find a setting which works \"best\" in all circumstances, and we encourage users to try several options and see what they prefer. The option likely to have the most impact (assuming smoothing with `(0.5, 5)` is the underlying grid resolution."
   ]
  },
  {
   "cell_type": "markdown",
   "metadata": {},
   "source": [
    "## What's next?\n",
    "\n",
    "- return to the [OGGM documentation](https://docs.oggm.org)\n",
    "- back to the [table of contents](welcome.ipynb)"
   ]
  }
 ],
 "metadata": {
  "kernelspec": {
   "display_name": "Python 3 (ipykernel)",
   "language": "python",
   "name": "python3"
  },
  "language_info": {
   "codemirror_mode": {
    "name": "ipython",
    "version": 3
   },
   "file_extension": ".py",
   "mimetype": "text/x-python",
   "name": "python",
   "nbconvert_exporter": "python",
   "pygments_lexer": "ipython3",
   "version": "3.8.5"
  },
  "metadata": {
   "interpreter": {
    "hash": "705f036afebab14ba3958dfbf5720c1e1e37a03d5afe33574ff09620abf8737d"
   }
  }
 },
 "nbformat": 4,
 "nbformat_minor": 4
}
