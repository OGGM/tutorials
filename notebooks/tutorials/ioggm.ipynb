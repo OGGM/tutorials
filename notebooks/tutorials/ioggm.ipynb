{
 "cells": [
  {
   "cell_type": "markdown",
   "id": "0",
   "metadata": {},
   "source": [
    "# \"Instructed OGGM\": running IGM within the OGGM workflow\n",
    "\n",
    "This tutorial gives you the tools to run IGM within OGGM and also compare it with OGGM runs. \n",
    "\n",
    "**This is very much work in progress.** You'll need an IGM installation for this to run. The notebook currently does not run on OGGM Hub, because of the Tensorflow depedency. We are working on it!"
   ]
  },
  {
   "cell_type": "code",
   "execution_count": null,
   "id": "1",
   "metadata": {},
   "outputs": [],
   "source": [
    "from oggm import cfg\n",
    "from oggm import tasks, utils, workflow, graphics, DEFAULT_BASE_URL\n",
    "from oggm.core import massbalance\n",
    "from oggm.shop import gcm_climate\n",
    "import numpy as np\n",
    "import pandas as pd\n",
    "import xarray as xr\n",
    "import matplotlib.pyplot as plt\n",
    "import igm\n",
    "\n",
    "import warnings\n",
    "warnings.filterwarnings(action='ignore', category=UserWarning)\n",
    "\n",
    "## Initialize OGGM and set up the default run parameters\n",
    "cfg.initialize(logging_level='WARNING')\n",
    "\n",
    "## Local working directory (where OGGM will write its output)\n",
    "# WORKING_DIR = utils.gettempdir('OGGM_distr4')\n",
    "cfg.PATHS['working_dir'] = utils.get_temp_dir('OGGM_distributed_', reset=True)\n",
    "\n",
    "## Pick a glacier\n",
    "rgi_ids = ['RGI60-11.01450']  # This is Aletsch\n",
    "# rgi_ids = ['RGI60-11.00897']  # This is Hintereisferner\n",
    "# rgi_ids = ['RGI60-11.03638']  # This is Argentiere\n",
    "# base_url = 'https://cluster.klima.uni-bremen.de/~oggm/gdirs/oggm_v1.6/exps/igm_v2' # not used currently, data is taken from oggm.DEFAULT_BASE_URL\n",
    "\n",
    "gdir = workflow.init_glacier_directories(rgi_ids, \n",
    "                                         prepro_base_url=DEFAULT_BASE_URL, \n",
    "                                         from_prepro_level=4, \n",
    "                                         )[0]\n"
   ]
  },
  {
   "cell_type": "markdown",
   "id": "2",
   "metadata": {},
   "source": [
    "## Add consensus and cook thickness product to the gdir"
   ]
  },
  {
   "cell_type": "code",
   "execution_count": null,
   "id": "3",
   "metadata": {},
   "outputs": [],
   "source": [
    "# add consensus now as well, as we use a different prepro\n",
    "from oggm.shop import bedtopo\n",
    "workflow.execute_entity_task(bedtopo.add_consensus_thickness, gdir);"
   ]
  },
  {
   "cell_type": "code",
   "execution_count": null,
   "id": "4",
   "metadata": {},
   "outputs": [],
   "source": [
    "from oggm.shop import cook23\n",
    "cook23.cook23_to_gdir(gdir)"
   ]
  },
  {
   "cell_type": "markdown",
   "id": "5",
   "metadata": {},
   "source": [
    "Activate the 3 lines of code in the following code block to match the starting volume with the consensus volume (Farinotti et al. 2019) \n",
    "\n",
    "Note: the consensus volume is used as a reference volume for OGGM's dynamic spinup during the bed inversion as a reference volume, but in the further workflow only the RGI-area is matched and not the consensus volume. "
   ]
  },
  {
   "cell_type": "code",
   "execution_count": null,
   "id": "6",
   "metadata": {},
   "outputs": [],
   "source": [
    "# match of consensus\n",
    "# ### Recompute the volume to match Farinotti et al. 2019 (for consistency with IGM later) \n",
    "# from oggm.global_tasks import calibrate_inversion_from_consensus\n",
    "# calibrate_inversion_from_consensus([gdir])\n",
    "# get ready for modelling\n",
    "# tasks.init_present_time_glacier(gdir)"
   ]
  },
  {
   "cell_type": "markdown",
   "id": "7",
   "metadata": {},
   "source": [
    "## Running OGGM Flowline with a GCM Climate"
   ]
  },
  {
   "cell_type": "code",
   "execution_count": null,
   "id": "8",
   "metadata": {},
   "outputs": [],
   "source": [
    "# you can choose one of these 5 different GCMs:\n",
    "# 'gfdl-esm4_r1i1p1f1', 'mpi-esm1-2-hr_r1i1p1f1', 'mri-esm2-0_r1i1p1f1' (\"low sensitivity\" models, within typical ranges from AR6)\n",
    "# 'ipsl-cm6a-lr_r1i1p1f1', 'ukesm1-0-ll_r1i1p1f2' (\"hotter\" models, especially ukesm1-0-ll)\n",
    "member = 'mri-esm2-0_r1i1p1f1' \n",
    "\n",
    "for ssp in ['ssp126', 'ssp370','ssp585']:\n",
    "    # bias correct them\n",
    "    workflow.execute_entity_task(gcm_climate.process_monthly_isimip_data, gdir, \n",
    "                                 ssp = ssp,\n",
    "                                 # gcm member -> you can choose another one\n",
    "                                 member=member,\n",
    "                                 # recognize the climate file for later\n",
    "                                 output_filesuffix=f'_ISIMIP3b_{member}_{ssp}',\n",
    "                                 );"
   ]
  },
  {
   "cell_type": "code",
   "execution_count": null,
   "id": "9",
   "metadata": {},
   "outputs": [],
   "source": [
    "for ssp in ['ssp126', 'ssp370', 'ssp585']:\n",
    "    rid = f'_ISIMIP3b_{member}_{ssp}'\n",
    "    workflow.execute_entity_task(tasks.run_from_climate_data, gdir,\n",
    "                                 climate_filename='gcm_data',  # use gcm_data, not climate_historical\n",
    "                                 climate_input_filesuffix=rid,  # use the chosen scenario\n",
    "                                 init_model_filesuffix='_spinup_historical',  # this is important! Start from 2020 glacier\n",
    "                                 output_filesuffix=rid, \n",
    "                                 store_fl_diagnostics = True # recognize the run for later\n",
    "                                );"
   ]
  },
  {
   "cell_type": "markdown",
   "id": "10",
   "metadata": {},
   "source": [
    "## create the corresponding mass balance model(MB model) of the run above, so that the iOGGM run can be forced with same MB model\n",
    "\n",
    "(using this MB model with the instructed-oggm doesn't work yet)"
   ]
  },
  {
   "cell_type": "code",
   "execution_count": null,
   "id": "11",
   "metadata": {},
   "outputs": [],
   "source": [
    "mb_gcm = massbalance.MultipleFlowlineMassBalance(gdir, \n",
    "                                                   filename='gcm_data',\n",
    "                                                   bias=0,\n",
    "                                                   input_filesuffix=f'_ISIMIP3b_{member}_ssp370')"
   ]
  },
  {
   "cell_type": "markdown",
   "id": "12",
   "metadata": {},
   "source": [
    "## Running OGGM Flowline with a Random Climate \n",
    "\n",
    "this run is forced with climate data from 1999-2019 randomly sampled"
   ]
  },
  {
   "cell_type": "code",
   "execution_count": null,
   "id": "13",
   "metadata": {},
   "outputs": [],
   "source": [
    "# Do a random run with a bit of warming\n",
    "tasks.run_random_climate(gdir, nyears=100, \n",
    "                         y0=2009, halfsize=10, # Climate of 1999-2019\n",
    "                         seed=1,  # Change for another randomness \n",
    "                         temperature_bias=0,  # casual warming - change for other scenarios\n",
    "                         store_fl_diagnostics=True,  # important! This will be needed for the redistribution\n",
    "                         output_filesuffix='_rdn_1',  # name the run\n",
    "                         init_model_filesuffix='_spinup_historical',\n",
    "                        );"
   ]
  },
  {
   "cell_type": "markdown",
   "id": "14",
   "metadata": {},
   "source": [
    "## create the corresponding random mass balance model(MB model) of the run above, so that the iOGGM run can be forced with same random MB model"
   ]
  },
  {
   "cell_type": "code",
   "execution_count": null,
   "id": "15",
   "metadata": {},
   "outputs": [],
   "source": [
    "mb_rand = massbalance.RandomMassBalance(gdir,\n",
    "                                   y0=2009, halfsize=10, # Climate of 1999-2019\n",
    "                                   seed=1,  # Change for another randomness\n",
    "                                   )"
   ]
  },
  {
   "cell_type": "code",
   "execution_count": null,
   "id": "16",
   "metadata": {},
   "outputs": [],
   "source": [
    "with xr.open_dataset(gdir.get_filepath('gridded_data')) as gd:\n",
    "    gd = gd.load()\n",
    "\n",
    "# set values outside the glacier to np.nan\n",
    "# using the glacier mask, as otherwise there is more ice from surrounding glaciers in the domain, \n",
    "# which shouldn't accumulate more ice, still adds to the total volume/area of the domain.. either mask it out beforehand or before doing plots.\n",
    "# experiment with it: does the mass outside of the mask only decrease? => ?\n",
    "gd['cook23_thk_masked'] = xr.where(gd.glacier_mask, gd.cook23_thk, np.nan)\n",
    "\n"
   ]
  },
  {
   "cell_type": "code",
   "execution_count": null,
   "id": "17",
   "metadata": {},
   "outputs": [],
   "source": [
    "bed_con = gd.topo - gd.consensus_ice_thickness.fillna(0)\n",
    "bed_cook_masked = gd.topo - gd.cook23_thk_masked.fillna(0)\n",
    "bed_cook = gd.topo - gd.cook23_thk"
   ]
  },
  {
   "cell_type": "markdown",
   "id": "18",
   "metadata": {},
   "source": [
    "## Running the iOGGM from the consensus ice thickness (Farinotti et al. 2019)\n",
    "\n",
    "once with random and once with the same GCM climate as above"
   ]
  },
  {
   "cell_type": "code",
   "execution_count": null,
   "id": "19",
   "metadata": {},
   "outputs": [],
   "source": [
    "############################### OGGM-IGM - CONSENSUS - RANDOM CLIMATE\n",
    "from igm.instructed_oggm import IGM_Model2D\n",
    "\n",
    "sdmodel_igm_con_rnd = IGM_Model2D(bed_con.values, init_ice_thick=gd.consensus_ice_thickness.fillna(0).values, \n",
    "                     dx=gdir.grid.dx, dy=gdir.grid.dy, x=bed_con.x, y=bed_con.y, mb_model=mb_rand, \n",
    "                        y0=0., mb_filter=gd.glacier_mask.values==1)\n",
    "\n",
    "dsr_igm_con_rnd = sdmodel_igm_con_rnd.run_until_and_store(100, grid=gdir.grid)"
   ]
  },
  {
   "cell_type": "code",
   "execution_count": null,
   "id": "20",
   "metadata": {},
   "outputs": [],
   "source": [
    "############################### OGGM-IGM - CONSENSUS - GCM CLIMATE\n",
    "from igm.instructed_oggm import IGM_Model2D\n",
    "\n",
    "sdmodel_igm_con_gcm = IGM_Model2D(bed_con.values, init_ice_thick=gd.consensus_ice_thickness.fillna(0).values, \n",
    "                                    dx=gdir.grid.dx, dy=gdir.grid.dy, x=bed_con.x, y=bed_con.y, mb_model=mb_gcm, \n",
    "                                    y0=gdir.rgi_date, mb_filter=gd.glacier_mask.values==1)\n",
    "dsr_igm_con_gcm = sdmodel_igm_con_gcm.run_until_and_store(2100, grid=gdir.grid)"
   ]
  },
  {
   "cell_type": "markdown",
   "id": "21",
   "metadata": {},
   "source": [
    "## Running the iOGGM from the Cook et al. 2023 ice thickness product\n",
    "\n",
    "once with random and once with the same GCM climate as above"
   ]
  },
  {
   "cell_type": "code",
   "execution_count": null,
   "id": "22",
   "metadata": {},
   "outputs": [],
   "source": [
    "############################### OGGM-IGM - COOK_23 - RANDOM CLIMATE\n",
    "sdmodel_igm_cook_rnd = IGM_Model2D(bed_cook_masked.values, init_ice_thick=gd.cook23_thk_masked.fillna(0).values, \n",
    "                     dx=gdir.grid.dx, dy=gdir.grid.dy, x=bed_cook_masked.x, y=bed_cook_masked.y, mb_model=mb_rand, \n",
    "                        y0=0., mb_filter=gd.glacier_mask.values==1)\n",
    "\n",
    "dsr_igm_cook_rnd = sdmodel_igm_cook_rnd.run_until_and_store(100, grid=gdir.grid)"
   ]
  },
  {
   "cell_type": "code",
   "execution_count": null,
   "id": "23",
   "metadata": {},
   "outputs": [],
   "source": [
    "############################### OGGM-IGM - COOK_23 - GCM CLIMATE\n",
    "sdmodel_igm_cook_gcm = IGM_Model2D(bed_cook_masked.values, init_ice_thick=gd.cook23_thk_masked.fillna(0).values, \n",
    "                     dx=gdir.grid.dx, dy=gdir.grid.dy, x=bed_cook_masked.x, y=bed_cook_masked.y, mb_model=mb_gcm, \n",
    "                        y0=gdir.rgi_date, mb_filter=gd.glacier_mask.values==1)\n",
    "\n",
    "dsr_igm_cook_gcm = sdmodel_igm_cook_gcm.run_until_and_store(2100, grid=gdir.grid)"
   ]
  },
  {
   "cell_type": "markdown",
   "id": "24",
   "metadata": {},
   "source": [
    "## load the data from disk for plotting"
   ]
  },
  {
   "cell_type": "code",
   "execution_count": null,
   "id": "25",
   "metadata": {},
   "outputs": [],
   "source": [
    "with xr.open_dataset(gdir.get_filepath('fl_diagnostics', filesuffix='_ISIMIP3b_mri-esm2-0_r1i1p1f1_ssp370'), group=f'fl_0') as ds_gcm:\n",
    "    ds_gcm = ds_gcm.load()"
   ]
  },
  {
   "cell_type": "code",
   "execution_count": null,
   "id": "26",
   "metadata": {},
   "outputs": [],
   "source": [
    "with xr.open_dataset(gdir.get_filepath('fl_diagnostics', filesuffix='_rdn_1'), group=f'fl_0') as ds_rnd:\n",
    "    ds_rnd = ds_rnd.load()"
   ]
  },
  {
   "cell_type": "code",
   "execution_count": null,
   "id": "27",
   "metadata": {},
   "outputs": [],
   "source": [
    "with xr.open_dataset(gdir.get_filepath('fl_diagnostics', filesuffix='_spinup_historical'), group=f'fl_0') as spinup:\n",
    "    spinup = spinup.load()\n"
   ]
  },
  {
   "cell_type": "markdown",
   "id": "28",
   "metadata": {},
   "source": [
    "adapt starting date for the random runs"
   ]
  },
  {
   "cell_type": "code",
   "execution_count": null,
   "id": "29",
   "metadata": {},
   "outputs": [],
   "source": [
    "for df in [ds_rnd, dsr_igm_con_rnd, dsr_igm_cook_rnd]:\n",
    "    df.coords['time'] = df.coords['time'] + gdir.rgi_date\n",
    "ds_rnd.coords['time'] =  ds_rnd.coords['time'] + (int(spinup.coords['time'][-1])-gdir.rgi_date) "
   ]
  },
  {
   "cell_type": "markdown",
   "id": "30",
   "metadata": {},
   "source": [
    "## Comparison plots"
   ]
  },
  {
   "cell_type": "markdown",
   "id": "31",
   "metadata": {},
   "source": [
    "### Volume plot - both scenarios"
   ]
  },
  {
   "cell_type": "code",
   "execution_count": null,
   "id": "32",
   "metadata": {},
   "outputs": [],
   "source": [
    "# comparison plots\n",
    "# OGGM Flowline\n",
    "(ds_gcm.volume_m3.sum(dim=['dis_along_flowline'])*1e-9).plot(label='OGGM-Flowline - ISIMIP - ssp370');\n",
    "(ds_rnd.volume_m3.sum(dim=['dis_along_flowline'])*1e-9).plot(label='OGGM-Flowline - RAND_CLIM');\n",
    "(spinup.volume_m3.sum(dim=['dis_along_flowline'])*1e-9).plot(label='OGGM-Flowline - SPINUP', color='navy');\n",
    "\n",
    "# IGM (from consensus volume)\n",
    "(dsr_igm_con_rnd.ice_thickness.sum(dim=['x', 'y'])*gdir.grid.dx**2*1e-9).plot(label='OGGM-IGM - CONSENSUS - RAND_CLIM');\n",
    "(dsr_igm_con_gcm.ice_thickness.sum(dim=['x', 'y'])*gdir.grid.dx**2*1e-9).plot(label='OGGM-IGM - CONSENSUS - ISIMIP - ssp370');\n",
    "\n",
    "# IGM (from cook23 volume)\n",
    "(dsr_igm_cook_rnd.ice_thickness.sum(dim=['x', 'y'])*gdir.grid.dx**2*1e-9).plot(label='OGGM-IGM - COOK - RAND_CLIM');\n",
    "(dsr_igm_cook_gcm.ice_thickness.sum(dim=['x', 'y'])*gdir.grid.dx**2*1e-9).plot(label='OGGM-IGM - COOK - ISIMIP - ssp370');\n",
    "\n",
    "plt.ylabel('VOLUME in km^3')\n",
    "plt.xlabel('YEAR')\n",
    "plt.title('Volume evolution comparison of different model runs\\n OGGM(+dynamic spinup) and IGM');\n",
    "plt.legend();"
   ]
  },
  {
   "cell_type": "markdown",
   "id": "33",
   "metadata": {},
   "source": [
    "### volume plot cropped - GCM only"
   ]
  },
  {
   "cell_type": "code",
   "execution_count": null,
   "id": "34",
   "metadata": {},
   "outputs": [],
   "source": [
    "# comparison plots\n",
    "# OGGM Flowline\n",
    "(ds_gcm.volume_m3.sum(dim=['dis_along_flowline'])*1e-9).plot(label='OGGM-Flowline - ISIMIP - ssp370');\n",
    "# (ds_rnd.volume_m3.sum(dim=['dis_along_flowline'])*1e-9).plot(label='OGGM-Flowline - RAND_CLIM');\n",
    "(spinup.volume_m3.sum(dim=['dis_along_flowline'])*1e-9).plot(label='OGGM-Flowline - SPINUP', color='navy');\n",
    "\n",
    "# IGM (from consensus volume)\n",
    "# (dsr_igm_con_rnd.ice_thickness.sum(dim=['x', 'y'])*gdir.grid.dx**2*1e-9).plot(label='OGGM-IGM - CONSENSUS - RAND_CLIM');\n",
    "(dsr_igm_con_gcm.ice_thickness.sum(dim=['x', 'y'])*gdir.grid.dx**2*1e-9).plot(label='OGGM-IGM - CONSENSUS - ISIMIP - ssp370');\n",
    "\n",
    "# IGM (from cook23 volume)\n",
    "# (dsr_igm_cook_rnd.ice_thickness.sum(dim=['x', 'y'])*gdir.grid.dx**2*1e-9).plot(label='OGGM-IGM - COOK - RAND_CLIM');\n",
    "(dsr_igm_cook_gcm.ice_thickness.sum(dim=['x', 'y'])*gdir.grid.dx**2*1e-9).plot(label='OGGM-IGM - COOK - ISIMIP - ssp370');\n",
    "\n",
    "# rgi date\n",
    "plt.axvline(x=2003, color='navy', linestyle=':', label='RGI-date')\n",
    "plt.text(2003.1, 7, 'RGI-date', rotation=90, verticalalignment='bottom', color='navy')\n",
    "\n",
    "# 2020\n",
    "plt.axvline(x=2020, color='navy', linestyle=':', label='2020')\n",
    "plt.text(2020.1, 7, '2020', rotation=90, verticalalignment='bottom', color='navy')\n",
    "\n",
    "plt.ylabel('VOLUME in km^3')\n",
    "plt.xlabel('YEAR')\n",
    "\n",
    "plt.xlim(1995, 2030)\n",
    "# plt.ylim()\n",
    "plt.title('Volume evolution comparison of different model runs\\n OGGM(+dynamic spinup) and IGM\\n'\n",
    "            'highlighting spinup time');\n",
    "# plt.xlim(2000, 2030)\n",
    "# plt.ylim(8, 15)\n",
    "plt.legend();"
   ]
  },
  {
   "cell_type": "markdown",
   "id": "35",
   "metadata": {},
   "source": [
    "### gcm climate only - volume plot"
   ]
  },
  {
   "cell_type": "code",
   "execution_count": null,
   "id": "36",
   "metadata": {},
   "outputs": [],
   "source": [
    "(ds_gcm.volume_m3.sum(dim=['dis_along_flowline'])*1e-9).plot(label='OGGM-Flowline - ISIMIP - ssp370');\n",
    "(spinup.volume_m3.sum(dim=['dis_along_flowline'])*1e-9).plot(label='OGGM-Flowline - SPINUP FROM CONSENSUS', color='navy');\n",
    "(dsr_igm_con_gcm.ice_thickness.sum(dim=['x', 'y'])*gdir.grid.dx**2*1e-9).plot(label='OGGM-IGM - CONSENSUS - ISIMIP - ssp370');\n",
    "(dsr_igm_cook_gcm.ice_thickness.sum(dim=['x', 'y'])*gdir.grid.dx**2*1e-9).plot(label='OGGM-IGM - COOK - ISIMIP - ssp370');\n",
    "plt.ylabel('VOLUME in km^3')\n",
    "plt.xlabel('YEAR')\n",
    "plt.title('Volume evolution comparison of different model runs\\n OGGM(+dynamic spinup) and IGM\\n \\\" climate\\\"');\n",
    "plt.legend();"
   ]
  },
  {
   "cell_type": "markdown",
   "id": "37",
   "metadata": {},
   "source": [
    "### random climate only - volume plot"
   ]
  },
  {
   "cell_type": "code",
   "execution_count": null,
   "id": "38",
   "metadata": {},
   "outputs": [],
   "source": [
    "(ds_rnd.volume_m3.sum(dim=['dis_along_flowline'])*1e-9).plot(label='OGGM-Flowline - RAND_CLIM');\n",
    "(spinup.volume_m3.sum(dim=['dis_along_flowline'])*1e-9).plot(label='OGGM-Flowline - SPINUP', color='navy');\n",
    "(dsr_igm_con_rnd.ice_thickness.sum(dim=['x', 'y'])*gdir.grid.dx**2*1e-9).plot(label='OGGM-IGM - CONSENSUS - RAND_CLIM');\n",
    "(dsr_igm_cook_rnd.ice_thickness.sum(dim=['x', 'y'])*gdir.grid.dx**2*1e-9).plot(label='OGGM-IGM - COOK - RAND_CLIM');\n",
    "plt.ylabel('VOLUME in km^3')\n",
    "plt.xlabel('YEAR')\n",
    "plt.title('Volume evolution comparison of different model runs\\n OGGM(+dynamic spinup) and IGM\\n \\\"random climate\\\"');\n",
    "plt.legend();"
   ]
  },
  {
   "cell_type": "code",
   "execution_count": null,
   "id": "39",
   "metadata": {},
   "outputs": [],
   "source": [
    "(spinup.area_m2.sum(dim=['dis_along_flowline'])*1e-6).plot(label='OGGM-Flowline - SPINUP', color='navy');\n",
    "(ds_gcm.area_m2.sum(dim=['dis_along_flowline'])*1e-6).plot(label='OGGM-Flowline - ISIMIP - ssp370');\n",
    "# (ds_rnd.area_m2.sum(dim=['dis_along_flowline'])*1e-6).plot(label='OGGM-Flowline - RAND_CLIM');\n",
    "\n",
    "\n",
    "# ((dsr_igm_con_rnd.ice_thickness > 1).sum(dim=['x', 'y']) *gdir.grid.dx**2*1e-6).plot(label='OGGM-IGM - CONSENSUS- RAND_CLIM');\n",
    "((dsr_igm_con_gcm.ice_thickness > 1).sum(dim=['x', 'y']) *gdir.grid.dx**2*1e-6).plot(label='OGGM-IGM - CONSENSUS - ISIMIP - ssp370');\n",
    "# ((dsr_igm_cook_rnd.ice_thickness > 1).sum(dim=['x', 'y']) *gdir.grid.dx**2*1e-6).plot(label='OGGM-IGM - COOK - RAND_CLIM');\n",
    "((dsr_igm_cook_gcm.ice_thickness > 1).sum(dim=['x', 'y']) *gdir.grid.dx**2*1e-6).plot(label='OGGM-IGM - COOK - ISIMIP - ssp370');\n",
    "plt.ylabel('AREA in km^2')\n",
    "plt.xlabel('YEAR')\n",
    "# plt.xlim(2000, 2030)\n",
    "# plt.ylim(75, 90)\n",
    "plt.legend();\n"
   ]
  },
  {
   "cell_type": "code",
   "execution_count": null,
   "id": "40",
   "metadata": {},
   "outputs": [],
   "source": []
  }
 ],
 "metadata": {
  "kernelspec": {
   "display_name": "Python 3 (ipykernel)",
   "language": "python",
   "name": "python3"
  },
  "language_info": {
   "codemirror_mode": {
    "name": "ipython",
    "version": 3
   },
   "file_extension": ".py",
   "mimetype": "text/x-python",
   "name": "python",
   "nbconvert_exporter": "python",
   "pygments_lexer": "ipython3",
   "version": "3.12.4"
  }
 },
 "nbformat": 4,
 "nbformat_minor": 5
}
