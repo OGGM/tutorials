{
 "cells": [
  {
   "cell_type": "markdown",
   "id": "e678a517-8456-4115-8330-72a82a3b02fe",
   "metadata": {},
   "source": [
    "# \"Instructed OGGM\": running IGM within the OGGM workflow\n",
    "This tutorial gives you the tools to run IGM within OGGM and also compare it with OGGM runs"
   ]
  },
  {
   "cell_type": "code",
   "id": "6e304abb-f5ec-49db-946c-89c0caeae04e",
   "metadata": {
    "scrolled": true
   },
   "source": [
    "from oggm import cfg\n",
    "from oggm import tasks, utils, workflow, graphics, DEFAULT_BASE_URL\n",
    "from oggm.core import massbalance\n",
    "from oggm.shop import gcm_climate\n",
    "import numpy as np\n",
    "import pandas as pd\n",
    "import xarray as xr\n",
    "import matplotlib.pyplot as plt\n",
    "import igm\n",
    "\n",
    "import warnings\n",
    "warnings.filterwarnings(action='ignore', category=UserWarning)\n",
    "\n",
    "## Initialize OGGM and set up the default run parameters\n",
    "cfg.initialize(logging_level='WARNING')\n",
    "\n",
    "## Local working directory (where OGGM will write its output)\n",
    "# WORKING_DIR = utils.gettempdir('OGGM_distr4')\n",
    "cfg.PATHS['working_dir'] = utils.get_temp_dir('OGGM_distributed_', reset=True)\n",
    "\n",
    "## Pick a glacier\n",
    "rgi_ids = ['RGI60-11.01450']  # This is Aletsch\n",
    "# rgi_ids = ['RGI60-11.00897']  # This is Hintereisferner\n",
    "# rgi_ids = ['RGI60-11.03638']  # This is Argentiere\n",
    "# base_url = 'https://cluster.klima.uni-bremen.de/~oggm/gdirs/oggm_v1.6/exps/igm_v2' # not used currently, data is taken from oggm.DEFAULT_BASE_URL\n",
    "\n",
    "gdir = workflow.init_glacier_directories(rgi_ids, \n",
    "                                         prepro_base_url=DEFAULT_BASE_URL, \n",
    "                                         from_prepro_level=4, \n",
    "                                         # prepro_border=40,\n",
    "                                            )[0]\n"
   ],
   "outputs": [],
   "execution_count": null
  },
  {
   "cell_type": "markdown",
   "id": "3b4346c6-2fcd-4fb4-964e-d159ab251777",
   "metadata": {},
   "source": [
    "## Add consensus and cook thickness product to the gdir"
   ]
  },
  {
   "cell_type": "code",
   "id": "197de85e-b7ad-4c9b-9c55-51e469e25a5a",
   "metadata": {},
   "source": [
    "# add consensus now as well, as we use a different prepro\n",
    "from oggm.shop import bedtopo\n",
    "workflow.execute_entity_task(bedtopo.add_consensus_thickness, gdir);"
   ],
   "outputs": [],
   "execution_count": null
  },
  {
   "cell_type": "code",
   "id": "5edf75cd-32f6-42ba-87fb-b840137e49d1",
   "metadata": {},
   "source": [
    "from oggm.shop import cook23\n",
    "cook23.cook23_to_gdir(gdir)"
   ],
   "outputs": [],
   "execution_count": null
  },
  {
   "cell_type": "markdown",
   "id": "a12383f4-09bd-411a-9324-c9285804587b",
   "metadata": {},
   "source": [
    "### Activate the 3 lines of code in the following code block to match the starting volume with the consensus volume (Farinotti et al. 2019) \n",
    "#### Note: the consensus volume is used as a reference volume for OGGM's dynamic spinup during the bed inversion as a reference volume, but in the further workflow only the RGI-area is matched and not the consensus volume. "
   ]
  },
  {
   "cell_type": "code",
   "id": "15e3299b-7957-4d7f-84f7-9d4c621a48d5",
   "metadata": {},
   "source": [
    "# match of consensus\n",
    "# ### Recompute the volume to match Farinotti et al. 2019 (for consistency with IGM later) \n",
    "# from oggm.global_tasks import calibrate_inversion_from_consensus\n",
    "# calibrate_inversion_from_consensus([gdir])\n",
    "# get ready for modelling\n",
    "# tasks.init_present_time_glacier(gdir)"
   ],
   "outputs": [],
   "execution_count": null
  },
  {
   "cell_type": "markdown",
   "id": "b4aa17e6-dc8c-41da-931c-7c5626e03f06",
   "metadata": {},
   "source": [
    "### Running OGGM Flowline with a GCM Climate"
   ]
  },
  {
   "cell_type": "code",
   "id": "fc4349d0-2a0f-4008-bbf5-9dfdd414d216",
   "metadata": {},
   "source": [
    "# you can choose one of these 5 different GCMs:\n",
    "# 'gfdl-esm4_r1i1p1f1', 'mpi-esm1-2-hr_r1i1p1f1', 'mri-esm2-0_r1i1p1f1' (\"low sensitivity\" models, within typical ranges from AR6)\n",
    "# 'ipsl-cm6a-lr_r1i1p1f1', 'ukesm1-0-ll_r1i1p1f2' (\"hotter\" models, especially ukesm1-0-ll)\n",
    "member = 'mri-esm2-0_r1i1p1f1' \n",
    "\n",
    "for ssp in ['ssp126', 'ssp370','ssp585']:\n",
    "    # bias correct them\n",
    "    workflow.execute_entity_task(gcm_climate.process_monthly_isimip_data, gdir, \n",
    "                                 ssp = ssp,\n",
    "                                 # gcm member -> you can choose another one\n",
    "                                 member=member,\n",
    "                                 # recognize the climate file for later\n",
    "                                 output_filesuffix=f'_ISIMIP3b_{member}_{ssp}',\n",
    "                                 );"
   ],
   "outputs": [],
   "execution_count": null
  },
  {
   "cell_type": "code",
   "id": "5487daf0-67d9-445e-ba4b-1ed9dbcc8c04",
   "metadata": {
    "scrolled": true
   },
   "source": [
    "for ssp in ['ssp126', 'ssp370', 'ssp585']:\n",
    "    rid = f'_ISIMIP3b_{member}_{ssp}'\n",
    "    workflow.execute_entity_task(tasks.run_from_climate_data, gdir,\n",
    "                                 climate_filename='gcm_data',  # use gcm_data, not climate_historical\n",
    "                                 climate_input_filesuffix=rid,  # use the chosen scenario\n",
    "                                 init_model_filesuffix='_spinup_historical',  # this is important! Start from 2020 glacier\n",
    "                                 output_filesuffix=rid, \n",
    "                                 store_fl_diagnostics = True # recognize the run for later\n",
    "                                );"
   ],
   "outputs": [],
   "execution_count": null
  },
  {
   "cell_type": "markdown",
   "id": "fdefa64e-4f25-4bf4-bc68-43877f4e0b6a",
   "metadata": {},
   "source": [
    "### create the corresponding mass balance model(MB model) of the run above, so that the iOGGM run can be forced with same MB model\n",
    "#### (using this MB model with the instructed-oggm doesn't work yet)"
   ]
  },
  {
   "cell_type": "code",
   "id": "f678a236-264b-4220-bd48-7be9443eb657",
   "metadata": {},
   "source": [
    "mb_gcm = massbalance.MultipleFlowlineMassBalance(gdir, \n",
    "                                                   filename='gcm_data',\n",
    "                                                   bias=0,\n",
    "                                                   input_filesuffix=f'_ISIMIP3b_{member}_ssp370')"
   ],
   "outputs": [],
   "execution_count": null
  },
  {
   "cell_type": "markdown",
   "id": "8df2e27b-9d59-4fcb-8464-b4e5122a0116",
   "metadata": {},
   "source": [
    "### Running OGGM Flowline with a Random Climate \n",
    "#### this run is forced with climate data from 1999-2019 randomly sampled"
   ]
  },
  {
   "cell_type": "code",
   "id": "aaa56e37-283e-4c4b-adc6-7460bec58874",
   "metadata": {},
   "source": [
    "# Do a random run with a bit of warming\n",
    "tasks.run_random_climate(gdir, nyears=100, \n",
    "                         y0=2009, halfsize=10, # Climate of 1999-2019\n",
    "                         seed=1,  # Change for another randomness \n",
    "                         temperature_bias=0,  # casual warming - change for other scenarios\n",
    "                         store_fl_diagnostics=True,  # important! This will be needed for the redistribution\n",
    "                         output_filesuffix='_rdn_1',  # name the run\n",
    "                         init_model_filesuffix='_spinup_historical',\n",
    "                        );"
   ],
   "outputs": [],
   "execution_count": null
  },
  {
   "cell_type": "markdown",
   "id": "0ef487f6-f9d5-430b-800b-2ae58e8950ed",
   "metadata": {},
   "source": [
    "### create the corresponding random mass balance model(MB model) of the run above, so that the iOGGM run can be forced with same random MB model"
   ]
  },
  {
   "cell_type": "code",
   "id": "15c268d5-c325-40ac-9092-51726cca36df",
   "metadata": {},
   "source": [
    "mb_rand = massbalance.RandomMassBalance(gdir,\n",
    "                                   y0=2009, halfsize=10, # Climate of 1999-2019\n",
    "                                   seed=1,  # Change for another randomness\n",
    "                                   )"
   ],
   "outputs": [],
   "execution_count": null
  },
  {
   "cell_type": "code",
   "id": "b7012c82-1d04-47a2-aeba-0a1076fdb3dd",
   "metadata": {},
   "source": [
    "with xr.open_dataset(gdir.get_filepath('gridded_data')) as gd:\n",
    "    gd = gd.load()\n",
    "\n",
    "# set values outside the glacier to np.nan\n",
    "# using the glacier mask, as otherwise there is more ice from surrounding glaciers in the domain, \n",
    "# which shouldn't accumulate more ice, still adds to the total volume/area of the domain.. either mask it out beforehand or before doing plots.\n",
    "# experiment with it: does the mass outside of the mask only decrease? => ?\n",
    "gd['cook23_thk_masked'] = xr.where(gd.glacier_mask, gd.cook23_thk, np.nan)\n",
    "\n"
   ],
   "outputs": [],
   "execution_count": null
  },
  {
   "cell_type": "code",
   "id": "be1da051-7416-4011-b25f-83212852aaea",
   "metadata": {},
   "source": [
    "bed_con = gd.topo - gd.consensus_ice_thickness.fillna(0)\n",
    "bed_cook_masked = gd.topo - gd.cook23_thk_masked.fillna(0)\n",
    "bed_cook = gd.topo - gd.cook23_thk"
   ],
   "outputs": [],
   "execution_count": null
  },
  {
   "cell_type": "markdown",
   "id": "112b3242-5d8c-4860-9117-99946ea5d59e",
   "metadata": {},
   "source": [
    "### Running the iOGGM from the consensus ice thickness (Farinotti et al. 2019)\n",
    "#### once with random and once with GCM climate(this is not working yet)"
   ]
  },
  {
   "cell_type": "code",
   "id": "dc87b882-e222-49f7-a3e7-994f93b19982",
   "metadata": {},
   "source": [
    "############################### OGGM-IGM - CONSENSUS - RANDOM CLIMATE\n",
    "from igm.instructed_oggm import IGM_Model2D\n",
    "\n",
    "sdmodel_igm_con_rnd = IGM_Model2D(bed_con.values, init_ice_thick=gd.consensus_ice_thickness.fillna(0).values, \n",
    "                     dx=gdir.grid.dx, dy=gdir.grid.dy, x=bed_con.x, y=bed_con.y, mb_model=mb_rand, \n",
    "                        y0=0., mb_filter=gd.glacier_mask.values==1)\n",
    "\n",
    "dsr_igm_con_rnd = sdmodel_igm_con_rnd.run_until_and_store(100, grid=gdir.grid)"
   ],
   "outputs": [],
   "execution_count": null
  },
  {
   "cell_type": "code",
   "id": "a81c659c-95fe-4748-9a17-e2e4cd138a48",
   "metadata": {
    "scrolled": true
   },
   "source": [
    "############################### OGGM-IGM - CONSENSUS - GCM CLIMATE\n",
    "from igm.instructed_oggm import IGM_Model2D\n",
    "\n",
    "# sdmodel_igm_con_gcm = IGM_Model2D(bed_con.values, init_ice_thick=gd.consensus_ice_thickness.fillna(0).values, \n",
    "#                      dx=gdir.grid.dx, dy=gdir.grid.dy, x=bed_con.x, y=bed_con.y, mb_model=mb_gcm, \n",
    "#                         y0=gdir.rgi_date, mb_filter=gd.glacier_mask.values==1)\n",
    "# \n",
    "# dsr_igm_con_gcm = sdmodel_igm_con_gcm.run_until_and_store(2103, grid=gdir.grid)"
   ],
   "outputs": [],
   "execution_count": null
  },
  {
   "cell_type": "markdown",
   "id": "9b34f39a-c08f-4c68-a91c-878817bfdfd9",
   "metadata": {},
   "source": [
    "### Running the iOGGM from the Cook et al. 2023 ice thickness product\n",
    "#### once with random and once with GCM climate(this is not working yet)"
   ]
  },
  {
   "cell_type": "code",
   "id": "bea73cac-b309-48a3-8316-ef22da4c04fd",
   "metadata": {},
   "source": [
    "############################### OGGM-IGM - COOK_23 - RANDOM CLIMATE\n",
    "sdmodel_igm_cook_rnd = IGM_Model2D(bed_cook_masked.values, init_ice_thick=gd.cook23_thk_masked.fillna(0).values, \n",
    "                     dx=gdir.grid.dx, dy=gdir.grid.dy, x=bed_cook_masked.x, y=bed_cook_masked.y, mb_model=mb_rand, \n",
    "                        y0=0., mb_filter=gd.glacier_mask.values==1)\n",
    "\n",
    "dsr_igm_cook_rnd = sdmodel_igm_cook_rnd.run_until_and_store(100, grid=gdir.grid)"
   ],
   "outputs": [],
   "execution_count": null
  },
  {
   "cell_type": "code",
   "id": "b6f695c5-624a-40b4-8cc1-1a2c1823c723",
   "metadata": {
    "scrolled": true
   },
   "source": [
    "############################### OGGM-IGM - COOK_23 - GCM CLIMATE\n",
    "# sdmodel_igm_cook_gcm = IGM_Model2D(bed_cook_masked.values, init_ice_thick=gd.cook23_thk_masked.fillna(0).values, \n",
    "#                      dx=gdir.grid.dx, dy=gdir.grid.dy, x=bed_cook_masked.x, y=bed_cook_masked.y, mb_model=mb_gcm, \n",
    "#                         y0=gdir.rgi_date, mb_filter=gd.glacier_mask.values==1)\n",
    "# \n",
    "# dsr_igm_cook_gcm = sdmodel_igm_cook_gcm.run_until_and_store(2103, grid=gdir.grid)"
   ],
   "outputs": [],
   "execution_count": null
  },
  {
   "cell_type": "markdown",
   "id": "3a8cb2f2-0a6d-4746-897d-9804742c5058",
   "metadata": {},
   "source": [
    "## load the data from disk for plotting"
   ]
  },
  {
   "cell_type": "code",
   "id": "baafa06e-7e78-45b0-8756-bcb768f8803c",
   "metadata": {},
   "source": [
    "with xr.open_dataset(gdir.get_filepath('fl_diagnostics', filesuffix='_ISIMIP3b_mri-esm2-0_r1i1p1f1_ssp370'), group=f'fl_0') as ds_gcm:\n",
    "    ds_gcm = ds_gcm.load()"
   ],
   "outputs": [],
   "execution_count": null
  },
  {
   "cell_type": "code",
   "id": "f5c4752d-bd71-4276-a7fb-087d87754b62",
   "metadata": {},
   "source": [
    "with xr.open_dataset(gdir.get_filepath('fl_diagnostics', filesuffix='_rdn_1'), group=f'fl_0') as ds_rnd:\n",
    "    ds_rnd = ds_rnd.load()"
   ],
   "outputs": [],
   "execution_count": null
  },
  {
   "cell_type": "code",
   "id": "8a510d52-3178-4389-a933-f1eeab96aa13",
   "metadata": {},
   "source": [
    "with xr.open_dataset(gdir.get_filepath('fl_diagnostics', filesuffix='_spinup_historical'), group=f'fl_0') as spinup:\n",
    "    spinup = spinup.load()\n"
   ],
   "outputs": [],
   "execution_count": null
  },
  {
   "cell_type": "markdown",
   "id": "b2a8e740-dc19-4ebc-a6d7-8934d568efe1",
   "metadata": {},
   "source": [
    "#### adapt starting date for the random runs"
   ]
  },
  {
   "cell_type": "code",
   "id": "982f1599-140c-4031-85bb-4d2073b95008",
   "metadata": {},
   "source": [
    "for df in [ds_rnd, dsr_igm_con_rnd, dsr_igm_cook_rnd]:\n",
    "    df.coords['time'] = df.coords['time'] + gdir.rgi_date\n",
    "ds_rnd.coords['time'] =  ds_rnd.coords['time'] + (int(spinup.coords['time'][-1])-gdir.rgi_date) + 1"
   ],
   "outputs": [],
   "execution_count": null
  },
  {
   "cell_type": "code",
   "id": "0d431f9c-6c24-4b6c-b504-401ebf8f72bc",
   "metadata": {},
   "source": [
    "# just for showing how the ice evolution is outside of the actual glacier domain. should be constantly decreasing due to the mb_filter\n",
    "# glacier_mask = gd.glacier_mask.expand_dims(time=dsr_igm_cook.time)\n",
    "# dsr_igm_cook['inverted_masked_ice_thickness'] = dsr_igm_cook.ice_thickness.where(~glacier_mask)"
   ],
   "outputs": [],
   "execution_count": null
  },
  {
   "cell_type": "code",
   "id": "95673069-dbd7-4bbd-9438-09d2c1ad1817",
   "metadata": {},
   "source": [
    "ds_rnd"
   ],
   "outputs": [],
   "execution_count": null
  },
  {
   "cell_type": "markdown",
   "id": "273784aa-3497-4934-b958-f07c98dd6222",
   "metadata": {},
   "source": [
    "### Volume plot"
   ]
  },
  {
   "cell_type": "code",
   "id": "19635436-d520-468b-9637-cae49ee588dc",
   "metadata": {},
   "source": [
    "# comparison plots\n",
    "# OGGM Flowline\n",
    "(ds_gcm.volume_m3.sum(dim=['dis_along_flowline'])*1e-9).plot(label='OGGM-Flowline - ISIMIP - ssp370');\n",
    "(ds_rnd.volume_m3.sum(dim=['dis_along_flowline'])*1e-9).plot(label='OGGM-Flowline - RAND_CLIM');\n",
    "(spinup.volume_m3.sum(dim=['dis_along_flowline'])*1e-9).plot(label='OGGM-Flowline - SPINUP', color='navy');\n",
    "\n",
    "# IGM (from consensus volume)\n",
    "(dsr_igm_con_rnd.ice_thickness.sum(dim=['x', 'y'])*gdir.grid.dx**2*1e-9).plot(label='OGGM-IGM - CONSENSUS - RAND_CLIM');\n",
    "# (dsr_igm_con_gcm.ice_thickness.sum(dim=['x', 'y'])*gdir.grid.dx**2*1e-9).plot(label='OGGM-IGM - CONSENSUS - ISIMIP - ssp370');\n",
    "\n",
    "# IGM (from cook23 volume)\n",
    "(dsr_igm_cook_rnd.ice_thickness.sum(dim=['x', 'y'])*gdir.grid.dx**2*1e-9).plot(label='OGGM-IGM - COOK - RAND_CLIM');\n",
    "# (dsr_igm_cook_gcm.ice_thickness.sum(dim=['x', 'y'])*gdir.grid.dx**2*1e-9).plot(label='OGGM-IGM - COOK - ISIMIP - ssp370');\n",
    "\n",
    "plt.ylabel('VOLUME in km^3')\n",
    "plt.xlabel('YEAR')\n",
    "plt.title('Volume evolution comparison of different model runs\\n OGGM(+dynamic spinup) and IGM');\n",
    "# plt.xlim(2000, 2030)\n",
    "# plt.ylim(8, 15)\n",
    "plt.legend();"
   ],
   "outputs": [],
   "execution_count": null
  },
  {
   "cell_type": "markdown",
   "id": "57496b91-ef15-478c-94e7-782e0d1c8477",
   "metadata": {},
   "source": [
    "### volume plot cropped"
   ]
  },
  {
   "cell_type": "code",
   "id": "0497ca83-6a17-4358-aae4-ce7ecdedc52d",
   "metadata": {},
   "source": [
    "# comparison plots\n",
    "# OGGM Flowline\n",
    "(ds_gcm.volume_m3.sum(dim=['dis_along_flowline'])*1e-9).plot(label='OGGM-Flowline - ISIMIP - ssp370');\n",
    "(ds_rnd.volume_m3.sum(dim=['dis_along_flowline'])*1e-9).plot(label='OGGM-Flowline - RAND_CLIM');\n",
    "(spinup.volume_m3.sum(dim=['dis_along_flowline'])*1e-9).plot(label='OGGM-Flowline - SPINUP', color='navy');\n",
    "\n",
    "# IGM (from consensus volume)\n",
    "(dsr_igm_con_rnd.ice_thickness.sum(dim=['x', 'y'])*gdir.grid.dx**2*1e-9).plot(label='OGGM-IGM - CONSENSUS - RAND_CLIM');\n",
    "# (dsr_igm_con_gcm.ice_thickness.sum(dim=['x', 'y'])*gdir.grid.dx**2*1e-9).plot(label='OGGM-IGM - CONSENSUS - ISIMIP - ssp370');\n",
    "\n",
    "# IGM (from cook23 volume)\n",
    "(dsr_igm_cook_rnd.ice_thickness.sum(dim=['x', 'y'])*gdir.grid.dx**2*1e-9).plot(label='OGGM-IGM - COOK - RAND_CLIM');\n",
    "# (dsr_igm_cook_gcm.ice_thickness.sum(dim=['x', 'y'])*gdir.grid.dx**2*1e-9).plot(label='OGGM-IGM - COOK - ISIMIP - ssp370');\n",
    "\n",
    "# rgi date\n",
    "plt.axvline(x=2003, color='navy', linestyle=':', label='RGI-date')\n",
    "plt.text(2003.1, 0, 'RGI-date', rotation=90, verticalalignment='bottom', color='navy')\n",
    "plt.ylabel('VOLUME in km^3')\n",
    "plt.xlabel('YEAR')\n",
    "\n",
    "plt.xlim(1999, 2030)\n",
    "# plt.ylim()\n",
    "plt.title('Volume evolution comparison of different model runs\\n OGGM(+dynamic spinup) and IGM');\n",
    "# plt.xlim(2000, 2030)\n",
    "# plt.ylim(8, 15)\n",
    "plt.legend();"
   ],
   "outputs": [],
   "execution_count": null
  },
  {
   "cell_type": "code",
   "id": "c19e999f-cf3d-48cc-973b-86cd008214c4",
   "metadata": {
    "scrolled": true
   },
   "source": [
    "(spinup.area_m2.sum(dim=['dis_along_flowline'])*1e-6).plot(label='OGGM-Flowline - SPINUP', color='navy');\n",
    "(ds_gcm.area_m2.sum(dim=['dis_along_flowline'])*1e-6).plot(label='OGGM-Flowline - ISIMIP - ssp370');\n",
    "(ds_rnd.area_m2.sum(dim=['dis_along_flowline'])*1e-6).plot(label='OGGM-Flowline - RAND_CLIM');\n",
    "\n",
    "\n",
    "((dsr_igm_con_rnd.ice_thickness > 1).sum(dim=['x', 'y']) *gdir.grid.dx**2*1e-6).plot(label='OGGM-IGM - CONSENSUS- RAND_CLIM');\n",
    "# ((dsr_igm_con_gcm.ice_thickness > 1).sum(dim=['x', 'y']) *gdir.grid.dx**2*1e-6).plot(label='OGGM-IGM - CONSENSUS - ISIMIP - ssp370');\n",
    "((dsr_igm_cook_rnd.ice_thickness > 1).sum(dim=['x', 'y']) *gdir.grid.dx**2*1e-6).plot(label='OGGM-IGM - COOK - RAND_CLIM');\n",
    "# ((dsr_igm_cook_gcm.inverted_masked_ice_thickness > 1).sum(dim=['x', 'y']) *gdir.grid.dx**2*1e-6).plot(label='OGGM-IGM_COOK_outside_glaicer');\n",
    "plt.ylabel('AREA in km^2')\n",
    "plt.xlabel('YEAR')\n",
    "# plt.xlim(2000, 2030)\n",
    "# plt.ylim(75, 90)\n",
    "plt.legend();\n"
   ],
   "outputs": [],
   "execution_count": null
  }
 ],
 "metadata": {
  "kernelspec": {
   "display_name": "Python 3 (ipykernel)",
   "language": "python",
   "name": "python3"
  },
  "language_info": {
   "codemirror_mode": {
    "name": "ipython",
    "version": 3
   },
   "file_extension": ".py",
   "mimetype": "text/x-python",
   "name": "python",
   "nbconvert_exporter": "python",
   "pygments_lexer": "ipython3",
   "version": "3.10.10"
  }
 },
 "nbformat": 4,
 "nbformat_minor": 5
}
