{
 "cells": [
  {
   "cell_type": "markdown",
   "id": "0",
   "metadata": {},
   "source": [
    "# Step-by-Step guide to building preprocessed directories from scratch"
   ]
  },
  {
   "cell_type": "markdown",
   "id": "1",
   "metadata": {},
   "source": [
    "This guide is for anyone who wants to learn how to start from scratch with building preprocessed directories, the same way OGGM does for its users. You might even use your own data. This tutorial assumes you are already familiar with OGGM basics. We won't go into every little detail here, but you'll find links for more information if you're interested.\n",
    "\n",
    "We've structured the guide into five main sections, each dedicated to a different level of preprocessing. At the beginning of each section, we'll outline the tasks to be performed, the data we'll use, and provide links to related tutorials. Additionally, at the end of each section, we'll share a corresponding `prepro_base_url`. This URL allows you to start directly at that level with everything pre-setup, bypassing the need to complete the earlier steps. Plus, in the tutorial [storing glacier directories for later use](store_and_compress_glacierdirs.ipynb), we show you how to save your work. This way, you don't have to redo everything from the beginning every time (many steps only need to be done once).\n",
    "\n",
    "**Tags:** advanced, glacier-directory, workflow\n",
    "\n",
    "Tip: There's a lot to learn here. If you're curious about a specific function and want to know more, just add a question mark (?) right after it, and you'll see more details."
   ]
  },
  {
   "cell_type": "code",
   "execution_count": null,
   "id": "2",
   "metadata": {
    "tags": []
   },
   "outputs": [],
   "source": [
    "# Example: Getting help on the Python function 'print'\n",
    "print?"
   ]
  },
  {
   "cell_type": "markdown",
   "id": "3",
   "metadata": {},
   "source": [
    "## Set-up\n",
    "\n",
    "First, let's get everything ready to go. Here's how we'll do it:\n",
    "\n",
    "1. Import Functions: We'll start by importing the functions we need. Depending on which preprocessed level you're working with, you might not need all of them.\n",
    "2. Initialize OGGM: Next, we'll set up OGGM and choose where we want to save our work (defining the working directory). \n",
    "3. Choose a Glacier: Lastly, we'll pick one glacier to focus on as our example.\n",
    "\n",
    "Remember, these steps are important no matter which level you're starting from!"
   ]
  },
  {
   "cell_type": "code",
   "execution_count": null,
   "id": "4",
   "metadata": {
    "tags": []
   },
   "outputs": [],
   "source": [
    "from oggm import cfg, utils, workflow, tasks, DEFAULT_BASE_URL\n",
    "\n",
    "import geopandas as gpd\n",
    "import numpy as np\n",
    "import os"
   ]
  },
  {
   "cell_type": "code",
   "execution_count": null,
   "id": "5",
   "metadata": {
    "tags": []
   },
   "outputs": [],
   "source": [
    "# we always need to initialzie and define a working directory\n",
    "cfg.initialize(logging_level='WARNING')\n",
    "cfg.PATHS['working_dir'] = utils.gettempdir(dirname='OGGM-full_prepro_elevation_bands', reset=True)"
   ]
  },
  {
   "cell_type": "code",
   "execution_count": null,
   "id": "6",
   "metadata": {
    "tags": []
   },
   "outputs": [],
   "source": [
    "# Our example glacier\n",
    "rgi_ids = ['RGI60-11.00897']  # Hintereisferner\n",
    "rgi_region = '11'  # this must fit to example glacier(s), if starting from level 0"
   ]
  },
  {
   "cell_type": "code",
   "execution_count": null,
   "id": "7",
   "metadata": {
    "tags": []
   },
   "outputs": [],
   "source": [
    "# This section is only for future developments of the tutorial (e.g. updateing for new OGGM releases)\n",
    "# Test if prepro_base_url valid for both flowline_type_to_use, see level 2.\n",
    "# In total four complete executions of the notebook:\n",
    "# (load_from_prepro_base_url=False/True and flowline_type_to_use = 'elevation_band'/'centerline')\n",
    "load_from_prepro_base_url = False"
   ]
  },
  {
   "cell_type": "markdown",
   "id": "8",
   "metadata": {},
   "source": [
    "## Level 0\n",
    "\n",
    "Tasks:\n",
    "- Define the `rgi_id` for your glacier directory `gdir`.\n",
    "- Define the map projection of the glacier directory\n",
    "- Add an outline of the glacier.\n",
    "- Optionally add intersects to other outlines.\n",
    "   \n",
    "Data used:\n",
    "- Glacier outline\n",
    "- Optionally intersects\n",
    "\n",
    "Related Tutorials:\n",
    "- [working_with_rgi](working_with_rgi.ipynb) will show you how to read glacier outline files and prepare them for a run\n",
    "- [use_your_own_inventory](use_your_own_inventory.ipynb): Use custom glacier inventories with OGGM"
   ]
  },
  {
   "cell_type": "markdown",
   "id": "9",
   "metadata": {},
   "source": [
    "<div class=\"alert alert-danger\">\n",
    "    <b> CAUTION: </b>\n",
    "        When using your own glacier outlines, it's important to note that OGGM relies on the defined RGI_ID to fetch calibration data from global datasets, which are tailored to the RGI outlines. If your glacier's outline significantly deviates from its RGI counterpart, this could introduce errors, potentially large or small, into your model's results. Ideally, you should provide your own calibration data for custom outlines or, at the very least, be mindful of the discrepancies this might cause.\n",
    "    \n",
    "</div>"
   ]
  },
  {
   "cell_type": "code",
   "execution_count": null,
   "id": "10",
   "metadata": {
    "tags": []
   },
   "outputs": [],
   "source": [
    "# load all RGI outlines for our region and extract the example glaciers\n",
    "rgidf = gpd.read_file(utils.get_rgi_region_file(rgi_region, version='62'))\n",
    "rgidf = rgidf[np.isin(rgidf.RGIId, rgi_ids)]\n",
    "\n",
    "# We also take care of intersects for this RGI version\n",
    "cfg.set_intersects_db(utils.get_rgi_intersects_region_file(rgi_region, version='62'))\n",
    "\n",
    "# set the used projection used for gdir, options 'tmerc' or 'utm'\n",
    "cfg.PARAMS['map_proj'] = cfg.PARAMS['map_proj']  # default is 'tmerc'\n",
    "\n",
    "gdirs = workflow.init_glacier_directories(rgidf, reset=True, force=True)"
   ]
  },
  {
   "cell_type": "code",
   "execution_count": null,
   "id": "11",
   "metadata": {},
   "outputs": [],
   "source": [
    "# Instruction for beginning with existing OGGM's preprocessed directories\n",
    "if load_from_prepro_base_url:\n",
    "    # to start from level 0 you can do\n",
    "    prepro_base_url_L0 = 'https://cluster.klima.uni-bremen.de/~oggm/gdirs/oggm_v1.6/L1-L2_files/elev_bands/'\n",
    "    gdirs = workflow.init_glacier_directories(rgi_ids,\n",
    "                                              from_prepro_level=0,\n",
    "                                              prepro_base_url=prepro_base_url_L0,\n",
    "                                              prepro_border=80,  # could be 10, 80, 160 or 240\n",
    "                                              reset=True,\n",
    "                                              force=True,\n",
    "                                             )"
   ]
  },
  {
   "cell_type": "markdown",
   "id": "12",
   "metadata": {},
   "source": [
    "## Level 1\n",
    "\n",
    "Tasks:\n",
    "- Define the border around the outline.\n",
    "- Define the local grid resolution, which will also set the resolution for the flowlines.\n",
    "- Add the digital elevation model DEM.\n",
    "- Set up a local grid for each `gdir`.\n",
    "\n",
    "Data used:\n",
    "- DEM file\n",
    "\n",
    "Related Tutorials:\n",
    "- [dem_sources](dem_sources.ipynb): Create local topography maps from different DEM sources with OGGM\n",
    "- [rgitopo_rgi6](rgitopo_rgi6.ipynb): RGI-TOPO for RGI v6.0"
   ]
  },
  {
   "cell_type": "markdown",
   "id": "13",
   "metadata": {},
   "source": [
    "<div class=\"alert alert-info\">\n",
    "        Please note that registration may be required to access some of the DEM sources. For more information, refer to the <a href=\"https://oggm.org/tutorials/master/notebooks/tutorials/dem_sources.html#register-for-online-datasets\">dem_sources tutorial</a>.\n",
    "</div>"
   ]
  },
  {
   "cell_type": "code",
   "execution_count": null,
   "id": "14",
   "metadata": {
    "tags": []
   },
   "outputs": [],
   "source": [
    "# define the border, we keep the default here\n",
    "cfg.PARAMS['border'] = cfg.PARAMS['border']\n",
    "\n",
    "# set the method for determining the local grid resolution\n",
    "cfg.PARAMS['grid_dx_method'] = cfg.PARAMS['grid_dx_method']  # The default method is 'square', which determines the grid spacing (dx) based on the glacier's outline area.\n",
    "cfg.PARAMS['fixed_dx'] = cfg.PARAMS['fixed_dx']  # This allows setting a specific resolution in meters. It's applicable only when grid_dx_method is set to 'fixed'.\n",
    "\n",
    "# set the DEM source to use\n",
    "source = 'COPDEM90'  # we use COPDEM here\n",
    "\n",
    "# this task adds the DEM and defines the local grid\n",
    "workflow.execute_entity_task(tasks.define_glacier_region, \n",
    "                             gdirs,\n",
    "                             source=source);"
   ]
  },
  {
   "cell_type": "code",
   "execution_count": null,
   "id": "15",
   "metadata": {
    "tags": []
   },
   "outputs": [],
   "source": [
    "# Instruction for beginning with existing OGGM's preprocessed directories\n",
    "if load_from_prepro_base_url:\n",
    "    # to start from level 1 you can do\n",
    "    prepro_base_url_L1 = 'https://cluster.klima.uni-bremen.de/~oggm/gdirs/oggm_v1.6/L1-L2_files/elev_bands/'\n",
    "    gdirs = workflow.init_glacier_directories(rgi_ids,\n",
    "                                              from_prepro_level=1,\n",
    "                                              prepro_base_url=prepro_base_url_L1,\n",
    "                                              prepro_border=80,  # could be 10, 80, 160 or 240\n",
    "                                              reset=True,\n",
    "                                              force=True,\n",
    "                                             )"
   ]
  },
  {
   "cell_type": "markdown",
   "id": "16",
   "metadata": {},
   "source": [
    "## Level 2\n",
    "\n",
    "Tasks:\n",
    "- Choose the type of flowline to use.\n",
    "- Create the flowlines surface structure, including surface height and width.\n",
    "- Create the downstream flowline, which starts from the glacier's terminus and extends downstream.\n",
    "- Optionally you can bring in extra data from the OGGM-shop and bin it to the elevation band flowline.\n",
    "\n",
    "Data used:\n",
    "- Outline\n",
    "- DEM\n",
    "- Optional: additional datasets\n",
    "\n",
    "Related Tutorials:\n",
    "- [elevation_bands_vs_centerlines](elevation_bands_vs_centerlines.ipynb): Differences between \"elevation band\" and \"centerline\" flowlines\n",
    "- [numeric_solvers](numeric_solvers.ipynb): Understand the difference between the ice dynamic solvers in OGGM\n",
    "- [oggm_shop](oggm_shop.ipynb): OGGM-Shop and Glacier Directories in OGGM\n",
    "- [ingest_gridded_data_on_flowlines](ingest_gridded_data_on_flowlines.ipynb): ingest gridded products such as ice velocity into OGGM (and compare them with model output)"
   ]
  },
  {
   "cell_type": "markdown",
   "id": "17",
   "metadata": {},
   "source": [
    "<div class=\"alert alert-info\">\n",
    "        Starting from this point, it's important to choose the prepro_base_url based on the type of flowline you're working with (see end of this chapter).\n",
    "</div>"
   ]
  },
  {
   "cell_type": "code",
   "execution_count": null,
   "id": "18",
   "metadata": {
    "tags": []
   },
   "outputs": [],
   "source": [
    "flowline_type_to_use = 'elevation_band'  # you can also select 'centerline' here\n",
    "\n",
    "if flowline_type_to_use == 'elevation_band':\n",
    "    elevation_band_task_list = [\n",
    "        tasks.simple_glacier_masks,\n",
    "        tasks.elevation_band_flowline,\n",
    "        tasks.fixed_dx_elevation_band_flowline,\n",
    "        tasks.compute_downstream_line,\n",
    "        tasks.compute_downstream_bedshape,\n",
    "    ]\n",
    "\n",
    "    for task in elevation_band_task_list:\n",
    "        workflow.execute_entity_task(task, gdirs);\n",
    "\n",
    "elif flowline_type_to_use == 'centerline':\n",
    "    # for centerline we can use parabola downstream line\n",
    "    cfg.PARAMS['downstream_line_shape'] = 'parabola'\n",
    "\n",
    "    centerline_task_list = [\n",
    "        tasks.glacier_masks,\n",
    "        tasks.compute_centerlines,\n",
    "        tasks.initialize_flowlines,\n",
    "        tasks.catchment_area,\n",
    "        tasks.catchment_intersections,\n",
    "        tasks.catchment_width_geom,\n",
    "        tasks.catchment_width_correction,\n",
    "        tasks.compute_downstream_line,\n",
    "        tasks.compute_downstream_bedshape,\n",
    "    ]\n",
    "\n",
    "    for task in centerline_task_list:\n",
    "        workflow.execute_entity_task(task, gdirs);\n",
    "    \n",
    "else:\n",
    "    raise ValueError(f\"Unknown flowline type '{flowline_type_to_use}'! Select 'elevation_band' or 'centerline'!\")"
   ]
  },
  {
   "cell_type": "code",
   "execution_count": null,
   "id": "19",
   "metadata": {
    "tags": []
   },
   "outputs": [],
   "source": [
    "# Instruction for beginning with existing OGGM's preprocessed directories\n",
    "if load_from_prepro_base_url:\n",
    "    # to start from level 2 we need to distinguish between the flowline types\n",
    "    if flowline_type_to_use == 'elevation_band':\n",
    "        prepro_base_url_L2 = 'https://cluster.klima.uni-bremen.de/~oggm/gdirs/oggm_v1.6/L1-L2_files/2023.2/elev_bands_w_data/'\n",
    "    elif flowline_type_to_use == 'centerline':\n",
    "        prepro_base_url_L2 = 'https://cluster.klima.uni-bremen.de/~oggm/gdirs/oggm_v1.6/L1-L2_files/centerlines/'\n",
    "    else:\n",
    "        raise ValueError(f\"Unknown flowline type '{flowline_type_to_use}'! Select 'elevation_band' or 'centerline'!\")\n",
    "\n",
    "    gdirs = workflow.init_glacier_directories(rgi_ids,\n",
    "                                              from_prepro_level=2,\n",
    "                                              prepro_base_url=prepro_base_url_L2,\n",
    "                                              prepro_border=80,  # could be 10, 80, 160 or 240\n",
    "                                              reset=True,\n",
    "                                              force=True,\n",
    "                                             )"
   ]
  },
  {
   "cell_type": "markdown",
   "id": "20",
   "metadata": {},
   "source": [
    "## Level 3\n",
    "\n",
    "Tasks:\n",
    "\n",
    "- Add baseline climate data to gdir.\n",
    "- Calibrate the mass balance model statically (without considering glacier dynamics) using geodetic observations. This involves the calibration of `melt_f`, `prcp_fac` and `temp_bias`.\n",
    "- Conduct an inversion for the glacier's bed topography. Including the calibration of `glen_a` and `fs` by matching to the total volume estimate.\n",
    "- Create the dynamic flowline for dynamic simulation runs.\n",
    "\n",
    "Data used:\n",
    "\n",
    "- Climate data (default source: [GSWP3_W5E5](https://www.isimip.org/gettingstarted/input-data-bias-adjustment/details/80/))\n",
    "- Geodetic mass balance observations (default source: [Hugonnet al. 2021](https://www.nature.com/articles/s41586-021-03436-z))\n",
    "- Volume estimate (default source: [Farinotti et al. (2019)](https://www.nature.com/articles/s41561-019-0300-3))\n",
    "\n",
    "Related Tutorials:\n",
    "- [oggm_shop](oggm_shop.ipynb): OGGM-Shop and Glacier Directories in OGGM\n",
    "- [massbalance_calibration](massbalance_calibration.ipynb): A look into the new mass balance calibration in OGGM v1.6\n",
    "- [massbalance_perturbation](massbalance_perturbation.ipynb): Mass balance parameter perturbation experiments\n",
    "- [inversion](inversion.ipynb): run the OGGM ice thickness inversion model with various ice parameters"
   ]
  },
  {
   "cell_type": "markdown",
   "id": "21",
   "metadata": {},
   "source": [
    "<div class=\"alert alert-info\">\n",
    "        For the inversion, we diverge from the standard preprocessed directories when focusing on individual glaciers instead of entire regions. This is because calibrate_inversion_from_consensus adjusts glacier volume based on total regional consensus estimates, not per glacier. Since volume estimates are model-based and not directly observed, they're less reliable for individual calibration. However, for our example, we'll calibrate using the consensus estimate for a single glacier, differing from the preprocessed approach.\n",
    "</div>"
   ]
  },
  {
   "cell_type": "code",
   "execution_count": null,
   "id": "22",
   "metadata": {
    "tags": []
   },
   "outputs": [],
   "source": [
    "# define the climate data to use, we keep the default\n",
    "cfg.PARAMS['baseline_climate'] = cfg.PARAMS['baseline_climate']\n",
    "\n",
    "# add climate data to gdir\n",
    "workflow.execute_entity_task(tasks.process_climate_data, gdirs);\n",
    "\n",
    "# the default mb calibration\n",
    "workflow.execute_entity_task(tasks.mb_calibration_from_geodetic_mb,\n",
    "                             gdirs,\n",
    "                             informed_threestep=True,  # only available for 'GSWP3_W5E5'\n",
    "                            );\n",
    "\n",
    "# glacier bed inversion\n",
    "workflow.execute_entity_task(tasks.apparent_mb_from_any_mb, gdirs);\n",
    "workflow.calibrate_inversion_from_consensus(\n",
    "    gdirs,\n",
    "    apply_fs_on_mismatch=True,\n",
    "    error_on_mismatch=True,  # if you running many glaciers some might not work\n",
    "    filter_inversion_output=True,  # this partly filters the overdeepening due to\n",
    "    # the equilibrium assumption for retreating glaciers (see. Figure 5 of Maussion et al. 2019)\n",
    "    volume_m3_reference=None,  # here you could provide your own total volume estimate in m3\n",
    ");\n",
    "\n",
    "# finally create the dynamic flowlines\n",
    "workflow.execute_entity_task(tasks.init_present_time_glacier, gdirs);"
   ]
  },
  {
   "cell_type": "markdown",
   "id": "23",
   "metadata": {},
   "source": [
    "**Guidance on utilizing various baseline climates:**\n",
    "\n",
    "Currently, OGGM supports a variety of baseline climates, including 'CRU', 'HISTALP', 'W5E5', 'GSWP3_W5E5' (the default), 'ERA5', 'ERA5L', 'CERA', 'ERA5dr', and 'ERA5L-HMA'. Although switching between these datasets is straightforward, calibrating the mass balance model according to each dataset is more complex. For instance, you'll need to choose a default precipitation factor that suits both your selected climate dataset and your specific region. Additionally, you must determine the best method to calibrate the mass balance parameters. For a comprehensive guide on the available options, explanations, and how to incorporate your own geodetic observations, please refer to the tutorial [massbalance_calibration](massbalance_calibration.ipynb).\n",
    "\n",
    "Here's an example of using the ERA5 dataset:\n",
    "\n",
    "```python\n",
    "# define the baseline climate and add it\n",
    "cfg.PARAMS['baseline_climate'] = 'ERA5'\n",
    "workflow.execute_entity_task(tasks.process_climate_data, gdirs);\n",
    "\n",
    "# define the default precipitation factor\n",
    "cfg.PARAMS['prcp_fac'] = 1.6  # Note: This is not a universial value!\n",
    "cfg.PARAMS['use_winter_prcp_fac'] = False  # This option is only available for 'GSWP3_W5E5'\n",
    "cfg.PARAMS['use_temp_bias_from_file'] = False  # This option is only available for 'GSWP3_W5E5'\n",
    "\n",
    "# an example of static calibration for mass balance, more options are available in the tutorial\n",
    "workflow.execute_entity_task(tasks.mb_calibration_from_geodetic_mb,\n",
    "                             gdirs,\n",
    "                             calibrate_param1='melt_f',\n",
    "                             calibrate_param2='prcp_fac',\n",
    "                             calibrate_param3='temp_bias')\n",
    "```\n",
    "\n",
    "You can also utilize your own climate data. However, you will need to either convert your data into a specific format (for an example, see https://github.com/OGGM/oggm-sample-data ->test-files/histalp_merged_hef.nc) or create your own `tasks.process_climate_data` function. Here's how you might do this:\n",
    "\n",
    "```python\n",
    "cfg.PARAMS['baseline_climate'] = 'CUSTOM'\n",
    "cfg.PATHS['climate_file'] = path_to_the_climate_file\n",
    "\n",
    "workflow.execute_entity_task(tasks.process_climate_data, gdirs);\n",
    "\n",
    "# proceed with defining the default precipitation factor and mass balance calibration as shown above\n",
    "```"
   ]
  },
  {
   "cell_type": "code",
   "execution_count": null,
   "id": "24",
   "metadata": {
    "tags": []
   },
   "outputs": [],
   "source": [
    "# Instruction for beginning with existing OGGM's preprocessed directories\n",
    "if load_from_prepro_base_url:\n",
    "    # to start from level 3 you can do\n",
    "    if flowline_type_to_use == 'elevation_band':\n",
    "        prepro_base_url_L3 = 'https://cluster.klima.uni-bremen.de/~oggm/gdirs/oggm_v1.6/L3-L5_files/2023.3/elev_bands/W5E5/'\n",
    "    elif flowline_type_to_use == 'centerline':\n",
    "        prepro_base_url_L3 = 'https://cluster.klima.uni-bremen.de/~oggm/gdirs/oggm_v1.6/L3-L5_files/2023.3/centerlines/W5E5/'\n",
    "    else:\n",
    "        raise ValueError(f\"Unknown flowline type '{flowline_type_to_use}'! Select 'elevation_band' or 'centerline'!\")\n",
    "\n",
    "    gdirs = workflow.init_glacier_directories(rgi_ids,\n",
    "                                              from_prepro_level=3,\n",
    "                                              prepro_base_url=prepro_base_url_L3,\n",
    "                                              prepro_border=80,  # could be 80 or 160\n",
    "                                              reset=True,\n",
    "                                              force=True,\n",
    "                                             )"
   ]
  },
  {
   "cell_type": "markdown",
   "id": "25",
   "metadata": {},
   "source": [
    "## Level 4\n",
    "\n",
    "Tasks:\n",
    "- Initialize the current state of the glacier without a dynamic spinup. This method, default until version 1.6., is mainly for comparison purposes and can often be skipped.\n",
    "- Initialize the current glacier state with a dynamic spinup. This process includes a dynamic calibration of the mass balance. It's important to note that this option isn't available for centerlines in the current OGGM preprocessed directories, meaning it hasn't been tested or analyzed.\n",
    "\n",
    "Data used:\n",
    "- Geodetic mass balance observations (default source: [Hugonnet al. 2021](https://www.nature.com/articles/s41586-021-03436-z))\n",
    "\n",
    "Related Tutorials:\n",
    "- 10 minutes to... [the new dynamical spinup in OGGM v1.6](../10minutes/dynamical_spinup.ipynb)\n",
    "- [dynamical_spinup](dynamical_spinup.ipynb): a deeper dive into the dynamical spinup for past simulations\n",
    "- [numeric_solvers](numeric_solvers.ipynb): Understand the difference between the ice dynamic solvers in OGGM"
   ]
  },
  {
   "cell_type": "code",
   "execution_count": null,
   "id": "26",
   "metadata": {},
   "outputs": [],
   "source": [
    "# set the ice dynamic solver depending on the flowline-type\n",
    "if flowline_type_to_use == 'elevation_band':\n",
    "    cfg.PARAMS['evolution_model'] = 'SemiImplicit'\n",
    "elif flowline_type_to_use == 'centerline':\n",
    "    cfg.PARAMS['evolution_model'] = 'FluxBased'\n",
    "else:\n",
    "    raise ValueError(f\"Unknown flowline type '{flowline_type_to_use}'! Select 'elevation_band' or 'centerline'!\")\n",
    "\n",
    "# get the start and end year of the selected baseline\n",
    "y0 = gdirs[0].get_climate_info()['baseline_yr_0']\n",
    "ye = gdirs[0].get_climate_info()['baseline_yr_1'] + 1  # run really to the end until 1.1.\n",
    "\n",
    "# 'static' initialisation\n",
    "workflow.execute_entity_task(tasks.run_from_climate_data, gdirs,\n",
    "                             min_ys=y0, ye=ye,\n",
    "                             fixed_geometry_spinup_yr=None,  # here you could add a static spinup if you want\n",
    "                             output_filesuffix='_historical')\n",
    "\n",
    "# 'dynamic' initialisation, including dynamic mb calibration\n",
    "dynamic_spinup_start_year = 1979\n",
    "minimise_for = 'area'  # other option would be 'volume'\n",
    "workflow.execute_entity_task(\n",
    "    tasks.run_dynamic_melt_f_calibration, gdirs,\n",
    "    err_dmdtda_scaling_factor=0.2,  # by default we reduce the mass balance error for accounting for\n",
    "    # corrleated uncertainties on a regional scale\n",
    "    ys=dynamic_spinup_start_year, ye=ye,\n",
    "    kwargs_run_function={'minimise_for': minimise_for},\n",
    "    ignore_errors=True,\n",
    "    kwargs_fallback_function={'minimise_for': minimise_for},\n",
    "    output_filesuffix='_spinup_historical',\n",
    ");"
   ]
  },
  {
   "cell_type": "code",
   "execution_count": null,
   "id": "27",
   "metadata": {
    "tags": []
   },
   "outputs": [],
   "source": [
    "# Instruction for beginning with existing OGGM's preprocessed directories\n",
    "if load_from_prepro_base_url:\n",
    "    # to start from level 4 you can do\n",
    "    if flowline_type_to_use == 'elevation_band':\n",
    "        prepro_base_url_L4 = DEFAULT_BASE_URL\n",
    "    elif flowline_type_to_use == 'centerline':\n",
    "        prepro_base_url_L4 = 'https://cluster.klima.uni-bremen.de/~oggm/gdirs/oggm_v1.6/L3-L5_files/2023.3/centerlines/W5E5/'\n",
    "    else:\n",
    "        raise ValueError(f\"Unknown flowline type '{flowline_type_to_use}'! Select 'elevation_band' or 'centerline'!\")\n",
    "    gdirs = workflow.init_glacier_directories(rgi_ids,\n",
    "                                              from_prepro_level=4,\n",
    "                                              prepro_base_url=prepro_base_url_L4,\n",
    "                                              prepro_border=80,  # could be 80 or 160\n",
    "                                              reset=True,\n",
    "                                              force=True,\n",
    "                                             )"
   ]
  },
  {
   "cell_type": "markdown",
   "id": "28",
   "metadata": {},
   "source": [
    "## Level 5\n",
    "\n",
    "Tasks:\n",
    "- Retain only the data necessary for future projection runs to conserve disk space. At this stage, it's not possible to revisit the preprocessing steps from earlier levels, but all required information for conducting future projection runs is preserved.\n",
    "\n",
    "Data used:\n",
    "- No additional data is needed for this level.\n",
    "\n",
    "Related Tutorials:\n",
    "- [store_and_compress_glacierdirs](store_and_compress_glacierdirs.ipynb): storing glacier directories for later use\n"
   ]
  },
  {
   "cell_type": "code",
   "execution_count": null,
   "id": "29",
   "metadata": {
    "tags": []
   },
   "outputs": [],
   "source": [
    "mini_base_dir = os.path.join(cfg.PATHS['working_dir'],\n",
    "                             'mini_per_glacier')\n",
    "mini_gdirs = workflow.execute_entity_task(tasks.copy_to_basedir, gdirs,\n",
    "                                          base_dir=mini_base_dir,\n",
    "                                          setup='run/spinup')"
   ]
  },
  {
   "cell_type": "markdown",
   "id": "30",
   "metadata": {},
   "source": [
    "<div class=\"alert alert-info\">\n",
    "        When you're ready to access your work later, you should first remove the 'per_glacier' folder from your working directory. Then, rename the 'mini_per_glacier' folder to 'per_glacier'. Remember, proceed with these steps only if you've completed setting up your glacier directories (gdirs) and are sure you won't need to make further changes!\n",
    "</div>"
   ]
  },
  {
   "cell_type": "code",
   "execution_count": null,
   "id": "31",
   "metadata": {
    "tags": []
   },
   "outputs": [],
   "source": [
    "# Instruction for beginning with existing OGGM's preprocessed directories\n",
    "if load_from_prepro_base_url:\n",
    "    # to start from level 5 you can do\n",
    "    if flowline_type_to_use == 'elevation_band':\n",
    "        prepro_base_url_L5 = DEFAULT_BASE_URL\n",
    "    elif flowline_type_to_use == 'centerline':\n",
    "        prepro_base_url_L5 = 'https://cluster.klima.uni-bremen.de/~oggm/gdirs/oggm_v1.6/L3-L5_files/2023.3/centerlines/W5E5/'\n",
    "    else:\n",
    "        raise ValueError(f\"Unknown flowline type '{flowline_type_to_use}'! Select 'elevation_band' or 'centerline'!\")\n",
    "    gdirs = workflow.init_glacier_directories(rgi_ids,\n",
    "                                              from_prepro_level=5,\n",
    "                                              prepro_base_url=prepro_base_url_L5,\n",
    "                                              prepro_border=80,  # could be 80 or 160\n",
    "                                              reset=True,\n",
    "                                              force=True,\n",
    "                                             )"
   ]
  },
  {
   "cell_type": "markdown",
   "id": "32",
   "metadata": {},
   "source": [
    "And that's it! We've successfully recreated all the preprocessed levels offered by OGGM. Remember, if you prefer, you can bypass all previous steps and jump straight into your future projections from Level 5. Happy modeling!"
   ]
  },
  {
   "cell_type": "markdown",
   "id": "33",
   "metadata": {},
   "source": [
    "## What's next?\n",
    "\n",
    "- return to the [OGGM documentation](https://docs.oggm.org)\n",
    "- back to the [table of contents](../welcome.ipynb)"
   ]
  }
 ],
 "metadata": {
  "kernelspec": {
   "display_name": "Python 3 (ipykernel)",
   "language": "python",
   "name": "python3"
  },
  "language_info": {
   "codemirror_mode": {
    "name": "ipython",
    "version": 3
   },
   "file_extension": ".py",
   "mimetype": "text/x-python",
   "name": "python",
   "nbconvert_exporter": "python",
   "pygments_lexer": "ipython3",
   "version": "3.12.4"
  }
 },
 "nbformat": 4,
 "nbformat_minor": 5
}
