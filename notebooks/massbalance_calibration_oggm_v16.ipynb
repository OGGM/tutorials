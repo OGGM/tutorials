{
 "cells": [
  {
   "cell_type": "markdown",
   "metadata": {},
   "source": [
    "# A quick look into the mass-balance calibration procedure"
   ]
  },
  {
   "cell_type": "markdown",
   "metadata": {},
   "source": [
    "The default mass-balance (MB) model of OGGM is a very standard [temperature index melt model](https://www.sciencedirect.com/science/article/pii/S0022169403002579). At the beginning, OGGM had a very complicated calibration procedure where the glaciers with in-situ data were calibrated and then a so-called *tstar* got interpolated for glaciers without observations (see the [original publication](https://www.the-cryosphere.net/6/1295/2012/tc-6-1295-2012.html)). This method was very powerful, however, as new observational datasets emerged, we can finally calibrate on a glacier-per-glacier basis. With the new era of geodetic observations, OGGM uses per default the average geodetic observations from Jan 2000--Jan 2020 of [Hugonnet al. 2021](https://www.nature.com/articles/s41586-021-03436-z), that are now available for almost every glacier world-wide. \n",
    "\n",
    "In this tutorial, we will:\n",
    "- [introduce the new default calibration procedure](#Default-calibration-(OGGM->=v1.6)) \n",
    "- [show how to calibrate on glaciers with in-situ observations](#Other-calibration-options-for-glaciers-with-additional-observations)\n",
    "- [show how to deal with errors and how to calibrate on other data](#Dealing-with-errors-and-including-your-own-mass-balance-observations)\n",
    "- [show the influence of different calibration options and explain the overparameterisation problem](#Overparameteristion-or-the-magic-choice-of-the-best-calibration-option:) (more details are e.g. in [Schuster et al., 2023, in review]())"
   ]
  },
  {
   "cell_type": "markdown",
   "metadata": {},
   "source": [
    "## Set-up"
   ]
  },
  {
   "cell_type": "code",
   "execution_count": null,
   "metadata": {},
   "outputs": [],
   "source": [
    "import matplotlib.pyplot as plt\n",
    "import matplotlib\n",
    "import pandas as pd\n",
    "import numpy as np\n",
    "import os\n",
    "\n",
    "import oggm\n",
    "from oggm import cfg, utils, workflow, tasks, graphics\n",
    "from oggm.core import massbalance\n",
    "from oggm.core.massbalance import mb_calibration_from_scalar_mb\n"
   ]
  },
  {
   "cell_type": "code",
   "execution_count": null,
   "metadata": {},
   "outputs": [],
   "source": [
    "cfg.initialize(logging_level='WARNING')\n",
    "cfg.PATHS['working_dir'] = utils.gettempdir(dirname='OGGM-calib-mb', reset=True)\n",
    "cfg.PARAMS['border'] = 10"
   ]
  },
  {
   "cell_type": "markdown",
   "metadata": {},
   "source": [
    "We start from two well known glaciers in the Austrian Alps, Kesselwandferner and Hintereisferner. But you can also choose any other other glacier, e.g. from [this list](https://github.com/OGGM/oggm-sample-data/blob/master/wgms/rgi_wgms_links_20220112.csv). "
   ]
  },
  {
   "cell_type": "code",
   "execution_count": null,
   "metadata": {},
   "outputs": [],
   "source": [
    "# we start from preprocessing level 2\n",
    "# in OGGM v1.6 you have to explicitly indicate the url from where you want to start from\n",
    "# we will use here the elevation band flowlines which are much simpler than the centerlines\n",
    "base_url = ('https://cluster.klima.uni-bremen.de/~oggm/gdirs/oggm_v1.6/'\n",
    "            'L1-L2_files/elev_bands')\n",
    "gdirs = workflow.init_glacier_directories(['RGI60-11.00787',  'RGI60-11.00897'], from_prepro_level=2,\n",
    "                                          prepro_base_url=base_url)"
   ]
  },
  {
   "cell_type": "code",
   "execution_count": null,
   "metadata": {},
   "outputs": [],
   "source": []
  },
  {
   "cell_type": "markdown",
   "metadata": {},
   "source": [
    "We use the preprocessed level 2, so we also need to process the climate ourselves:"
   ]
  },
  {
   "cell_type": "code",
   "execution_count": null,
   "metadata": {},
   "outputs": [],
   "source": [
    "# the climate that OGGM uses per default:\n",
    "cfg.PARAMS['baseline_climate']"
   ]
  },
  {
   "cell_type": "code",
   "execution_count": null,
   "metadata": {},
   "outputs": [],
   "source": [
    "# creates a climate file with the baseline climate, \n",
    "# if you want to change the climate, you have to do that,\n",
    "# before the calibration!\n",
    "workflow.execute_entity_task(tasks.process_climate_data, gdirs);"
   ]
  },
  {
   "cell_type": "markdown",
   "metadata": {},
   "source": [
    "The two glaciers are neighbors but have very different geometries:"
   ]
  },
  {
   "cell_type": "code",
   "execution_count": null,
   "metadata": {},
   "outputs": [],
   "source": [
    "f, ax = plt.subplots(1,1,figsize=(6, 6))\n",
    "graphics.plot_googlemap(gdirs[:2], ax=ax)\n",
    "ax.set_title(gdirs[0].rgi_id + ' & ' + gdirs[1].rgi_id);"
   ]
  },
  {
   "cell_type": "markdown",
   "metadata": {},
   "source": [
    "## Default mass-balance calibration (OGGM >=v1.6)"
   ]
  },
  {
   "cell_type": "code",
   "execution_count": null,
   "metadata": {},
   "outputs": [],
   "source": [
    "cfg.PARAMS['geodetic_mb_period']"
   ]
  },
  {
   "cell_type": "markdown",
   "metadata": {},
   "source": [
    "Per default the [Hugonnet et al. (2021)](https://www.nature.com/articles/s41586-021-03436-z) average geodetic observation is used over the entire time period Jan 2000 to Jan 2020 to calibrate the melt factor (`melt_f`) for every single glacier. This is done by `mb_calibration_from_scalar_mb` which determines the mass balance parameters from a scalar mass-balance value."
   ]
  },
  {
   "cell_type": "code",
   "execution_count": null,
   "metadata": {},
   "outputs": [],
   "source": [
    "workflow.execute_entity_task(mb_calibration_from_scalar_mb, gdirs)"
   ]
  },
  {
   "cell_type": "code",
   "execution_count": null,
   "metadata": {},
   "outputs": [],
   "source": [
    "# if you want to know more about the different options and their meanings\n",
    "# -> check out the docstring:\n",
    "# mb_calibration_from_scalar_mb?"
   ]
  },
  {
   "cell_type": "markdown",
   "metadata": {},
   "source": [
    "The output shows you the calibrated MB model parameters, the used observed reference MB for the calibration (`ref_mb`), the time period and the climate source. Between the two glaciers, only the `melt_f` changed. In the default option, the precipitation factor (`prcp_fac`), depends on the average winter precipitation which is the same for the two neighbouring glaciers (they get their climate from the same climate gridpoint). \n",
    "\n",
    "The following figure shows the used relationship between winter precipitation and precipitation factor. It was calibrated by adapting `melt_f` and `prcp_fac` to match the average geodetic and winter MB on around 100 glaciers with both informations available. The found relationship of decreasing `prcp_fac` for increasing winter precipitation makes sense, as glaciers with already a large winter precipitation should not be corrected with a large multiplicative `prcp_fac`.  "
   ]
  },
  {
   "cell_type": "code",
   "execution_count": null,
   "metadata": {},
   "outputs": [],
   "source": [
    "w_prcp_array = np.arange(0.5,20,1)\n",
    "# we basically do here the same as in massbalance.decide_winter_precip_factor(gdir)\n",
    "a, b = cfg.PARAMS['winter_prcp_fac_ab']\n",
    "r0, r1 = cfg.PARAMS['winter_prcp_fac_range']\n",
    "prcp_fac = a * np.log(w_prcp_array) + b\n",
    "# don't allow extremely low/high prcp. factors!!!\n",
    "prcp_fac_array = utils.clip_array(prcp_fac, r0, r1)\n",
    "plt.plot(w_prcp_array, prcp_fac_array)\n",
    "plt.xlabel(r'winter daily mean precipitation (kg m$^{-2}$ day$^{-1}$)')\n",
    "plt.ylabel('precipitation factor (prcp_fac)');"
   ]
  },
  {
   "cell_type": "markdown",
   "metadata": {},
   "source": [
    "In the default calibration option, we don't apply a temperature bias (`temp_bias`), which could potentially correct the climate to the local scale. However, we will change the three MB model parameters (`melt_f`, `temp_bias` and `prcp_fac`) later and see their influence on the calibration. \n",
    "\n",
    "There are also some global MB parameters (`mb_global_params`), which we assume to be the same globally. "
   ]
  },
  {
   "cell_type": "code",
   "execution_count": null,
   "metadata": {},
   "outputs": [],
   "source": [
    "gdirs[-1].read_json('mb_calib')['mb_global_params']"
   ]
  },
  {
   "cell_type": "markdown",
   "metadata": {},
   "source": [
    "These global MB parameter values were found to represent best the in-situ observations during a cross-validation for glaciers with additional observations. Of course, they could also be changed for different glaciers, but this would need even more data to justify the differences! The influence of using a different temperature lapse rate gradient to the default -0.0065 K/km are analysed in [Schuster et al. (2023, in review)]()."
   ]
  },
  {
   "cell_type": "markdown",
   "metadata": {},
   "source": [
    "Note that the two glaciers are in the same climate (from the forcing data) but are very different in size, orientation and geometry. So, the resulting `melt_f` and also the MB values are also different:"
   ]
  },
  {
   "cell_type": "code",
   "execution_count": null,
   "metadata": {},
   "outputs": [],
   "source": [
    "for gdir in gdirs:\n",
    "    mbmod = massbalance.MonthlyTIModel(gdir)\n",
    "    mean_mb = mbmod.get_specific_mb(fls=gdir.read_pickle('inversion_flowlines'),\n",
    "                                               year=np.arange(2000,2020,1)).mean()\n",
    "    print(gdir.rgi_id, f': average MB 2000-2020 = {mean_mb:.1f} kg m-2, ',\n",
    "          f\"melt_f: {gdir.read_json('mb_calib')['melt_f']:.1f} kg m-2 day-1 K-1\")"
   ]
  },
  {
   "cell_type": "markdown",
   "metadata": {},
   "source": [
    "Kesselwandferner has a less negative MB than its neighbor, probably because it is smaller in size and spans less altitude."
   ]
  },
  {
   "cell_type": "markdown",
   "metadata": {},
   "source": [
    "*To simplify things, we will now focus just on one glacier (Hintereisferner), but you can repeat it of course with other glaciers:*\n",
    "\n",
    "Let's check if the calibration worked: \n",
    "- We will get first the average modelled MB,"
   ]
  },
  {
   "cell_type": "code",
   "execution_count": null,
   "metadata": {},
   "outputs": [],
   "source": [
    "gdir_hef = gdirs[1]\n",
    "h, w = gdir_hef.get_inversion_flowline_hw()\n",
    "mb_geod = massbalance.MonthlyTIModel(gdir_hef)\n",
    "# Note, if you change cfg.PARAMS['geodetic_mb_period'], you need to change the years here as well!\n",
    "mbdf= pd.DataFrame(index = np.arange(2000,2020,1))\n",
    "mbdf['mod_mb'] = mb_geod.get_specific_mb(h, w, year=mbdf.index)\n",
    "mbdf.mean()"
   ]
  },
  {
   "cell_type": "markdown",
   "metadata": {},
   "source": [
    "- then get the observed geodetic MB that we calibrated our mass-balance to."
   ]
  },
  {
   "cell_type": "code",
   "execution_count": null,
   "metadata": {},
   "outputs": [],
   "source": [
    "print('reference MB: ' + str(gdir_hef.read_json('mb_calib')['reference_mb'])+ ' kg m-2')\n",
    "print('reference MB uncertainties: '+ str(gdir_hef.read_json('mb_calib')['reference_mb_err'])+ ' kg m-2')\n",
    "print('reference MB time period: ' + gdir_hef.read_json('mb_calib')['reference_period'])\n",
    "# if you use the default calibration data from Hugonnet et al., 2021, \n",
    "# you can also get the geodetic data from any glacier from here:\n",
    "# ref_geod_mb = utils.get_geodetic_mb_dataframe().loc[gdir_hef.rgi_id]\n",
    "# ref_geod_mb_period = ref_geod_mb.loc[ref_geod_mb.period==cfg.PARAMS['geodetic_mb_period']].dmdtda*1000"
   ]
  },
  {
   "cell_type": "markdown",
   "metadata": {},
   "source": [
    "   - We calibrated on the entire 20-yr time period, because then the observational uncertainties are smallest."
   ]
  },
  {
   "cell_type": "code",
   "execution_count": null,
   "metadata": {},
   "outputs": [],
   "source": [
    "# this tests if the two parameters are very similar:\n",
    "np.testing.assert_allclose(gdir_hef.read_json('mb_calib')['reference_mb'], mbdf['mod_mb'].mean())"
   ]
  },
  {
   "cell_type": "markdown",
   "metadata": {},
   "source": [
    "Perfect! Our MB model reproduces the average observed MB, so the calibrated worked!\n",
    "\n",
    "We have calibrated the `melt_f` to match the average geodetic observation and fixed the other parameters. We will now instead fix the `melt_f` and the `prcp_fac`, and use the `temp_bias` as free variable for calibration (by overwriting the default value of `calibrate_param1`)."
   ]
  },
  {
   "cell_type": "code",
   "execution_count": null,
   "metadata": {},
   "outputs": [],
   "source": [
    "# Let's calibrate on the temp_bias instead\n",
    "# overwrite_gdir has to be set to True,\n",
    "# because we want to overwrite the old calibration\n",
    "mb_calibration_from_scalar_mb(gdir_hef,\n",
    "                              calibrate_param1='temp_bias',\n",
    "                              overwrite_gdir=True)\n",
    "\n",
    "mb_temp_b = massbalance.MonthlyTIModel(gdir_hef)\n",
    "mbdf['mod_mb_temp_b'] = mb_temp_b.get_specific_mb(h, w, year=mbdf.index)"
   ]
  },
  {
   "cell_type": "markdown",
   "metadata": {},
   "source": [
    "Let's read the new calibrated MB model parameter for the glacier:"
   ]
  },
  {
   "cell_type": "code",
   "execution_count": null,
   "metadata": {},
   "outputs": [],
   "source": [
    "gdir_hef.read_json('mb_calib')"
   ]
  },
  {
   "cell_type": "markdown",
   "metadata": {},
   "source": [
    "Here we used the median `melt_f` (i.e., 5 kg m-2 day-1 K-1) and changed `temp_bias` until the `reference MB` is matched. As the `melt_f` is lower than in the previous calibration option, we need to have a positive `temp_bias` to get to the same average MB."
   ]
  },
  {
   "cell_type": "markdown",
   "metadata": {},
   "source": [
    "**We can do the same with the precipitation factor (`prcp_fac`):** "
   ]
  },
  {
   "cell_type": "code",
   "execution_count": null,
   "metadata": {},
   "outputs": [],
   "source": [
    "# Let's calibrate on the prcp_fac instead\n",
    "# overwrite_gdir has to be set to True,\n",
    "# because we want to overwrite the old calibration\n",
    "mb_calibration_from_scalar_mb(gdir_hef,\n",
    "                              calibrate_param1='prcp_fac',\n",
    "                              overwrite_gdir=True)\n",
    "\n",
    "mb_prcp_fac = massbalance.MonthlyTIModel(gdir_hef)\n",
    "mbdf['mod_mb_prcp_fac'] = mb_prcp_fac.get_specific_mb(h, w, year=mbdf.index)\n",
    "gdir_hef.read_json('mb_calib')"
   ]
  },
  {
   "cell_type": "markdown",
   "metadata": {},
   "source": [
    "We chose two glaciers that actually have also in-situ observations available. \n",
    "We will get the in-situ observations like that:"
   ]
  },
  {
   "cell_type": "code",
   "execution_count": null,
   "metadata": {},
   "outputs": [],
   "source": [
    "mbdf['in_situ_mb'] = gdir_hef.get_ref_mb_data().loc[2000:2019]['ANNUAL_BALANCE']\n",
    "# if we want to compare the average to the average geodetic MB, we need to have all years available\n",
    "assert len(mbdf['in_situ_mb']) == 20"
   ]
  },
  {
   "cell_type": "markdown",
   "metadata": {},
   "source": [
    "Let's plot how well we match the interannual observations for the different calibration options:"
   ]
  },
  {
   "cell_type": "code",
   "execution_count": null,
   "metadata": {},
   "outputs": [],
   "source": [
    "plt.plot(mbdf['in_situ_mb'], label='in-situ observations\\n'+f'average 2000-2020: {mbdf.in_situ_mb.mean():.1f} '+ r'kg m$^{-2}$', color='grey', lw=3)\n",
    "plt.plot(mbdf['mod_mb'],\n",
    "         label='modelled mass-balance via calibrating melt_f\\n'+f'average 2000-2020: {mbdf.mod_mb.mean():.1f} ' + r'kg m$^{-2}$')\n",
    "plt.plot(mbdf['mod_mb_temp_b'],\n",
    "         label='modelled mass-balance via calibrating temp_bias\\n'+f'average 2000-2020: {mbdf.mod_mb_temp_b.mean():.1f} ' + r'kg m$^{-2}$')\n",
    "plt.plot(mbdf['mod_mb_prcp_fac'],\n",
    "         label='modelled mass-balance via calibrating prcp_fac\\n'+f'average 2000-2020: {mbdf.mod_mb_prcp_fac.mean():.1f} ' + r'kg m$^{-2}$')\n",
    "plt.xticks(np.arange(2000,2020,2))\n",
    "plt.legend(bbox_to_anchor=(1,1))\n",
    "plt.ylabel(r'specific mass-balance (kg m$^{-2}$)')\n",
    "plt.xlabel('Year');"
   ]
  },
  {
   "cell_type": "markdown",
   "metadata": {},
   "source": [
    "For this glacier, over the same time period (here 2000-2020), the average MB is quite similar between the geodetic and in-situ observation and could even be explained by the fact that the in-situ observations are in hydrological years (starting in October of the previous year) and the geodetic observations are in calendar years. If you repeat the analysis for other glaciers with in-situ observations over that time period, you might see larger discrepancies. \n",
    "\n",
    "You can also see, that there are differences in the annual MB between the calibration options and the in-situ observations. We will analyse these differences more systematically later! "
   ]
  },
  {
   "cell_type": "markdown",
   "metadata": {
    "tags": []
   },
   "source": [
    "## Other calibration options for glaciers with additional observations"
   ]
  },
  {
   "cell_type": "markdown",
   "metadata": {},
   "source": [
    "Ok, but actually you might trust the in-situ observations much more than the geodetic observation. So if you are only interested in glaciers with these in-situ observations, you can also use the in-situ observations for calibration. This might allow you also to calibrate over a longer time period and to use additional informations (such as the interannual MB variability, seasonal MB, ...). However, bare in mind that there are often gaps in the in-situ MB time series and make sure that you calibrate to the same modelled time period!\n",
    "\n",
    "Attention: For the Hintereisferner glacier with an almost 70-year long time series, the assumption that we make, i.e., that the area does not change over the time period, gets more problematic. So think twice before repeating this at home!"
   ]
  },
  {
   "cell_type": "code",
   "execution_count": null,
   "metadata": {},
   "outputs": [],
   "source": [
    "massbalance.mb_calibration_from_wgms_mb(gdir_hef, overwrite_gdir=True)"
   ]
  },
  {
   "cell_type": "markdown",
   "metadata": {},
   "source": [
    "`mb_calibration_from_wgms_mb` is a short-cut function that uses internally `mb_calibration_from_scalar_mb`,\n",
    "but uses directly the average annual in-situ MB observations from the WGMS. You can get them like that:"
   ]
  },
  {
   "cell_type": "code",
   "execution_count": null,
   "metadata": {},
   "outputs": [],
   "source": [
    "mbdf_in_situ = gdir_hef.get_ref_mb_data()\n",
    "mbdf_in_situ['ref_mb'] = mbdf_in_situ['ANNUAL_BALANCE']\n",
    "# check that every year between the beginning and the end has MB observations \n",
    "assert len(mbdf_in_situ.index) == (mbdf_in_situ.index[-1] - mbdf_in_situ.index[0] + 1)\n",
    "ref_mb = mbdf_in_situ.ref_mb.mean()"
   ]
  },
  {
   "cell_type": "code",
   "execution_count": null,
   "metadata": {},
   "outputs": [],
   "source": [
    "### There exist a short-cut function is to use \n",
    "### it does the same thing as above in one line\n",
    "### (i.e. it calibrates directly on the average in-situ observations"
   ]
  },
  {
   "cell_type": "code",
   "execution_count": null,
   "metadata": {},
   "outputs": [],
   "source": [
    "mb_in_situ_obs = massbalance.MonthlyTIModel(gdir_hef)\n",
    "mbdf_in_situ['mod_mb'] = mb_in_situ_obs.get_specific_mb(h, w, year=mbdf_in_situ.index)\n",
    "plt.plot(mbdf_in_situ['ref_mb'],\n",
    "         label='in-situ observations\\n'+f'average: {ref_mb:.1f} '+ r'kg m$^{-2}$', color='grey', lw=3)\n",
    "plt.plot(mbdf_in_situ['mod_mb'],\n",
    "         label=('modelled mass-balance\\nvia calibrating melt_f\\n'\n",
    "                +f'average: {mbdf_in_situ.mod_mb.mean():.1f} ' + r'kg m$^{-2}$'))\n",
    "\n",
    "plt.legend()\n",
    "plt.ylabel(r'specific mass-balance (kg m$^{-2}$)')\n",
    "plt.xlabel('Year');"
   ]
  },
  {
   "cell_type": "markdown",
   "metadata": {},
   "source": [
    "The average MB over the entire time period is matched as we calibrate to it. However, the interannual mass-balance variability is different. How well the modelled annual mass-balance time series matches the observations can be for example assessed by looking at the correlation between modelled and observed annual MB "
   ]
  },
  {
   "cell_type": "code",
   "execution_count": null,
   "metadata": {},
   "outputs": [],
   "source": [
    "mbdf_in_situ[['ref_mb','mod_mb']].corr().values[0][1]"
   ]
  },
  {
   "cell_type": "markdown",
   "metadata": {},
   "source": [
    "or by looking into the standard deviation of interannual MB variability, where we see a much larger variability for the modelled MB:"
   ]
  },
  {
   "cell_type": "code",
   "execution_count": null,
   "metadata": {},
   "outputs": [],
   "source": [
    "mbdf_in_situ.std()[['ref_mb','mod_mb']]\n"
   ]
  },
  {
   "cell_type": "code",
   "execution_count": null,
   "metadata": {},
   "outputs": [],
   "source": []
  },
  {
   "cell_type": "markdown",
   "metadata": {
    "tags": []
   },
   "source": [
    "### Dealing with errors and including your own mass-balance observations"
   ]
  },
  {
   "cell_type": "markdown",
   "metadata": {},
   "source": [
    "Let's look at another glacier, now in Central Asia, for example the Golubin glacier:"
   ]
  },
  {
   "cell_type": "code",
   "execution_count": null,
   "metadata": {},
   "outputs": [],
   "source": [
    "gdir_2 = workflow.init_glacier_directories(['RGI60-13.11609'], from_prepro_level=2,\n",
    "                                         prepro_base_url=base_url)[0]\n",
    "\n",
    "tasks.process_climate_data(gdir_2)\n",
    "\n",
    "f, ax = plt.subplots(1,1,figsize=(6, 6))\n",
    "graphics.plot_googlemap([gdir_2], ax=ax)\n",
    "plt.tight_layout()"
   ]
  },
  {
   "cell_type": "markdown",
   "metadata": {},
   "source": [
    "Let's calibrate that glacier (with the default average geodetic observation):"
   ]
  },
  {
   "cell_type": "code",
   "execution_count": null,
   "metadata": {},
   "outputs": [],
   "source": [
    "mb_calibration_from_scalar_mb(gdir_2)\n",
    "# you could also calibrate on the WGMS data instead\n",
    "# as this glacier has in-situ MB observations\n",
    "# massbalance.mb_calibration_from_wgms_mb(gdir_2, overwrite_gdir=True)"
   ]
  },
  {
   "cell_type": "markdown",
   "metadata": {},
   "source": [
    "We got a `RuntimeError` that says that the `ref_mb` is not matched and that we should set `calibrate_param2`. What happened? \n",
    "\n",
    "Well, no `melt_f` parameter could be found in the given ranges to reproduce the given calibration data (`ref_mb`). "
   ]
  },
  {
   "cell_type": "code",
   "execution_count": null,
   "metadata": {},
   "outputs": [],
   "source": [
    "# What are the current minimum and maximum ranges of the melt factor (unit: kg m-2 day-1 K-1)\n",
    "cfg.PARAMS['melt_f_min'], cfg.PARAMS['melt_f_max']"
   ]
  },
  {
   "cell_type": "markdown",
   "metadata": {
    "jp-MarkdownHeadingCollapsed": true,
    "tags": []
   },
   "source": [
    "If we believe that our observations are true, maybe the climate or the processes represented by the MB model are erroneous. \n",
    "\n",
    "What can we do to still match the `ref_mb`? We can either change the `melt_f` ranges by setting other values to the parameters above or we can allow that another MB model parameter is changed (i.e., `calibrate_param2`). This is basically very similar to the three-step-calibration \n",
    "first introduced in [Huss & Hock 2015](https://doi.org/10.3389/feart.2015.00054), but you can choose your parameter ranges and parameter order yourself. \n",
    "\n",
    "**To reduce these MB model calibration errors, we will first change the `melt_f`, fix it at the lower or upper limit, and then change the `temp_bias`. This step-wise calibration is also the option that is used operationally in OGGM>=v1.6 in the preprocessed levels >=3 for all glaciers world-wide!**"
   ]
  },
  {
   "cell_type": "code",
   "execution_count": null,
   "metadata": {},
   "outputs": [],
   "source": [
    "# Allowing another parameter to change is done by defining calibrate_param2\n",
    "mb_calibration_from_scalar_mb(gdir_2, calibrate_param2='temp_bias')"
   ]
  },
  {
   "cell_type": "markdown",
   "metadata": {},
   "source": [
    "The `melt_f` is at the minimum value and temperature was corrected to more negative values to allow for the relatively weak negative MB.  "
   ]
  },
  {
   "cell_type": "markdown",
   "metadata": {},
   "source": [
    "**Use your own or fake MB observations for calibration**"
   ]
  },
  {
   "cell_type": "markdown",
   "metadata": {},
   "source": [
    "In the same way, you can also use your own MB observations or fake data to calibrate the MB model. We use here as an example, an unrealistically high positive MB for the Hintereisferner over a 10-year time period. To allow the calibration to happen, we need again to set `calibrate_param2`! Here we will use the `prcp_fac` as second parameter for a change:"
   ]
  },
  {
   "cell_type": "code",
   "execution_count": null,
   "metadata": {},
   "outputs": [],
   "source": [
    "ref_period = '2000-01-01_2010-01-01'\n",
    "ref_mb = 2000 # Let's use an unrealistically positive  mass-balance\n",
    "mb_calibration_from_scalar_mb(gdir_hef, ref_mb=ref_mb,\n",
    "                                ref_period=ref_period, overwrite_gdir=True, write_to_gdir=True,\n",
    "                               calibrate_param2='prcp_fac');\n"
   ]
  },
  {
   "cell_type": "code",
   "execution_count": null,
   "metadata": {},
   "outputs": [],
   "source": [
    "mb_new = massbalance.MonthlyTIModel(gdir_hef)\n",
    "# ok, we actually matched the new ref_mb over the 10-yr period\n",
    "np.testing.assert_allclose(ref_mb,\n",
    "                           mb_new.get_specific_mb(h, w, year=np.arange(2000,2010,1)).mean())\n",
    "# Let's look at the calibrated parameters\n",
    "gdir_hef.read_json('mb_calib')"
   ]
  },
  {
   "cell_type": "markdown",
   "metadata": {},
   "source": [
    "Ok, in that case, the climate was too warm to allow for such a positive MB. Even the smallest `melt_f` did not allow for such a positive MB. Therefore, the `prcp_fac` was increased to allow that more (solid) precipitation can occur. "
   ]
  },
  {
   "cell_type": "markdown",
   "metadata": {},
   "source": [
    "However, also the `prcp_fac` has a limited range: "
   ]
  },
  {
   "cell_type": "code",
   "execution_count": null,
   "metadata": {},
   "outputs": [],
   "source": [
    "cfg.PARAMS['prcp_fac_min'], cfg.PARAMS['prcp_fac_max']"
   ]
  },
  {
   "cell_type": "markdown",
   "metadata": {},
   "source": [
    "So, if we increase the `ref_mb` even further, we might even need a third free parameter (i.e., we need to set `calibrate_param3`). \n",
    "Let's try it out, by using now the same order as in [Huss & Hock (2015)](https://doi.org/10.3389/feart.2015.00054) (but different allowed parameter changes that also depend on the chosen climate...):\n",
    "\n",
    "That means, we match the `ref_mb` by \n",
    "- first trying to adapt `prcp_fac`,\n",
    "- then `melt_f`,\n",
    "- and finally `temp_bias`."
   ]
  },
  {
   "cell_type": "code",
   "execution_count": null,
   "metadata": {},
   "outputs": [],
   "source": [
    "ref_mb = 3500 # if you replace it with 4000, no combination of parameters can be found for that glacier\n",
    "mb_calibration_from_scalar_mb(gdir_hef,ref_mb=ref_mb,\n",
    "                              ref_period=ref_period,\n",
    "                              calibrate_param1='prcp_fac',\n",
    "                              calibrate_param2='melt_f',\n",
    "                              calibrate_param3='temp_bias',\n",
    "                              overwrite_gdir=True)"
   ]
  },
  {
   "cell_type": "markdown",
   "metadata": {},
   "source": [
    "In that case, the minimum `melt_f` and the maximum `prcp_fac` are applied. The `temp_bias` is set to a negative value as this results in more solid precipitation. If you increased the `ref_mb` even further, the method will not find any combination as the `temp_bias` also has a limited \n",
    "range. If you really want to match the observation, then you would need to change the parameter ranges."
   ]
  },
  {
   "cell_type": "code",
   "execution_count": null,
   "metadata": {},
   "outputs": [],
   "source": [
    "cfg.PARAMS['temp_bias_min'], cfg.PARAMS['temp_bias_max']"
   ]
  },
  {
   "cell_type": "code",
   "execution_count": null,
   "metadata": {},
   "outputs": [],
   "source": [
    "### check out the docstring for more information about the options\n",
    "### by uncommenting the line below:\n",
    "# mb_calibration_from_scalar_mb?"
   ]
  },
  {
   "cell_type": "markdown",
   "metadata": {},
   "source": [
    "## Overparameteristion or the magic choice of the best calibration option:"
   ]
  },
  {
   "cell_type": "markdown",
   "metadata": {},
   "source": [
    "We found already some combinations that equally well match the average MB over a given time period. As we only use only one observation per glacier (i.e., per default the average geodetic MB from 2000-2020), but have up to three free MB model parameters, the MB model is overparameterised. That means, there are in theory an infinite amount of calibration options possible that equally well match the one obervation. Let's look a bit more systematically into that:\n",
    "\n",
    "We will use a range of different `prcp_fac` and then calibrate the `melt_f` accordingly to always match to the default average MB (`ref_mb`) over the reference period (`ref_period`)."
   ]
  },
  {
   "cell_type": "code",
   "execution_count": null,
   "metadata": {},
   "outputs": [],
   "source": [
    "# calibrate the melt_f and annual MB \n",
    "pd_prcp_fac_sens = pd.DataFrame(index=np.arange(0.1,5.0,0.3))\n",
    "spec_mb_prcp_fac_sens_dict = {}\n",
    "for prcp_fac in pd_prcp_fac_sens.index:\n",
    "    calib_param = mb_calibration_from_scalar_mb(gdir_hef,\n",
    "                                                prcp_fac=prcp_fac, overwrite_gdir=True)\n",
    "    pd_prcp_fac_sens.loc[prcp_fac, 'melt_f'] = calib_param['melt_f']\n",
    "    mb_prcp_fac_sens = massbalance.MonthlyTIModel(gdir_hef)\n",
    "    # ok, we actually matched the new ref_mb\n",
    "    annual_mb = mb_prcp_fac_sens.get_specific_mb(h, w, year=np.arange(2000,2020,1))\n",
    "    spec_mb_prcp_fac_sens_dict[prcp_fac] = annual_mb\n",
    "    # let's also check how well the interannual MB variability is matched\n",
    "    # by comparing the standard deviation of the annual MB to the observed one\n",
    "    std_quot_annual_mb = annual_mb.std()/mbdf_in_situ.loc[2000:2019, 'ANNUAL_BALANCE'].std()\n",
    "    pd_prcp_fac_sens.loc[prcp_fac, 'std_quot_annual_mb'] = std_quot_annual_mb"
   ]
  },
  {
   "cell_type": "code",
   "execution_count": null,
   "metadata": {},
   "outputs": [],
   "source": [
    "# let's get some nice colors visualising more precipitation\n",
    "colors_prcp_fac = plt.get_cmap('viridis_r').colors[10::10]\n",
    "plt.figure()\n",
    "for j,prcp_fac in enumerate(pd_prcp_fac_sens.index):\n",
    "    plt.plot(prcp_fac, pd_prcp_fac_sens.loc[prcp_fac, 'melt_f'],\n",
    "             'o', color=colors_prcp_fac[j])\n",
    "plt.ylabel(r'melt_f (kg m$^{-2}$ day$^{-1}$ K$^{-1}$)')\n",
    "plt.xlabel('prcp_fac');"
   ]
  },
  {
   "cell_type": "markdown",
   "metadata": {},
   "source": [
    "All these combinations match the average `ref_mb` equally. The larger the chosen `prcp_fac`, the larger needs to be the calibrated `melt_f` when matching to the same average MB.\n",
    "\n",
    "What is the influence on the chosen parameter combination on other estimates than the average MB?"
   ]
  },
  {
   "cell_type": "code",
   "execution_count": null,
   "metadata": {},
   "outputs": [],
   "source": [
    "plt.figure()\n",
    "for j,prcp_fac in enumerate(pd_prcp_fac_sens.index):\n",
    "    plt.plot(np.arange(2000,2020,1),\n",
    "             spec_mb_prcp_fac_sens_dict[prcp_fac], '-', \n",
    "             color=colors_prcp_fac[j], label=f'{prcp_fac:.1f}')\n",
    "plt.plot(mbdf_in_situ.loc[2000:2019].index,\n",
    "         mbdf_in_situ.loc[2000:2019]['ANNUAL_BALANCE'],\n",
    "         color='grey', lw=3, \n",
    "        label='observed in-situ')\n",
    "plt.ylabel(r'Annual mass-balance (kg m$^{-2}$)')\n",
    "plt.xlabel('Year')\n",
    "plt.legend(title='prcp_fac:', bbox_to_anchor=(1,1), fontsize=9)\n",
    "plt.xticks(np.arange(2000,2020,2));\n",
    "plt.title(gdir_hef.rgi_id);"
   ]
  },
  {
   "cell_type": "markdown",
   "metadata": {},
   "source": [
    "The larger the `prcp_fac` and the `melt_f`, the larger is the interannual MB variability. For glaciers with in-situ observations, we can find a combination of `prcp_fac` and `melt_f` that has a similar interannnual MB variability than the observations. For example, you can choose a MB model parameter combination where the standard deviation quotient of the annual the modelled and observed MB is near to 1: "
   ]
  },
  {
   "cell_type": "code",
   "execution_count": null,
   "metadata": {},
   "outputs": [],
   "source": [
    "condi = (pd_prcp_fac_sens['std_quot_annual_mb'] < 1.1) & (pd_prcp_fac_sens['std_quot_annual_mb'] > 0.9)\n",
    "pd_prcp_fac_sens[condi]"
   ]
  },
  {
   "cell_type": "markdown",
   "metadata": {},
   "source": [
    "For the Hintereisferner glacier, the best MB model combination to match the interannual MB variability would be for a `prcp_fac` between 1.6 and 1.9 and a `melt_f` between 6 and 6.5 (more in [Schuster et al., 2023, in review]())."
   ]
  },
  {
   "cell_type": "code",
   "execution_count": null,
   "metadata": {},
   "outputs": [],
   "source": []
  },
  {
   "cell_type": "markdown",
   "metadata": {},
   "source": [
    "**We can also fix the `prcp_fac` and change the `temp_b` and `melt_f` instead:**"
   ]
  },
  {
   "cell_type": "code",
   "execution_count": null,
   "metadata": {},
   "outputs": [],
   "source": [
    "melt_f_dict_tb = {}\n",
    "spec_mb_temp_b_sens_dict = {}\n",
    "\n",
    "for temp_bias in np.arange(-5,5.0,0.5):\n",
    "    # for too negative temp_bias, no melt_f is found that matches the observations. We would need to \n",
    "    # change the prcp_fac , but here we will just look\n",
    "    # at those combinations where calibration works with a fixed prcp_fac. \n",
    "    try:\n",
    "        calib_param = mb_calibration_from_scalar_mb(gdir_hef, temp_bias=temp_bias, overwrite_gdir=True)\n",
    "        melt_f_dict_tb[temp_bias] = calib_param['melt_f']\n",
    "        mb_temp_b_sens = massbalance.MonthlyTIModel(gdir_hef)\n",
    "        # ok, we actually matched the new ref_mb\n",
    "        spec_mb_temp_b_sens_dict[temp_bias] = mb_temp_b_sens.get_specific_mb(h, w, year=np.arange(2000,2020,1))\n",
    "    except RuntimeError: #, 'RGI60-11.00897: ref mb not matched. Try to set calibrate_param2'\n",
    "        pass\n"
   ]
  },
  {
   "cell_type": "code",
   "execution_count": null,
   "metadata": {},
   "outputs": [],
   "source": [
    "# let's get a nice colormap centered at temp_bias=0\n",
    "norm = matplotlib.colors.Normalize(vmin=-5, vmax=5.01)\n",
    "colors_temp_bias = plt.get_cmap('coolwarm')\n",
    "\n",
    "plt.figure()\n",
    "for j,temp_bias in enumerate(melt_f_dict_tb.keys()):\n",
    "    plt.plot(temp_bias, melt_f_dict_tb[temp_bias], 'o',\n",
    "             color=colors_temp_bias(norm(temp_bias))) \n",
    "plt.ylabel(r'melt_f (kg m$^{-2}$ day$^{-1}$ K$^{-1}$)')\n",
    "plt.xlabel('temp_bias (°C)');"
   ]
  },
  {
   "cell_type": "markdown",
   "metadata": {},
   "source": [
    "A lower `melt_f` is needed if a positive `temp_bias` is applied!"
   ]
  },
  {
   "cell_type": "code",
   "execution_count": null,
   "metadata": {},
   "outputs": [],
   "source": [
    "plt.figure()\n",
    "for temp_bias in melt_f_dict_tb.keys():\n",
    "    plt.plot(np.arange(2000,2020,1),\n",
    "             spec_mb_temp_b_sens_dict[temp_bias], '-', \n",
    "             color=colors_temp_bias(norm(temp_bias)),\n",
    "             label=temp_bias)\n",
    "plt.plot(mbdf_in_situ.loc[2000:2019].index, mbdf_in_situ.loc[2000:2019]['ANNUAL_BALANCE'], color='grey', lw=3, \n",
    "        label='observed in-situ')\n",
    "plt.ylabel(r'Annual mass-balance (kg m$^{-2}$)')\n",
    "plt.xlabel('Year')\n",
    "plt.legend(title='temp_bias:', bbox_to_anchor=(1,1))\n",
    "plt.xticks(np.arange(2000,2020,2));\n",
    "plt.title(gdir_hef.rgi_id);"
   ]
  },
  {
   "cell_type": "markdown",
   "metadata": {},
   "source": [
    "And the interannual MB variability gets smaller when large positive `temp_bias` are applied. The parameter combination choice or calibration option also influences the modelled seasonal MB or elevation-dependent MB over the calibration period. Additionally, volume and runoff are influenced by the model parameter choice. If you are further interested in that you can have a look into [Schuster et al (2023, in review)](), which analyses the \"Glacier projections sensitivity to temperature-index model choices and calibration strategies\". \n",
    "\n",
    "Using prior knowledge on the MB model parameters by a Bayesian calibration scheme is a good option to constrain the parameter ranges. Like that you can also directly include the MB observation uncertainties and quantify the parameter uncertainties. You can read about that in [Rounce et al., 2020](https://doi.org/10.1017/jog.2019.91)!"
   ]
  },
  {
   "cell_type": "code",
   "execution_count": null,
   "metadata": {},
   "outputs": [],
   "source": []
  },
  {
   "cell_type": "markdown",
   "metadata": {},
   "source": [
    "## Take home points"
   ]
  },
  {
   "cell_type": "markdown",
   "metadata": {},
   "source": [
    "- We illustrated how a mass-balance (MB) model of a glacier can be calibrated in OGGM.  \n",
    "- We can use different observational data for calibration: \n",
    "    - calibrating to geodetic observations using different time periods, to in-situ direct glaciological observations from the WGMS (if available) or to other custom MB data.  \n",
    "- There exist different ways of calibrating to the average observational data:\n",
    "    - default is to calibrate the `melt_f`, and having the `prcp_fac` and `temp_bias` fixed. If the calibration does not work, the `temp_bias` is varied aswell. This is the option that is used operationally in OGGM in the preprocessed levels >=3 for all glaciers world-wide.\n",
    "    - you can also calibrate instead on `prcp_fac` or `temp_bias` and fix the other parameters.\n",
    "    - However, we showed that the parameter combination choice has an influence on other estimates than the average MB. The model parameter calibration choice can also impact future volume and runoff projections (see [Schuster et al., 2023, in review]()). \n",
    "- As user of OGGM, you will most likely just use the default calibration option. However, it is good to be aware of the overparameterisation problem. In addition, if you want to include uncertainties of the MB model calibration, you could include additional experiments that use another calibration option. With more available observational data or improved climate data, you might also be able to use better ways to calibrate the MB model parameters. \n"
   ]
  },
  {
   "cell_type": "markdown",
   "metadata": {},
   "source": [
    "## What's next?\n",
    "- return to the [OGGM documentation](https://docs.oggm.org)\n",
    "- back to the [table of contents](welcome.ipynb)"
   ]
  },
  {
   "cell_type": "code",
   "execution_count": null,
   "metadata": {},
   "outputs": [],
   "source": []
  }
 ],
 "metadata": {
  "hide_input": false,
  "kernelspec": {
   "display_name": "Python 3 (ipykernel)",
   "language": "python",
   "name": "python3"
  },
  "language_info": {
   "codemirror_mode": {
    "name": "ipython",
    "version": 3
   },
   "file_extension": ".py",
   "mimetype": "text/x-python",
   "name": "python",
   "nbconvert_exporter": "python",
   "pygments_lexer": "ipython3",
   "version": "3.8.15"
  },
  "latex_envs": {
   "LaTeX_envs_menu_present": true,
   "autoclose": false,
   "autocomplete": true,
   "bibliofile": "biblio.bib",
   "cite_by": "apalike",
   "current_citInitial": 1,
   "eqLabelWithNumbers": true,
   "eqNumInitial": 1,
   "hotkeys": {
    "equation": "Ctrl-E",
    "itemize": "Ctrl-I"
   },
   "labels_anchors": false,
   "latex_user_defs": false,
   "report_style_numbering": false,
   "user_envs_cfg": false
  },
  "nbTranslate": {
   "displayLangs": [
    "*"
   ],
   "hotkey": "alt-t",
   "langInMainMenu": true,
   "sourceLang": "en",
   "targetLang": "fr",
   "useGoogleTranslate": true
  },
  "toc": {
   "base_numbering": 1,
   "nav_menu": {},
   "number_sections": false,
   "sideBar": true,
   "skip_h1_title": true,
   "title_cell": "Table of Contents",
   "title_sidebar": "Contents",
   "toc_cell": false,
   "toc_position": {},
   "toc_section_display": true,
   "toc_window_display": false
  }
 },
 "nbformat": 4,
 "nbformat_minor": 4
}
