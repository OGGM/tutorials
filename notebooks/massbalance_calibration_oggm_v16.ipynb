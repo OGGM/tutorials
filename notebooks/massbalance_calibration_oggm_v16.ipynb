{
 "cells": [
  {
   "cell_type": "markdown",
   "metadata": {},
   "source": [
    "# A quick look into the mass-balance calibration procedure"
   ]
  },
  {
   "cell_type": "markdown",
   "metadata": {},
   "source": [
    "The default mass-balance (MB) model of OGGM is a very standard [temperature index melt model](https://www.sciencedirect.com/science/article/pii/S0022169403002579). At the beginning, OGGM had a very complicated calibration procedure where the glaciers with in-situ data were calibrated and then a so-called *tstar* got interpolated for glaciers without observations (see the [original publication](https://www.the-cryosphere.net/6/1295/2012/tc-6-1295-2012.html)). This method was very powerful, however, as new observational datasets emerged, we can finally calibrate on a glacier-per-glacier basis. With the new era of geodetic observations, OGGM uses per default the average geodetic observations from Jan 2000--Jan 2020 of [Hugonnet al. 2021](https://www.nature.com/articles/s41586-021-03436-z), that are now available for every glacier world-wide. \n",
    "\n",
    "In this tutorial, we will:\n",
    "- introduce the default calibration procedure \n",
    "- show how we can calibrate on other data (e.g. from direct glaciological observations from a glacier with in-situ observations) \n",
    "- show the influence of different calibration options and explain the overparameterisation problem (more explanations in [Schuster et al., 2023]())"
   ]
  },
  {
   "cell_type": "markdown",
   "metadata": {},
   "source": [
    "TODO: \n",
    "- add links to Schuster et al., 2023 preprint\n",
    "- add other example glacier(s) where in situ-mb != geodetic MB\n",
    "- add something about the regional dependence of the temperature bias and the way it is used in the OGGM preprocessed levels>=3 \n",
    "- maybe make the structure a bit easier to read? "
   ]
  },
  {
   "cell_type": "markdown",
   "metadata": {},
   "source": [
    "## Set-up"
   ]
  },
  {
   "cell_type": "code",
   "execution_count": null,
   "metadata": {},
   "outputs": [],
   "source": [
    "import matplotlib.pyplot as plt\n",
    "import pandas as pd\n",
    "import numpy as np\n",
    "import os\n",
    "\n",
    "import oggm\n",
    "from oggm import cfg, utils, workflow, tasks, graphics\n",
    "from oggm.core import massbalance, climate\n",
    "from oggm.core.massbalance import mb_calibration_from_geodetic_mb"
   ]
  },
  {
   "cell_type": "code",
   "execution_count": null,
   "metadata": {},
   "outputs": [],
   "source": [
    "cfg.initialize(logging_level='WARNING')\n",
    "cfg.PARAMS['monthly_melt_f_max'] = 500 ## to do: remove this when this is changed per default\n",
    "cfg.PATHS['working_dir'] = utils.gettempdir(dirname='OGGM-calib-mb', reset=True)\n",
    "cfg.PARAMS['border'] = 10"
   ]
  },
  {
   "cell_type": "markdown",
   "metadata": {},
   "source": [
    "We start from two well known glaciers in the Austrian Alps, Kesselwandferner and Hintereisferner:"
   ]
  },
  {
   "cell_type": "code",
   "execution_count": null,
   "metadata": {},
   "outputs": [],
   "source": [
    "# todo: select another glacier maybe in Pakistan without any MB observations\n",
    "# we start from preprocessing level 2\n",
    "# in OGGM v1.6 you have to explicitly indacate the url from where you want to start from\n",
    "# we will use here the elevation band flowlines which are much simpler than the centerlines\n",
    "base_url = ('https://cluster.klima.uni-bremen.de/~oggm/gdirs/oggm_v1.6/'\n",
    "            'L1-L2_files/elev_bands')\n",
    "gdirs = workflow.init_glacier_directories(['RGI60-11.00787', 'RGI60-11.00897'], from_prepro_level=2,\n",
    "                                         prepro_base_url=base_url)"
   ]
  },
  {
   "cell_type": "markdown",
   "metadata": {},
   "source": [
    "We start from prepro_level 2, so we also need to process the climate ourselves:"
   ]
  },
  {
   "cell_type": "code",
   "execution_count": null,
   "metadata": {},
   "outputs": [],
   "source": [
    "cfg.PARAMS['baseline_climate']"
   ]
  },
  {
   "cell_type": "code",
   "execution_count": null,
   "metadata": {},
   "outputs": [],
   "source": [
    "# creates a climate file with the baseline climate, if you want to change the climate, you have to do that here, before the calibration!\n",
    "workflow.execute_entity_task(tasks.process_climate_data, gdirs)"
   ]
  },
  {
   "cell_type": "markdown",
   "metadata": {},
   "source": [
    "The two glaciers are neighbors but have very different geometries:"
   ]
  },
  {
   "cell_type": "code",
   "execution_count": null,
   "metadata": {},
   "outputs": [],
   "source": [
    "f, ax = plt.subplots(figsize=(8, 8))\n",
    "graphics.plot_googlemap(gdirs, ax=ax)"
   ]
  },
  {
   "cell_type": "markdown",
   "metadata": {},
   "source": [
    "## Default calibration (OGGM >=v1.6)"
   ]
  },
  {
   "cell_type": "markdown",
   "metadata": {},
   "source": [
    "**Let's apply the default mass-balance calibration:**"
   ]
  },
  {
   "cell_type": "code",
   "execution_count": null,
   "metadata": {},
   "outputs": [],
   "source": [
    "cfg.PARAMS['geodetic_mb_period']"
   ]
  },
  {
   "cell_type": "markdown",
   "metadata": {},
   "source": [
    "Per default the [Hugonnet et al. (2021)](https://www.nature.com/articles/s41586-021-03436-z) average geodetic observation is used over the entire time period Jan 2000 to Jan 2020 to calibrate the melt factor (`melt_f`) for every single glacier: "
   ]
  },
  {
   "cell_type": "code",
   "execution_count": null,
   "metadata": {},
   "outputs": [],
   "source": [
    "workflow.execute_entity_task(mb_calibration_from_geodetic_mb, gdirs)"
   ]
  },
  {
   "cell_type": "markdown",
   "metadata": {},
   "source": [
    "The output shows you the calibrated MB model parameters. Between the two glaciers, only the `melt_f` changed. In the default option, the precipitation factor (`prcp_fac`), depends on the average winter precipitation which is the same for the two neighbouring glaciers (they get their climate from the same climate gridpoint). \n",
    "\n",
    "The following figure shows the used relationship between winter precipitation and precipitation factor. It was calibrated by matching both, `melt_f` and `prcp_fac`, to match the average geodetic and winter MB on around 100 glaciers with both informations available. The found relationship of decreasing `prcp_fac` for increasing winter precipitation makes sense, as glaciers with already a large winter precipitation should not be corrected with a large multiplicative `prcp_fac`.  "
   ]
  },
  {
   "cell_type": "code",
   "execution_count": null,
   "metadata": {},
   "outputs": [],
   "source": [
    "from oggm.utils import clip_array\n",
    "w_prcp_array = np.arange(0.5,20,1)\n",
    "a, b = cfg.PARAMS['winter_prcp_factor_ab']\n",
    "r0, r1 = cfg.PARAMS['winter_prcp_factor_range']\n",
    "\n",
    "prcp_fac = a * np.log(w_prcp_array) + b\n",
    "# don't allow extremely low/high prcp. factors!!!\n",
    "prcp_fac_array = clip_array(prcp_fac, r0, r1)\n",
    "plt.plot(w_prcp_array, prcp_fac_array)\n",
    "plt.xlabel('winter daily mean precipitation (kg m-2 day-1)')\n",
    "plt.ylabel('precipitation factor (prcp_fac)');"
   ]
  },
  {
   "cell_type": "markdown",
   "metadata": {},
   "source": [
    "In the default calibration option, we don't apply a temperature bias (`temp_bias`), which could potentially correct the climate to the local scale. However, we will change the three MB model parameters (`melt_f`, `temp_bias` and `prcp_fac`) later and see their influence on the calibration. \n",
    "\n",
    "There are also some global MB parameters (`mb_global_params`), which we assume to be the same globally. These parameters were found to represent best the in-situ observations during a cross-validation using glaciers with additional observations. Of course, they could also be different for different glaciers, but this is another story!"
   ]
  },
  {
   "cell_type": "markdown",
   "metadata": {},
   "source": [
    "Note that the two glaciers are in the same climate (from the forcing data) but are very different in size, orientation and geometry. So, the resulting `melt_f` and also the MB values are also different:"
   ]
  },
  {
   "cell_type": "code",
   "execution_count": null,
   "metadata": {},
   "outputs": [],
   "source": [
    "for gdir in gdirs:\n",
    "    mbmod = massbalance.MonthlyTIModel(gdir)\n",
    "    mean_mb = mbmod.get_specific_mb(fls=gdir.read_pickle('inversion_flowlines'),\n",
    "                                               year=np.arange(2000,2020,1)).mean()\n",
    "    print(gdir.rgi_id, f': average MB 2000-2020 = {mean_mb:.1f} kg m-2, ',\n",
    "          f\"melt_f: {gdir.read_json('mb_calib')['melt_f']:.1f}\")"
   ]
  },
  {
   "cell_type": "markdown",
   "metadata": {},
   "source": [
    "Kesselwandferner has a less negative MB than its neighbor, probably because it is smaller in size and spans less altitude."
   ]
  },
  {
   "cell_type": "markdown",
   "metadata": {},
   "source": [
    "*To simplify things, we will now focus just on one glacier:*\n",
    "\n",
    "Let's check if the calibration worked: \n",
    "- We will get first the average modelled MB"
   ]
  },
  {
   "cell_type": "code",
   "execution_count": null,
   "metadata": {},
   "outputs": [],
   "source": [
    "gdir = gdirs[-1]\n",
    "h, w = gdir.get_inversion_flowline_hw()\n",
    "mb_geod = massbalance.MonthlyTIModel(gdir)\n",
    "# Note, if you change cfg.PARAMS['geodetic_mb_period'], you need to change the years here as well!\n",
    "mbdf= pd.DataFrame(index = np.arange(2000,2020,1))\n",
    "mbdf['mod_mb'] = mb_geod.get_specific_mb(h, w, year=mbdf.index)\n",
    "mbdf.mean()"
   ]
  },
  {
   "cell_type": "markdown",
   "metadata": {},
   "source": [
    "- then get the observed geodetic MB that we calibrated our mass-balance to:"
   ]
  },
  {
   "cell_type": "code",
   "execution_count": null,
   "metadata": {},
   "outputs": [],
   "source": [
    "ref_geod_mb = utils.get_geodetic_mb_dataframe().loc[gdir.rgi_id]\n",
    "ref_geod_mb"
   ]
  },
  {
   "cell_type": "markdown",
   "metadata": {},
   "source": [
    "   - We calibrated on the entire 20-yr time period, because then the observational uncertainties are smallest (in the table called: `err_dmdtda`)"
   ]
  },
  {
   "cell_type": "code",
   "execution_count": null,
   "metadata": {},
   "outputs": [],
   "source": [
    "ref_geod_mb_period = ref_geod_mb.loc[ref_geod_mb.period==cfg.PARAMS['geodetic_mb_period']].dmdtda*1000\n",
    "ref_geod_mb_period"
   ]
  },
  {
   "cell_type": "code",
   "execution_count": null,
   "metadata": {},
   "outputs": [],
   "source": [
    "# this tests if the two parameters are very similar:\n",
    "np.testing.assert_allclose(ref_geod_mb_period, mbdf['mod_mb'].mean())"
   ]
  },
  {
   "cell_type": "markdown",
   "metadata": {},
   "source": [
    "Perfect! Our MB model reproduces the average observed MB, so the calibrated worked!\n",
    "\n",
    "We have calibrated the `melt_f` to match the average geodetic observation and fixed the other parameters. We will now instead fix the `melt_f` and the `prcp_fac` and use the `temp_bias` as free variable for calibration."
   ]
  },
  {
   "cell_type": "code",
   "execution_count": null,
   "metadata": {},
   "outputs": [],
   "source": [
    "# Let's calibrate on the temp_bias instead\n",
    "# overwrite_gdir has to be set to True, because we want to overwrite the old calibration\n",
    "mb_calibration_from_geodetic_mb(gdir,\n",
    "                                calibrate_param1='temp_bias',\n",
    "                                overwrite_gdir=True)\n",
    "\n",
    "mb_temp_b = massbalance.MonthlyTIModel(gdir)\n",
    "mbdf['mod_mb_temp_b'] = mb_temp_b.get_specific_mb(h, w, year=mbdf.index)"
   ]
  },
  {
   "cell_type": "markdown",
   "metadata": {},
   "source": [
    "Let's read the new calibrated MB model parameter for the glacier:"
   ]
  },
  {
   "cell_type": "code",
   "execution_count": null,
   "metadata": {},
   "outputs": [],
   "source": [
    "\n",
    "gdir.read_json('mb_calib')"
   ]
  },
  {
   "cell_type": "markdown",
   "metadata": {},
   "source": [
    "Here we used the median melt_f (i.e. 180 kg m-2 month-1 K-1) and changed the temperature bias until the average reference MB is matched. As the `melt_f` is lower than in the previous calibration option, we need to have a positive `temp_bias` to get to the same average MB."
   ]
  },
  {
   "cell_type": "markdown",
   "metadata": {},
   "source": [
    "**We can do the same with the precipitation factor (`prcp_fac`):** "
   ]
  },
  {
   "cell_type": "code",
   "execution_count": null,
   "metadata": {},
   "outputs": [],
   "source": [
    "# Let's calibrate on the prcp_fac instead\n",
    "# overwrite_gdir has to be set to True, because we want to overwrite the old calibration\n",
    "mb_calibration_from_geodetic_mb(gdir,\n",
    "                                calibrate_param1='prcp_fac',\n",
    "                                overwrite_gdir=True)\n",
    "\n",
    "mb_prcp_fac = massbalance.MonthlyTIModel(gdir)\n",
    "mbdf['mod_mb_prcp_fac'] = mb_prcp_fac.get_specific_mb(h, w, year=mbdf.index)\n",
    "gdir.read_json('mb_calib')"
   ]
  },
  {
   "cell_type": "markdown",
   "metadata": {},
   "source": [
    "We chose two glaciers that actually have also in-situ observations available. \n",
    "We will get the in-situ observations like that:"
   ]
  },
  {
   "cell_type": "code",
   "execution_count": null,
   "metadata": {},
   "outputs": [],
   "source": [
    "mbdf['in_situ_mb'] = gdir.get_ref_mb_data().loc[2000:2019]['ANNUAL_BALANCE']"
   ]
  },
  {
   "cell_type": "markdown",
   "metadata": {},
   "source": [
    "Let's plot how well we match the interannual observations for the different options:"
   ]
  },
  {
   "cell_type": "code",
   "execution_count": null,
   "metadata": {},
   "outputs": [],
   "source": [
    "plt.plot(mbdf['in_situ_mb'], label='in-situ observations\\n'+f'average 2000-2020: {mbdf.in_situ_mb.mean():.1f} '+ r'kg m$^{-2}$', color='grey', lw=3)\n",
    "plt.plot(mbdf['mod_mb'],\n",
    "         label='modelled mass-balance via calibrating melt_f\\n'+f'average 2000-2020: {mbdf.mod_mb.mean():.1f} ' + r'kg m$^{-2}$')\n",
    "plt.plot(mbdf['mod_mb_temp_b'],\n",
    "         label='modelled mass-balance via calibrating temp_bias\\n'+f'average 2000-2020: {mbdf.mod_mb_temp_b.mean():.1f} ' + r'kg m$^{-2}$')\n",
    "plt.plot(mbdf['mod_mb_prcp_fac'],\n",
    "         label='modelled mass-balance via calibrating prcp_fac\\n'+f'average 2000-2020: {mbdf.mod_mb_prcp_fac.mean():.1f} ' + r'kg m$^{-2}$')\n",
    "plt.xticks(np.arange(2000,2020,2))\n",
    "plt.legend(bbox_to_anchor=(1,1))\n",
    "plt.ylabel(r'specific mass-balance (kg m$^{-2}$)')\n",
    "plt.xlabel('Year');"
   ]
  },
  {
   "cell_type": "markdown",
   "metadata": {},
   "source": [
    "For this glacier, over the same time period (here 2000-2020), the average MB is quite similar between the geodetic and in-situ observation and could even be explained by the fact that the in-situ observations are in hydrological years (starting in October of the previous year) and the geodetic observations are in calendar years. If you repeat the analysis for another glacier (e.g. TODO), you will see larger discrepancies. You can also see, that the annual MB is different between the years and we will analyse this more systematically later! "
   ]
  },
  {
   "cell_type": "markdown",
   "metadata": {
    "tags": []
   },
   "source": [
    "## Other calibration options for glaciers with additional observations"
   ]
  },
  {
   "cell_type": "markdown",
   "metadata": {},
   "source": [
    "Ok, but actually you might trust the in-situ observations much more than the geodetic observation. So if you are only interested in glaciers with these in-situ observations, you can also use the in-situ observations for calibration. We will also calibrate instead over the entire time period.  \n",
    "\n",
    "Attention: For the Hintereisferner glacier with a 70-year long time series, the assumption that we make, i.e., that the area does not change over the time period, gets more problematic. So think twice before repeating this at home!"
   ]
  },
  {
   "cell_type": "code",
   "execution_count": null,
   "metadata": {},
   "outputs": [],
   "source": [
    "mbdf_in_situ = gdir.get_ref_mb_data()\n",
    "mbdf_in_situ['ref_mb'] = mbdf_in_situ['ANNUAL_BALANCE']\n",
    "ref_mb = mbdf_in_situ.ref_mb.mean()\n",
    "ref_period = f'{mbdf_in_situ.index[0]}-01-01_{mbdf_in_situ.index[-1] + 1}-01-01'"
   ]
  },
  {
   "cell_type": "code",
   "execution_count": null,
   "metadata": {},
   "outputs": [],
   "source": [
    "print(f\"We will calibrate now the `melt_f` to match the observed average {ref_mb:.1f} kg m-2 over the time period {ref_period}\")"
   ]
  },
  {
   "cell_type": "code",
   "execution_count": null,
   "metadata": {},
   "outputs": [],
   "source": [
    "mb_calibration_from_geodetic_mb(gdir, ref_mb=ref_mb, ref_period=ref_period, overwrite_gdir=True, write_to_gdir=True)\n",
    "mb_in_situ_obs = massbalance.MonthlyTIModel(gdir)"
   ]
  },
  {
   "cell_type": "code",
   "execution_count": null,
   "metadata": {},
   "outputs": [],
   "source": [
    "mbdf_in_situ['mod_mb'] = mb_in_situ_obs.get_specific_mb(h, w, year=mbdf_in_situ.index)\n",
    "plt.plot(mbdf_in_situ['ref_mb'], label='in-situ observations\\n'+f'average: {ref_mb:.1f} '+ r'kg m$^{-2}$', color='grey', lw=3)\n",
    "plt.plot(mbdf_in_situ['mod_mb'],\n",
    "         label='modelled mass-balance\\nvia calibrating melt_f\\n'+f'average: {mbdf_in_situ.mod_mb.mean():.1f} ' + r'kg m$^{-2}$')\n",
    "\n",
    "plt.legend()\n",
    "plt.ylabel(r'specific mass-balance (kg m$^{-2}$)')\n",
    "plt.xlabel('Year');"
   ]
  },
  {
   "cell_type": "markdown",
   "metadata": {},
   "source": [
    "When we look, however, into the annual mass-balance time series we do see quite some discrepancies:\n",
    "Although the average MB over the 70-year time period is mached, the interannual mass-balance variability is not matched. And also the correlation between modelled and observed annual MB is not perfect:"
   ]
  },
  {
   "cell_type": "code",
   "execution_count": null,
   "metadata": {},
   "outputs": [],
   "source": [
    "mbdf_in_situ.corr()['ref_mb']['mod_mb']\n"
   ]
  },
  {
   "cell_type": "markdown",
   "metadata": {},
   "source": [
    "### Include your own mass-balance observations and dealing with errors\n",
    "\n",
    "In the same way, you can also use your own mass-balance observations to calibrate the mass-balance model. We use here as an example, an unrealistically hight positive MB over a 10-year time period:\n"
   ]
  },
  {
   "cell_type": "code",
   "execution_count": null,
   "metadata": {},
   "outputs": [],
   "source": [
    "ref_period = '2000-01-01_2010-01-01'\n",
    "ref_mb = 2000 # Let's use an unrealistically positive  mass-balance\n",
    "mb_calibration_from_geodetic_mb(gdir, ref_mb=ref_mb,\n",
    "                                ref_period=ref_period, overwrite_gdir=True, write_to_gdir=True)\n"
   ]
  },
  {
   "cell_type": "markdown",
   "metadata": {},
   "source": [
    "We got a `RuntimeError` that says that the `ref_mb` is not matched and that we should set `calibrate_param2`. What happened? \n",
    "Well, no `melt_f` parameter could be found in the given ranges that could create such\n",
    "a positive `ref_mb`. "
   ]
  },
  {
   "cell_type": "code",
   "execution_count": null,
   "metadata": {},
   "outputs": [],
   "source": [
    "# What are the current minimum and maximum ranges of the melt factor (unit: kg m-2 month-1 K-1)\n",
    "cfg.PARAMS['monthly_melt_f_min'], cfg.PARAMS['monthly_melt_f_max']"
   ]
  },
  {
   "cell_type": "markdown",
   "metadata": {},
   "source": [
    "If we believe that our observations are true, maybe the climate or the processes represented by the MB model are erroneous. \n",
    "\n",
    "What can we do to still match the `ref_mb`? We can either change the `melt_f` ranges by setting other values to the parameters above or we can allow that another parameter is changed (i.e., `calibrate_param2`). This is basically very similar to the three-step-calibration \n",
    "first introduced in [Huss & Hock 2015](https://doi.org/10.3389/feart.2015.00054), but you can choose your parameter ranges and parameter order yourself. \n",
    "\n",
    "For our example, we will first change the `melt_f` and then change the `temp_bias` (this is the option that is used operationally in OGGM in the preprocessed levels >=3 for all glaciers world-wide):"
   ]
  },
  {
   "cell_type": "code",
   "execution_count": null,
   "metadata": {},
   "outputs": [],
   "source": [
    "# Allowing another parameter to change is done by defining calibrate_param2\n",
    "mb_calibration_from_geodetic_mb(gdir,ref_mb=ref_mb,\n",
    "                                ref_period=ref_period,\n",
    "                                calibrate_param2='temp_bias',\n",
    "                               overwrite_gdir=True)\n",
    "\n",
    "mb_new = massbalance.MonthlyTIModel(gdir)\n",
    "# ok, we actually matched the new ref_mb\n",
    "np.testing.assert_allclose(ref_mb,\n",
    "                           mb_new.get_specific_mb(h, w, year=np.arange(2000,2010,1)).mean())\n",
    "# Let's look at the calibrated parameters\n",
    "gdir.read_json('mb_calib')"
   ]
  },
  {
   "cell_type": "markdown",
   "metadata": {},
   "source": [
    "Ok, in that case, the climate was too warm to allow for such a positive MB. Even the lowest possible `melt_f` did not create positive enough MB. So, as a next step the temperature was corrected by using a negative `temp_bias`."
   ]
  },
  {
   "cell_type": "markdown",
   "metadata": {},
   "source": [
    "Also the `temp_bias` has a limited range:"
   ]
  },
  {
   "cell_type": "code",
   "execution_count": null,
   "metadata": {},
   "outputs": [],
   "source": [
    "cfg.PARAMS['temp_bias_min'], cfg.PARAMS['temp_bias_max']"
   ]
  },
  {
   "cell_type": "markdown",
   "metadata": {},
   "source": [
    "So, if we increase the `ref_mb` even further, we might even need a third free parameter (i.e., `calibrate_param3`). \n",
    "Let's try it out:"
   ]
  },
  {
   "cell_type": "code",
   "execution_count": null,
   "metadata": {},
   "outputs": [],
   "source": [
    "ref_mb = 3500\n",
    "mb_calibration_from_geodetic_mb(gdir,ref_mb=ref_mb,\n",
    "                                ref_period=ref_period,\n",
    "                                calibrate_param2='temp_bias',\n",
    "                                calibrate_param3='prcp_fac',\n",
    "                               overwrite_gdir=True)"
   ]
  },
  {
   "cell_type": "markdown",
   "metadata": {},
   "source": [
    "In that case, the minimum `melt_f` and the minimum `temp_bias` are applied. The `prcp_fac` is increased as this results in more solid precipitation. If you increased the `ref_mb` even further, the method will not find any combination as the `prcp_fac` also has a limited \n",
    "range. If you really want to match the observation, then you would need to change the parameter ranges."
   ]
  },
  {
   "cell_type": "code",
   "execution_count": null,
   "metadata": {},
   "outputs": [],
   "source": [
    "cfg.PARAMS['prcp_scaling_factor_min'], cfg.PARAMS['prcp_scaling_factor_max']"
   ]
  },
  {
   "cell_type": "markdown",
   "metadata": {},
   "source": [
    "## Overparameteristion or the magic choice of the best calibration option:"
   ]
  },
  {
   "cell_type": "markdown",
   "metadata": {},
   "source": [
    "We found already some combinations that equally well match the average MB. As we only use only one observation per glacier (i.e. per default the average geodetic MB from 2000-2020), but have up to three free MB model parameters, the MB model is overparameterised. Let's look a bit more systematically into that:\n",
    "\n",
    "We will use a range of different `prcp_fac` and then calibrate the `melt_f` accordingly to always match to the default average MB (`ref_mb`) over the reference period (`ref_period`)."
   ]
  },
  {
   "cell_type": "code",
   "execution_count": null,
   "metadata": {},
   "outputs": [],
   "source": [
    "# calibrate the melt_f and annual MB \n",
    "melt_f_dict = {}\n",
    "spec_mb_prcp_fac_sens_dict = {}\n",
    "\n",
    "for prcp_fac in np.arange(0.1,5.0,0.5):\n",
    "    calib_param = mb_calibration_from_geodetic_mb(gdir, prcp_scaling_factor=prcp_fac, overwrite_gdir=True)\n",
    "    melt_f_dict[prcp_fac] = calib_param['melt_f']\n",
    "    mb_prcp_fac_sens = massbalance.MonthlyTIModel(gdir)\n",
    "    # ok, we actually matched the new ref_mb\n",
    "    spec_mb_prcp_fac_sens_dict[prcp_fac] = mb_prcp_fac_sens.get_specific_mb(h, w, year=np.arange(2000,2020,1))\n"
   ]
  },
  {
   "cell_type": "code",
   "execution_count": null,
   "metadata": {},
   "outputs": [],
   "source": [
    "colors_prcp_fac = plt.get_cmap('viridis_r').colors[20::25]\n",
    "plt.figure()\n",
    "for j,prcp_fac in enumerate(melt_f_dict.keys()):\n",
    "    plt.plot(prcp_fac, melt_f_dict[prcp_fac], 'o', color=colors_prcp_fac[j])\n",
    "plt.ylabel(r'melt_f (kg m$^{-2}$ month$^{-1}$ K$^{-1}$)')\n",
    "plt.xlabel('prcp_fac')"
   ]
  },
  {
   "cell_type": "markdown",
   "metadata": {},
   "source": [
    "The larger the chosen `prcp_fac`, the larger is the calibrated `melt_f` when matching to the same average MB. \n",
    "\n",
    "What is the influence on the chosen parameter combination on other estimates than the average MB?"
   ]
  },
  {
   "cell_type": "code",
   "execution_count": null,
   "metadata": {},
   "outputs": [],
   "source": [
    "colors_prcp_fac = plt.get_cmap('viridis_r').colors[20::25]\n",
    "plt.figure()\n",
    "for j,prcp_fac in enumerate(melt_f_dict.keys()):\n",
    "    plt.plot(np.arange(2000,2020,1),\n",
    "             spec_mb_prcp_fac_sens_dict[prcp_fac], '-', color=colors_prcp_fac[j], label=prcp_fac)\n",
    "plt.plot(mbdf_in_situ.loc[2000:2019].index, mbdf_in_situ.loc[2000:2019]['ANNUAL_BALANCE'], color='grey', lw=3, \n",
    "        label='observed in-situ')\n",
    "plt.ylabel('Annual mass-balance (kg m-2)')\n",
    "plt.xlabel('Year')\n",
    "plt.legend(title='prcp_fac:', bbox_to_anchor=(1,1))\n",
    "plt.xticks(np.arange(2000,2020,2));\n",
    "plt.title(gdir.rgi_id)"
   ]
  },
  {
   "cell_type": "markdown",
   "metadata": {},
   "source": [
    "The larger `prcp_fac` and `melt_f`, the larger is the interannual MB variability. For glaciers with in-situ observations, we can find a combination of `prcp_fac` and `melt_f` that has a similar interannnual MB variability than the observations (for example by choosing the combination with the most similar standard deviation of interanual MB variability, see [Schuster et al., 2023]())."
   ]
  },
  {
   "cell_type": "markdown",
   "metadata": {},
   "source": [
    "**We can also fix the `prcp_fac` and change the `temp_b` and `melt_f` instead:**"
   ]
  },
  {
   "cell_type": "code",
   "execution_count": null,
   "metadata": {},
   "outputs": [],
   "source": [
    "melt_f_dict_tb = {}\n",
    "spec_mb_temp_b_sens_dict = {}\n",
    "\n",
    "for temp_bias in np.arange(-5,5.0,0.5):\n",
    "    # for too negative temp_bias, no melt_f is found that matches the observations. We would need to \n",
    "    # change the prcp_fac , but here we will just look\n",
    "    # at those combinations where calibration works with a fixed prcp_fac. \n",
    "    try:\n",
    "        calib_param = mb_calibration_from_geodetic_mb(gdir, temp_bias=temp_bias, overwrite_gdir=True)\n",
    "        melt_f_dict_tb[temp_bias] = calib_param['melt_f']\n",
    "        mb_temp_b_sens = massbalance.MonthlyTIModel(gdir)\n",
    "        # ok, we actually matched the new ref_mb\n",
    "        spec_mb_temp_b_sens_dict[temp_bias] = mb_temp_b_sens.get_specific_mb(h, w, year=np.arange(2000,2020,1))\n",
    "    except RuntimeError: #, 'RGI60-11.00897: ref mb not matched. Try to set calibrate_param2'\n",
    "        pass\n"
   ]
  },
  {
   "cell_type": "code",
   "execution_count": null,
   "metadata": {},
   "outputs": [],
   "source": [
    "# let's get a nice colormap centered at temp_bias=0\n",
    "import matplotlib\n",
    "norm = matplotlib.colors.Normalize(vmin=-5, vmax=5.01)\n",
    "colors_temp_bias = plt.get_cmap('coolwarm')\n",
    "\n",
    "plt.figure()\n",
    "for j,temp_bias in enumerate(melt_f_dict_tb.keys()):\n",
    "    plt.plot(temp_bias, melt_f_dict_tb[temp_bias], 'o',\n",
    "             color=colors_temp_bias(norm(temp_bias))) #colors_temp_bias[j])\n",
    "plt.ylabel(r'melt_f (kg m$^{-2}$ month$^{-1}$ K$^{-1}$)')\n",
    "plt.xlabel('temp_bias (°C)')"
   ]
  },
  {
   "cell_type": "markdown",
   "metadata": {},
   "source": [
    "A lower `melt_f` is needed if a positive `temp_bias` is applied!"
   ]
  },
  {
   "cell_type": "code",
   "execution_count": null,
   "metadata": {},
   "outputs": [],
   "source": [
    "plt.figure()\n",
    "for temp_bias in melt_f_dict_tb.keys():\n",
    "    plt.plot(np.arange(2000,2020,1),\n",
    "             spec_mb_temp_b_sens_dict[temp_bias], '-', \n",
    "             color=colors_temp_bias(norm(temp_bias)),\n",
    "             label=temp_bias)\n",
    "plt.plot(mbdf_in_situ.loc[2000:2019].index, mbdf_in_situ.loc[2000:2019]['ANNUAL_BALANCE'], color='grey', lw=3, \n",
    "        label='observed in-situ')\n",
    "plt.ylabel('Annual mass-balance (kg m-2)')\n",
    "plt.xlabel('Year')\n",
    "plt.legend(title='temp_bias:', bbox_to_anchor=(1,1))\n",
    "plt.xticks(np.arange(2000,2020,2));\n",
    "plt.title(gdir.rgi_id)"
   ]
  },
  {
   "cell_type": "markdown",
   "metadata": {},
   "source": [
    "And the interannual MB variability gets smaller when large positive temperature biases are applied. "
   ]
  },
  {
   "cell_type": "code",
   "execution_count": null,
   "metadata": {},
   "outputs": [],
   "source": []
  },
  {
   "cell_type": "markdown",
   "metadata": {},
   "source": [
    "## Take home points"
   ]
  },
  {
   "cell_type": "markdown",
   "metadata": {},
   "source": [
    "- We illustrated how a mass-balance (MB) model of a glacier can be calibrated in OGGM.  \n",
    "- We can use different observational data for calibration: \n",
    "    - calibrating to geodetic observations using different time periods, to in-situ direct glaciological observations from the WGMS (if available) or to other custom MB data.  \n",
    "- There exist different ways of calibrating to the average observational data:\n",
    "    - default is to calibrate the `melt_f`, and having the `prcp_fac` and `temp_bias` fixed. If the calibration does not work, the `temp_bias` is varied aswell. This is the option that is used operationally in OGGM in the preprocessed levels >=3 for all glaciers world-wide.\n",
    "    - you can also calibrate instead `prcp_fac` or `temp_bias` and fix the other parameters.\n",
    "    - However, we showed that the parameter combination choice has an influence on other estimates than the average MB. The model parameter calibration choice can also impact future volume and runoff projections. If you are further interested in that you can have a look into [Schuster et al., 2023]() which analyses the \"Glacier projections sensitivity to temperature-index model choices and calibration strategies\". \n",
    "- As user of OGGM, you will most likely just use the default calibration option. However, it is good to be aware of the overparameterisation problem. In addition, if you want to include uncertainties of the MB model calibration, you could include additional experiments that use another calibration option. With more available observational data or improved climate data, you might also be able to use better ways to calibrate the MB model parameters. \n"
   ]
  },
  {
   "cell_type": "markdown",
   "metadata": {},
   "source": [
    "## What's next?\n",
    "- return to the [OGGM documentation](https://docs.oggm.org)\n",
    "- back to the [table of contents](welcome.ipynb)"
   ]
  },
  {
   "cell_type": "code",
   "execution_count": null,
   "metadata": {},
   "outputs": [],
   "source": []
  }
 ],
 "metadata": {
  "hide_input": false,
  "kernelspec": {
   "display_name": "Python 3 (ipykernel)",
   "language": "python",
   "name": "python3"
  },
  "language_info": {
   "codemirror_mode": {
    "name": "ipython",
    "version": 3
   },
   "file_extension": ".py",
   "mimetype": "text/x-python",
   "name": "python",
   "nbconvert_exporter": "python",
   "pygments_lexer": "ipython3",
   "version": "3.8.15"
  },
  "latex_envs": {
   "LaTeX_envs_menu_present": true,
   "autoclose": false,
   "autocomplete": true,
   "bibliofile": "biblio.bib",
   "cite_by": "apalike",
   "current_citInitial": 1,
   "eqLabelWithNumbers": true,
   "eqNumInitial": 1,
   "hotkeys": {
    "equation": "Ctrl-E",
    "itemize": "Ctrl-I"
   },
   "labels_anchors": false,
   "latex_user_defs": false,
   "report_style_numbering": false,
   "user_envs_cfg": false
  },
  "nbTranslate": {
   "displayLangs": [
    "*"
   ],
   "hotkey": "alt-t",
   "langInMainMenu": true,
   "sourceLang": "en",
   "targetLang": "fr",
   "useGoogleTranslate": true
  },
  "toc": {
   "base_numbering": 1,
   "nav_menu": {},
   "number_sections": false,
   "sideBar": true,
   "skip_h1_title": true,
   "title_cell": "Table of Contents",
   "title_sidebar": "Contents",
   "toc_cell": false,
   "toc_position": {},
   "toc_section_display": true,
   "toc_window_display": false
  }
 },
 "nbformat": 4,
 "nbformat_minor": 4
}
