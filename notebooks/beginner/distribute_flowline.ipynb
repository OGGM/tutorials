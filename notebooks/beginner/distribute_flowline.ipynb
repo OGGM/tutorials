{
 "cells": [
  {
   "cell_type": "markdown",
   "id": "c10fd154-c7eb-44ab-a3f6-203e0c3b9f81",
   "metadata": {},
   "source": [
    "# Compute area and thickness changes on a grid (nice, but experimental!)"
   ]
  },
  {
   "cell_type": "code",
   "execution_count": null,
   "id": "eb728ce4",
   "metadata": {
    "tags": []
   },
   "outputs": [],
   "source": [
    "from oggm import cfg\n",
    "from oggm import tasks, utils, workflow, graphics, DEFAULT_BASE_URL\n",
    "import xarray as xr\n",
    "import matplotlib.pyplot as plt"
   ]
  },
  {
   "cell_type": "markdown",
   "id": "729da606",
   "metadata": {},
   "source": [
    "This notebook proposes a method for redistributing glacier ice that has been simulated along the flowline after a glacier retreat simulation. Extrapolating the glacier ice onto a map involves certain assumptions and trade-offs. Depending on the purpose, different choices may be preferred. For example, higher resolution may be desired for visualization compared to using the output for a hydrological model. It is possible to add different options to the final function to allow users to select the option that best suits their needs.\n",
    "\n",
    "This notebook demonstrates the redistribution process using a single glacier. Its purpose is to initiate further discussion before incorporating it into the main OGGM code base (currently, it is in the sandbox)."
   ]
  },
  {
   "cell_type": "markdown",
   "id": "03a90daf-0095-48db-b8ac-e375f92b2a8e",
   "metadata": {},
   "source": [
    "## Pick a glacier "
   ]
  },
  {
   "cell_type": "code",
   "execution_count": null,
   "id": "504b03c3",
   "metadata": {
    "tags": []
   },
   "outputs": [],
   "source": [
    "# Initialize OGGM and set up the default run parameters\n",
    "cfg.initialize(logging_level='WARNING')\n",
    "\n",
    "# Local working directory (where OGGM will write its output)\n",
    "# WORKING_DIR = utils.gettempdir('OGGM_distr4')\n",
    "cfg.PATHS['working_dir'] = utils.get_temp_dir('OGGM_distributed', reset=True)"
   ]
  },
  {
   "cell_type": "code",
   "execution_count": null,
   "id": "4c86bebf",
   "metadata": {
    "tags": []
   },
   "outputs": [],
   "source": [
    "rgi_ids = ['RGI60-11.01450']  # This is Aletsch\n",
    "gdir = workflow.init_glacier_directories(rgi_ids, prepro_base_url=DEFAULT_BASE_URL, from_prepro_level=4, prepro_border=80)[0]"
   ]
  },
  {
   "cell_type": "markdown",
   "id": "51adee20",
   "metadata": {
    "tags": []
   },
   "source": [
    "### Experiment: a random warming simulation"
   ]
  },
  {
   "cell_type": "markdown",
   "id": "a24878ce-7998-404e-9925-6d48b6fe2b5f",
   "metadata": {},
   "source": [
    "Here we use a random climate, but you can use any GCM, as long as glaciers are getting smaller, not bigger!"
   ]
  },
  {
   "cell_type": "code",
   "execution_count": null,
   "id": "0587e522-2e98-4098-aff0-7c346e8107be",
   "metadata": {
    "tags": []
   },
   "outputs": [],
   "source": [
    "# Do a random run with a bit of warming\n",
    "tasks.run_random_climate(gdir, \n",
    "                         ys=2020, ye=2100,  # Although the simulation is idealised, lets use real dates for the animation\n",
    "                         y0=2009, halfsize=10,  # Randome climate of 1999-2019\n",
    "                         seed=1,  # Random number generator seed \n",
    "                         temperature_bias=1.5,  # additional warming - change for other scenarios\n",
    "                         store_fl_diagnostics=True,  # important! This will be needed for the redistribution\n",
    "                         init_model_filesuffix='_spinup_historical',  # start from the spinup run\n",
    "                         output_filesuffix='_random_s1',  # optional - here I just want to make things explicit as to which run we are using afterwards\n",
    "                        );"
   ]
  },
  {
   "cell_type": "markdown",
   "id": "5253f50b-c3f6-4fb4-99b9-35b880aa8de5",
   "metadata": {},
   "source": [
    "## Redistribute: preprocessing"
   ]
  },
  {
   "cell_type": "markdown",
   "id": "e3766596-9cd9-467e-a741-0c25e6b0ec3b",
   "metadata": {},
   "source": [
    "The required tasks can be found in the `distribute_2d` module of the sandbox:"
   ]
  },
  {
   "cell_type": "code",
   "execution_count": null,
   "id": "8ef440c6-3ceb-4383-ada6-dcb63ca5fa43",
   "metadata": {
    "tags": []
   },
   "outputs": [],
   "source": [
    "from oggm.sandbox import distribute_2d"
   ]
  },
  {
   "cell_type": "code",
   "execution_count": null,
   "id": "7bbf4da9-b704-459b-b656-1fb9b9ea2337",
   "metadata": {
    "tags": []
   },
   "outputs": [],
   "source": [
    "# This is to add a new topography to the file (smoothed differently)\n",
    "distribute_2d.add_smoothed_glacier_topo(gdir)\n",
    "# This is to get the bed map at the start of the simulation\n",
    "tasks.distribute_thickness_per_altitude(gdir)\n",
    "# This is to prepare the glacier directory for the interpolation (needs to be done only once)\n",
    "distribute_2d.assign_points_to_band(gdir)"
   ]
  },
  {
   "cell_type": "markdown",
   "id": "fe11b54f-571b-4549-8e9d-e364aa95153f",
   "metadata": {},
   "source": [
    "Let's have a look at what we just did:"
   ]
  },
  {
   "cell_type": "code",
   "execution_count": null,
   "id": "bd7720e7-2501-43f8-8ee6-0501d7eb160a",
   "metadata": {
    "tags": []
   },
   "outputs": [],
   "source": [
    "with xr.open_dataset(gdir.get_filepath('gridded_data')) as ds:\n",
    "    ds = ds.load()"
   ]
  },
  {
   "cell_type": "code",
   "execution_count": null,
   "id": "7ba7cdd2-bd73-4d6b-b472-c4ce4bf4ef03",
   "metadata": {
    "tags": []
   },
   "outputs": [],
   "source": [
    "# Inititial glacier thickness\n",
    "f, ax = plt.subplots()\n",
    "ds.distributed_thickness.plot(ax=ax);\n",
    "ax.axis('equal');"
   ]
  },
  {
   "cell_type": "code",
   "execution_count": null,
   "id": "335f858d-4898-4769-a447-0a90deed9bc2",
   "metadata": {
    "tags": []
   },
   "outputs": [],
   "source": [
    "# Which points belongs to which band, and then within one band which are the first to melt\n",
    "f, (ax1, ax2) = plt.subplots(1, 2, figsize=(12, 4))\n",
    "ds.band_index.plot(ax=ax1);\n",
    "ds.rank_per_band.plot(ax=ax2);\n",
    "ax1.axis('equal'); ax2.axis('equal'); plt.tight_layout();"
   ]
  },
  {
   "cell_type": "markdown",
   "id": "98515c10-a2c0-47db-915d-7d143345b317",
   "metadata": {
    "tags": []
   },
   "source": [
    "## Redistribute simulation "
   ]
  },
  {
   "cell_type": "markdown",
   "id": "a88e826e-dcf9-43a8-bca0-6d3dddf3c8a2",
   "metadata": {},
   "source": [
    "The tasks above need to be run only once. The next one however should be done for each simulation:"
   ]
  },
  {
   "cell_type": "code",
   "execution_count": null,
   "id": "be21018c-fc67-4e7a-9adf-c71d9da1944c",
   "metadata": {
    "tags": []
   },
   "outputs": [],
   "source": [
    "ds = distribute_2d.distribute_thickness_from_simulation(gdir, \n",
    "                                                        input_filesuffix='_random_s1',  # Use the simulation we just did\n",
    "                                                        concat_input_filesuffix='_spinup_historical',  # Concatenate with the historical spinup\n",
    "                                                        )"
   ]
  },
  {
   "cell_type": "markdown",
   "id": "30e60e71-8753-4c58-b38b-8ce3dd8daf12",
   "metadata": {},
   "source": [
    "## Plot "
   ]
  },
  {
   "cell_type": "markdown",
   "id": "32ebbfee-5ff9-4cad-b642-67701b8ee4f4",
   "metadata": {},
   "source": [
    "Let's have a look!"
   ]
  },
  {
   "cell_type": "code",
   "execution_count": null,
   "id": "bc10382e-3f9b-4c6b-aaa2-b092ddedba09",
   "metadata": {
    "tags": []
   },
   "outputs": [],
   "source": [
    "# # This below is only to open the file again later if needed\n",
    "# with xr.open_dataset(gdir.get_filepath('gridded_simulation', filesuffix='_random_s1')) as ds:\n",
    "#     ds = ds.load()"
   ]
  },
  {
   "cell_type": "code",
   "execution_count": null,
   "id": "4f02cbd9-00de-42fb-be14-e8beb3285007",
   "metadata": {
    "tags": []
   },
   "outputs": [],
   "source": [
    "f, (ax1, ax2, ax3) = plt.subplots(1, 3, figsize=(14, 4))\n",
    "ds.distributed_thickness.sel(time=2000).plot(ax=ax1, vmax=400);\n",
    "ds.distributed_thickness.sel(time=2050).plot(ax=ax2, vmax=400);\n",
    "ds.distributed_thickness.sel(time=2100).plot(ax=ax3, vmax=400);\n",
    "ax1.axis('equal'); ax2.axis('equal'); plt.tight_layout();"
   ]
  },
  {
   "cell_type": "markdown",
   "id": "76b0c74d-3fc5-47a5-856b-5ddae60f93c9",
   "metadata": {},
   "source": [
    "Note: the simulation before the RGI date cannot be trusted - it is the result of the dynamical spinup. Furthermore, if the area is larger than the RGI glacier, the redistribution algorithm will put all mass in the glacier mask, which is not what we want: "
   ]
  },
  {
   "cell_type": "code",
   "execution_count": null,
   "id": "9bf5f371-2762-4748-a28a-1c4223bdc33f",
   "metadata": {
    "tags": []
   },
   "outputs": [],
   "source": [
    "area = (ds.distributed_thickness > 0).sum(dim=['x', 'y']) * gdir.grid.dx**2 * 1e-6\n",
    "area.plot(label='Distributed area');\n",
    "plt.hlines(gdir.rgi_area_km2, gdir.rgi_date, 2100, color='C3', linestyles='--', label='RGI Area');\n",
    "plt.legend(loc='lower left'); plt.ylabel('Area [km2]');"
   ]
  },
  {
   "cell_type": "markdown",
   "id": "e53752e5-e569-4f94-b7a2-12eb834b40f5",
   "metadata": {},
   "source": [
    "Volume however is conserved:"
   ]
  },
  {
   "cell_type": "code",
   "execution_count": null,
   "id": "00bd4ae6-9d95-480c-a14c-f8377fb276d9",
   "metadata": {
    "tags": []
   },
   "outputs": [],
   "source": [
    "vol = ds.distributed_thickness.sum(dim=['x', 'y']) * gdir.grid.dx**2 * 1e-9\n",
    "vol.plot(label='Distributed volume'); plt.ylabel('Distributed volume [km3]');"
   ]
  },
  {
   "cell_type": "markdown",
   "id": "a6e58665-a846-41e8-aa66-51290bfde444",
   "metadata": {},
   "source": [
    "Therefore, lets just keep all data after the RGI year only:"
   ]
  },
  {
   "cell_type": "code",
   "execution_count": null,
   "id": "0374a13d-7caa-495c-a15a-143d72c8b84f",
   "metadata": {
    "tags": []
   },
   "outputs": [],
   "source": [
    "ds = ds.sel(time=slice(gdir.rgi_date, None))"
   ]
  },
  {
   "cell_type": "markdown",
   "id": "5b6fbede-7bf2-4f2e-a012-4c55cf39839b",
   "metadata": {},
   "source": [
    "## Animation!"
   ]
  },
  {
   "cell_type": "code",
   "execution_count": null,
   "id": "1b8249b3",
   "metadata": {
    "jupyter": {
     "outputs_hidden": false
    }
   },
   "outputs": [],
   "source": [
    "from matplotlib import animation\n",
    "from IPython.display import HTML, display\n",
    "\n",
    "# Get a handle on the figure and the axes\n",
    "fig, ax = plt.subplots()\n",
    "\n",
    "thk = ds['distributed_thickness']\n",
    "\n",
    "# Plot the initial frame. \n",
    "cax = thk.isel(time=0).plot(ax=ax,\n",
    "    add_colorbar=True,\n",
    "    cmap='viridis',\n",
    "    vmin=0, vmax=350,\n",
    "    cbar_kwargs={\n",
    "        'extend':'neither'\n",
    "    }\n",
    ")\n",
    "ax.axis('equal')\n",
    "\n",
    "def animate(frame):\n",
    "    ax.set_title(f'Year {int(thk.time[frame])}')\n",
    "    cax.set_array(thk.values[frame, :].flatten())\n",
    "\n",
    "ani_glacier = animation.FuncAnimation(fig, animate, frames=len(thk.time), interval=100);"
   ]
  },
  {
   "cell_type": "code",
   "execution_count": null,
   "id": "024bc499-bcb1-43e3-aa0c-5765b7397f13",
   "metadata": {
    "tags": []
   },
   "outputs": [],
   "source": [
    "HTML(ani_glacier.to_jshtml())"
   ]
  },
  {
   "cell_type": "code",
   "execution_count": null,
   "id": "d02b3bdd-43ec-439d-aaea-d14c08952ded",
   "metadata": {
    "tags": []
   },
   "outputs": [],
   "source": [
    "# Write to mp4?\n",
    "# FFwriter = animation.FFMpegWriter(fps=10)\n",
    "# ani2.save('animation.mp4', writer=FFwriter)"
   ]
  },
  {
   "cell_type": "markdown",
   "id": "4ef3b718-744b-4b03-8d70-c8f2ccdcb543",
   "metadata": {},
   "source": [
    "## Finetune the visualisation "
   ]
  },
  {
   "cell_type": "markdown",
   "id": "7728bc87-d427-4ed5-b2e4-9cc9230a9e73",
   "metadata": {},
   "source": [
    "When applying the tools you might see that sometimes the timeseries are \"shaky\", or have sudden changes in area. This comes from a few reasons:\n",
    "- OGGM does not distinguish between ice and snow, i.e. when it snows a lot sometimes OGGM thinks there is a glacier for a couple of years.\n",
    "- the trapezoidal flowlines result in sudden (\"step\") area changes when they melt entirely. \n",
    "- on small glaciers, the changes within one year can be big, and you may want to have more intermediate frames\n",
    "\n",
    "We implement some workarounds for these situations:"
   ]
  },
  {
   "cell_type": "code",
   "execution_count": null,
   "id": "b32fe6e3-bec9-493e-9267-fbe1dddb4e20",
   "metadata": {
    "tags": []
   },
   "outputs": [],
   "source": [
    "ds_smooth = distribute_2d.distribute_thickness_from_simulation(gdir,\n",
    "                                                               input_filesuffix='_random_s1',\n",
    "                                                               concat_input_filesuffix='_spinup_historical', \n",
    "                                                               ys=2003, ye=2100,  # make the output smaller\n",
    "                                                               output_filesuffix='_random_s1_smooth',  # do not overwrite the previous file (optional) \n",
    "                                                               # add_monthly=True,  # more frames! (12 times more - we comment for the demo, but recommend it)\n",
    "                                                               rolling_mean_smoothing=7,  # smooth the area time series\n",
    "                                                               fl_thickness_threshold=1,  # avoid snow patches to be nisclassified\n",
    "                                                               )"
   ]
  },
  {
   "cell_type": "code",
   "execution_count": null,
   "id": "afd9c041-ee9d-429d-8910-5786c2b8fd70",
   "metadata": {
    "tags": []
   },
   "outputs": [],
   "source": [
    "area = (ds.distributed_thickness > 0).sum(dim=['x', 'y']) * gdir.grid.dx**2 * 1e-6\n",
    "area.plot(label='Distributed area (raw)');\n",
    "area = (ds_smooth.distributed_thickness > 0).sum(dim=['x', 'y']) * gdir.grid.dx**2 * 1e-6\n",
    "area.plot(label='Distributed area (smooth)');\n",
    "plt.legend(loc='lower left'); plt.ylabel('Area [km2]');"
   ]
  },
  {
   "cell_type": "code",
   "execution_count": null,
   "id": "392fa610-1d3d-4eab-a46a-33879e8b2e57",
   "metadata": {
    "tags": []
   },
   "outputs": [],
   "source": [
    "# Get a handle on the figure and the axes\n",
    "fig, ax = plt.subplots()\n",
    "\n",
    "thk = ds_smooth['distributed_thickness']\n",
    "\n",
    "# Plot the initial frame. \n",
    "cax = thk.isel(time=0).plot(ax=ax,\n",
    "    add_colorbar=True,\n",
    "    cmap='viridis',\n",
    "    vmin=0, vmax=350,\n",
    "    cbar_kwargs={\n",
    "        'extend':'neither'\n",
    "    }\n",
    ")\n",
    "ax.axis('equal')\n",
    "\n",
    "def animate(frame):\n",
    "    ax.set_title(f'Year {float(thk.time[frame]):.1f}')\n",
    "    cax.set_array(thk.values[frame, :].flatten())\n",
    "\n",
    "ani_glacier = animation.FuncAnimation(fig, animate, frames=len(thk.time), interval=100);"
   ]
  },
  {
   "cell_type": "code",
   "execution_count": null,
   "id": "881d499d-afdf-47ac-96b1-ba1b986dca78",
   "metadata": {
    "tags": []
   },
   "outputs": [],
   "source": [
    "# Visualize\n",
    "HTML(ani_glacier.to_jshtml())"
   ]
  },
  {
   "cell_type": "code",
   "execution_count": null,
   "id": "ff1db52e-2e19-463a-af4a-14413cb6f476",
   "metadata": {
    "tags": []
   },
   "outputs": [],
   "source": [
    "# Write to mp4?\n",
    "# FFwriter = animation.FFMpegWriter(fps=120)\n",
    "# ani2.save('animation_smooth.mp4', writer=FFwriter)"
   ]
  },
  {
   "cell_type": "markdown",
   "id": "d72fb303-8522-4661-93ed-aa651ec2901f",
   "metadata": {},
   "source": [
    "## Nice 3D videos "
   ]
  },
  {
   "cell_type": "markdown",
   "id": "e1dc6c04-a550-4d8c-a22c-e75265249d3c",
   "metadata": {},
   "source": [
    "We are working on a tool to make even nicer videos like this one:"
   ]
  },
  {
   "cell_type": "code",
   "execution_count": null,
   "id": "b2218d7e-888d-48e4-a0a7-2a79ba273bb4",
   "metadata": {
    "tags": []
   },
   "outputs": [],
   "source": [
    "from IPython.display import Video\n",
    "Video(\"../../img/mittelbergferner.mp4\")"
   ]
  },
  {
   "cell_type": "markdown",
   "id": "7f55abad-831b-458c-bfd4-b28c843e167d",
   "metadata": {},
   "source": [
    "The WIP tool is available here: https://github.com/OGGM/oggm-3dviz"
   ]
  }
 ],
 "metadata": {
  "kernelspec": {
   "display_name": "Python 3 (ipykernel)",
   "language": "python",
   "name": "python3"
  },
  "language_info": {
   "codemirror_mode": {
    "name": "ipython",
    "version": 3
   },
   "file_extension": ".py",
   "mimetype": "text/x-python",
   "name": "python",
   "nbconvert_exporter": "python",
   "pygments_lexer": "ipython3",
   "version": "3.10.4"
  }
 },
 "nbformat": 4,
 "nbformat_minor": 5
}
