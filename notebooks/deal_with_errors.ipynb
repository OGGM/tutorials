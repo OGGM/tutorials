{
 "cells": [
  {
   "cell_type": "markdown",
   "metadata": {},
   "source": [
    "# Dealing with errors after a run"
   ]
  },
  {
   "cell_type": "markdown",
   "metadata": {},
   "source": [
    "In this example, we run the model on a list of three glaciers:\n",
    "two of them will end with errors: one because it already failed at\n",
    "preprocessing (i.e. prior to this run), and one during the run. We show how to recover from these errors and analyze them.\n",
    "\n",
    "Some errors are also described in the OGGM documentation under [troubleshooting](https://docs.oggm.org/en/latest/faq.html?highlight=border#troubleshooting)."
   ]
  },
  {
   "cell_type": "markdown",
   "metadata": {},
   "source": [
    "## The run"
   ]
  },
  {
   "cell_type": "code",
   "execution_count": null,
   "metadata": {},
   "outputs": [],
   "source": [
    "# Libs\n",
    "import pandas as pd\n",
    "import xarray as xr\n",
    "\n",
    "# Locals\n",
    "import oggm.cfg as cfg\n",
    "from oggm import utils, workflow, tasks\n",
    "\n",
    "# Initialize OGGM and set up the default run parameters\n",
    "cfg.initialize(logging_level='WARNING')\n",
    "\n",
    "# Here we override some of the default parameters\n",
    "# How many grid points around the glacier?\n",
    "# We make it small because we want the model to error because\n",
    "# of flowing out of the domain\n",
    "cfg.PARAMS['border'] = 80\n",
    "\n",
    "# This is the important bit!\n",
    "# We tell OGGM to continue despite of errors\n",
    "cfg.PARAMS['continue_on_error'] = True\n",
    "\n",
    "# Local working directory (where OGGM will write its output)\n",
    "WORKING_DIR = utils.gettempdir('OGGM_Errors')\n",
    "utils.mkdir(WORKING_DIR, reset=True)\n",
    "cfg.PATHS['working_dir'] = WORKING_DIR\n",
    "\n",
    "rgi_ids = ['RGI60-11.00897', 'RGI60-11.01450', 'RGI60-11.03295']\n",
    "\n",
    "# Go - get the pre-processed glacier directories\n",
    "gdirs = workflow.init_glacier_directories(rgi_ids, from_prepro_level=4)\n",
    "\n",
    "# We can step directly to the experiment!\n",
    "# Random climate representative for the recent climate (1985-2015)\n",
    "# with a negative bias added to the random temperature series\n",
    "workflow.execute_entity_task(tasks.run_random_climate, gdirs,\n",
    "                             nyears=150, seed=0,\n",
    "                             temperature_bias=-1)\n",
    "\n",
    "# Write the compiled output\n",
    "utils.compile_glacier_statistics(gdirs);  # this is saved as glacier_statistics.csv in the WORKING_DIR folder\n",
    "utils.compile_run_output(gdirs);  # this is saved as run_output.nc in the WORKING_DIR folder"
   ]
  },
  {
   "cell_type": "markdown",
   "metadata": {},
   "source": [
    "## Show output"
   ]
  },
  {
   "cell_type": "code",
   "execution_count": null,
   "metadata": {},
   "outputs": [],
   "source": [
    "# read aggregated output that is saved in WORKING_DIR\n",
    "ds = xr.open_dataset(WORKING_DIR +'/run_output.nc')\n",
    "pd_stats = pd.read_csv(WORKING_DIR+'/glacier_statistics.csv', index_col = 'rgi_id')"
   ]
  },
  {
   "cell_type": "code",
   "execution_count": null,
   "metadata": {},
   "outputs": [],
   "source": [
    "# all possible statistics about the glaciers\n",
    "pd_stats"
   ]
  },
  {
   "cell_type": "markdown",
   "metadata": {},
   "source": [
    "- in the column *error_task* of *pd_stats*, we can see whether an error occurred, and if yes during which task\n",
    "- *error_msg* describes the actual error message "
   ]
  },
  {
   "cell_type": "code",
   "execution_count": null,
   "metadata": {},
   "outputs": [],
   "source": [
    "pd_stats[['error_task', 'error_msg']]"
   ]
  },
  {
   "cell_type": "markdown",
   "metadata": {},
   "source": [
    "We can also check which glacier failed at which task by using [compile_task_log]('https://docs.oggm.org/en/latest/generated/oggm.utils.compile_task_log.html#oggm.utils.compile_task_log')."
   ]
  },
  {
   "cell_type": "code",
   "execution_count": null,
   "metadata": {},
   "outputs": [],
   "source": [
    "utils.compile_task_log(gdirs, task_names =['glacier_masks', 'compute_centerlines', 'flowline_model_run']) # this is saved as task_log.csv in the WORKING_DIR folder\n",
    "# these are just example tasks that could be used to check for, others could be included as well"
   ]
  },
  {
   "cell_type": "markdown",
   "metadata": {},
   "source": [
    "### RuntimeError occurred during task flowline_model_run on *RGI60-11.00897*\n",
    "\n",
    "Glacier exceeds domain boundaries, at year: 98.08333333333333\n",
    "\n",
    "- to remove this error just increase the domain boundary **before** doing `init_glacier_directories` ! Attention, this means that more data has to be downloaded and takes also much more time.\n",
    "\n",
    "    The available options for `cfg.PARAMS['border']` are **10, 40, 80 or 160** at the moment; the unit is number of grid points outside the glacier boundaries. More about that in the OGGM documentation under [preprocessed files](https://docs.oggm.org/en/latest/input-data.html#pre-processed-directories)."
   ]
  },
  {
   "cell_type": "code",
   "execution_count": null,
   "metadata": {},
   "outputs": [],
   "source": [
    "# reset to recompute statistics\n",
    "utils.mkdir(WORKING_DIR, reset=True)\n",
    "cfg.PATHS['working_dir'] = WORKING_DIR\n",
    "\n",
    "# increase the surrounding amount of gridpoints\n",
    "cfg.PARAMS['border'] = 160 \n",
    "gdirs = workflow.init_glacier_directories(rgi_ids, from_prepro_level=4)\n",
    "workflow.execute_entity_task(tasks.run_random_climate, gdirs,\n",
    "                             nyears=150, seed=0,\n",
    "                             temperature_bias=-1);\n",
    "\n",
    "# recompute the output\n",
    "# we can also get the run output directly from the methods\n",
    "pd_stats = utils.compile_glacier_statistics(gdirs);  \n",
    "ds = utils.compile_run_output(gdirs);  "
   ]
  },
  {
   "cell_type": "code",
   "execution_count": null,
   "metadata": {},
   "outputs": [],
   "source": [
    "# check again\n",
    "pd_stats[['error_task', 'error_msg']]\n"
   ]
  },
  {
   "cell_type": "markdown",
   "metadata": {},
   "source": [
    "now *RGI60-11.00897* passes without errors!"
   ]
  },
  {
   "cell_type": "markdown",
   "metadata": {},
   "source": [
    "## InvalidWorkflowError occurred during task run_random_climate on *RGI60-11.03295*\n",
    "Need a valid `model_flowlines` file. If you explicitly want to use `inversion_flowlines`, set use_inversion_flowlines=True\n",
    "\n",
    "- This error message is misleading and does not really describe the source of the error. Therefore we can look instead into the glacier_statistics via [compile_glacier_statistics](https://docs.oggm.org/en/latest/generated/oggm.utils.compile_glacier_statistics.html) or into the log output via [compile_task_log](https://docs.oggm.org/en/latest/generated/oggm.utils.compile_task_log.html#oggm.utils.compile_task_log)"
   ]
  },
  {
   "cell_type": "code",
   "execution_count": null,
   "metadata": {},
   "outputs": [],
   "source": [
    "print('error_task: {}, error_msg: {}'.format(pd_stats.loc['RGI60-11.03295']['error_task'], \n",
    "                                             pd_stats.loc['RGI60-11.03295']['error_msg']))"
   ]
  },
  {
   "cell_type": "markdown",
   "metadata": {},
   "source": [
    "Now we have a better understanding of the error for *RGI60-11.03295*: \n",
    "- OGGM can not work with this geometry of this glacier and could therefore not make a gridded mask of the glacier outlines. \n",
    "- there is no way to prevent this except you find a better way to pre-process the geometry of this glacier\n",
    "- these glaciers have to be ignored! Less than 0.3% of glaciers globally have errors during the geometry processing or failures in computing certain topographical properties by e.g. invalid DEM, see [Sect. 4.2 Invalid Glaciers of the OGGM paper (Maussion et al., 2019)](https://gmd.copernicus.org/articles/12/909/2019/#section4)\n"
   ]
  },
  {
   "cell_type": "markdown",
   "metadata": {},
   "source": [
    "## Ignoring those glaciers with errors that we can't solve!\n"
   ]
  },
  {
   "cell_type": "markdown",
   "metadata": {},
   "source": [
    "- in the run_output, you can for example just use `*.dropna`:"
   ]
  },
  {
   "cell_type": "code",
   "execution_count": null,
   "metadata": {},
   "outputs": [],
   "source": [
    "ds.dropna(dim='rgi_id')  # here we can e.g. find the volume evolution "
   ]
  },
  {
   "cell_type": "markdown",
   "metadata": {},
   "source": [
    "## What's next?\n",
    "\n",
    "- read about [preprocessing errors](preprocessing_errors.ipynb)\n",
    "- return to the [OGGM documentation](https://docs.oggm.org)\n",
    "- back to the [table of contents](welcome.ipynb)"
   ]
  }
 ],
 "metadata": {
  "hide_input": false,
  "kernelspec": {
   "display_name": "Python 3",
   "language": "python",
   "name": "python3"
  },
  "language_info": {
   "codemirror_mode": {
    "name": "ipython",
    "version": 3
   },
   "file_extension": ".py",
   "mimetype": "text/x-python",
   "name": "python",
   "nbconvert_exporter": "python",
   "pygments_lexer": "ipython3",
   "version": "3.8.5"
  },
  "toc": {
   "base_numbering": 1,
   "nav_menu": {},
   "number_sections": false,
   "sideBar": true,
   "skip_h1_title": true,
   "title_cell": "Table of Contents",
   "title_sidebar": "Contents",
   "toc_cell": false,
   "toc_position": {},
   "toc_section_display": true,
   "toc_window_display": false
  }
 },
 "nbformat": 4,
 "nbformat_minor": 4
}
