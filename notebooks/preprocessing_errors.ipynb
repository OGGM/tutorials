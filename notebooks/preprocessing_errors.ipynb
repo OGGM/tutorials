{
 "cells": [
  {
   "cell_type": "markdown",
   "metadata": {},
   "source": [
    "# Error analysis of the global pre-processing workflow"
   ]
  },
  {
   "cell_type": "markdown",
   "metadata": {},
   "source": [
    "Here we reproduce the error analysis shown in [Maussion et al. (2019)](https://www.geosci-model-dev.net/12/909/2019/) **for the pre-processing part only, and for the glacier directories (version 1.6 and 1.4)**. The error analysis of user runs needs a separate handling, see the [deal_with_errors](deal_with_errors.ipynb) notebook for more information."
   ]
  },
  {
   "cell_type": "markdown",
   "metadata": {},
   "source": [
    "## Get the files"
   ]
  },
  {
   "cell_type": "markdown",
   "metadata": {},
   "source": [
    "We download the `glacier_statistics` files from the preprocessed directories folders, at the level 5. That is, we are going to count all errors that happened during the pre-processing chain."
   ]
  },
  {
   "cell_type": "code",
   "execution_count": null,
   "metadata": {},
   "outputs": [],
   "source": [
    "from oggm import utils\n",
    "import pandas as pd\n",
    "import seaborn as sns"
   ]
  },
  {
   "cell_type": "markdown",
   "metadata": {},
   "source": [
    "We will start with a preprocessed directory for OGGM v1.6 (W5E5 with elev_bands):"
   ]
  },
  {
   "cell_type": "code",
   "execution_count": null,
   "metadata": {},
   "outputs": [],
   "source": [
    "# This is W5E5 + elev_bands using OGGM v1.6, in the future there might be more preprocessed gdirs\n",
    "url = ('https://cluster.klima.uni-bremen.de/~oggm/gdirs/oggm_v1.6/'\n",
    "       'L3-L5_files/2023.1/centerlines/W5E5/RGI62/b_080/L5/summary/')"
   ]
  },
  {
   "cell_type": "code",
   "execution_count": null,
   "metadata": {},
   "outputs": [],
   "source": [
    "# this can take some time\n",
    "df = []\n",
    "for rgi_reg in range(1, 19):\n",
    "    fpath = utils.file_downloader(url + f'glacier_statistics_{rgi_reg:02d}.csv')\n",
    "    df.append(pd.read_csv(fpath, index_col=0, low_memory=False))\n",
    "df = pd.concat(df, sort=False).sort_index()"
   ]
  },
  {
   "cell_type": "markdown",
   "metadata": {},
   "source": [
    "## Analyze the errors"
   ]
  },
  {
   "cell_type": "code",
   "execution_count": null,
   "metadata": {},
   "outputs": [],
   "source": [
    "sns.countplot(y=\"error_task\", data=df);"
   ]
  },
  {
   "cell_type": "code",
   "execution_count": null,
   "metadata": {},
   "outputs": [],
   "source": [
    "\"% area errors all sources: {:.2f}%\".format(df.loc[~df['error_task'].isnull()].rgi_area_km2.sum() / df.rgi_area_km2.sum() * 100)"
   ]
  },
  {
   "cell_type": "code",
   "execution_count": null,
   "metadata": {},
   "outputs": [],
   "source": [
    "\"% failing glaciers all sources: {:.2f}%\".format(df.loc[~df['error_task'].isnull()].rgi_area_km2.count() / df.rgi_area_km2.count() * 100)"
   ]
  },
  {
   "cell_type": "markdown",
   "metadata": {},
   "source": [
    "Most failing glaciers have an error occur when making a gridded mask of the glacier outlines (`glacier_mask`).\n",
    "\n",
    "We now look at the errors that occur already before applying the climate tasks and the historical run (i.e., before `mb_calibration_from_scalar_mb` and `flowline_model_run_historical`):"
   ]
  },
  {
   "cell_type": "code",
   "execution_count": null,
   "metadata": {},
   "outputs": [],
   "source": [
    "dfe = df.loc[~df['error_task'].isnull()]\n",
    "dfe = dfe.loc[~dfe['error_task'].isin(['mb_calibration_from_scalar_mb','flowline_model_run_historical'])]\n",
    "\"% area errors before climate: {:.2f}%\".format(dfe.rgi_area_km2.sum() / df.rgi_area_km2.sum() * 100)"
   ]
  },
  {
   "cell_type": "code",
   "execution_count": null,
   "metadata": {},
   "outputs": [],
   "source": [
    "\"% failing glaciers all sources: {:.2f}%\".format(dfe.loc[~dfe['error_task'].isnull()].rgi_area_km2.count() / df.rgi_area_km2.count() * 100)"
   ]
  },
  {
   "cell_type": "markdown",
   "metadata": {},
   "source": [
    "Although there are already many glaciers failing before the climate tasks, from a relative missing glacier area perspective, much less of the failing glacier area occurs. The reason is that the largest failing glaciers have mostly `flowline_model_run_historical` errors that only occur in the preprocessed directories level 4 or higher (after the climate tasks):"
   ]
  },
  {
   "cell_type": "code",
   "execution_count": null,
   "metadata": {},
   "outputs": [],
   "source": [
    "# 15 largest glaciers\n",
    "df.loc[~df['error_task'].isnull()].sort_values(by='rgi_area_km2',\n",
    "                                               ascending=False)[['rgi_area_km2', 'error_task',\n",
    "                                                                 'error_msg']].iloc[:15]"
   ]
  },
  {
   "cell_type": "markdown",
   "metadata": {},
   "source": [
    "## Example error comparison\n"
   ]
  },
  {
   "cell_type": "markdown",
   "metadata": {},
   "source": [
    "- **centerlines vs elevation bands**:"
   ]
  },
  {
   "cell_type": "code",
   "execution_count": null,
   "metadata": {},
   "outputs": [],
   "source": [
    "# W5E5 elevation bands\n",
    "url = ('https://cluster.klima.uni-bremen.de/~oggm/gdirs/oggm_v1.6/'\n",
    "       'L3-L5_files/2023.1/elev_bands/W5E5/RGI62/b_080/L5/summary/')\n",
    "# this can take some time\n",
    "df_elev = []\n",
    "# we don't look at RGI19 (Antarctic glaciers), because no climate available for CRU\n",
    "for rgi_reg in range(1, 19):\n",
    "    fpath = utils.file_downloader(url + f'glacier_statistics_{rgi_reg:02d}.csv')\n",
    "    df_elev.append(pd.read_csv(fpath, index_col=0, low_memory=False))\n",
    "df_elev = pd.concat(df_elev, sort=False).sort_index()"
   ]
  },
  {
   "cell_type": "code",
   "execution_count": null,
   "metadata": {},
   "outputs": [],
   "source": [
    "rel_area_elev = df_elev.loc[~df_elev['error_task'].isnull()].rgi_area_km2.sum() / df_elev.rgi_area_km2.sum() * 100\n",
    "rel_area_cent = df.loc[~df['error_task'].isnull()].rgi_area_km2.sum() / df.rgi_area_km2.sum() * 100\n",
    "print(f'% area errors from all sources for elevation band flowlines is {rel_area_elev:.2f}%'+'\\n'\n",
    "      f'compared to {rel_area_cent:.2f}% for centerlines with W5E5')\n",
    "                                                                              "
   ]
  },
  {
   "cell_type": "markdown",
   "metadata": {},
   "source": [
    "*much less errors occur when using elevation band flowlines than when using centerlines!*\n",
    "\n",
    "-> Reason: less *glacier_mask* errors! "
   ]
  },
  {
   "cell_type": "code",
   "execution_count": null,
   "metadata": {},
   "outputs": [],
   "source": [
    "# you can check out the different error messages with that\n",
    "# but we only output the first 20 here\n",
    "df_elev.error_msg.dropna().unique()[:20]\n"
   ]
  },
  {
   "cell_type": "markdown",
   "metadata": {},
   "source": [
    "- **Compare different climate datasets**\n",
    "    - this works only when using OGGM v1.4 urls (comparing **CRU vs ERA5**)\n",
    "    - in OGGM v1.6 (state: March 2023), only GSWP3_W5E5 exists"
   ]
  },
  {
   "cell_type": "code",
   "execution_count": null,
   "metadata": {},
   "outputs": [],
   "source": [
    "# attention here OGGM_v1.4 is used and this is just for demonstration purposes how to compare\n",
    "# different preprocessed directories!\n",
    "# This is CRU + centerlines. But you can try CRU+elev_bands, or ERA5+elev_bands, etc!\n",
    "url = 'https://cluster.klima.uni-bremen.de/~oggm/gdirs/oggm_v1.4/L3-L5_files/CRU/centerlines/qc3/pcp2.5/no_match/RGI62/b_040/L5/summary/'\n",
    "# this can take some time\n",
    "df_cru_v14 = []\n",
    "# we don't look at RGI19 (Antarctic glaciers), because no climate available for CRU\n",
    "for rgi_reg in range(1, 19):\n",
    "    fpath = utils.file_downloader(url + f'glacier_statistics_{rgi_reg:02d}.csv')\n",
    "    df_cru_v14.append(pd.read_csv(fpath, index_col=0, low_memory=False))\n",
    "df_cru_v14 = pd.concat(df_cru_v14, sort=False).sort_index()"
   ]
  },
  {
   "cell_type": "code",
   "execution_count": null,
   "metadata": {},
   "outputs": [],
   "source": [
    "# ERA5 uses a different precipitation factor in OGGM_v1.4\n",
    "url = 'https://cluster.klima.uni-bremen.de/~oggm/gdirs/oggm_v1.4/L3-L5_files/ERA5/centerlines/qc3/pcp1.6/no_match/RGI62/b_040/L5/summary/'\n",
    "# this can take some time\n",
    "df_era5_v14 = []\n",
    "# we don't look at RGI19 (Antarctic glaciers), because no climate available for CRU\n",
    "for rgi_reg in range(1, 19):\n",
    "    fpath = utils.file_downloader(url + f'glacier_statistics_{rgi_reg:02d}.csv')\n",
    "    df_era5_v14.append(pd.read_csv(fpath, index_col=0, low_memory=False))\n",
    "df_era5_v14 = pd.concat(df_era5_v14, sort=False).sort_index()"
   ]
  },
  {
   "cell_type": "code",
   "execution_count": null,
   "metadata": {},
   "outputs": [],
   "source": [
    "rel_area_cent_era5_v14 = df_era5_v14.loc[~df_era5_v14['error_task'].isnull()].rgi_area_km2.sum() / df_era5_v14.rgi_area_km2.sum() * 100\n",
    "rel_area_cent_cru_v14 = df_cru_v14.loc[~df_cru_v14['error_task'].isnull()].rgi_area_km2.sum() / df_cru_v14.rgi_area_km2.sum() * 100\n",
    "print(f\"% area errors all sources for ERA5 is {rel_area_cent_era5_v14:.2f}% compared to {rel_area_cent_cru_v14:.2f}% for CRU\")\n",
    "                                                                        "
   ]
  },
  {
   "cell_type": "markdown",
   "metadata": {},
   "source": [
    "*more than three times less errors from the climate tasks occur when using ERA5 than when using CRU* !"
   ]
  },
  {
   "cell_type": "markdown",
   "metadata": {},
   "source": [
    "- **Compare between OGGM versions (and climate datasets)**"
   ]
  },
  {
   "cell_type": "code",
   "execution_count": null,
   "metadata": {},
   "outputs": [],
   "source": [
    "print('% area errors from all sources for centerlines is: \\n'+\n",
    "      f'{rel_area_cent_cru_v14:.2f}% for CRU and OGGM_v14 \\n'+\n",
    "      f'{rel_area_cent_era5_v14:.2f}% for ERA5 and OGGM_v14 \\n'+\n",
    "      f'{rel_area_cent:.2f}% for W5E5 and OGGM_v16')\n",
    "                                                                              "
   ]
  },
  {
   "cell_type": "markdown",
   "metadata": {},
   "source": [
    "**Great, the most recent preprocessed directories create the least amount of failing glacier area** \n",
    "\n",
    "*This is either a result of the different applied climate, MB calibration or other changes in OGGM_v16. This could be checked more in details by looking into which tasks fail less.*"
   ]
  },
  {
   "cell_type": "markdown",
   "metadata": {},
   "source": [
    "## What's next?\n",
    "\n",
    "- A more detailed analysis about the type, amount and relative failing glacier area (in total and per RGI region) can be found in [this error analysis jupyter notebook](https://nbviewer.org/urls/cluster.klima.uni-bremen.de/~lschuster/error_analysis/error_analysis_v1.ipynb?flush_cache=true). It also includes an error analysis for different [MB calibration and climate quality check methods](https://nbviewer.org/urls/cluster.klima.uni-bremen.de/~lschuster/error_analysis/error_analysis_v1.ipynb?flush_cache=true#Analysis-for-Level-5-pre-processing-directories!).\n",
    "- If you are interested in how the “common” non-failing glaciers differ in terms of historical volume change, total mass change and specific mass balance between different pre-processed glacier directories, you can check out [this jupyter notebook](https://nbviewer.org/urls/cluster.klima.uni-bremen.de/~lschuster/error_analysis/working_glacier_gdirs_comparison.ipynb?flush_cache=true).\n",
    "- return to the [OGGM documentation](https://docs.oggm.org)\n",
    "- back to the [table of contents](welcome.ipynb)"
   ]
  },
  {
   "cell_type": "code",
   "execution_count": null,
   "metadata": {},
   "outputs": [],
   "source": []
  }
 ],
 "metadata": {
  "hide_input": false,
  "kernelspec": {
   "display_name": "Python 3 (ipykernel)",
   "language": "python",
   "name": "python3"
  },
  "language_info": {
   "codemirror_mode": {
    "name": "ipython",
    "version": 3
   },
   "file_extension": ".py",
   "mimetype": "text/x-python",
   "name": "python",
   "nbconvert_exporter": "python",
   "pygments_lexer": "ipython3",
   "version": "3.8.15"
  },
  "toc": {
   "base_numbering": 1,
   "nav_menu": {},
   "number_sections": false,
   "sideBar": true,
   "skip_h1_title": true,
   "title_cell": "Table of Contents",
   "title_sidebar": "Contents",
   "toc_cell": false,
   "toc_position": {},
   "toc_section_display": true,
   "toc_window_display": false
  }
 },
 "nbformat": 4,
 "nbformat_minor": 4
}
