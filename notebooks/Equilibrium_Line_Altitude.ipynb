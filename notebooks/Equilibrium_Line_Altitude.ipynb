{
 "cells": [
  {
   "cell_type": "markdown",
   "metadata": {},
   "source": [
    "# Equilibrium Line Altitude "
   ]
  },
  {
   "cell_type": "markdown",
   "metadata": {},
   "source": [
    "This notebook shows how you can compute the Equilbrium Line Altitude (ELA), the height where the mass balance equals 0, with OGGM. \n",
    "\n",
    "As the ELA in OGGM only \n",
    "depends on the glacier its sensitivity to the climate and the climate itself (https://docs.oggm.org/en/stable/mass-balance.html), there is no need to do a full model\n",
    "run to collect these values. This is also the reason that the ELA is no longer a part of the model run output, like was the case up to OGGM version 1.4, but is instead as of v1.6 a diagnostic variable that can be computed seperately."
   ]
  },
  {
   "cell_type": "code",
   "execution_count": null,
   "metadata": {},
   "outputs": [],
   "source": [
    "from oggm import cfg, utils, workflow, global_tasks\n",
    "from oggm.core import massbalance\n",
    "import pandas as pd\n",
    "import numpy as np\n",
    "import matplotlib.pyplot as plt"
   ]
  },
  {
   "cell_type": "code",
   "execution_count": null,
   "metadata": {},
   "outputs": [],
   "source": [
    "cfg.initialize(logging_level='WARNING')"
   ]
  },
  {
   "cell_type": "code",
   "execution_count": null,
   "metadata": {},
   "outputs": [],
   "source": [
    "# Where to store the data \n",
    "cfg.PATHS['working_dir'] = utils.gettempdir(dirname='OGGM-ela', reset=True)\n",
    "# Which glaciers?\n",
    "rgi_ids = ['RGI60-11.00897', 'RGI60-11.00001']\n",
    "# Here we change some settings to the settings of the preprocessed directory that will be used. \n",
    "cfg.PARAMS['climate_qc_months'] = 0\n",
    "cfg.PARAMS['hydro_month_nh']=1\n",
    "cfg.PARAMS['hydro_month_sh']=1\n",
    "# We start from prepro level 3 with all data ready\n",
    "base_url = 'https://cluster.klima.uni-bremen.de/~oggm/gdirs/oggm_v1.4/L3-L5_files/CRU/elev_bands/qc0/pcp2.5/match_geod_pergla/'\n",
    "gdirs = workflow.init_glacier_directories(rgi_ids, from_prepro_level=3, prepro_base_url=base_url, prepro_border=80)"
   ]
  },
  {
   "cell_type": "markdown",
   "metadata": {},
   "source": [
    "Here we compute and compile the ELA. \n",
    "\n",
    "By the default the file is stored in the working directory and named 'ELA.hdf'. In stead of storing the data as .hdf, you can choose to save the data in a csv file, by setting the csv keyword to True. The location where the file is saved can be changed by specifying the path keyword."
   ]
  },
  {
   "cell_type": "code",
   "execution_count": null,
   "metadata": {},
   "outputs": [],
   "source": [
    "ELA = global_tasks.compile_ela(gdirs, ys=2000, ye=2019) "
   ]
  },
  {
   "cell_type": "markdown",
   "metadata": {},
   "source": [
    "Here the ELA data is plotted: "
   ]
  },
  {
   "cell_type": "code",
   "execution_count": null,
   "metadata": {},
   "outputs": [],
   "source": [
    "plt.plot(ELA)\n",
    "plt.xlim([2000,2019])\n",
    "plt.xlabel('year')\n",
    "plt.ylabel('ELA [m]')\n",
    "plt.legend(ELA.columns.values)"
   ]
  },
  {
   "cell_type": "markdown",
   "metadata": {},
   "source": [
    "When looking at many glaciers it might be usefull to also plot the mean or average of the data.\n",
    "Here is the mean ELA and the glacier area weigthed ELA average is plotted:"
   ]
  },
  {
   "cell_type": "code",
   "execution_count": null,
   "metadata": {},
   "outputs": [],
   "source": [
    "Area1 = pd.read_csv(gdirs[0].get_filepath('elevation_band_flowline'))['area'].sum()\n",
    "Area2 = pd.read_csv(gdirs[1].get_filepath('elevation_band_flowline'))['area'].sum()\n",
    "\n",
    "plt.plot(ELA.mean(axis=1), label='mean')\n",
    "plt.plot(np.arange(2000,2020), np.average(ELA, axis=1, weights=[Area1,Area2]), label='average')\n",
    "\n",
    "plt.xlim([2000,2019])\n",
    "plt.xlabel('year')\n",
    "plt.ylabel('ELA [m]')\n",
    "plt.legend()"
   ]
  },
  {
   "cell_type": "markdown",
   "metadata": {},
   "source": [
    "How would to ela have looked like if the climate had been 1 degree warmer? Lets have a look at one of the glaciers:"
   ]
  },
  {
   "cell_type": "code",
   "execution_count": null,
   "metadata": {},
   "outputs": [],
   "source": [
    "global_tasks.compile_ela(gdirs[0], ys=2000, ye=2019, temperature_bias=1, filesuffix='_t1')\n",
    "ELA2 = pd.read_hdf(cfg.PATHS['working_dir'] + '/ELA_t1.hdf')"
   ]
  },
  {
   "cell_type": "code",
   "execution_count": null,
   "metadata": {},
   "outputs": [],
   "source": [
    "ELA.columns[0]"
   ]
  },
  {
   "cell_type": "code",
   "execution_count": null,
   "metadata": {},
   "outputs": [],
   "source": [
    "plt.plot(ELA[ELA.columns[0]], label='default climate')\n",
    "plt.plot(ELA2, label=('default climate +1℃'))\n",
    "\n",
    "plt.title(ELA.columns[0])\n",
    "plt.xlim([2000,2019])\n",
    "plt.xlabel('year CE')\n",
    "plt.ylabel('ELA [m]')\n",
    "plt.legend()"
   ]
  },
  {
   "cell_type": "markdown",
   "metadata": {},
   "source": [
    "By using the precipitation_factor keyword, you can change the precipitation. Feel free to try that out yourself.\n",
    "\n",
    "Lets look for 1 glacier at a longer timeseries: "
   ]
  },
  {
   "cell_type": "code",
   "execution_count": null,
   "metadata": {},
   "outputs": [],
   "source": [
    "global_tasks.compile_ela(gdirs[0], ys=1901, ye=2019, filesuffix='_1901_2019', csv=True)\n",
    "ELA3 = pd.read_csv(cfg.PATHS['working_dir'] + '/ELA_1901_2019.csv', index_col=0)"
   ]
  },
  {
   "cell_type": "markdown",
   "metadata": {},
   "source": [
    "The ELA can have a high year-to-year variability. Therefore we plot in addition to the regular ELA timeseries, the 5-year moving average. "
   ]
  },
  {
   "cell_type": "code",
   "execution_count": null,
   "metadata": {},
   "outputs": [],
   "source": [
    "plt.plot(ELA3)\n",
    "plt.plot(ELA3.rolling(5).mean(), lw=2, color='k')\n",
    "plt.xlim([1900,2020])\n",
    "plt.xlabel('year CE')\n",
    "plt.ylabel('ELA [m]')"
   ]
  },
  {
   "cell_type": "markdown",
   "metadata": {},
   "source": [
    "In case you're only intrested in specific years there is an option to just compute the ELA in those years. There is actually no need to save this data. Therefore we now just compute the ELA. "
   ]
  },
  {
   "cell_type": "code",
   "execution_count": null,
   "metadata": {},
   "outputs": [],
   "source": [
    "ELA4 = massbalance.compute_ela(gdirs[0], years=[2000, 1950, 1980, 1960,])\n",
    "ELA4 "
   ]
  },
  {
   "cell_type": "markdown",
   "metadata": {},
   "source": [
    "See in this case you can use any year as long as you have climate available for that year. However for plotting purposes it might be worth to sort the data, otherwise the following happens ;)"
   ]
  },
  {
   "cell_type": "code",
   "execution_count": null,
   "metadata": {},
   "outputs": [],
   "source": [
    "ELA4.plot()\n",
    "plt.xlim([1950,2000])\n",
    "plt.xlabel('year CE')\n",
    "plt.ylabel('ELA [m]')"
   ]
  },
  {
   "cell_type": "code",
   "execution_count": null,
   "metadata": {},
   "outputs": [],
   "source": [
    "plt.plot(ELA4.sort_index(ascending=True))\n",
    "plt.xlim([1950,2000])\n",
    "plt.xlabel('year CE')\n",
    "plt.ylabel('ELA [m]')"
   ]
  },
  {
   "cell_type": "markdown",
   "metadata": {},
   "source": [
    "By now we have addressed most of the keyword agruments of the compile_ela and compute_ela functions. To use different climate than the default climate, you can make use of the 'climate_filename' and 'climate_input_filesuffix' keywords. In case you're not familiar with those yet, please check out the run_with_gcm notebook."
   ]
  }
 ],
 "metadata": {
  "kernelspec": {
   "display_name": "Python 3",
   "language": "python",
   "name": "python3"
  },
  "language_info": {
   "codemirror_mode": {
    "name": "ipython",
    "version": 3
   },
   "file_extension": ".py",
   "mimetype": "text/x-python",
   "name": "python",
   "nbconvert_exporter": "python",
   "pygments_lexer": "ipython3",
   "version": "3.8.2"
  }
 },
 "nbformat": 4,
 "nbformat_minor": 4
}
