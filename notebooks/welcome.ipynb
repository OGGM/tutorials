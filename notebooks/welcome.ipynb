{
 "cells": [
  {
   "cell_type": "markdown",
   "metadata": {},
   "source": [
    "# Welcome to the OGGM tutorials!"
   ]
  },
  {
   "cell_type": "markdown",
   "metadata": {},
   "source": [
    "If you are new to jupyter notebooks or to jupyterlab, we recommend to have a look at our [introduction to jupyter notebooks](https://edu.oggm.org/en/latest/notebooks_howto.html) first!\n",
    "\n",
    "If you are reading this from our webpage (https://oggm.org/tutorials), remember that each page displayed here is in fact a jupyter notebook! You can start an interactive version of these tutorials online with [MyBinder](https://docs.oggm.org/en/latest/cloud.html) by clicking on the \"launch button\" on the top right of this page (the little rocket 🚀)."
   ]
  },
  {
   "cell_type": "markdown",
   "metadata": {},
   "source": [
    "Ready to go?\n",
    "\n",
    "**New! The 10 minutes tutorials:**\n",
    "\n",
    "These new tutorials are designed to illustrate one single OGGM concept at a time. They are a good way to get started with OGGM, or for returning users to learn about new features!\n",
    "- 10 minutes to... [a preprocessed directory](10minutes/preprocessed_directories.ipynb) (**start with this tutorial if you are new to OGGM**)\n",
    "- 10 minutes to... [a glacier change projection with GCM data](10minutes/run_with_gcm.ipynb)\n",
    "- 10 minutes to... [OGGM as an accelerator for modelling and machine learning](10minutes/machine_learning.ipynb)\n",
    "- 10 minutes to... [\"elevation band\" and \"centerline\" flowlines](10minutes/elevation_bands_vs_centerlines.ipynb)\n",
    "- 10 minutes to... [the new dynamical spinup in OGGM v1.6](10minutes/dynamical_spinup.ipynb)\n",
    "\n",
    "**Beginner tutorials:**\n",
    "- [working_with_rgi](beginner/working_with_rgi.ipynb) will show you how to read glacier outline files and prepare them for a run\n",
    "- [store_and_compress_glacierdirs](beginner/store_and_compress_glacierdirs.ipynb): storing glacier directories for later use\n",
    "- [plot_mass_balance](beginner/plot_mass_balance.ipynb): fetch and plot the simulated mass-balance as well as other diagnostics\n",
    "- [deal_with_errors](beginner/deal_with_errors.ipynb): dealing with errors after a run\n",
    "- [inversion](beginner/inversion.ipynb): run the OGGM ice thickness inversion model with various ice parameters\n",
    "- [hydrological_output](beginner/hydrological_output.ipynb): hydrological mass-balance output\n",
    "- [oggm_shop](beginner/oggm_shop.ipynb): getting acquainted with what's happening under the hood in OGGM GlacierDirectories, and how you can use the shop to add data to them\n",
    "- [full_prepro_workflow](beginner/full_prepro_workflow.ipynb) What's in your preprocessed directories? A full OGGM workflow, step by step\n",
    "\n",
    "**Advanced tutorials:**\n",
    "- [preprocessing_errors](advanced/preprocessing_errors.ipynb): error analysis of the global pre-processing workflow\n",
    "- [run_with_a_spinup_and_gcm_data](advanced/run_with_a_spinup_and_gcm_data.ipynb): start from a glacier state different than the RGI inventory date\n",
    "- [dynamical_spinup](advanced/dynamical_spinup.ipynb): a deeper dive into the dynamical spinup for past simulations\n",
    "- [dem_sources](advanced/dem_sources.ipynb): create local topography maps from different DEM sources with OGGM\n",
    "- [use_your_own_inventory](advanced/use_your_own_inventory.ipynb): use custom glacier inventories with OGGM\n",
    "- [centerlines_to_shape](advanced/centerlines_to_shape.ipynb): compute the centerlines for a custom inventory and DEM and write them to disk \n",
    "- [massbalance_calibration](advanced/massbalance_calibration.ipynb): \n",
    "- [where_are_the_flowlines](advanced/where_are_the_flowlines.ipynb): how to access the OGGM flowlines location before, during, and after a run. \n",
    "- [ingest_gridded_data_on_flowlines](advanced/ingest_gridded_data_on_flowlines.ipynb): ingest gridded products such as ice velocity into OGGM (and compare them with model output)\n",
    "- [merge_gcm_runs_and_visualize](advanced/merge_gcm_runs_and_visualize.ipynb): how to merge different GCM runs into one dataset, analyse them on a regional scale and visualize with HoloViz\n",
    "\n",
    "**Related to OGGM:**\n",
    "- [holoviz_intro](others/holoviz_intro.ipynb): an introduction to the HoloViz vizualisation ecosystem (previously called PyViz)\n",
    "- [dem_comparison](others/dem_comparison.ipynb): compare the various DEMs available in OGGM\n",
    "\n",
    "**Tutorials in (re-)construction:**\n",
    "- [inversion_with_frontal_ablation](construction/inversion_with_frontal_ablation.ipynb): a case study about ice thickness inversion with frontal ablation\n",
    "- [kcalving_parameterization](construction/kcalving_parameterization.ipynb): the Oerlemans & Nick frontal ablation parameterization in OGGM\n",
    "- [merging_glaciers](construction/merging_glaciers.ipynb): a tutorial about how to merge two or more glaciers for advancing glacier scenarios\n",
    "- [area_length_filter](construction/area_length_filter.ipynb): a short tutorial about how to filter spikes in the area and length outputs"
   ]
  },
  {
   "cell_type": "markdown",
   "metadata": {},
   "source": [
    "Have fun learning OGGM!"
   ]
  },
  {
   "cell_type": "markdown",
   "metadata": {},
   "source": [
    "**Package versions used to build this documentation:** "
   ]
  },
  {
   "cell_type": "code",
   "execution_count": null,
   "metadata": {},
   "outputs": [],
   "source": [
    "# Package versions\n",
    "from oggm.utils import show_versions\n",
    "print(show_versions())"
   ]
  }
 ],
 "metadata": {
  "hide_input": false,
  "kernelspec": {
   "display_name": "Python 3 (ipykernel)",
   "language": "python",
   "name": "python3"
  },
  "language_info": {
   "codemirror_mode": {
    "name": "ipython",
    "version": 3
   },
   "file_extension": ".py",
   "mimetype": "text/x-python",
   "name": "python",
   "nbconvert_exporter": "python",
   "pygments_lexer": "ipython3",
   "version": "3.10.9"
  },
  "latex_envs": {
   "LaTeX_envs_menu_present": true,
   "autoclose": false,
   "autocomplete": true,
   "bibliofile": "biblio.bib",
   "cite_by": "apalike",
   "current_citInitial": 1,
   "eqLabelWithNumbers": true,
   "eqNumInitial": 1,
   "hotkeys": {
    "equation": "Ctrl-E",
    "itemize": "Ctrl-I"
   },
   "labels_anchors": false,
   "latex_user_defs": false,
   "report_style_numbering": false,
   "user_envs_cfg": false
  },
  "nbTranslate": {
   "displayLangs": [
    "*"
   ],
   "hotkey": "alt-t",
   "langInMainMenu": true,
   "sourceLang": "en",
   "targetLang": "fr",
   "useGoogleTranslate": true
  },
  "toc": {
   "base_numbering": 1,
   "nav_menu": {},
   "number_sections": false,
   "sideBar": true,
   "skip_h1_title": true,
   "title_cell": "Table of Contents",
   "title_sidebar": "Contents",
   "toc_cell": false,
   "toc_position": {},
   "toc_section_display": true,
   "toc_window_display": false
  }
 },
 "nbformat": 4,
 "nbformat_minor": 4
}
