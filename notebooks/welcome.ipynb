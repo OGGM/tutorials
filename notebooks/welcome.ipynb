{
 "cells": [
  {
   "cell_type": "markdown",
   "metadata": {},
   "source": [
    "# OGGM tutorials\n",
    "\n",
    "If you are new to jupyter notebooks or to jupyterlab, we recommend to have a look at our [introduction to jupyter notebooks](https://edu.oggm.org/en/latest/notebooks_howto.html) first!\n",
    "\n",
    "If you are reading this from our webpage (https://oggm.org/tutorials), remember that each page displayed here is in fact a jupyter notebook! You can start an interactive version of these tutorials online with [MyBinder](https://docs.oggm.org/en/latest/cloud.html) by clicking on the \"launch button\" on the top right of this page (the little rocket 🚀)."
   ]
  },
  {
   "cell_type": "markdown",
   "metadata": {},
   "source": [
    "Ready to go?\n",
    "\n",
    "## 10 minutes tutorials\n",
    "\n",
    "These new tutorials are designed to illustrate one single OGGM concept at a time. They are a good way to get started with OGGM, or for returning users to learn about new features!\n",
    "- 10 minutes to... [a preprocessed directory](10minutes/preprocessed_directories.ipynb) (**start with this tutorial if you are new to OGGM**)\n",
    "- 10 minutes to... [a glacier change projection with GCM data](10minutes/run_with_gcm.ipynb)\n",
    "- 10 minutes to... [OGGM as an accelerator for modelling and machine learning](10minutes/machine_learning.ipynb)\n",
    "- 10 minutes to... [the new dynamical spinup in OGGM v1.6](10minutes/dynamical_spinup.ipynb)"
   ]
  },
  {
   "cell_type": "markdown",
   "metadata": {},
   "source": [
    "## OGGM workflow\n",
    "\n",
    "- [Working with the RGI files and prepare glaciers for a run](tutorials/working_with_rgi.ipynb)\n",
    "- [Storing glacier directories for later use](tutorials/store_and_compress_glacierdirs.ipynb)\n",
    "- [Dealing with errors after a run](tutorials/deal_with_errors.ipynb)\n",
    "- [Differences between the “elevation band” and “centerline” flowlines](tutorials/elevation_bands_vs_centerlines.ipynb)\n",
    "- [Step-by-Step guide to building preprocessed directories from scratch](tutorials/building_the_prepro_gdirs.ipynb)\n",
    "- [What's in my preprocessed directories? A full centerlines workflow, step by step](tutorials/full_prepro_workflow.ipynb)"
   ]
  },
  {
   "cell_type": "markdown",
   "metadata": {},
   "source": [
    "## Mass balance\n",
    "\n",
    "- [Plotting the OGGM surface mass-balance, the ELA and AAR](tutorials/plot_mass_balance.ipynb)\n",
    "- [A look into the new mass balance calibration in OGGM v1.6](tutorials/massbalance_calibration.ipynb)\n",
    "- [Global distribution of the mass-balance model parameters](tutorials/massbalance_global_params.ipynb)\n",
    "- [Mass balance parameter perturbation experiments with OGGM](tutorials/massbalance_perturbation.ipynb)"
   ]
  },
  {
   "cell_type": "markdown",
   "metadata": {},
   "source": [
    "## Hydrological output\n",
    "\n",
    "- [Hydrological mass-balance output](tutorials/hydrological_output.ipynb)"
   ]
  },
  {
   "cell_type": "markdown",
   "metadata": {},
   "source": [
    "## Dynamical runs\n",
    "\n",
    "- [Run with a long spinup and GCM data](tutorials/run_with_a_spinup_and_gcm_data.ipynb)\n",
    "- [Dynamic spinup and dynamic melt_f calibration for past simulations](tutorials/dynamical_spinup.ipynb)\n",
    "- [Understand the difference between the ice dynamic solvers in OGGM](tutorials/numeric_solvers.ipynb)\n",
    "- [\"Instructed OGGM\": running IGM within the OGGM workflow](tutorials/ioggm.ipynb)"
   ]
  },
  {
   "cell_type": "markdown",
   "metadata": {},
   "source": [
    "## Ice thickness\n",
    "\n",
    "- [Ice thickness inversion](tutorials/inversion.ipynb)\n",
    "- [Dynamic model initialization using observed thickness data](tutorials/observed_thickness_with_dynamic_spinup.ipynb)"
   ]
  },
  {
   "cell_type": "markdown",
   "metadata": {},
   "source": [
    "## Calving\n",
    "\n",
    "- [The Oerlemans & Nick frontal ablation parameterization in OGGM](tutorials/kcalving_parameterization.ipynb)"
   ]
  },
  {
   "cell_type": "markdown",
   "metadata": {},
   "source": [
    "## OGGM shop and additional data\n",
    "\n",
    "- [OGGM-Shop and Glacier Directories in OGGM](tutorials/oggm_shop.ipynb)\n",
    "- [Using your our own glacier inventory with OGGM](tutorials/use_your_own_inventory.ipynb)\n",
    "- [Ingest gridded products such as ice velocity into OGGM](tutorials/ingest_gridded_data_on_flowlines.ipynb)\n",
    "- [Create local topography maps from different DEM sources with OGGM](tutorials/dem_sources.ipynb)\n",
    "- [Compare different DEMs for individual glaciers: RGI-TOPO for RGI v6.0](tutorials/rgitopo_rgi6.ipynb)\n",
    "- [RGI-TOPO for RGI 7.0](tutorials/rgitopo_rgi7.ipynb)"
   ]
  },
  {
   "cell_type": "markdown",
   "metadata": {},
   "source": [
    "## Visualisation and post-processing\n",
    "\n",
    "- [Display glacier area and thickness changes on a grid](tutorials/distribute_flowline.ipynb)\n",
    "- [OGGM flowlines: where are they?](tutorials/where_are_the_flowlines.ipynb)\n",
    "- [Compute smoother centerlines for shapefile output](tutorials/centerlines_to_shape.ipynb)\n",
    "- [Error analysis of the global pre-processing workflow](tutorials/preprocessing_errors.ipynb)\n",
    "- [Merge, analyse and visualize OGGM GCM runs](tutorials/merge_gcm_runs_and_visualize.ipynb)\n",
    "- [Small overview of HoloViz capability of data exploration](tutorials/holoviz_intro.ipynb)"
   ]
  },
  {
   "cell_type": "markdown",
   "metadata": {},
   "source": [
    "## Tutorials in (re-)construction\n",
    "\n",
    "- [Ice thickness inversion with frontal ablation](construction/inversion_with_frontal_ablation.ipynb)\n",
    "- [Filter the glacier length and area time series](construction/area_length_filter.ipynb)"
   ]
  },
  {
   "cell_type": "markdown",
   "metadata": {},
   "source": [
    "Have fun learning OGGM!"
   ]
  },
  {
   "cell_type": "markdown",
   "metadata": {},
   "source": [
    "**Package versions used to build this documentation:** "
   ]
  },
  {
   "cell_type": "code",
   "execution_count": null,
   "metadata": {},
   "outputs": [],
   "source": [
    "# Package versions\n",
    "from oggm.utils import show_versions\n",
    "print(show_versions())"
   ]
  }
 ],
 "metadata": {
  "hide_input": false,
  "kernelspec": {
   "display_name": "Python 3 (ipykernel)",
   "language": "python",
   "name": "python3"
  },
  "language_info": {
   "codemirror_mode": {
    "name": "ipython",
    "version": 3
   },
   "file_extension": ".py",
   "mimetype": "text/x-python",
   "name": "python",
   "nbconvert_exporter": "python",
   "pygments_lexer": "ipython3",
   "version": "3.12.4"
  },
  "latex_envs": {
   "LaTeX_envs_menu_present": true,
   "autoclose": false,
   "autocomplete": true,
   "bibliofile": "biblio.bib",
   "cite_by": "apalike",
   "current_citInitial": 1,
   "eqLabelWithNumbers": true,
   "eqNumInitial": 1,
   "hotkeys": {
    "equation": "Ctrl-E",
    "itemize": "Ctrl-I"
   },
   "labels_anchors": false,
   "latex_user_defs": false,
   "report_style_numbering": false,
   "user_envs_cfg": false
  },
  "nbTranslate": {
   "displayLangs": [
    "*"
   ],
   "hotkey": "alt-t",
   "langInMainMenu": true,
   "sourceLang": "en",
   "targetLang": "fr",
   "useGoogleTranslate": true
  },
  "toc": {
   "base_numbering": 1,
   "nav_menu": {},
   "number_sections": false,
   "sideBar": true,
   "skip_h1_title": true,
   "title_cell": "Table of Contents",
   "title_sidebar": "Contents",
   "toc_cell": false,
   "toc_position": {},
   "toc_section_display": true,
   "toc_window_display": false
  }
 },
 "nbformat": 4,
 "nbformat_minor": 4
}
