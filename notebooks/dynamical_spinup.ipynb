{
 "cells": [
  {
   "cell_type": "markdown",
   "metadata": {},
   "source": [
    "# Dynamic spinup and dynamic $\\mu^*$ calibration for past simulations"
   ]
  },
  {
   "cell_type": "markdown",
   "metadata": {},
   "source": [
    "**New in version 1.5.3 resp. version 1.6.0!** \n",
    "\n",
    "One of the issues glacier modellers facing is that the *past state* of glaciers is unknown. On the other side, more global datasets of past observations get available (e.g. geodetic mass balance), which can help constrain the recent past evolution. \n",
    "\n",
    "Reconstructing the past states of glaciers on a century timescale turns out to be a really difficult task, and OGGM team member Julia Eis spent her entire PhD thesis doing just that (see [this paper](https://tc.copernicus.org/articles/13/3317/2019) for the theory and [this one](https://www.frontiersin.org/articles/10.3389/feart.2021.595755/full) for the application).\n",
    "\n",
    "However, running simulations in the recent past can be quite useful for model validation. Also, more direct observations are available of glacier states of the recent past for constriction (e.g. area, geodetic mass balance). Further, a dynamical initialisation can release strong assumptions in the OGGM default settings: first that glaciers are in dynamical equilibrium at the glacier outline date (an assumption required for the ice thickness inversion) and second that the mass balance temperature sensitivity parameter ($\\mu^*$) is calibrated towards a geodetic mass balance ignoring a dynamically changing glacier geometry.\n",
    "\n",
    "In recent PRs ([GH1342](https://github.com/OGGM/oggm/pull/1342), [GH1232](https://github.com/OGGM/oggm/pull/1232), [GH1361](https://github.com/OGGM/oggm/pull/1361) and [GH1425](https://github.com/OGGM/oggm/pull/1425)) we have released two new run tasks in OGGM which help with this issues:\n",
    "\n",
    "- The ```run_dynamic_spinup``` task, by default, aims to find a glacier state before the RGI-date (~10-30 years back) from which the glacier evolves to match the area given by the RGI-outline. Alternatively, it is also possible to use this task to match an observed volume.\n",
    "- The ```run_dynamic_mu_star_calibration``` task iteratively searches for a $\\mu^*$ to match the observed geodetic mass balance taking a dynamically changing glacier geometry into account.\n",
    "\n",
    "And of course, we want to match both things in the same past model run. Therefore by default in each iteration of ```run_dynamic_mu_star_calibration``` the ```run_dynamic_spinup``` function is included. A more in-depth explanation of the two tasks is provided in the next two chapters, which are followed by an example and a comparison of the different spinup options. \n",
    "\n",
    "## High-level explanation of ```run_dynamic_spinup```:\n",
    "\n",
    "The dynamic spinup iteratively tries to find an initial glacier state in the past (*t_start*) that matches the area or the volume at the glacier outline date (*t_end*) under the historical climate forcing. To create changing initial glacier states, a constant mass balance is used (*mb_spinup*) together with a changing temperature bias. This mass balance defines an average mass balance between *t_start* and *t_end*. Afterwards, for the actual run, the method uses the OGGM default mass balance model (*mb_historical*). One iteration of the dynamic spinup looks like this:\n",
    "\n",
    "- Apply a temperature bias to *mb_spinup*.\n",
    "- Start with the glacier geometry after the ice thickness inversion and let the model evolve using *mb_spinup* for the same amount of time as the following historical run (= *t_end* - *t_start*).\n",
    "- The resulting glacier geometry is defined as the initial glacier state at *t_start*.\n",
    "- Now, let the glacier evolve using *mb_historical* from *t_start* until *t_end*\n",
    "- Get the model area or volume of the glacier at *t_end*.\n",
    "- Compare the model value to the reference value we want to meet.\n",
    "- If the difference is inside a given precision, stop the procedure and save the glacier evolution of this run.\n",
    "- If the difference is outside a given precision, change the temperature bias for mb_spinup and start over again (how the next guess is found is descript [here](#The-minimization-algorithm:)).\n",
    "\n",
    "### Two main problems why the dynamic spinup could not work:\n",
    "\n",
    "The resulting glacier is too large, even when we start from a completely ice-free initial glacier state. Or the resulting glacier is too small and the algorithm tries to let the glacier grow outside the domain boundaries. The second problem could be met with a larger domain boundary (if available and enough memory resources are available). But for the first problem, no such solution is possible. To still try to cope with these two issues the dynamic spinup function tries to shorten the spinup period two times. The idea is with a shorter evolution time the glacier has less amount of time to grow/shrink and maybe do not encounter one of the two extremes. The minimum length of the spinup can be defined with min_spinup_period (default 10 years). If nothing helps and there is still an error (and if ignore_errors = True) the glacier geometry without a dynamic spinup is saved (= the glacier geometry after the ice thickness inversion).\n",
    "\n",
    "### ¡Careful! This method is still a bit experimental. A few things to remember when using it:\n",
    "\n",
    "- because of how the method works, glacier area and volume are not strictly the same at the glacier inventory date as after the inversion. We have checked that the errors are random: if you simulate many glaciers this should be fine (global plots on this point will follow soon).\n",
    "- because of the non-unique solutions to this optimization problem, the estimated past states become increasingly uncertain the further back in time we go. We recommend a spinup of about 10-30 years.\n",
    "\n",
    "## High-level explanation of  ```run_dynamic_mu_star_calibration ```:\n",
    "\n",
    "This task iteratively searches for a $\\mu^*$ to match a given geodetic mass balance incorporating a dynamic model run. But changing $\\mu^*$ means we need to rerun all model setup steps which incorporate the mass-balance, to have one consistent model initialisation chain. In particular, we need to conduct the bed inversion again (the mass-balance is used in the flux calculation, see [here](https://docs.oggm.org/en/latest/inversion.html#ice-flux)). Therefore one default iteration of the dynamic $\\mu^*$ calibration looks like this:\n",
    "\n",
    "- define a new $\\mu^*$ in the glacier directory\n",
    "- conduct an inversion which calibrates to the consensus volume, still assuming dynamic equilibrium. (a little tricky: by default, before we start with the dynamic $\\mu^*$ calibration the first inversion with calibration on a regional scale was already carried out -> the individual glaciers do not match the consensus volume exactly, but when adding all glaciers of one region the consensus volume is matched. Therefore during this task, the individual glacier is again matched to the volume of the regional assessment and not on an individual basis.)\n",
    "- conduct a dynamic spinup to match the RGI area and let the model evolve up to the end of the geodetic mass balance period\n",
    "- calculate the modelled geodetic mass balance\n",
    "- calculate the difference between modelled value and observation\n",
    "- if the difference is inside the observation uncertainty stop and save the model run (indicated in diagnostics with ```used_spinup_option = dynamic mu_star calibration (full success)```)\n",
    "- if the difference is larger, define a new $\\mu^*$ and start over again (how the next guess is found is described [here](#The-minimization-algorithm:))\n",
    "\n",
    "If the iterative search is not successful and ```ignore_errors = True``` there are several possible outcomes:\n",
    "\n",
    "- First, it is checked if there were some successful runs which improved the mismatch. If so, the best run is saved and it is indicated in the diagnostics with ```used_spinup_option = dynamic mu_star calibration (part success)```\n",
    "- If only the first guess worked this run is saved and indicated in the diagnostics with ```used_spinup_option = dynamic spinup only```\n",
    "- And if everything failed a fixed geometry spinup is conducted and indicated in the diagnostics with ```used_spinup_option = fixed geometry spinup```\n",
    "\n",
    "If for whatever reason one wants to conduct the dynamic $\\mu^*$ calibration without an inversion or does not want to include a dynamic spinup, reach out to us as there are already options included for this.\n",
    "\n",
    "\n",
    "## The minimization algorithm:\n",
    "\n",
    "To start, a first guess of the control variable (temperature bias or $\\mu^*$) is used and evaluated. If by chance, the mismatch between model and observation is close enough, the algorithm stops already. Otherwise, the second guess depends on the calculated first guess mismatch. For example, if the first resulting area is smaller (larger) than the searched one, the second temperature bias will be colder (warmer). Because a colder (warmer) temperature leads to a larger (smaller) initial glacier state at *t_start*. If the second guess is still unsuccessful, for all consecutive guesses the previous value pairs (control variable, mismatch) are used to determine the next guess. For this, a stepwise linear function is fitted to these pairs and afterwards, the mismatch is set to 0 to get the following guess (this method is similar to the one described in Zekollari et al. 2019 Appendix A). Moreover, a maximum step length between two guesses is defined as too large step-sizes could easily lead to failing model runs (e.g. see [here](#Two-main-problems-why-the-dynamic-spinup-could-not-work:)). Further, the algorithm was adapted independently inside run_dynamic_spinup and run_dynamic_mu_star_calibration to cope with failing model runs individually. Note that this minimization algorithm only works if the underlying relationship between the control variable and the mismatch is strictly monotone.\n",
    "\n",
    "If someone is interested in how this algorithm works in more detail, here is a conceptual code snippet:"
   ]
  },
  {
   "cell_type": "code",
   "execution_count": null,
   "metadata": {
    "tags": [
     "hide-input"
    ]
   },
   "outputs": [],
   "source": [
    "import numpy as np\n",
    "from scipy import interpolate\n",
    "\n",
    "def minimisation_algorithm(\n",
    "        fct_to_minimise,  # the function which should be minimised\n",
    "        first_guess,  # the first guess of the control variable\n",
    "        get_second_guess,  # function which gives the second guess depending on\n",
    "                           # the first mismatch\n",
    "        precision_to_match,  # we want to be smaller with the mismatch than this\n",
    "        maxiter,  # how many search iteration should be performed\n",
    "        ):\n",
    "\n",
    "    control_guesses = []\n",
    "    mismatch = []\n",
    "\n",
    "    # returns also the new control if some error management was going on inside\n",
    "    # fct_to_minimise, not necessary\n",
    "    new_mismatch, new_control = fct_to_minimise(first_guess)\n",
    "    control_guesses.append(new_control)\n",
    "    mismatch.append(new_mismatch)\n",
    "\n",
    "    # check if we can stop already\n",
    "    if abs(mismatch[-1]) < precision_to_match:\n",
    "            return control_guesses, mismatch\n",
    "\n",
    "    # how to get the second guess must also be defined by the user\n",
    "    second_guess = get_second_guess(mismatch[-1])\n",
    "    new_mismatch, new_control = fct_to_minimise(second_guess)\n",
    "    control_guesses.append(new_control)\n",
    "    mismatch.append(new_mismatch)\n",
    "    if abs(mismatch[-1]) < precision_to_match:\n",
    "        return control_guesses, mismatch\n",
    "\n",
    "    # now we start with the partial linear fitting\n",
    "    while len(control_guesses) < maxiter:\n",
    "        # sort the (mismatch, control_pairs) from small to large\n",
    "        sort_index = np.argsort(np.array(mismatch))\n",
    "        # actual linear fitting\n",
    "        tck = interpolate.splrep(np.array(mismatch)[sort_index],\n",
    "                                 np.array(control_guesses)[sort_index],\n",
    "                                 k=1)  # degree of the fitting, 1 is linear\n",
    "        # if there are NaNs in the fitting parameters it is an indication that\n",
    "        # probably the strictly monotone relation is not holding, but also\n",
    "        # other problems possible (e.g. to close guesses)\n",
    "        if np.isnan(tck[1]).any():\n",
    "            # here is the place where you can do further problem dependent\n",
    "            # error management or just raise an error\n",
    "            raise RuntimeError('Somthing went wrong during the linear fitting!')\n",
    "\n",
    "        # evaluate the linear fit where mismatch = 0 to get the next guess\n",
    "        next_control_guess = float(interpolate.splev(0, tck))\n",
    "\n",
    "        new_mismatch, new_control = fct_to_minimise(next_control_guess)\n",
    "        control_guesses.append(new_control)\n",
    "        mismatch.append(new_mismatch)\n",
    "        if abs(mismatch[-1]) < precision_to_match:\n",
    "            return control_guesses, mismatch\n",
    "\n",
    "    # If we end here it was not possible to find a satisfying mismatch after maxiter(ations)\n",
    "    raise RuntimeError('Could not find small enough mismatch after the'\n",
    "                       'maximum iterations!')\n"
   ]
  },
  {
   "cell_type": "markdown",
   "metadata": {},
   "source": [
    "## Start with glacier example"
   ]
  },
  {
   "cell_type": "code",
   "execution_count": null,
   "metadata": {},
   "outputs": [],
   "source": [
    "import matplotlib.pyplot as plt\n",
    "import xarray as xr\n",
    "import numpy as np\n",
    "import pandas as pd\n",
    "import seaborn as sns"
   ]
  },
  {
   "cell_type": "code",
   "execution_count": null,
   "metadata": {},
   "outputs": [],
   "source": [
    "# Make pretty plots\n",
    "sns.set_style('ticks')\n",
    "sns.set_context('notebook')"
   ]
  },
  {
   "cell_type": "code",
   "execution_count": null,
   "metadata": {},
   "outputs": [],
   "source": [
    "from oggm import cfg, utils, workflow, tasks, graphics"
   ]
  },
  {
   "cell_type": "code",
   "execution_count": null,
   "metadata": {},
   "outputs": [],
   "source": [
    "cfg.initialize(logging_level='WARNING')\n",
    "cfg.PATHS['working_dir'] = utils.gettempdir(dirname='OGGMSpinup')"
   ]
  },
  {
   "cell_type": "markdown",
   "metadata": {},
   "source": [
    "## Define the glaciers we will play with"
   ]
  },
  {
   "cell_type": "code",
   "execution_count": null,
   "metadata": {},
   "outputs": [],
   "source": [
    "# Khumbu and a 'bad' glacier in terms of the dynamic spinup\n",
    "rgi_ids = ['RGI60-15.03733', 'RGI60-11.00275']"
   ]
  },
  {
   "cell_type": "markdown",
   "metadata": {},
   "source": [
    "## Preparing the glacier data"
   ]
  },
  {
   "cell_type": "markdown",
   "metadata": {},
   "source": [
    "This can take up to a few minutes on the first call because of the download of the required data:"
   ]
  },
  {
   "cell_type": "code",
   "execution_count": null,
   "metadata": {},
   "outputs": [],
   "source": [
    "# We use a recent gdir setting, calibated on a glacier per glacier basis\n",
    "base_url = 'https://cluster.klima.uni-bremen.de/~oggm/gdirs/oggm_v1.6/L3-L5_files/ERA5/elev_bands/qc0/pcp1.6/match_geod_pergla/'\n",
    "\n",
    "# These parameters correspond to the settings of the base url\n",
    "cfg.PARAMS['prcp_scaling_factor'] = 1.6\n",
    "cfg.PARAMS['climate_qc_months'] = 0\n",
    "cfg.PARAMS['hydro_month_nh'] = 1\n",
    "cfg.PARAMS['hydro_month_sh'] = 1\n",
    "cfg.PARAMS['max_mu_star'] = 600"
   ]
  },
  {
   "cell_type": "code",
   "execution_count": null,
   "metadata": {},
   "outputs": [],
   "source": [
    "# We use a relatively large border value to allow the glacier to grow during spinup\n",
    "gdirs = workflow.init_glacier_directories(rgi_ids, from_prepro_level=3, prepro_border=160, prepro_base_url=base_url)"
   ]
  },
  {
   "cell_type": "markdown",
   "metadata": {},
   "source": [
    "## Start by comparing three different spinups"
   ]
  },
  {
   "cell_type": "code",
   "execution_count": null,
   "metadata": {},
   "outputs": [],
   "source": [
    "# For the following experiments we only use Khumbu\n",
    "gdir = gdirs[0]"
   ]
  },
  {
   "cell_type": "code",
   "execution_count": null,
   "metadata": {},
   "outputs": [],
   "source": [
    "# We will \"reconstruct\" a possible glacier evolution from this year onwards\n",
    "spinup_start_yr = 1979\n",
    "\n",
    "# here we save the original mu_star for later\n",
    "mu_star_original = gdir.read_json('local_mustar')['mu_star_glacierwide']\n",
    "\n",
    "# and save some reference values we can compare to later\n",
    "area_reference = gdir.rgi_area_m2  # RGI area\n",
    "volume_reference = tasks.get_inversion_volume(gdir)  # volume after regional calibration to consensus\n",
    "ref_period = cfg.PARAMS['geodetic_mb_period']  # get the reference period we want to use, 2000 to 2020\n",
    "df_ref_dmdtda = utils.get_geodetic_mb_dataframe().loc[gdir.rgi_id]  # get the data from Hugonnet 2021\n",
    "df_ref_dmdtda = df_ref_dmdtda.loc[df_ref_dmdtda['period'] == ref_period]  # only select the desired period\n",
    "dmdtda_reference = df_ref_dmdtda['dmdtda'].values[0] * 1000  # get the reference dmdtda and convert into kg m-2 yr-1\n",
    "dmdtda_reference_error = df_ref_dmdtda['err_dmdtda'].values[0] * 1000  # corresponding uncertainty"
   ]
  },
  {
   "cell_type": "markdown",
   "metadata": {},
   "source": [
    "Let's start by comparing the ```fixed_geometry_spinup```, the ```run_dynamic_spinup``` and the ```run_dynamic_mu_star_calibration``` (which contains a dynamic spinup) options."
   ]
  },
  {
   "cell_type": "code",
   "execution_count": null,
   "metadata": {},
   "outputs": [],
   "source": [
    "# ---- First do the fixed geometry spinup ----\n",
    "tasks.run_from_climate_data(gdir,\n",
    "                            fixed_geometry_spinup_yr=spinup_start_yr,  # Start the run at the RGI date but retro-actively correct the data with fixed geometry\n",
    "                            output_filesuffix='_hist_fixed_geom',  # where to write the output\n",
    "                            );\n",
    "# Read the output\n",
    "with xr.open_dataset(gdir.get_filepath('model_diagnostics', filesuffix='_hist_fixed_geom')) as ds:\n",
    "    ds_hist = ds.load()\n",
    "\n",
    "# ---- Second the dynamic spinup alone, matching area ----\n",
    "tasks.run_dynamic_spinup(gdir,\n",
    "                         spinup_start_yr=spinup_start_yr,  # When to start the spinup\n",
    "                         minimise_for='area',  # what target to match at the RGI date\n",
    "                         output_filesuffix='_spinup_dynamic_area',  # Where to write the output\n",
    "                         ye=2020,  # When the simulation should stop\n",
    "                         );\n",
    "# Read the output\n",
    "with xr.open_dataset(gdir.get_filepath('model_diagnostics', filesuffix='_spinup_dynamic_area')) as ds:\n",
    "    ds_dynamic_spinup_area = ds.load()\n",
    "    \n",
    "# ---- Third the dynamic spinup alone, matching volume ----\n",
    "tasks.run_dynamic_spinup(gdir,\n",
    "                         spinup_start_yr=spinup_start_yr,  # When to start the spinup\n",
    "                         minimise_for='volume',  # what target to match at the RGI date\n",
    "                         output_filesuffix='_spinup_dynamic_volume',  # Where to write the output\n",
    "                         ye=2020,  # When the simulation should stop\n",
    "                         );\n",
    "# Read the output\n",
    "with xr.open_dataset(gdir.get_filepath('model_diagnostics', filesuffix='_spinup_dynamic_volume')) as ds:\n",
    "    ds_dynamic_spinup_volume = ds.load()\n",
    "\n",
    "# ---- Fourth the dynamic mu star calibration (includes a dynamic spinup matching area) ----\n",
    "tasks.run_dynamic_mu_star_calibration(gdir,\n",
    "                                      ys=spinup_start_yr,  # When to start the spinup\n",
    "                                      ye=2020,  # When the simulation should stop\n",
    "                                      output_filesuffix='_dynamic_mu',  # Where to write the output\n",
    "                                     );\n",
    "\n",
    "with xr.open_dataset(gdir.get_filepath('model_diagnostics', filesuffix='_dynamic_mu')) as ds:\n",
    "    ds_dynamic_mu = ds.load()"
   ]
  },
  {
   "cell_type": "code",
   "execution_count": null,
   "metadata": {},
   "outputs": [],
   "source": [
    "# Now make a plot for comparision\n",
    "y0 = gdir.rgi_date + 1\n",
    "\n",
    "f, (ax1, ax2, ax3) = plt.subplots(1, 3, figsize=(16, 5))\n",
    "\n",
    "ds_hist.volume_m3.plot(ax=ax1, label='Fixed geometry spinup');\n",
    "ds_dynamic_mu.volume_m3.plot(ax=ax1, label='Dynamical mu* calibration');\n",
    "ds_dynamic_spinup_area.volume_m3.plot(ax=ax1, label='Dynamical spinup match area');\n",
    "ds_dynamic_spinup_volume.volume_m3.plot(ax=ax1, label='Dynamical spinup match volume');\n",
    "ax1.set_title('Volume');\n",
    "ax1.scatter(y0, volume_reference, c='C3', label='Reference values');\n",
    "ax1.legend();\n",
    "\n",
    "ds_hist.area_m2.plot(ax=ax2);\n",
    "ds_dynamic_mu.area_m2.plot(ax=ax2);\n",
    "ds_dynamic_spinup_area.area_m2.plot(ax=ax2);\n",
    "ds_dynamic_spinup_volume.area_m2.plot(ax=ax2);\n",
    "ax2.set_title('Area');\n",
    "ax2.scatter(y0, area_reference, c='C3')\n",
    "\n",
    "ds_hist.length_m.plot(ax=ax3);\n",
    "ds_dynamic_mu.length_m.plot(ax=ax3);\n",
    "ds_dynamic_spinup_area.length_m.plot(ax=ax3);\n",
    "ds_dynamic_spinup_volume.length_m.plot(ax=ax3);\n",
    "ax3.set_title('Length');\n",
    "ax3.scatter(y0, ds_hist.sel(time=y0).length_m, c='C3')\n",
    "\n",
    "plt.tight_layout()\n",
    "plt.show();\n",
    "\n",
    "# and print out the modeled geodetic mass balances for comparision\n",
    "def get_dmdtda(ds):\n",
    "    yr0_ref_mb, yr1_ref_mb = ref_period.split('_')\n",
    "    yr0_ref_mb = int(yr0_ref_mb.split('-')[0])\n",
    "    yr1_ref_mb = int(yr1_ref_mb.split('-')[0])\n",
    "\n",
    "    return ((ds.volume_m3.loc[yr1_ref_mb].values -\n",
    "             ds.volume_m3.loc[yr0_ref_mb].values) /\n",
    "            gdir.rgi_area_m2 /\n",
    "            (yr1_ref_mb - yr0_ref_mb) *\n",
    "            cfg.PARAMS['ice_density'])\n",
    "\n",
    "print(f'Reference dmdtda 2000 to 2020 (Hugonnet 2021):     {dmdtda_reference:.2f} +/- {dmdtda_reference_error:6.2f} kg m-2 yr-1')\n",
    "print(f'Fixed geometry spinup dmdtda 2000 to 2020:         {get_dmdtda(ds_hist):.2f}            kg m-2 yr-1')\n",
    "print(f'Dynamical spinup match area dmdtda 2000 to 2020:   {get_dmdtda(ds_dynamic_spinup_area):.2f}            kg m-2 yr-1')\n",
    "print(f'Dynamical spinup match volume dmdtda 2000 to 2020: {get_dmdtda(ds_dynamic_spinup_volume):.2f}            kg m-2 yr-1')\n",
    "print(f'Dynamical mu* calibration dmdtda 2000 to 2020:     {get_dmdtda(ds_dynamic_mu):.2f}            kg m-2 yr-1')"
   ]
  },
  {
   "cell_type": "markdown",
   "metadata": {},
   "source": [
    "The blue curve shows the fixed geometry spinup (the old default spinup option). This option ignores area and length changes before the RGI date, which would be important, especially for hydrologic applications. Further,  the short advance after the RGI date you see in the length is an \"initial shock\" after allowing the geometry to change. On the other side, the advantage of this method is that we match the area at the RGI date exact (red dot). And also the volume is matched perfectly because it is calculated backwards from the RGI date by using the constant area. The reference value of the length in these plots should not be considered as an observation as we are using an elevation band flowline, which loses some geometric information during the construction (see [documentation](https://docs.oggm.org/en/latest/flowlines.html#elevation-band-flowlines)).\n",
    "\n",
    "Both dynamic spinup options (matching the area in green, matching the volume in red) address the issues of constant geometry and the \"initial shock\". With this method, we get a changing surface geometry before the RGI date without an \"initial Shock\" afterwards. You also see clearly that depending on the variable to match, we are closer to the reference area or the reference volume. Which option to use depends on the use case and the available data. On a global scale, we selected to match to the area by default. A reason for this is that the area is a direct observation, whereas the volume is a consensus model derivation ([Farinotti 2019](https://doi.org/10.1038/s41561-019-0300-3)).\n",
    "\n",
    "Also shown in the plots above is the dynamic $\\mu^*$ calibration (including a dynamic spinup matching the area) in orange. However, you can not see an orange curve as it is exactly below the dynamic spinup matching the area (in green). The reason for this can be explained by comparing the reference geodetic mass balance ([Hugonnet 2021](https://doi.org/10.1038/s41586-021-03436-z)) with the modelled ones, below the plots. You see that (by chance) the dynamic spinup already fits inside the provided observation uncertainty and therefore the dynamic $\\mu^*$ calibration does not need to look further. But to showcase the ability of the dynamic $\\mu^*$ calibration, we can artificially set the uncertainty lower and let it run again:"
   ]
  },
  {
   "cell_type": "code",
   "execution_count": null,
   "metadata": {},
   "outputs": [],
   "source": [
    "# define an artificial error for dmdtda\n",
    "dmdtda_reference_error_artificial = 5 # error must be given as a positive number\n",
    "\n",
    "tasks.run_dynamic_mu_star_calibration(gdir,\n",
    "                                      ys=spinup_start_yr,  # When to start the spinup\n",
    "                                      ye=2020,  # When the simulation should stop\n",
    "                                      output_filesuffix='_dynamic_mu_artificial',  # Where to write the output\n",
    "                                      ref_dmdtda=dmdtda_reference,  # user-provided geodetic mass balance observation\n",
    "                                      err_ref_dmdtda=dmdtda_reference_error_artificial,  # uncertainty of user-provided geodetic mass balance observation \n",
    "                                     );\n",
    "\n",
    "with xr.open_dataset(gdir.get_filepath('model_diagnostics', filesuffix='_dynamic_mu_artificial')) as ds:\n",
    "    ds_dynamic_mu_artificial = ds.load()"
   ]
  },
  {
   "cell_type": "code",
   "execution_count": null,
   "metadata": {},
   "outputs": [],
   "source": [
    "# plot again\n",
    "y0 = gdir.rgi_date + 1\n",
    "\n",
    "f, (ax1, ax2, ax3) = plt.subplots(1, 3, figsize=(16, 5))\n",
    "\n",
    "ds_hist.volume_m3.plot(ax=ax1, label='Fixed geometry spinup');\n",
    "ds_dynamic_mu_artificial.volume_m3.plot(ax=ax1, label='Dynamical mu* calibration');\n",
    "ds_dynamic_spinup_area.volume_m3.plot(ax=ax1, label='Dynamical spinup match area');\n",
    "ax1.set_title('Volume');\n",
    "ax1.scatter(y0, volume_reference, c='C3', label='Reference values');\n",
    "ax1.legend();\n",
    "\n",
    "ds_hist.area_m2.plot(ax=ax2);\n",
    "ds_dynamic_mu_artificial.area_m2.plot(ax=ax2);\n",
    "ds_dynamic_spinup_area.area_m2.plot(ax=ax2);\n",
    "ax2.set_title('Area');\n",
    "ax2.scatter(y0, area_reference, c='C3')\n",
    "\n",
    "ds_hist.length_m.plot(ax=ax3);\n",
    "ds_dynamic_mu_artificial.length_m.plot(ax=ax3);\n",
    "ds_dynamic_spinup_area.length_m.plot(ax=ax3);\n",
    "ax3.set_title('Length');\n",
    "ax3.scatter(y0, ds_hist.sel(time=y0).length_m, c='C3')\n",
    "\n",
    "plt.tight_layout()\n",
    "plt.show();\n",
    "\n",
    "# and print out the modeled geodetic mass balances for comparision\n",
    "def get_dmdtda(ds):\n",
    "    yr0_ref_mb, yr1_ref_mb = ref_period.split('_')\n",
    "    yr0_ref_mb = int(yr0_ref_mb.split('-')[0])\n",
    "    yr1_ref_mb = int(yr1_ref_mb.split('-')[0])\n",
    "\n",
    "    return ((ds.volume_m3.loc[yr1_ref_mb].values -\n",
    "             ds.volume_m3.loc[yr0_ref_mb].values) /\n",
    "            gdir.rgi_area_m2 /\n",
    "            (yr1_ref_mb - yr0_ref_mb) *\n",
    "            cfg.PARAMS['ice_density'])\n",
    "\n",
    "print(f'Reference dmdtda 2000 to 2020 (artificial error):  {dmdtda_reference:.2f} +/- {dmdtda_reference_error_artificial:6.2f} kg m-2 yr-1')\n",
    "print(f'Fixed geometry spinup dmdtda 2000 to 2020:         {get_dmdtda(ds_hist):.2f}            kg m-2 yr-1')\n",
    "print(f'Dynamical spinup match area dmdtda 2000 to 2020:   {get_dmdtda(ds_dynamic_spinup_area):.2f}            kg m-2 yr-1')\n",
    "print(f'Dynamical mu* calibration dmdtda 2000 to 2020:     {get_dmdtda(ds_dynamic_mu_artificial):.2f}            kg m-2 yr-1')"
   ]
  },
  {
   "cell_type": "markdown",
   "metadata": {},
   "source": [
    "It is a made-up example, but you see here is a difference between the dynamic spinup and the dynamic $\\mu^*$ calibration. And indeed the dynamic mu star calibration manages to match our 'very accurate' geodetic mass balance.\n",
    "\n",
    "For additional options of the two run tasks have a look at their doc-strings ([run_dynamic_spinup](https://docs.oggm.org/en/stable/generated/oggm.tasks.run_dynamic_spinup.html#oggm.tasks.run_dynamic_spinup) and [run_dynamic_mu_star_calibration](https://docs.oggm.org/en/stable/generated/oggm.tasks.run_dynamic_mu_star_calibration.html#oggm.tasks.run_dynamic_mu_star_calibration)). You can also change all the settings of the included dynamic spinup inside the ```run_dynamic_mu_star_calibration``` by using ```kwargs_run_function``` (e.g. ```kwargs_run_function = {'minimize_for':'volume'}``` to match for volume instead of area).\n"
   ]
  },
  {
   "cell_type": "markdown",
   "metadata": {},
   "source": [
    "## Example where it is not working so well"
   ]
  },
  {
   "cell_type": "markdown",
   "metadata": {},
   "source": [
    "The dynamic spinup however is not always working that well, as the example below shows:"
   ]
  },
  {
   "cell_type": "code",
   "execution_count": null,
   "metadata": {},
   "outputs": [],
   "source": [
    "# now we switch to the 'bad' glacier\n",
    "gdir = gdirs[1]"
   ]
  },
  {
   "cell_type": "code",
   "execution_count": null,
   "metadata": {},
   "outputs": [],
   "source": [
    "# We will \"reconstruct\" a possible glacier evolution from this year onwards\n",
    "spinup_start_yr = 1979\n",
    "\n",
    "# here we save the original mu_star for later\n",
    "mu_star_original = gdir.read_json('local_mustar')['mu_star_glacierwide']\n",
    "\n",
    "# and save some reference values we can compare to later\n",
    "area_reference = gdir.rgi_area_m2  # RGI area\n",
    "volume_reference = tasks.get_inversion_volume(gdir)  # volume after regional calibration to consensus\n",
    "ref_period = cfg.PARAMS['geodetic_mb_period']  # get the reference period we want to use, 2000 to 2020\n",
    "df_ref_dmdtda = utils.get_geodetic_mb_dataframe().loc[gdir.rgi_id]  # get the data from Hugonnet 2021\n",
    "df_ref_dmdtda = df_ref_dmdtda.loc[df_ref_dmdtda['period'] == ref_period]  # only select the desired period\n",
    "dmdtda_reference = df_ref_dmdtda['dmdtda'].values[0] * 1000  # get the reference dmdtda and convert into kg m-2 yr-1\n",
    "dmdtda_reference_error = df_ref_dmdtda['err_dmdtda'].values[0] * 1000  # corresponding uncertainty"
   ]
  },
  {
   "cell_type": "code",
   "execution_count": null,
   "metadata": {},
   "outputs": [],
   "source": [
    "# ---- First do the fixed geometry spinup ----\n",
    "tasks.run_from_climate_data(gdir,\n",
    "                            fixed_geometry_spinup_yr=spinup_start_yr,  # Start the run at the RGI date but retro-actively correct the data with fixed geometry\n",
    "                            output_filesuffix='_hist_fixed_geom',  # where to write the output\n",
    "                            );\n",
    "# Read the output\n",
    "with xr.open_dataset(gdir.get_filepath('model_diagnostics', filesuffix='_hist_fixed_geom')) as ds:\n",
    "    ds_hist = ds.load()\n",
    "\n",
    "# ---- Second the dynamic spinup alone, matching area ----\n",
    "tasks.run_dynamic_spinup(gdir,\n",
    "                         spinup_start_yr=spinup_start_yr,  # When to start the spinup\n",
    "                         minimise_for='area',  # what target to match at the RGI date\n",
    "                         output_filesuffix='_spinup_dynamic_area',  # Where to write the output\n",
    "                         ye=2020,  # When the simulation should stop\n",
    "                         );\n",
    "# Read the output\n",
    "with xr.open_dataset(gdir.get_filepath('model_diagnostics', filesuffix='_spinup_dynamic_area')) as ds:\n",
    "    ds_dynamic_spinup_area = ds.load()\n",
    "    \n",
    "# ---- Third the dynamic spinup alone, matching volume ----\n",
    "tasks.run_dynamic_spinup(gdir,\n",
    "                         spinup_start_yr=spinup_start_yr,  # When to start the spinup\n",
    "                         minimise_for='volume',  # what target to match at the RGI date\n",
    "                         output_filesuffix='_spinup_dynamic_volume',  # Where to write the output\n",
    "                         ye=2020,  # When the simulation should stop\n",
    "                         );\n",
    "# Read the output\n",
    "with xr.open_dataset(gdir.get_filepath('model_diagnostics', filesuffix='_spinup_dynamic_volume')) as ds:\n",
    "    ds_dynamic_spinup_volume = ds.load()"
   ]
  },
  {
   "cell_type": "code",
   "execution_count": null,
   "metadata": {},
   "outputs": [],
   "source": [
    "# Now make a plot for comparision\n",
    "y0 = gdir.rgi_date + 1\n",
    "\n",
    "f, (ax1, ax2, ax3) = plt.subplots(1, 3, figsize=(16, 5))\n",
    "\n",
    "ds_hist.volume_m3.plot(ax=ax1, label='Fixed geometry spinup');\n",
    "ds_dynamic_spinup_area.volume_m3.plot(ax=ax1, label='Dynamical spinup match area');\n",
    "ds_dynamic_spinup_volume.volume_m3.plot(ax=ax1, label='Dynamical spinup match volume');\n",
    "ax1.set_title('Volume');\n",
    "ax1.scatter(y0, volume_reference, c='C3', label='Reference values');\n",
    "ax1.legend();\n",
    "\n",
    "ds_hist.area_m2.plot(ax=ax2);\n",
    "ds_dynamic_spinup_area.area_m2.plot(ax=ax2);\n",
    "ds_dynamic_spinup_volume.area_m2.plot(ax=ax2);\n",
    "ax2.set_title('Area');\n",
    "ax2.scatter(y0, area_reference, c='C3')\n",
    "\n",
    "ds_hist.length_m.plot(ax=ax3);\n",
    "ds_dynamic_spinup_area.length_m.plot(ax=ax3);\n",
    "ds_dynamic_spinup_volume.length_m.plot(ax=ax3);\n",
    "ax3.set_title('Length');\n",
    "ax3.scatter(y0, ds_hist.sel(time=y0).length_m, c='C3')\n",
    "\n",
    "plt.tight_layout()\n",
    "plt.show();\n",
    "\n",
    "# and print out the modeled geodetic mass balances for comparision\n",
    "def get_dmdtda(ds):\n",
    "    yr0_ref_mb, yr1_ref_mb = ref_period.split('_')\n",
    "    yr0_ref_mb = int(yr0_ref_mb.split('-')[0])\n",
    "    yr1_ref_mb = int(yr1_ref_mb.split('-')[0])\n",
    "\n",
    "    return ((ds.volume_m3.loc[yr1_ref_mb].values -\n",
    "             ds.volume_m3.loc[yr0_ref_mb].values) /\n",
    "            gdir.rgi_area_m2 /\n",
    "            (yr1_ref_mb - yr0_ref_mb) *\n",
    "            cfg.PARAMS['ice_density'])\n",
    "\n",
    "print(f'Reference dmdtda 2000 to 2020 (Hugonnet 2021):     {dmdtda_reference:.2f} +/- {dmdtda_reference_error:6.2f} kg m-2 yr-1')\n",
    "print(f'Fixed geometry spinup dmdtda 2000 to 2020:         {get_dmdtda(ds_hist):.2f}            kg m-2 yr-1')\n",
    "print(f'Dynamical spinup match area dmdtda 2000 to 2020:   {get_dmdtda(ds_dynamic_spinup_area):.2f}            kg m-2 yr-1')\n",
    "print(f'Dynamical spinup match volume dmdtda 2000 to 2020: {get_dmdtda(ds_dynamic_spinup_volume):.2f}            kg m-2 yr-1')\n"
   ]
  },
  {
   "cell_type": "markdown",
   "metadata": {},
   "source": [
    "In this example, you see that the dynamic spinup runs do not start in 1980 but other years. The reason for this are the two main problems and the coping strategy of reducing the spinup time, described [here](#Two-main-problems-why-the-dynamic-spinup-could-not-work:) in more detail.\n",
    "**Be aware that even if you set a specific spinup year the resulting model run can start at a later year.**\n",
    "If you want to get an error when this is happening you can use the ```min_spinup_period```. For example you can set ```min_spinup_period = gdir.rgi_date - spinup_start_yr```, with this an error is raised whenever it is not possible to run a dynamic spinup over the whole period."
   ]
  },
  {
   "cell_type": "markdown",
   "metadata": {},
   "source": [
    "## Dynamical spinup and hydrological output "
   ]
  },
  {
   "cell_type": "markdown",
   "metadata": {},
   "source": [
    "Fortunately, it is also possible to run the spinup model with additional hydrological output: "
   ]
  },
  {
   "cell_type": "code",
   "execution_count": null,
   "metadata": {},
   "outputs": [],
   "source": [
    "# Here we use Khumbu again\n",
    "gdir = gdirs[0]\n",
    "\n",
    "cfg.PARAMS['store_model_geometry'] = True  # This is required for the hydro runs\n",
    "\n",
    "# Dynamic mu star calibration including a dynamic spinup to match for area\n",
    "tasks.run_with_hydro(gdir,\n",
    "                     run_task=tasks.run_dynamic_mu_star_calibration,  # The task to run with hydro\n",
    "                     ys=spinup_start_yr,  # When to start the spinup\n",
    "                     ye=2020,  # When the simulation should stop\n",
    "                     store_monthly_hydro=True,  # compute monthly hydro diagnostics\n",
    "                     ref_area_from_y0=True,  # Even if the glacier may grow, keep the reference area as the year 0 of the simulation\n",
    "                     output_filesuffix='_spinup_dynamic_hydro',  # Where to write the output - this is needed to stitch the runs together afterwards\n",
    "                     );\n",
    "\n",
    "# Read the output\n",
    "with xr.open_dataset(gdir.get_filepath('model_diagnostics', filesuffix='_spinup_dynamic_hydro')) as ds:\n",
    "    ds_dynamic_spinup_hydro = ds.load()\n",
    "\n",
    "ds_dynamic_spinup_hydro = ds_dynamic_spinup_hydro.isel(time=slice(0, -1))  # The last timestep is incomplete for hydro (not started)"
   ]
  },
  {
   "cell_type": "markdown",
   "metadata": {},
   "source": [
    "### Annual runoff "
   ]
  },
  {
   "cell_type": "markdown",
   "metadata": {},
   "source": [
    "The new hydrological variables are now available. Let's make a pandas DataFrame of all \"1D\" (annual) variables:"
   ]
  },
  {
   "cell_type": "code",
   "execution_count": null,
   "metadata": {},
   "outputs": [],
   "source": [
    "sel_vars = [v for v in ds_dynamic_spinup_hydro.variables if 'month_2d' not in ds_dynamic_spinup_hydro[v].dims]\n",
    "df_annual = ds_dynamic_spinup_hydro[sel_vars].to_dataframe()"
   ]
  },
  {
   "cell_type": "markdown",
   "metadata": {},
   "source": [
    "The hydrological variables are computed on the largest possible area that was covered by glacier ice in the simulation. This is equivalent to the runoff that would be measured at a fixed-gauge station at the glacier terminus. The total annual runoff is:"
   ]
  },
  {
   "cell_type": "code",
   "execution_count": null,
   "metadata": {},
   "outputs": [],
   "source": [
    "# Select only the runoff variables and convert them to megatonnes (instead of kg)\n",
    "runoff_vars = ['melt_off_glacier', 'melt_on_glacier', 'liq_prcp_off_glacier', 'liq_prcp_on_glacier']\n",
    "df_runoff = df_annual[runoff_vars] * 1e-9\n",
    "df_runoff.sum(axis=1).plot(); plt.ylabel('Mt');"
   ]
  },
  {
   "cell_type": "markdown",
   "metadata": {},
   "source": [
    "It consists of the following components:\n",
    "- melt off-glacier: snow melt on areas that are now glacier free (i.e. 0 in the year of largest glacier extent, in this example at the start of the simulation)\n",
    "- melt on-glacier: ice + seasonal snow melt on the glacier\n",
    "- liquid precipitaton on- and off-glacier (the latter being zero at the year of largest glacial extent, in this example at start of the simulation)"
   ]
  },
  {
   "cell_type": "code",
   "execution_count": null,
   "metadata": {},
   "outputs": [],
   "source": [
    "f, ax = plt.subplots(figsize=(10, 6));\n",
    "df_runoff.plot.area(ax=ax, color=sns.color_palette(\"rocket\")); plt.xlabel('Years'); plt.ylabel('Runoff (Mt)'); plt.title(rgi_ids[0]);"
   ]
  },
  {
   "cell_type": "markdown",
   "metadata": {},
   "source": [
    "As the glacier retreats, total runoff decreases as a result of the decreasing glacier contribution."
   ]
  },
  {
   "cell_type": "markdown",
   "metadata": {},
   "source": [
    "### Monthly runoff "
   ]
  },
  {
   "cell_type": "markdown",
   "metadata": {},
   "source": [
    "The \"2D\" variables contain the same data but at monthly resolution, with the dimension (time, month). For example, runoff can be computed the \n",
    "same way:"
   ]
  },
  {
   "cell_type": "code",
   "execution_count": null,
   "metadata": {
    "scrolled": true
   },
   "outputs": [],
   "source": [
    "# Select only the runoff variables and convert them to megatonnes (instead of kg)\n",
    "monthly_runoff = ds['melt_off_glacier_monthly'] + ds['melt_on_glacier_monthly'] + ds['liq_prcp_off_glacier_monthly'] + ds['liq_prcp_on_glacier_monthly'] \n",
    "monthly_runoff *= 1e-9\n",
    "monthly_runoff.clip(0).plot(cmap='Blues', cbar_kwargs={'label':'Mt'}); plt.xlabel('Months'); plt.ylabel('Years'); plt.title(rgi_ids[0]);"
   ]
  },
  {
   "cell_type": "markdown",
   "metadata": {},
   "source": [
    "See [hydrological_output](hydrological_output.ipynb) for more info on how to interpret the hydrological output!"
   ]
  },
  {
   "cell_type": "markdown",
   "metadata": {},
   "source": [
    "## What's next?\n",
    "\n",
    "- return to the [OGGM documentation](https://docs.oggm.org)\n",
    "- back to the [table of contents](welcome.ipynb)"
   ]
  }
 ],
 "metadata": {
  "hide_input": false,
  "kernelspec": {
   "display_name": "Python 3 (ipykernel)",
   "language": "python",
   "name": "python3"
  },
  "language_info": {
   "codemirror_mode": {
    "name": "ipython",
    "version": 3
   },
   "file_extension": ".py",
   "mimetype": "text/x-python",
   "name": "python",
   "nbconvert_exporter": "python",
   "pygments_lexer": "ipython3",
   "version": "3.8.12"
  },
  "toc": {
   "base_numbering": 1,
   "nav_menu": {},
   "number_sections": false,
   "sideBar": true,
   "skip_h1_title": true,
   "title_cell": "Table of Contents",
   "title_sidebar": "Contents",
   "toc_cell": false,
   "toc_position": {},
   "toc_section_display": true,
   "toc_window_display": true
  }
 },
 "nbformat": 4,
 "nbformat_minor": 4
}
