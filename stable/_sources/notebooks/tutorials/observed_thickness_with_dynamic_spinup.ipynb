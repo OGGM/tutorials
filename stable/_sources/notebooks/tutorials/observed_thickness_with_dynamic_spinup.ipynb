{
 "cells": [
  {
   "cell_type": "markdown",
   "id": "0",
   "metadata": {},
   "source": [
    "# Dynamic model initialization using observed thickness data"
   ]
  },
  {
   "cell_type": "markdown",
   "id": "1",
   "metadata": {},
   "source": [
    "This notebook demonstrates the translation of thickness observations into bed topography in 'flowline-space' and a dynamic model initialization for projections. Guidelines for adding thickness observations to your glacier directory are provided in the tutorials [Ingest gridded products such as ice velocity into OGGM](../advanced/ingest_gridded_data_on_flowlines.ipynb) and [OGGM-Shop and Glacier Directories in OGGM](../beginner/oggm_shop.ipynb)."
   ]
  },
  {
   "cell_type": "code",
   "execution_count": null,
   "id": "2",
   "metadata": {
    "tags": []
   },
   "outputs": [],
   "source": [
    "from oggm import utils, workflow, tasks, cfg, graphics\n",
    "import pandas as pd\n",
    "import matplotlib.pyplot as plt\n",
    "import copy\n",
    "import numpy as np\n",
    "import xarray as xr\n",
    "from scipy import optimize"
   ]
  },
  {
   "cell_type": "markdown",
   "id": "3",
   "metadata": {
    "tags": []
   },
   "source": [
    "## Translate thickness observations into elevation band flowlines"
   ]
  },
  {
   "cell_type": "markdown",
   "id": "4",
   "metadata": {},
   "source": [
    "To convert thickness observations into bed topography, the initial step involves binning the data into elevation bands, as detailed in the tutorial [Ingest gridded products such as ice velocity into OGGM](../advanced/ingest_gridded_data_on_flowlines.ipynb). Fortunately, preprocessed directories are available, encompassing all data supported by the OGGM-Shop, already binned to elevation bands. This enables easy initialization of a dynamic flowline using `tasks.init_present_time_glacier`. Specify the data to be used with `use_binned_thickness_data`. Here, dynamic flowlines are defined using consensus thickness ([Farinotti et al. 2019](https://www.nature.com/articles/s41561-019-0300-3)) and Millan thickness data ([Millan et al. 2022](https://www.nature.com/articles/s41561-021-00885-z))."
   ]
  },
  {
   "cell_type": "code",
   "execution_count": null,
   "id": "5",
   "metadata": {
    "tags": []
   },
   "outputs": [],
   "source": [
    "# initialize our test glacier from the preprocessed directories including the shop data\n",
    "cfg.initialize(logging_level='WARNING')\n",
    "cfg.PATHS['working_dir'] = utils.gettempdir('OGGM_thk_dyn_spn', reset=True)\n",
    "rgi_ids = ['RGI60-11.00897']\n",
    "\n",
    "# preprocessed directories including shop data and the default oggm dynamic initialisation\n",
    "base_url = 'https://cluster.klima.uni-bremen.de/~oggm/gdirs/oggm_v1.6/L3-L5_files/2023.3/elev_bands/W5E5_spinup_w_data/'\n",
    "\n",
    "gdirs = workflow.init_glacier_directories(\n",
    "    rgi_ids,  # which glaciers?\n",
    "    prepro_base_url=base_url,  # where to fetch the data?\n",
    "    from_prepro_level=4,  # what kind of data? \n",
    "    prepro_border=80  # how big of a map?\n",
    ")\n",
    "\n",
    "gdir = gdirs[0]"
   ]
  },
  {
   "cell_type": "code",
   "execution_count": null,
   "id": "6",
   "metadata": {
    "tags": []
   },
   "outputs": [],
   "source": [
    "# This cell is only needed due to a bug in oggm v1.6.1 which was fixed and can be deleted with updated preprocessed directories\n",
    "bin_variables = ['consensus_ice_thickness', 'millan_ice_thickness']\n",
    "workflow.execute_entity_task(tasks.elevation_band_flowline,\n",
    "                             gdirs,\n",
    "                             bin_variables=bin_variables)\n",
    "workflow.execute_entity_task(tasks.fixed_dx_elevation_band_flowline,\n",
    "                             gdirs,\n",
    "                             bin_variables=bin_variables);"
   ]
  },
  {
   "cell_type": "code",
   "execution_count": null,
   "id": "7",
   "metadata": {
    "tags": []
   },
   "outputs": [],
   "source": [
    "# create the dynamic flowlines for consensus and millan thickness\n",
    "tasks.init_present_time_glacier(gdir, filesuffix='_consensus',\n",
    "                                use_binned_thickness_data='consensus_ice_thickness')\n",
    "tasks.init_present_time_glacier(gdir, filesuffix='_millan',\n",
    "                                use_binned_thickness_data='millan_ice_thickness')\n",
    "\n",
    "# open the default oggm flowline and the two we just created\n",
    "fls_oggm = gdir.read_pickle('model_flowlines')\n",
    "fls_consensus = gdir.read_pickle('model_flowlines', filesuffix='_consensus')\n",
    "fls_millan = gdir.read_pickle('model_flowlines', filesuffix='_millan')\n",
    "\n",
    "# plot the created dynamic flowlines, including the oggm default\n",
    "fig, axs = plt.subplots(2, 2, figsize=(10, 7))\n",
    "fig.subplots_adjust(wspace=0.6, hspace=0.5)\n",
    "\n",
    "graphics.plot_modeloutput_section(fls_oggm, ax=axs[0][0], title='OGGM default')\n",
    "graphics.plot_modeloutput_section(fls_consensus, ax=axs[0][1], title='Consensus')\n",
    "graphics.plot_modeloutput_section(fls_millan, ax=axs[1][0], title='Millan')\n",
    "\n",
    "ax_compare = axs[1][1]\n",
    "ax_compare.plot(fls_oggm[0].surface_h, label='surface height')  # surface height is the same for all flowlines\n",
    "ax_compare.plot(fls_oggm[0].bed_h, label='OGGM default')\n",
    "ax_compare.plot(fls_consensus[0].bed_h, label='Consensus')\n",
    "ax_compare.plot(fls_millan[0].bed_h, label='Millan')\n",
    "ax_compare.set_title('Direct comparison')\n",
    "ax_compare.legend();"
   ]
  },
  {
   "cell_type": "markdown",
   "id": "8",
   "metadata": {},
   "source": [
    "The resulting flowlines exhibit identical surface and area height distributions, defined by the outline and the DEM. Comparing individual bed heights, there is minimal difference between OGGM default and consensus flowline bed heights. This is attributed to OGGM's past contribution to the consensus estimate and the use of the consensus volume estimate in OGGM inversion. In contrast, the Millan bed height differs significantly.\n",
    "\n",
    "It's crucial to note that these newly created flowlines maintain the total glacier volume of the observations. While OGGM default's glacier volume is regionally calibrated, differences are expected compared to the consensus volume estimate, even though the consensus was used in the inversion (see next section).\n",
    "\n",
    "The key question now is how to dynamically calibrate and initialize the model with these newly generated flowlines."
   ]
  },
  {
   "cell_type": "markdown",
   "id": "9",
   "metadata": {},
   "source": [
    "## Dynamically calibrate and initialise todays glacier state, using flowlines from thickness observations"
   ]
  },
  {
   "cell_type": "markdown",
   "id": "10",
   "metadata": {},
   "source": [
    "Now, we delve into the process of initializing the model using OGGM's dynamic calibration methodology, elaborated in the tutorial [Dynamic spinup and dynamic *melt_f* calibration for past simulations](../advanced/dynamical_spinup.ipynb). In summary, the approach involves dynamically aligning the RGI area by identifying a suitable glacier state in the past and dynamically adjusting the melt factor of the mass balance to match observed geodetic mass balance. With the glacier bed defined by observations, there is an additional capability to dynamically match for the volume (further details below).\n",
    "\n",
    "To commence, use the dynamic calibration function `run_dynamic_melt_f_calibration` in conjunction with the newly created flowlines, which can be passed to `init_model_fls`. Refer to the designated tutorial [Dynamic spinup and dynamic *melt_f* calibration for past simulations](../advanced/dynamical_spinup.ipynb) for more details on the other parameters."
   ]
  },
  {
   "cell_type": "code",
   "execution_count": null,
   "id": "11",
   "metadata": {
    "tags": []
   },
   "outputs": [],
   "source": [
    "err_dmdtda_scaling_factor = 0.2  # the default value of oggm runs to account for correlated observation errors\n",
    "\n",
    "# Consensus flowline\n",
    "workflow.execute_entity_task(\n",
    "    tasks.run_dynamic_melt_f_calibration, gdirs,\n",
    "    init_model_fls=fls_consensus,\n",
    "    err_dmdtda_scaling_factor=err_dmdtda_scaling_factor,\n",
    "    ys=1979, ye=2020,\n",
    "    melt_f_max=cfg.PARAMS['melt_f_max'],\n",
    "    kwargs_run_function={'minimise_for': 'area',\n",
    "                         'do_inversion': False},\n",
    "    ignore_errors=True,\n",
    "    kwargs_fallback_function={'minimise_for': 'area',\n",
    "                              'do_inversion': False},\n",
    "    output_filesuffix='_spinup_historical_consensus',\n",
    ")\n",
    "\n",
    "# Millan flowlines\n",
    "workflow.execute_entity_task(\n",
    "    tasks.run_dynamic_melt_f_calibration, gdirs,\n",
    "    init_model_fls=fls_millan,\n",
    "    err_dmdtda_scaling_factor=err_dmdtda_scaling_factor,\n",
    "    ys=1979, ye=2020,\n",
    "    melt_f_max=cfg.PARAMS['melt_f_max'],\n",
    "    kwargs_run_function={'minimise_for': 'area',\n",
    "                         'do_inversion': False},\n",
    "    ignore_errors=True,\n",
    "    kwargs_fallback_function={'minimise_for': 'area',\n",
    "                              'do_inversion': False},\n",
    "    output_filesuffix='_spinup_historical_millan',\n",
    ")"
   ]
  },
  {
   "cell_type": "code",
   "execution_count": null,
   "id": "12",
   "metadata": {
    "tags": []
   },
   "outputs": [],
   "source": [
    "# define a plotting function to compare the dynamic model runs with the observations\n",
    "def compare_model_to_observations(gdir, filesuffixes):\n",
    "    \n",
    "    area_ref = gdir.rgi_area_m2\n",
    "    area_ref_error = area_ref * 0.01  # 1% is the default of the dynamic spinup\n",
    "    \n",
    "    df_dmdtda_ref = utils.get_geodetic_mb_dataframe().loc[gdir.rgi_id]\n",
    "    sel = df_dmdtda_ref.loc[df_dmdtda_ref['period'] == '2000-01-01_2020-01-01'].iloc[0]\n",
    "    # reference geodetic mass balance from Hugonnet 2021\n",
    "    dmdtda_ref = float(sel['dmdtda'])\n",
    "    # dmdtda: in meters water-equivalent per year -> we convert\n",
    "    dmdtda_ref *= 1000  # kg m-2 yr-1\n",
    "    # error of reference geodetic mass balance from Hugonnet 2021\n",
    "    dmdtda_ref_error = float(sel['err_dmdtda'])\n",
    "    dmdtda_ref_error *= 1000  # kg m-2 yr-1\n",
    "    dmdtda_ref_error *= err_dmdtda_scaling_factor\n",
    "    \n",
    "    dmdtda_comparison = f'dmdtda reference (with reduced uncertainty): {dmdtda_ref:.1f} +/- {dmdtda_ref_error:.1f} kg m-2 yr-1'\n",
    "\n",
    "    def get_dmdtda_modelled(volume, area_ref, yr0_ref_mb=2000, yr1_ref_mb=2020):\n",
    "        return ((volume.loc[yr1_ref_mb].values -\n",
    "                 volume.loc[yr0_ref_mb].values) /\n",
    "                area_ref /\n",
    "                (yr1_ref_mb - yr0_ref_mb) *\n",
    "                cfg.PARAMS['ice_density'])\n",
    "    \n",
    "    \n",
    "    # get the data of all model runs and plot it\n",
    "    fig, axs = plt.subplots(2, 1, figsize=(10, 6))\n",
    "    \n",
    "    for i, filesuffix in enumerate(filesuffixes):\n",
    "        if filesuffix == '':\n",
    "            label = 'OGGM default'\n",
    "        else:\n",
    "            label = filesuffix[1:]\n",
    "\n",
    "        fl = gdir.read_pickle('model_flowlines', filesuffix=filesuffix)[0]\n",
    "        with xr.open_dataset(\n",
    "            gdir.get_filepath('model_diagnostics',\n",
    "                              filesuffix=f'_spinup_historical{filesuffix}')) as ds:\n",
    "            ds_tmp = ds.load()\n",
    "        \n",
    "        # plot volume with reference\n",
    "        ref_year = gdir.rgi_date + 1\n",
    "        axs[0].plot(ds_tmp.time.values, ds_tmp.volume_m3.values,\n",
    "                    c=f'C{i}', label=label)\n",
    "        axs[0].plot(ref_year, fl.volume_m3,\n",
    "                    'o', c=f'C{i}', label=f'ref volume {label}')\n",
    "        \n",
    "\n",
    "        # plot area with reference\n",
    "        axs[1].plot(ds_tmp.time, ds_tmp.area_m2,\n",
    "                    c=f'C{i}', label=label)\n",
    "        axs[1].plot(ref_year, area_ref,\n",
    "                    'o', c=f'C{i}', label='ref area')\n",
    "        axs[1].plot([ref_year, ref_year],\n",
    "                    [area_ref - area_ref_error,\n",
    "                     area_ref + area_ref_error],\n",
    "                    c=f'C{i}')\n",
    "        \n",
    "        # add dmdtda as text\n",
    "        dmdtda_tmp = get_dmdtda_modelled(ds_tmp.volume_m3, area_ref)\n",
    "        dmdtda_comparison += (f'\\n{f\"dmdtda {label}:\":<44} {dmdtda_tmp:.1f} kg m-2 yr-1, diff. to ref.: '\n",
    "                              f'{f\"{dmdtda_tmp - dmdtda_ref:.1f}\":>5} kg m-2 yr-1')\n",
    "        \n",
    "    axs[0].legend()\n",
    "    axs[0].set_ylabel('Volume [m³]')\n",
    "    axs[1].legend()\n",
    "    axs[1].set_ylabel('Area [m²]')\n",
    "    \n",
    "    print(dmdtda_comparison)"
   ]
  },
  {
   "cell_type": "code",
   "execution_count": null,
   "id": "13",
   "metadata": {},
   "outputs": [],
   "source": [
    "compare_model_to_observations(gdir, ['', '_consensus', '_millan'])"
   ]
  },
  {
   "cell_type": "markdown",
   "id": "14",
   "metadata": {},
   "source": [
    "In all three simulations, we observe that both the area and geodetic mass balance align within the target boundaries. Nevertheless, the volume is only coincidentally matched for the consensus estimate. This discrepancy arises because the current deformation parameter was calibrated during the inversion for OGGM default initialization, which incorporates an equilibrium assumption (see [documention](https://docs.oggm.org/en/stable/inversion.html) for more information). However, when defining the glacier bed from thickness observations, it becomes possible/necessary to calibrate the deformation parameter to match the observed volume during initialization. Although there is currently no implemented function for this, the following code should provide an idea of how it can be achieved:"
   ]
  },
  {
   "cell_type": "code",
   "execution_count": null,
   "id": "15",
   "metadata": {
    "tags": []
   },
   "outputs": [],
   "source": [
    "# create a other flowline for this, for later comparision\n",
    "tasks.init_present_time_glacier(gdir, filesuffix='_millan_adapted',\n",
    "                                use_binned_thickness_data='millan_ice_thickness')\n",
    "\n",
    "def to_minimize(glen_a):\n",
    "    ref_volume = fls_millan[0].volume_m3\n",
    "    workflow.execute_entity_task(\n",
    "        tasks.run_dynamic_melt_f_calibration, gdirs,\n",
    "        init_model_fls=gdir.read_pickle('model_flowlines',\n",
    "                                        filesuffix='_millan_adapted'),\n",
    "        err_dmdtda_scaling_factor=0.2,\n",
    "        ys=1979, ye=2020,\n",
    "        melt_f_max=cfg.PARAMS['melt_f_max'],\n",
    "        kwargs_run_function={'minimise_for': 'area',\n",
    "                             'do_inversion': False,\n",
    "                             'glen_a': glen_a},\n",
    "        ignore_errors=True,\n",
    "        kwargs_fallback_function={'minimise_for': 'area',\n",
    "                                  'do_inversion': False},\n",
    "        output_filesuffix='_spinup_historical_millan_adapted',\n",
    "    )\n",
    "    with xr.open_dataset(gdir.get_filepath('model_diagnostics',\n",
    "                                       filesuffix='_spinup_historical_millan_adapted')) as ds:\n",
    "        ds_millan_adapted = ds.load()\n",
    "    \n",
    "    return ref_volume - ds_millan_adapted.loc[{'time': gdir.rgi_date + 1}].volume_m3.values.item()\n",
    "\n",
    "\n",
    "glen_a_millan = optimize.brentq(to_minimize, 1e-22, 1e-24, xtol=1e-25)\n",
    "\n",
    "# conduct the dynamic initialisation once more to be sure the right one is saved\n",
    "workflow.execute_entity_task(\n",
    "    tasks.run_dynamic_melt_f_calibration, gdirs,\n",
    "    init_model_fls=gdir.read_pickle('model_flowlines', filesuffix='_millan_adapted'),\n",
    "    err_dmdtda_scaling_factor=0.2,\n",
    "    ys=1979, ye=2020,\n",
    "    melt_f_max=cfg.PARAMS['melt_f_max'],\n",
    "    kwargs_run_function={'minimise_for': 'area',\n",
    "                         'do_inversion': False,\n",
    "                         'glen_a': glen_a_millan},\n",
    "    ignore_errors=True,\n",
    "    kwargs_fallback_function={'minimise_for': 'area',\n",
    "                              'do_inversion': False,\n",
    "                              'glen_a': glen_a_millan},\n",
    "    output_filesuffix='_spinup_historical_millan_adapted',\n",
    ")\n",
    "\n",
    "compare_model_to_observations(gdir, ['', '_consensus', '_millan', '_millan_adapted'])"
   ]
  },
  {
   "cell_type": "markdown",
   "id": "16",
   "metadata": {},
   "source": [
    "Now, we achieve dynamic consistency by calibrating the Glen A factor, ensuring a match in area, geodetic mass balance **and** volume."
   ]
  },
  {
   "cell_type": "code",
   "execution_count": null,
   "id": "17",
   "metadata": {
    "tags": []
   },
   "outputs": [],
   "source": [
    "glen_a_millan"
   ]
  },
  {
   "cell_type": "markdown",
   "id": "18",
   "metadata": {},
   "source": [
    "Note that if the optimized Glen A factor falls outside expected boundaries, considering the use of a sliding factor `fs` is advisable.\n",
    "\n",
    "**Important**: To retain the optimized Glen A (and fs) during projections, it must be set in the glacier directory."
   ]
  },
  {
   "cell_type": "code",
   "execution_count": null,
   "id": "19",
   "metadata": {
    "tags": []
   },
   "outputs": [],
   "source": [
    "# change glen_a in gdir for potential projection runs\n",
    "gdir.add_to_diagnostics('inversion_glen_a', glen_a_millan)\n",
    "# gdir.add_to_diagnostics('inversion_fs', fs_optimized)"
   ]
  },
  {
   "cell_type": "markdown",
   "id": "20",
   "metadata": {},
   "source": [
    "With this configuration, you can conduct projections as outlined in the tutorial [10 minutes to... a glacier change projection with GCM data](../10minutes/run_with_gcm.ipynb).\n",
    "\n",
    "If you intend to undertake a comparative study using different thickness datasets, we highly recommend creating an individual glacier directory per thickness data to ensure consistent use of the correct dynamic parameters."
   ]
  },
  {
   "cell_type": "markdown",
   "id": "21",
   "metadata": {
    "tags": []
   },
   "source": [
    "## What's next?\n",
    "\n",
    "- Look at the more comprehensive tutorial [Dynamic spinup and dynamic melt_f calibration for past simulations](../advanced/dynamical_spinup.ipynb)\n",
    "- return to the [OGGM documentation](https://docs.oggm.org)\n",
    "- back to the [table of contents](../welcome.ipynb)"
   ]
  }
 ],
 "metadata": {
  "kernelspec": {
   "display_name": "Python 3 (ipykernel)",
   "language": "python",
   "name": "python3"
  },
  "language_info": {
   "codemirror_mode": {
    "name": "ipython",
    "version": 3
   },
   "file_extension": ".py",
   "mimetype": "text/x-python",
   "name": "python",
   "nbconvert_exporter": "python",
   "pygments_lexer": "ipython3",
   "version": "3.11.4"
  }
 },
 "nbformat": 4,
 "nbformat_minor": 5
}
