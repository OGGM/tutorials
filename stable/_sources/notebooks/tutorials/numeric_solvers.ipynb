{
 "cells": [
  {
   "cell_type": "markdown",
   "id": "0",
   "metadata": {},
   "source": [
    "# Understand the difference between the ice dynamic solvers in OGGM"
   ]
  },
  {
   "cell_type": "markdown",
   "id": "1",
   "metadata": {},
   "source": [
    "In version 1.6, OGGM changed the default numeric solver to the **Semi-Implicit** model. In this notebook, we explore the main differences compared to the old default, the **Flux-Based** model."
   ]
  },
  {
   "cell_type": "code",
   "execution_count": null,
   "id": "2",
   "metadata": {
    "tags": []
   },
   "outputs": [],
   "source": [
    "import time\n",
    "import xarray as xr\n",
    "import matplotlib.pyplot as plt\n",
    "from oggm import cfg, utils, workflow, graphics, tasks\n",
    "from oggm.core.flowline import FluxBasedModel, SemiImplicitModel"
   ]
  },
  {
   "cell_type": "code",
   "execution_count": null,
   "id": "3",
   "metadata": {
    "tags": []
   },
   "outputs": [],
   "source": [
    "# Initialize OGGM and set up the default run parameters\n",
    "cfg.initialize(logging_level='WARNING')\n",
    "\n",
    "# Define our test glacier (Baltoro)\n",
    "rgi_ids = ['RGI60-14.06794']\n",
    "\n",
    "# load elevation band representation\n",
    "cfg.PATHS['working_dir'] = utils.gettempdir('OGGM_dynamic_solvers_elevation_bands', reset=True)\n",
    "base_url_eb = 'https://cluster.klima.uni-bremen.de/~oggm/gdirs/oggm_v1.6/L3-L5_files/2023.3/elev_bands/W5E5/'\n",
    "gdir_eb = workflow.init_glacier_directories(rgi_ids, from_prepro_level=3, prepro_base_url=base_url_eb)[0]\n",
    "\n",
    "# load centerline representation\n",
    "cfg.PATHS['working_dir'] = utils.gettempdir('OGGM_dynamic_solvers_centerliens', reset=True)\n",
    "base_url_cl = 'https://cluster.klima.uni-bremen.de/~oggm/gdirs/oggm_v1.6/L3-L5_files/2023.3/centerlines/W5E5/'\n",
    "gdir_cl = workflow.init_glacier_directories(rgi_ids, from_prepro_level=3, prepro_base_url=base_url_cl)[0]"
   ]
  },
  {
   "cell_type": "markdown",
   "id": "4",
   "metadata": {},
   "source": [
    "## Flux-Based model is more flexible, but unstable"
   ]
  },
  {
   "cell_type": "markdown",
   "id": "5",
   "metadata": {},
   "source": [
    "The big advantage of the Flux-Based model is that it works for all flowline representations (multiple flowlines and different bed shapes). See the tutorial [\"elevation band\" and \"centerline\" flowlines](../tutorials/elevation_bands_vs_centerlines.ipynb) for a\n",
    "hands-on introduction to the different flowline types."
   ]
  },
  {
   "cell_type": "code",
   "execution_count": null,
   "id": "6",
   "metadata": {
    "tags": []
   },
   "outputs": [],
   "source": [
    "# run Flux-Based with centerlines\n",
    "tasks.run_random_climate(gdir_cl,\n",
    "                         evolution_model=FluxBasedModel,\n",
    "                         nyears=300,\n",
    "                         y0=2000,\n",
    "                         seed=0,\n",
    "                         store_fl_diagnostics=True,\n",
    "                         output_filesuffix='_flux_based')\n",
    "\n",
    "# plot result\n",
    "with xr.open_dataset(gdir_cl.get_filepath('model_diagnostics', filesuffix='_flux_based')) as ds:\n",
    "    ds_trap = ds.load()\n",
    "ds_trap.volume_m3.plot();"
   ]
  },
  {
   "cell_type": "code",
   "execution_count": null,
   "id": "7",
   "metadata": {
    "tags": []
   },
   "outputs": [],
   "source": [
    "# run Flux-Based with elevation bands\n",
    "start_time = time.time()  # time it for later comparision\n",
    "tasks.run_random_climate(gdir_eb,\n",
    "                         evolution_model=FluxBasedModel,\n",
    "                         nyears=300,\n",
    "                         y0=2000,\n",
    "                         seed=0,\n",
    "                         store_fl_diagnostics=True,\n",
    "                         output_filesuffix='_flux_based')\n",
    "flux_based_time = time.time() - start_time\n",
    "\n",
    "# plot result\n",
    "with xr.open_dataset(gdir_eb.get_filepath('model_diagnostics', filesuffix='_flux_based')) as ds:\n",
    "    ds_flux_eb = ds.load()\n",
    "ds_flux_eb.volume_m3.plot();"
   ]
  },
  {
   "cell_type": "markdown",
   "id": "8",
   "metadata": {},
   "source": [
    "Whereas the Semi-Impicit model only works for single trapezoidal flowlines (elevation bands)."
   ]
  },
  {
   "cell_type": "code",
   "execution_count": null,
   "id": "9",
   "metadata": {
    "tags": []
   },
   "outputs": [],
   "source": [
    "# run Semi-Implicit with centerlines raises an error \n",
    "# The code below would fail (expected)\n",
    "import pytest\n",
    "with pytest.raises(ValueError):\n",
    "    tasks.run_random_climate(gdir_cl,\n",
    "                             evolution_model=SemiImplicitModel,\n",
    "                             y0=2000,\n",
    "                             seed=0,\n",
    "                             store_fl_diagnostics=True,\n",
    "                             output_filesuffix='_semi_implicit')"
   ]
  },
  {
   "cell_type": "code",
   "execution_count": null,
   "id": "10",
   "metadata": {
    "tags": []
   },
   "outputs": [],
   "source": [
    "# run Semi-Implicit with elevation bands\n",
    "start_time = time.time()  # time it for later comparision\n",
    "tasks.run_random_climate(gdir_eb,\n",
    "                         evolution_model=SemiImplicitModel,\n",
    "                         nyears=300,\n",
    "                         y0=2000,\n",
    "                         seed=0,\n",
    "                         store_fl_diagnostics=True,\n",
    "                         output_filesuffix='_semi_implicit')\n",
    "semi_implicit_time = time.time() - start_time\n",
    "\n",
    "# plot result\n",
    "with xr.open_dataset(gdir_eb.get_filepath('model_diagnostics', filesuffix='_semi_implicit')) as ds:\n",
    "    ds_impl_eb = ds.load()\n",
    "\n",
    "ds_impl_eb.volume_m3.plot(label='SemiImplicitModel', lw=4)\n",
    "ds_flux_eb.volume_m3.plot(label='FluxBasedModel')\n",
    "plt.legend();"
   ]
  },
  {
   "cell_type": "markdown",
   "id": "11",
   "metadata": {},
   "source": [
    "You see that for the elevation band flowlines, both produce similar results. The differences arise from numeric instabilities in the Flux-Based model (see next paragraph). You can redo the experiment with a glacier where these instabilities are not that severe (e.g. RGI60-11.00897 Hintereisferner) and you will see both models produce the same result."
   ]
  },
  {
   "cell_type": "markdown",
   "id": "12",
   "metadata": {
    "tags": []
   },
   "source": [
    "## Semi-Implicit model is faster and more stable, but less flexible"
   ]
  },
  {
   "cell_type": "markdown",
   "id": "13",
   "metadata": {},
   "source": [
    "Even the Semi-Implicit model is not as flexible as the Flux-Based one, we see it is faster when comparing the computing time:"
   ]
  },
  {
   "cell_type": "code",
   "execution_count": null,
   "id": "14",
   "metadata": {
    "tags": []
   },
   "outputs": [],
   "source": [
    "print(f'Semi-Implicit time needed: {semi_implicit_time:.1f} s')\n",
    "print(f'Flux-Based time needed: {flux_based_time:.1f} s')"
   ]
  },
  {
   "cell_type": "markdown",
   "id": "15",
   "metadata": {},
   "source": [
    "For a single glacier, this speed-up is probably not that important, but when thinking about regional to global simulations it can save you a lot of time.\n",
    "\n",
    "One reason for the speed-up is that the Semi-Implicit model is numerically more stable and can take larger time steps without producing instabilities:"
   ]
  },
  {
   "cell_type": "code",
   "execution_count": null,
   "id": "16",
   "metadata": {
    "tags": []
   },
   "outputs": [],
   "source": [
    "# open flowline diagnostics\n",
    "f_impl = gdir_eb.get_filepath('fl_diagnostics', filesuffix='_semi_implicit')\n",
    "f_flux = gdir_eb.get_filepath('fl_diagnostics', filesuffix='_flux_based')\n",
    "with xr.open_dataset(f_impl, group=f'fl_0') as ds:\n",
    "    ds_fl_impl = ds.load()\n",
    "with xr.open_dataset(f_flux, group=f'fl_0') as ds:\n",
    "    ds_fl_flux = ds.load()\n",
    "    \n",
    "# compare velocities along flowline\n",
    "year = 100\n",
    "ds_fl_impl.sel(time=year).ice_velocity_myr.plot(label='SemiImplicitModel')\n",
    "ds_fl_flux.sel(time=year).ice_velocity_myr.plot(label='FluxBasedModel')\n",
    "plt.legend();"
   ]
  },
  {
   "cell_type": "markdown",
   "id": "17",
   "metadata": {},
   "source": [
    "In this case instabilities are visible for the FluxBasedModel at around 30 km distance along the flowline. They can lead to very large velocities which reduce the maximum possible step size due to the cfl-criterion (see also in the [documentation](https://docs.oggm.org/en/latest/faq.html#ice-velocities-in-oggm-are-sometimes-noisy-or-unrealistic-how-so)).\n",
    "\n",
    "The increased computational speed and, even more importantly, the increased stability are the reasons why we switched to the SemiImplicitModel in OGGM v1.6.\n",
    "\n",
    "However, if you want to set the FluxBasedModel as your default, you can do so with:"
   ]
  },
  {
   "cell_type": "code",
   "execution_count": null,
   "id": "18",
   "metadata": {
    "tags": []
   },
   "outputs": [],
   "source": [
    "cfg.PARAMS['evolution_model'] = 'FluxBased'  # default is 'SemiImplicit'"
   ]
  },
  {
   "cell_type": "markdown",
   "id": "19",
   "metadata": {},
   "source": [
    "## Have 5 minutes more? The bed shape of the downstream line"
   ]
  },
  {
   "cell_type": "markdown",
   "id": "20",
   "metadata": {},
   "source": [
    "This paragraph deals with the downstream line, the initially ice-free part in front of the glacier. You can see it below as the red line connecting the end of the outline with the left border of the figure:"
   ]
  },
  {
   "cell_type": "code",
   "execution_count": null,
   "id": "21",
   "metadata": {
    "tags": []
   },
   "outputs": [],
   "source": [
    "graphics.plot_centerlines(gdir_cl,\n",
    "                          use_flowlines=True,\n",
    "                          add_downstream=True)"
   ]
  },
  {
   "cell_type": "markdown",
   "id": "22",
   "metadata": {},
   "source": [
    "In OGGM before v1.6, with the FluxBasedModel, the shape of this downstream line was defined by fitting a parabola to the valley walls. However, for the SemiImplicitModel we had to change the shape to a trapezoidal, eventhough a parabola approximates a mountain valley arguably better. We checked the influence of this change on advancing glaciers and found negligibly small differences in the volume on a regional scale. There might be some differences in the area.\n",
    "\n",
    "By default, we use a trapezoidal bed shape for the downstream line:"
   ]
  },
  {
   "cell_type": "code",
   "execution_count": null,
   "id": "23",
   "metadata": {},
   "outputs": [],
   "source": [
    "fl_trap = gdir_eb.read_pickle('model_flowlines')\n",
    "fl_trap[-1].is_trapezoid[fl_trap[-1].thick == 0]"
   ]
  },
  {
   "cell_type": "markdown",
   "id": "24",
   "metadata": {},
   "source": [
    "But if for any reason you decided to use the FluxBasedModel you also can switch back to a parabolic downstream line using `cfg.PARAMS['downstream_line_shape'] = 'parabola'`."
   ]
  },
  {
   "cell_type": "code",
   "execution_count": null,
   "id": "25",
   "metadata": {
    "tags": []
   },
   "outputs": [],
   "source": [
    "# change the downstream line shape\n",
    "cfg.PARAMS['downstream_line_shape'] = 'parabola'  # default is 'trapezoidal'\n",
    "\n",
    "# IMPORTANT: need to call init_present_time_glacier to take effect\n",
    "tasks.init_present_time_glacier(gdir_eb)\n",
    "\n",
    "fl_trap = gdir_eb.read_pickle('model_flowlines')\n",
    "fl_trap[-1].is_trapezoid[fl_trap[-1].thick == 0]"
   ]
  },
  {
   "cell_type": "markdown",
   "id": "26",
   "metadata": {},
   "source": [
    "# What's next?"
   ]
  },
  {
   "cell_type": "markdown",
   "id": "27",
   "metadata": {},
   "source": [
    "- return to the [OGGM documentation](https://docs.oggm.org)\n",
    "- back to the [table of contents](../welcome.ipynb)"
   ]
  }
 ],
 "metadata": {
  "kernelspec": {
   "display_name": "Python 3 (ipykernel)",
   "language": "python",
   "name": "python3"
  },
  "language_info": {
   "codemirror_mode": {
    "name": "ipython",
    "version": 3
   },
   "file_extension": ".py",
   "mimetype": "text/x-python",
   "name": "python",
   "nbconvert_exporter": "python",
   "pygments_lexer": "ipython3",
   "version": "3.11.4"
  }
 },
 "nbformat": 4,
 "nbformat_minor": 5
}
