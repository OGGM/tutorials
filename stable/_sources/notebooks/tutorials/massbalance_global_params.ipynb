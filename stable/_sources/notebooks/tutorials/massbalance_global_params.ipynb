{
 "cells": [
  {
   "cell_type": "markdown",
   "id": "0",
   "metadata": {},
   "source": [
    "# Global distribution of the mass-balance model parameters"
   ]
  },
  {
   "cell_type": "markdown",
   "id": "1",
   "metadata": {},
   "source": [
    "This notebook is a follow-up on the very important overview of the [mass-balance calibration procedure in v1.6](massbalance_calibration.ipynb).\n",
    "\n",
    "Here we illustrate a few useful methods:\n",
    "- checking some statistics on the pre-processed directories (similar to [preprocessing_errors.ipynb](preprocessing_errors.ipynb))\n",
    "- we check how the new global calibration procedure operates\n",
    "- we assess the importance of the dynamical spinup for the calibration"
   ]
  },
  {
   "cell_type": "code",
   "execution_count": null,
   "id": "2",
   "metadata": {},
   "outputs": [],
   "source": [
    "from oggm import utils\n",
    "import pandas as pd\n",
    "import numpy as np\n",
    "import matplotlib.pyplot as plt\n",
    "import seaborn as sns"
   ]
  },
  {
   "cell_type": "markdown",
   "id": "3",
   "metadata": {},
   "source": [
    "Let's start by reading in the \"glacier statistics\" files, a bunch of statistics written by OGGM at the end of the preprocessing:"
   ]
  },
  {
   "cell_type": "code",
   "execution_count": null,
   "id": "4",
   "metadata": {},
   "outputs": [],
   "source": [
    "# W5E5 elevbands, no spinup \n",
    "url = 'https://cluster.klima.uni-bremen.de/~oggm/gdirs/oggm_v1.6/L3-L5_files/2023.3/elev_bands/W5E5/RGI62/b_080/L5/summary/'\n",
    "\n",
    "# this can take some time to downloan\n",
    "df = []\n",
    "for rgi_reg in range(1, 19):\n",
    "    fpath = utils.file_downloader(url + f'glacier_statistics_{rgi_reg:02d}.csv')\n",
    "    df.append(pd.read_csv(fpath, index_col=0, low_memory=False))\n",
    "df = pd.concat(df, sort=False).sort_index()\n",
    "\n",
    "# There are a lot of columns - let's pick a few columns only\n",
    "# We drop failing glaciers\n",
    "df_params = df[['melt_f', 'prcp_fac', 'temp_bias', 'rgi_area_km2']].dropna().copy()\n",
    "f'Failing glaciers: {len(df) - len(df_params)} ({100 - df_params.rgi_area_km2.sum()/df.rgi_area_km2.sum()*100:.2f}% of global area)'"
   ]
  },
  {
   "cell_type": "markdown",
   "id": "5",
   "metadata": {},
   "source": [
    "## Global statistics of OGGM's 1.6.1 \"informed three steps\" method"
   ]
  },
  {
   "cell_type": "markdown",
   "id": "6",
   "metadata": {},
   "source": [
    "As explained in the [mass-balance calibration procedure in v1.6](massbalance_calibration.ipynb) notebook, the \"informed three steps\" method provides first guesses for the precipitation factor and the temperature bias. We then calibrate each glacier in three steps - let's check the number of glaciers calibrated this way:"
   ]
  },
  {
   "cell_type": "markdown",
   "id": "7",
   "metadata": {},
   "source": [
    "Step 0: use the first guess `melt_f` = 5, `prcp_fac` = data-informed from winter precipitation, `temp_bias` = data-informed from the global calibration with fixed parameters (see [mass-balance calibration procedure in v1.6](massbalance_calibration.ipynb) for details). \n",
    "\n",
    "Step 1: if Step 0 doesn't match (only likely to happen if there is one isolated glacier in a climate grid point), allow `prcp_fac` to vary again between 0.8 and 1.2 times the roiginal guess ($\\pm$20%). This is justified by the fact that the first guess for precipitation is also highly uncertain. If that worked, the calibration stops.\n",
    "\n",
    "To find out which glaciers have been calibrated after step 1, we count the number of glaciers with a melt factor of exactly 5:"
   ]
  },
  {
   "cell_type": "code",
   "execution_count": null,
   "id": "8",
   "metadata": {},
   "outputs": [],
   "source": [
    "df_params['Step 1'] = np.isclose(df_params['melt_f'], 5)\n",
    "perc1 = df_params['Step 1'].sum() / len(df_params) * 100\n",
    "perc1_area = df_params.loc[df_params['Step 1']].rgi_area_km2.sum()/df.rgi_area_km2.sum()*100\n",
    "print(f'{perc1:.1f}% of all glaciers are calibrated after step 1 ({perc1_area:.1f}% area)')"
   ]
  },
  {
   "cell_type": "markdown",
   "id": "9",
   "metadata": {},
   "source": [
    "Step 2: if Step 1 did not work, we allow `melt_f` to vary between a predefined range (1.5 - 17) while fixing `temp_bias` and `prcp_fac` again.\n",
    "\n",
    "Step 3: finally, if the above did not work, allow `temp_bias` to vary again, fixing the other parameters to their last value.\n",
    "\n",
    "To check wether these steps were successful from our files, we can compute the number of glaciers which have hit the \"hard limits\" of the allowed melt factor range, i.e. have reached step 3, and then substract them from the total:"
   ]
  },
  {
   "cell_type": "code",
   "execution_count": null,
   "id": "10",
   "metadata": {},
   "outputs": [],
   "source": [
    "df_params['Step 3'] = np.isclose(df_params['melt_f'], df_params['melt_f'].max()) | np.isclose(df_params['melt_f'], df_params['melt_f'].min()) \n",
    "perc3 = df_params['Step 3'].sum() / len(df_params) * 100\n",
    "perc3_area = df_params.loc[df_params['Step 3']].rgi_area_km2.sum()/df.rgi_area_km2.sum()*100\n",
    "\n",
    "df_params['Step 2'] = (~ df_params['Step 1']) & (~ df_params['Step 3'])\n",
    "perc2 = df_params['Step 2'].sum() / len(df_params) * 100\n",
    "perc2_area = df_params.loc[df_params['Step 2']].rgi_area_km2.sum()/df.rgi_area_km2.sum()*100\n",
    "\n",
    "print(f'{perc2:.1f}% of all glaciers are calibrated after step 2 ({perc2_area:.1f}% area)')\n",
    "print(f'{perc3:.1f}% of all glaciers are calibrated after step 3 ({perc3_area:.1f}% area)')"
   ]
  },
  {
   "cell_type": "markdown",
   "id": "11",
   "metadata": {},
   "source": [
    "## Global parameter distributions"
   ]
  },
  {
   "cell_type": "markdown",
   "id": "12",
   "metadata": {},
   "source": [
    "### Melt factor"
   ]
  },
  {
   "cell_type": "code",
   "execution_count": null,
   "id": "13",
   "metadata": {},
   "outputs": [],
   "source": [
    "f, (ax1, ax2) = plt.subplots(1, 2, figsize=(12, 5))\n",
    "\n",
    "df_params['melt_f'].plot.hist(bins=51, density=True, ax=ax1, alpha=0.5, label='Frequency');\n",
    "df_params['melt_f'].plot.hist(bins=51, density=True, ax=ax1, weights=df_params['rgi_area_km2'], alpha=0.5, label='Area weighted');\n",
    "ax1.set_title('Melt factor distribution (global)');\n",
    "ax1.set_ylabel('Frequency (%)');\n",
    "ax1.legend();\n",
    "\n",
    "df_params['melt_f'].plot.hist(bins=51, density=True, ax=ax2, alpha=0.5, label='Frequency');\n",
    "df_params['melt_f'].plot.hist(bins=51, density=True, ax=ax2, weights=df_params['rgi_area_km2'], alpha=0.5, label='Area weighted');\n",
    "ax2.set_yscale('log')\n",
    "ax2.set_title('Melt factor distribution (log scale)');\n",
    "ax2.set_ylabel('Frequency (log scale)');"
   ]
  },
  {
   "cell_type": "markdown",
   "id": "14",
   "metadata": {},
   "source": [
    "### Precip factor"
   ]
  },
  {
   "cell_type": "code",
   "execution_count": null,
   "id": "15",
   "metadata": {},
   "outputs": [],
   "source": [
    "f, (ax1, ax2) = plt.subplots(1, 2, figsize=(12, 5))\n",
    "\n",
    "df_params['prcp_fac'].plot.hist(bins=51, density=True, ax=ax1, alpha=0.5, label='Frequency');\n",
    "df_params['prcp_fac'].plot.hist(bins=51, density=True, ax=ax1, weights=df_params['rgi_area_km2'], alpha=0.5, label='Area weighted');\n",
    "ax1.set_title('Precipitation factor distribution (global)');\n",
    "ax1.set_ylabel('Frequency (%)');\n",
    "ax1.legend();\n",
    "\n",
    "df_params['prcp_fac'].plot.hist(bins=51, density=True, ax=ax2, alpha=0.5, label='Frequency');\n",
    "df_params['prcp_fac'].plot.hist(bins=51, density=True, ax=ax2, weights=df_params['rgi_area_km2'], alpha=0.5, label='Area weighted');\n",
    "ax2.set_yscale('log')\n",
    "ax2.set_title('Precipitation factor distribution (log scale)');\n",
    "ax2.set_ylabel('Frequency (log scale)');"
   ]
  },
  {
   "cell_type": "code",
   "execution_count": null,
   "id": "16",
   "metadata": {},
   "outputs": [],
   "source": [
    "print(f\"The precipitation factor median is {df_params['prcp_fac'].median():.1f}.\")\n",
    "print(f\"The 5% percentile is {df_params['prcp_fac'].quantile(0.05):.1f} and the 95% percentile is {df_params['prcp_fac'].quantile(0.95):.1f}\")"
   ]
  },
  {
   "cell_type": "markdown",
   "id": "17",
   "metadata": {},
   "source": [
    "### Temperature bias"
   ]
  },
  {
   "cell_type": "code",
   "execution_count": null,
   "id": "18",
   "metadata": {},
   "outputs": [],
   "source": [
    "f, (ax1, ax2) = plt.subplots(1, 2, figsize=(12, 5))\n",
    "\n",
    "df_params['temp_bias'].plot.hist(bins=51, density=True, ax=ax1, alpha=0.5, label='Frequency');\n",
    "df_params['temp_bias'].plot.hist(bins=51, density=True, ax=ax1, weights=df_params['rgi_area_km2'], alpha=0.5, label='Area weighted');\n",
    "ax1.set_title('Temperature bias distribution (global)');\n",
    "ax1.set_ylabel('Frequency (%)');\n",
    "ax1.legend();\n",
    "\n",
    "df_params['temp_bias'].plot.hist(bins=51, density=True, ax=ax2, alpha=0.5, label='Frequency');\n",
    "df_params['temp_bias'].plot.hist(bins=51, density=True, ax=ax2, weights=df_params['rgi_area_km2'], alpha=0.5, label='Area weighted');\n",
    "ax2.set_yscale('log')\n",
    "ax2.set_title('Temperature bias distribution (log scale)');\n",
    "ax2.set_ylabel('Frequency (log scale)');"
   ]
  },
  {
   "cell_type": "markdown",
   "id": "19",
   "metadata": {},
   "source": [
    "### Take home"
   ]
  },
  {
   "cell_type": "markdown",
   "id": "20",
   "metadata": {},
   "source": [
    "- a substantial (33%) part of all glaciers are attributed the default melt factor of 5 after the first guesses in climate data bias correction. In other words, this means that we are substantially correcting the climate forcing to \"match\" the presence of a glacier. Other calibration methods are using similar techniques (they differ in the details and the allowed range of parameter values)\n",
    "- the large amount of glaciers with melt factor of exactly 5 is problematic, but is mitigated somewhat by the dynamical spinup (see below)\n",
    "- the largest bulk of the glacier area is calibrated with \"pre-informed\" precip factor and temperature bias, and have a calibrated melt factor. The resulting melt factor distribution is centered around 5 and has a long tail towards higher values.\n",
    "- in general, weighting the distributions by area tends to reduce the extremes."
   ]
  },
  {
   "cell_type": "markdown",
   "id": "21",
   "metadata": {},
   "source": [
    "## Influence of dynamical spinup "
   ]
  },
  {
   "cell_type": "markdown",
   "id": "22",
   "metadata": {},
   "source": [
    "The dynamical spinup procedure (explained in this [10 minutes tutorial](../10minutes/dynamical_spinup.ipynb) and in more detail in [this tutorial](dynamical_spinup.ipynb)) starts from the parameters calibrated above with a *static* geometry and calibrate the melt factor again using an iterative procedure, making sure that the parameters and the past evolution of the glacier are consistent with the past evolution of the glacier. In doing so, it achieves two things:\n",
    "- the *actually modelled* mass balance of glaciers during a dynamical run matches observations better than without\n",
    "- it reshuffles the melt factors a bit\n",
    "\n",
    "Let's test this second hypothesis by downloading the statistics for the spinup directories:"
   ]
  },
  {
   "cell_type": "code",
   "execution_count": null,
   "id": "23",
   "metadata": {},
   "outputs": [],
   "source": [
    "# W5E5 elevbands, with spinup \n",
    "url = 'https://cluster.klima.uni-bremen.de/~oggm/gdirs/oggm_v1.6/L3-L5_files/2023.3/elev_bands/W5E5_spinup/RGI62/b_160/L5/summary/'\n",
    "\n",
    "# this can take some time\n",
    "dfs = []\n",
    "for rgi_reg in range(1, 19):\n",
    "    fpath = utils.file_downloader(url + f'glacier_statistics_{rgi_reg:02d}.csv')\n",
    "    dfs.append(pd.read_csv(fpath, index_col=0, low_memory=False))\n",
    "dfs = pd.concat(dfs, sort=False).sort_index()"
   ]
  },
  {
   "cell_type": "code",
   "execution_count": null,
   "id": "24",
   "metadata": {},
   "outputs": [],
   "source": [
    "df_params['melt_f_dyna'] = dfs['melt_f']"
   ]
  },
  {
   "cell_type": "markdown",
   "id": "25",
   "metadata": {},
   "source": [
    "First of all, let's see how many glaciers have had their melt factor changed as a result of the dynamical calibration (i.e. dynamical calibration was succesful):"
   ]
  },
  {
   "cell_type": "code",
   "execution_count": null,
   "id": "26",
   "metadata": {},
   "outputs": [],
   "source": [
    "df_params['dyna_changed'] = ~ np.isclose(df_params['melt_f'], df_params['melt_f_dyna'])\n",
    "perc = df_params['dyna_changed'].sum() / len(df_params) * 100\n",
    "perc_area = df_params.loc[df_params['dyna_changed']].rgi_area_km2.sum()/df.rgi_area_km2.sum()*100\n",
    "print(f'{perc:.1f}% of all glaciers are re calibrated after dynamical spinup ({perc_area:.1f}% area)')"
   ]
  },
  {
   "cell_type": "markdown",
   "id": "27",
   "metadata": {},
   "source": [
    "Let's plot the change in distribution of the parameters:"
   ]
  },
  {
   "cell_type": "code",
   "execution_count": null,
   "id": "28",
   "metadata": {},
   "outputs": [],
   "source": [
    "f, (ax1, ax2) = plt.subplots(1, 2, figsize=(12, 5))\n",
    "bins = np.linspace(0.1, 18, 51)\n",
    "df_params['melt_f'].plot.hist(bins=bins, density=True, ax=ax1, alpha=0.5, label='Static');\n",
    "df_params['melt_f_dyna'].plot.hist(bins=bins, density=True, ax=ax1, alpha=0.5, label='Dynamic');\n",
    "ax1.set_title('Melt factor distribution (global)');\n",
    "ax1.set_ylabel('Frequency (%)');\n",
    "ax1.legend();\n",
    "\n",
    "df_params['melt_f'].plot.hist(bins=bins, density=True, ax=ax2, alpha=0.5, label='Static');\n",
    "df_params['melt_f_dyna'].plot.hist(bins=bins, density=True, ax=ax2, alpha=0.5, label='Dynamic');\n",
    "ax2.set_yscale('log')\n",
    "ax2.set_title('Melt factor distribution (log scale)');\n",
    "ax2.set_ylabel('Frequency (log scale)');"
   ]
  },
  {
   "cell_type": "markdown",
   "id": "29",
   "metadata": {},
   "source": [
    "In which direction is the parameter changed?"
   ]
  },
  {
   "cell_type": "code",
   "execution_count": null,
   "id": "30",
   "metadata": {},
   "outputs": [],
   "source": [
    "diff = df_params['melt_f_dyna'] - df_params['melt_f']\n",
    "f, (ax1, ax2) = plt.subplots(1, 2, figsize=(12, 5))\n",
    "bins = np.linspace(-5, 5, 51)\n",
    "diff.plot.hist(bins=bins, density=True, ax=ax1, alpha=0.5, label='Static');\n",
    "ax1.set_title('Melt factor change after spinup (global)');\n",
    "ax1.set_ylabel('Frequency (%)');\n",
    "ax1.legend();\n",
    "\n",
    "diff.plot.hist(bins=bins, density=True, ax=ax2, alpha=0.5, label='Static');\n",
    "ax2.set_yscale('log')\n",
    "ax2.set_title('Melt factor change after spinup (log scale)');\n",
    "ax2.set_ylabel('Frequency (log scale)');"
   ]
  },
  {
   "cell_type": "markdown",
   "id": "31",
   "metadata": {},
   "source": [
    "### Take home\n",
    "\n",
    "- dynamical spinup redistributes melt factors \"for the best\", i.e. it increases a bit more the randomness of the melt factors around their central value"
   ]
  },
  {
   "cell_type": "markdown",
   "id": "32",
   "metadata": {
    "jp-MarkdownHeadingCollapsed": true
   },
   "source": [
    "## What's next?\n",
    "\n",
    "- return to the [OGGM documentation](https://docs.oggm.org)\n",
    "- back to the [table of contents](../welcome.ipynb)"
   ]
  }
 ],
 "metadata": {
  "kernelspec": {
   "display_name": "Python 3 (ipykernel)",
   "language": "python",
   "name": "python3"
  },
  "language_info": {
   "codemirror_mode": {
    "name": "ipython",
    "version": 3
   },
   "file_extension": ".py",
   "mimetype": "text/x-python",
   "name": "python",
   "nbconvert_exporter": "python",
   "pygments_lexer": "ipython3",
   "version": "3.11.4"
  }
 },
 "nbformat": 4,
 "nbformat_minor": 5
}
