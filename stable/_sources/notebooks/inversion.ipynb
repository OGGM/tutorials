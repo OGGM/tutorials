{
 "cells": [
  {
   "cell_type": "markdown",
   "metadata": {},
   "source": [
    "# Ice thickness inversion"
   ]
  },
  {
   "cell_type": "markdown",
   "metadata": {},
   "source": [
    "This example shows how to run the OGGM ice thickness inversion model\n",
    "with various ice parameters: the deformation parameter A and a sliding\n",
    "parameter (fs).\n",
    "\n",
    "There is currently no \"best\" set of parameters for the ice thickness\n",
    "inversion model. As shown in\n",
    "[Maussion et al. (2019)](https://www.geosci-model-dev.net/12/909/2019/),\n",
    "the default parameter set results in global volume estimates which are a bit\n",
    "larger than previous values. For the consensus estimate of\n",
    "[Farinotti et al. (2019)](https://www.nature.com/articles/s41561-019-0300-3),\n",
    "OGGM participated with a deformation parameter A that is 1.5 times larger than the\n",
    "generally accepted default value.\n",
    "\n",
    "There is no reason to think that the ice parameters are the same between\n",
    "neighboring glaciers. There is currently no \"good\" way to calibrate them,\n",
    "or at least no generaly accepted one.\n",
    "We won't discuss the details here, but we provide a script to illustrate\n",
    "the sensitivity of the model to this choice.\n",
    "\n",
    "**New in version 1.4**: we demonstrate how to apply a new global task in OGGM, `workflow.calibrate_inversion_from_consensus` to calibrate the A parameter to match the consensus estimate from [Farinotti et al. (2019)](https://www.nature.com/articles/s41561-019-0300-3).\n",
    "\n",
    "At the end of this tutorial, we show how to distribute the \"flowline thicknesses\" on a glacier map."
   ]
  },
  {
   "cell_type": "markdown",
   "metadata": {},
   "source": [
    "## Run"
   ]
  },
  {
   "cell_type": "code",
   "execution_count": null,
   "metadata": {},
   "outputs": [],
   "source": [
    "# Libs\n",
    "import geopandas as gpd\n",
    "\n",
    "# Locals\n",
    "import oggm.cfg as cfg\n",
    "from oggm import utils, workflow, tasks, graphics\n",
    "\n",
    "# Initialize OGGM and set up the default run parameters\n",
    "cfg.initialize(logging_level='WARNING')\n",
    "rgi_region = '11'  # Region Central Europe\n",
    "\n",
    "# Local working directory (where OGGM will write its output)\n",
    "WORKING_DIR = utils.gettempdir('OGGM_Inversion')\n",
    "utils.mkdir(WORKING_DIR, reset=True)\n",
    "cfg.PATHS['working_dir'] = WORKING_DIR\n",
    "\n",
    "# This is useful here\n",
    "cfg.PARAMS['use_multiprocessing'] = True\n",
    "\n",
    "# RGI file\n",
    "path = utils.get_rgi_region_file(rgi_region)\n",
    "rgidf = gpd.read_file(path)\n",
    "\n",
    "# Select the glaciers in the Pyrenees\n",
    "rgidf = rgidf.loc[rgidf['O2Region'] == '2']\n",
    "\n",
    "# Sort for more efficient parallel computing\n",
    "rgidf = rgidf.sort_values('Area', ascending=False)\n",
    "\n",
    "# Go - get the pre-processed glacier directories\n",
    "# We start at level 3, because we need all data for the inversion\n",
    "gdirs = workflow.init_glacier_directories(rgidf, from_prepro_level=3, prepro_border=10)\n",
    "\n",
    "# Because of recent changes in OGGM not yet available in the preprocessed directories, \n",
    "# we re-run this task:\n",
    "workflow.execute_entity_task(tasks.prepare_for_inversion, gdirs)\n",
    "\n",
    "# Default parameters\n",
    "# Deformation: from Cuffey and Patterson 2010\n",
    "glen_a = 2.4e-24\n",
    "# Sliding: from Oerlemans 1997\n",
    "fs = 5.7e-20"
   ]
  },
  {
   "cell_type": "code",
   "execution_count": null,
   "metadata": {},
   "outputs": [],
   "source": [
    "with utils.DisableLogger():  # this scraps some output - to use with caution!!!\n",
    "    \n",
    "    # Correction factors\n",
    "    factors = [0.1, 0.2, 0.3, 0.4, 0.5, 0.6, 0.7, 0.8, 0.9, 1]\n",
    "    factors += [1.1, 1.2, 1.3, 1.5, 1.7, 2, 2.5, 3, 4, 5]\n",
    "    factors += [6, 7, 8, 9, 10]\n",
    "\n",
    "    # Run the inversions tasks with the given factors\n",
    "    for f in factors:\n",
    "        # Without sliding\n",
    "        suf = '_{:03d}_without_fs'.format(int(f * 10))\n",
    "        workflow.execute_entity_task(tasks.mass_conservation_inversion, gdirs,\n",
    "                                     glen_a=glen_a*f, fs=0)\n",
    "        # Store the results of the inversion only\n",
    "        utils.compile_glacier_statistics(gdirs, filesuffix=suf,\n",
    "                                         inversion_only=True)\n",
    "\n",
    "        # With sliding\n",
    "        suf = '_{:03d}_with_fs'.format(int(f * 10))\n",
    "        workflow.execute_entity_task(tasks.mass_conservation_inversion, gdirs,\n",
    "                                     glen_a=glen_a*f, fs=fs)\n",
    "        # Store the results of the inversion only\n",
    "        utils.compile_glacier_statistics(gdirs, filesuffix=suf,\n",
    "                                         inversion_only=True)"
   ]
  },
  {
   "cell_type": "markdown",
   "metadata": {},
   "source": [
    "## Read the data"
   ]
  },
  {
   "cell_type": "markdown",
   "metadata": {},
   "source": [
    "The data are stored as csv files in the working directory. The easiest way to read them is to use [pandas](http://pandas.pydata.org/)!"
   ]
  },
  {
   "cell_type": "code",
   "execution_count": null,
   "metadata": {},
   "outputs": [],
   "source": [
    "import matplotlib.pyplot as plt\n",
    "import pandas as pd\n",
    "import numpy as np\n",
    "from scipy import stats\n",
    "import os"
   ]
  },
  {
   "cell_type": "markdown",
   "metadata": {},
   "source": [
    "Let's read the output of the inversion with the default OGGM parameters first:"
   ]
  },
  {
   "cell_type": "code",
   "execution_count": null,
   "metadata": {},
   "outputs": [],
   "source": [
    "df = pd.read_csv(os.path.join(WORKING_DIR, 'glacier_statistics_011_without_fs.csv'), index_col=0)\n",
    "df"
   ]
  },
  {
   "cell_type": "markdown",
   "metadata": {},
   "source": [
    "There are only 35 glaciers in the Pyrenees! That's why the run was relatively fast."
   ]
  },
  {
   "cell_type": "markdown",
   "metadata": {},
   "source": [
    "## Results"
   ]
  },
  {
   "cell_type": "markdown",
   "metadata": {},
   "source": [
    "One way to visualize the output is to plot the volume as a function of area in a log-log plot, illustrating the well known volume-area relationship of mountain glaciers:"
   ]
  },
  {
   "cell_type": "code",
   "execution_count": null,
   "metadata": {},
   "outputs": [],
   "source": [
    "ax = df.plot(kind='scatter', x='rgi_area_km2', y='inv_volume_km3')\n",
    "ax.semilogx(); ax.semilogy()\n",
    "xlim, ylim = [1e-2, 0.7], [1e-5, 0.05]\n",
    "ax.set_xlim(xlim); ax.set_ylim(ylim);"
   ]
  },
  {
   "cell_type": "markdown",
   "metadata": {},
   "source": [
    "As we can see, there is a clear relationship, but it is not perfect. Let's fit a line to these data (the \"volume-area scaling law\"):"
   ]
  },
  {
   "cell_type": "code",
   "execution_count": null,
   "metadata": {},
   "outputs": [],
   "source": [
    "# Fit in log space \n",
    "dfl = np.log(df[['inv_volume_km3', 'rgi_area_km2']])\n",
    "slope, intercept, r_value, p_value, std_err = stats.linregress(dfl.rgi_area_km2.values, dfl.inv_volume_km3.values)"
   ]
  },
  {
   "cell_type": "markdown",
   "metadata": {},
   "source": [
    "In their seminal paper, [Bahr et al. (1997)](https://agupubs.onlinelibrary.wiley.com/doi/10.1029/97JB01696) describe this relationship as:\n",
    "\n",
    "$$V = \\alpha S^{\\gamma}$$\n",
    "\n",
    "With V the volume in km$^3$, S the area in km$^2$ and $\\alpha$ and $\\gamma$ the scaling parameters (0.034 and 1.375, respectively). How does OGGM compare to these in the Pyrenees?"
   ]
  },
  {
   "cell_type": "code",
   "execution_count": null,
   "metadata": {},
   "outputs": [],
   "source": [
    "print('power: {:.3f}'.format(slope))\n",
    "print('slope: {:.3f}'.format(np.exp(intercept)))"
   ]
  },
  {
   "cell_type": "code",
   "execution_count": null,
   "metadata": {},
   "outputs": [],
   "source": [
    "ax = df.plot(kind='scatter', x='rgi_area_km2', y='inv_volume_km3', label='OGGM glaciers')\n",
    "ax.plot(xlim, np.exp(intercept) * (xlim ** slope), color='C3', label='Fitted line')\n",
    "ax.semilogx(); ax.semilogy()\n",
    "ax.set_xlim(xlim); ax.set_ylim(ylim);\n",
    "ax.legend();"
   ]
  },
  {
   "cell_type": "markdown",
   "metadata": {},
   "source": [
    "## Sensitivity analysis "
   ]
  },
  {
   "cell_type": "markdown",
   "metadata": {},
   "source": [
    "Now, let's read the output files of each run separately, and compute the regional volume out of them:"
   ]
  },
  {
   "cell_type": "code",
   "execution_count": null,
   "metadata": {},
   "outputs": [],
   "source": [
    "dftot = pd.DataFrame(index=factors)\n",
    "for f in factors:\n",
    "    # Without sliding\n",
    "    suf = '_{:03d}_without_fs'.format(int(f * 10))\n",
    "    fpath = os.path.join(WORKING_DIR, 'glacier_statistics{}.csv'.format(suf))\n",
    "    _df = pd.read_csv(fpath, index_col=0, low_memory=False)\n",
    "    dftot.loc[f, 'without_sliding'] = _df.inv_volume_km3.sum()\n",
    "    \n",
    "    # With sliding\n",
    "    suf = '_{:03d}_with_fs'.format(int(f * 10))\n",
    "    fpath = os.path.join(WORKING_DIR, 'glacier_statistics{}.csv'.format(suf))\n",
    "    _df = pd.read_csv(fpath, index_col=0, low_memory=False)\n",
    "    dftot.loc[f, 'with_sliding'] = _df.inv_volume_km3.sum()"
   ]
  },
  {
   "cell_type": "markdown",
   "metadata": {},
   "source": [
    "And plot them:"
   ]
  },
  {
   "cell_type": "code",
   "execution_count": null,
   "metadata": {},
   "outputs": [],
   "source": [
    "dftot.plot();\n",
    "plt.xlabel('Factor of Glen A (default 1)'); plt.ylabel('Regional volume (km$^3$)');"
   ]
  },
  {
   "cell_type": "markdown",
   "metadata": {},
   "source": [
    "As you can see, there is quite a difference between the solutions. In particular, close to the default value for Glen A, the regional estimates are very sensitive to small changes in A. The calibration of A is a problem that has yet to be resolved by global glacier models..."
   ]
  },
  {
   "cell_type": "markdown",
   "metadata": {},
   "source": [
    "## New in version 1.4: calibrate to match the consensus estimate \n",
    "\n",
    "Here, a \"best Glen A\" is found in order that the total inverted volume of the glaciers of gdirs fits to the 2019 consensus estimate. "
   ]
  },
  {
   "cell_type": "code",
   "execution_count": null,
   "metadata": {},
   "outputs": [],
   "source": [
    "cdf = workflow.calibrate_inversion_from_consensus(gdirs, filter_inversion_output=False)"
   ]
  },
  {
   "cell_type": "code",
   "execution_count": null,
   "metadata": {},
   "outputs": [],
   "source": [
    "cdf.sum()"
   ]
  },
  {
   "cell_type": "markdown",
   "metadata": {},
   "source": [
    "Note that here we calibrate the Glen A parameter to a value that is equal for all glaciers of gdirs (here $A \\sim 9.504\\cdot A_0$), i.e. we calibrate to match the total volume of all glaciers and not to match them individually."
   ]
  },
  {
   "cell_type": "code",
   "execution_count": null,
   "metadata": {},
   "outputs": [],
   "source": [
    "cdf.iloc[:3]"
   ]
  },
  {
   "cell_type": "markdown",
   "metadata": {},
   "source": [
    "*just as a side note, \"vol_bsl_itmix_m3\" means volume below sea level and is therefore zero for these Alpine glaciers!*"
   ]
  },
  {
   "cell_type": "markdown",
   "metadata": {},
   "source": [
    "## Distributed ice thickness "
   ]
  },
  {
   "cell_type": "markdown",
   "metadata": {},
   "source": [
    "The OGGM inversion and dynamical models use the \"1D\" flowline assumption: for some applications, you might want to use OGGM to create distributed ice thickness maps. Currently, OGGM implements two ways to \"distribute\" the flowline thicknesses, but only [the simplest one](https://docs.oggm.org/en/stable/generated/oggm.tasks.distribute_thickness_per_altitude.html) works robustly:"
   ]
  },
  {
   "cell_type": "code",
   "execution_count": null,
   "metadata": {},
   "outputs": [],
   "source": [
    "# Distribute\n",
    "workflow.execute_entity_task(tasks.distribute_thickness_per_altitude, gdirs);"
   ]
  },
  {
   "cell_type": "markdown",
   "metadata": {},
   "source": [
    "We just created a new output of the model, which we can access in the `gridded_data` file: "
   ]
  },
  {
   "cell_type": "code",
   "execution_count": null,
   "metadata": {},
   "outputs": [],
   "source": [
    "# xarray is an awesome library! Did you know about it?\n",
    "import xarray as xr\n",
    "ds = xr.open_dataset(gdirs[0].get_filepath('gridded_data'))"
   ]
  },
  {
   "cell_type": "code",
   "execution_count": null,
   "metadata": {},
   "outputs": [],
   "source": [
    "ds.distributed_thickness.plot();"
   ]
  },
  {
   "cell_type": "markdown",
   "metadata": {},
   "source": [
    "## Plot many glaciers on a map "
   ]
  },
  {
   "cell_type": "markdown",
   "metadata": {},
   "source": [
    "Let's select a group of glaciers close to each other: "
   ]
  },
  {
   "cell_type": "code",
   "execution_count": null,
   "metadata": {},
   "outputs": [],
   "source": [
    "rgi_ids = ['RGI60-11.0{}'.format(i) for i in range(3205, 3211)]\n",
    "sel_gdirs = [gdir for gdir in gdirs if gdir.rgi_id in rgi_ids]\n",
    "graphics.plot_googlemap(sel_gdirs)\n",
    "# you might need to install motionless if it is not yet in your environment"
   ]
  },
  {
   "cell_type": "markdown",
   "metadata": {},
   "source": [
    "### Using OGGM "
   ]
  },
  {
   "cell_type": "markdown",
   "metadata": {},
   "source": [
    "Since [a recent PR (21.05.2020)](https://github.com/OGGM/oggm/pull/1025), OGGM can plot the thickness of a group of glaciers on a map:"
   ]
  },
  {
   "cell_type": "code",
   "execution_count": null,
   "metadata": {},
   "outputs": [],
   "source": [
    "graphics.plot_distributed_thickness(sel_gdirs)"
   ]
  },
  {
   "cell_type": "markdown",
   "metadata": {},
   "source": [
    "This is however not very useful because OGGM can only plot on a map as large as the local glacier map of the first glacier in the list. See [this issue](https://github.com/OGGM/oggm/issues/1007) for a discussion about why."
   ]
  },
  {
   "cell_type": "markdown",
   "metadata": {},
   "source": [
    "### Using salem "
   ]
  },
  {
   "cell_type": "markdown",
   "metadata": {},
   "source": [
    "Under the hood, OGGM uses [salem](https://salem.readthedocs.io) to make the plots. Let's do that for our case: it requires some manual tweaking, but it should be possible to automatize this better in the future.\n",
    "\n",
    "*Note: this also requires a very recent version of salem to work (21.05.2020)*"
   ]
  },
  {
   "cell_type": "code",
   "execution_count": null,
   "metadata": {},
   "outputs": [],
   "source": [
    "import salem\n",
    "# Make a grid covering the desired map extent\n",
    "g = salem.mercator_grid(center_ll=(0.65, 42.64), extent=(4000, 4000))\n",
    "# Create a map out of it\n",
    "smap = salem.Map(g, countries=False)\n",
    "# Add the glaciers outlines\n",
    "for gdir in sel_gdirs:\n",
    "    crs = gdir.grid.center_grid\n",
    "    geom = gdir.read_pickle('geometries')\n",
    "    poly_pix = geom['polygon_pix']\n",
    "    smap.set_geometry(poly_pix, crs=crs, fc='none', zorder=2, linewidth=.2)\n",
    "    for l in poly_pix.interiors:\n",
    "        smap.set_geometry(l, crs=crs, color='black', linewidth=0.5)\n",
    "f, ax = plt.subplots(figsize=(6, 6))\n",
    "smap.visualize();"
   ]
  },
  {
   "cell_type": "code",
   "execution_count": null,
   "metadata": {},
   "outputs": [],
   "source": [
    "# Now add the thickness data\n",
    "for gdir in sel_gdirs:\n",
    "    grids_file = gdir.get_filepath('gridded_data')\n",
    "    with utils.ncDataset(grids_file) as nc:\n",
    "        vn = 'distributed_thickness'\n",
    "        thick = nc.variables[vn][:]\n",
    "        mask = nc.variables['glacier_mask'][:]\n",
    "    thick = np.where(mask, thick, np.NaN)\n",
    "    # The \"overplot=True\" is key here\n",
    "    # this needs a recent version of salem to run properly\n",
    "    smap.set_data(thick, crs=gdir.grid.center_grid, overplot=True)"
   ]
  },
  {
   "cell_type": "code",
   "execution_count": null,
   "metadata": {},
   "outputs": [],
   "source": [
    "# Set colorscale and other things\n",
    "smap.set_cmap(graphics.OGGM_CMAPS['glacier_thickness'])\n",
    "smap.set_plot_params(nlevels=256)\n",
    "# Plot\n",
    "f, ax = plt.subplots(figsize=(6, 6))\n",
    "smap.visualize(ax=ax, cbar_title='Glacier thickness (m)');"
   ]
  },
  {
   "cell_type": "markdown",
   "metadata": {},
   "source": [
    "## What's next?\n",
    "\n",
    "- return to the [OGGM documentation](https://docs.oggm.org)\n",
    "- back to the [table of contents](welcome.ipynb)"
   ]
  }
 ],
 "metadata": {
  "hide_input": false,
  "kernelspec": {
   "display_name": "Python 3",
   "language": "python",
   "name": "python3"
  },
  "language_info": {
   "codemirror_mode": {
    "name": "ipython",
    "version": 3
   },
   "file_extension": ".py",
   "mimetype": "text/x-python",
   "name": "python",
   "nbconvert_exporter": "python",
   "pygments_lexer": "ipython3",
   "version": "3.8.5"
  },
  "toc": {
   "base_numbering": 1,
   "nav_menu": {},
   "number_sections": false,
   "sideBar": true,
   "skip_h1_title": true,
   "title_cell": "Table of Contents",
   "title_sidebar": "Contents",
   "toc_cell": false,
   "toc_position": {},
   "toc_section_display": true,
   "toc_window_display": false
  }
 },
 "nbformat": 4,
 "nbformat_minor": 4
}
