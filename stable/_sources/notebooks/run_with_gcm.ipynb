{
 "cells": [
  {
   "cell_type": "markdown",
   "metadata": {},
   "source": [
    "# Run OGGM with GCM data"
   ]
  },
  {
   "cell_type": "markdown",
   "metadata": {},
   "source": [
    "In this example, we illustrate how to do a typical \"projection run\", i.e. using GCM data (here CMIP5). There are two important steps:\n",
    "- simulate all glaciers from their inventory date up to a \"present day\" geometry (**New in version 1.4: this is already available in the pre-processed directories**)\n",
    "- simulate their future evolution from the present day state"
   ]
  },
  {
   "cell_type": "code",
   "execution_count": null,
   "metadata": {},
   "outputs": [],
   "source": [
    "# Libs\n",
    "import xarray as xr\n",
    "import matplotlib.pyplot as plt\n",
    "\n",
    "# Locals\n",
    "import oggm.cfg as cfg\n",
    "from oggm import utils, workflow, tasks\n",
    "from oggm.core import gcm_climate"
   ]
  },
  {
   "cell_type": "markdown",
   "metadata": {},
   "source": [
    "## Pre-processed directories"
   ]
  },
  {
   "cell_type": "markdown",
   "metadata": {},
   "source": [
    "Let's do a run for two Himalayan glaciers: Ngojumba and Khumbu."
   ]
  },
  {
   "cell_type": "code",
   "execution_count": null,
   "metadata": {},
   "outputs": [],
   "source": [
    "# Initialize OGGM and set up the default run parameters\n",
    "cfg.initialize(logging_level='WARNING')\n",
    "\n",
    "# Here we override some of the default parameters\n",
    "# How many grid points around the glacier?\n",
    "# Make it large if you expect your glaciers to grow large:\n",
    "# here, 40 is more than enough\n",
    "cfg.PARAMS['border'] = 40\n",
    "\n",
    "# Local working directory (where OGGM will write its output)\n",
    "WORKING_DIR = utils.gettempdir('OGGM_gcm_run', reset=True)\n",
    "utils.mkdir(WORKING_DIR, reset=True)\n",
    "cfg.PATHS['working_dir'] = WORKING_DIR\n",
    "\n",
    "# RGI glaciers: Ngojumba and Khumbu\n",
    "rgi_ids = utils.get_rgi_glacier_entities(['RGI60-15.03473', 'RGI60-15.03733'])\n",
    "\n",
    "# Go - get the pre-processed glacier directories\n",
    "gdirs = workflow.init_glacier_directories(rgi_ids, from_prepro_level=5)"
   ]
  },
  {
   "cell_type": "markdown",
   "metadata": {},
   "source": [
    "## New in version 1.4: the `_historical` runs"
   ]
  },
  {
   "cell_type": "markdown",
   "metadata": {},
   "source": [
    "As of v1.4, the level 5 files now come with a pre-computed model run from the RGI outline date to the last possible date given by the historical climate data. These files are stored in the directory with a `_historical` suffix. Let's compile them for our two glaciers: "
   ]
  },
  {
   "cell_type": "code",
   "execution_count": null,
   "metadata": {},
   "outputs": [],
   "source": [
    "ds = utils.compile_run_output(gdirs, input_filesuffix='_historical')\n",
    "ds.volume.plot(hue='rgi_id');"
   ]
  },
  {
   "cell_type": "markdown",
   "metadata": {},
   "source": [
    "Each RGI glacier has an \"inventory date\", the time at which the ouline is valid. It can change between glaciers:"
   ]
  },
  {
   "cell_type": "code",
   "execution_count": null,
   "metadata": {},
   "outputs": [],
   "source": [
    "gdirs[0].rgi_date, gdirs[1].rgi_date"
   ]
  },
  {
   "cell_type": "code",
   "execution_count": null,
   "metadata": {},
   "outputs": [],
   "source": [
    "ds.time[-1]"
   ]
  },
  {
   "cell_type": "markdown",
   "metadata": {},
   "source": [
    "The command that was run on preprocessing was the [run_from_climate_data](https://docs.oggm.org/en/stable/generated/oggm.tasks.run_from_climate_data.html#oggm.tasks.run_from_climate_data) which will run OGGM from this inventory date up to a desired date (here, the last year with valid historical climate data). So the data above is strictly equivalent to:"
   ]
  },
  {
   "cell_type": "code",
   "execution_count": null,
   "metadata": {},
   "outputs": [],
   "source": [
    "workflow.execute_entity_task(tasks.run_from_climate_data, gdirs, \n",
    "                             output_filesuffix='_my_spinup',  # to use the files as input later on\n",
    "                            );\n",
    "ds = utils.compile_run_output(gdirs, input_filesuffix='_my_spinup')\n",
    "ds.volume.plot(hue='rgi_id');"
   ]
  },
  {
   "cell_type": "markdown",
   "metadata": {},
   "source": [
    "One thing to remember here is that although we try hard to avoid spin-up issues, the glacier after the inversion is not in a perfect dynamical state. Some variable (in particular glacier length) might need some years to adjust:"
   ]
  },
  {
   "cell_type": "code",
   "execution_count": null,
   "metadata": {},
   "outputs": [],
   "source": [
    "ds.length.plot(hue='rgi_id');"
   ]
  },
  {
   "cell_type": "markdown",
   "metadata": {},
   "source": [
    "## Download and process GCM data "
   ]
  },
  {
   "cell_type": "markdown",
   "metadata": {},
   "source": [
    "A typical use case for OGGM will be to use climate model output (here CMIP5). We use some of the files [we store online](https://cluster.klima.uni-bremen.de/~oggm/cmip5-ng) here, but you can use whichever you want. The above mentioned storage contains information about the data, [how to cite them](https://cluster.klima.uni-bremen.de/~oggm/cmip5-ng/ABOUT) and [tabular summaries](https://cluster.klima.uni-bremen.de/~oggm/cmip5-ng/gcm_table.html) of the available GCMs. \n",
    "\n",
    "We download the files and bias correct them to the calibration data (here: CRU, see [process_gcm_data](https://docs.oggm.org/en/stable/generated/oggm.tasks.process_gcm_data.html#oggm.shop.gcm_climate.process_gcm_data) which is called by `process_cmip_data`). This step is very important, as the model is very sensitive to temperature variability."
   ]
  },
  {
   "cell_type": "code",
   "execution_count": null,
   "metadata": {},
   "outputs": [],
   "source": [
    "bp = 'https://cluster.klima.uni-bremen.de/~oggm/cmip5-ng/pr/pr_mon_CCSM4_{}_r1i1p1_g025.nc'\n",
    "bt = 'https://cluster.klima.uni-bremen.de/~oggm/cmip5-ng/tas/tas_mon_CCSM4_{}_r1i1p1_g025.nc'\n",
    "for rcp in ['rcp26', 'rcp45', 'rcp60', 'rcp85']:\n",
    "    # Download the files\n",
    "    ft = utils.file_downloader(bt.format(rcp))\n",
    "    fp = utils.file_downloader(bp.format(rcp))\n",
    "    # bias correct them\n",
    "    workflow.execute_entity_task(gcm_climate.process_cmip_data, gdirs, \n",
    "                                 filesuffix='_CCSM4_{}'.format(rcp),  # recognize the climate file for later\n",
    "                                 fpath_temp=ft,  # temperature projections\n",
    "                                 fpath_precip=fp,  # precip projections\n",
    "                                 );"
   ]
  },
  {
   "cell_type": "markdown",
   "metadata": {},
   "source": [
    "## Projection runs "
   ]
  },
  {
   "cell_type": "markdown",
   "metadata": {},
   "source": [
    "We now run OGGM under various scenarios **and start from the end year of the historical run**:"
   ]
  },
  {
   "cell_type": "code",
   "execution_count": null,
   "metadata": {},
   "outputs": [],
   "source": [
    "for rcp in ['rcp26', 'rcp45', 'rcp60', 'rcp85']:\n",
    "    rid = '_CCSM4_{}'.format(rcp)\n",
    "    workflow.execute_entity_task(tasks.run_from_climate_data, gdirs, ys=2020, \n",
    "                                 climate_filename='gcm_data',  # use gcm_data, not climate_historical\n",
    "                                 climate_input_filesuffix=rid,  # use the chosen scenario\n",
    "                                 init_model_filesuffix='_historical',  # this is important! Start from 2020 glacier\n",
    "                                 output_filesuffix=rid,  # recognize the run for later\n",
    "                                );"
   ]
  },
  {
   "cell_type": "markdown",
   "metadata": {},
   "source": [
    "## Plot model output "
   ]
  },
  {
   "cell_type": "code",
   "execution_count": null,
   "metadata": {},
   "outputs": [],
   "source": [
    "f, (ax1, ax2) = plt.subplots(1, 2, figsize=(14, 4))\n",
    "for rcp in ['rcp26', 'rcp45', 'rcp60', 'rcp85']:\n",
    "    rid = '_CCSM4_{}'.format(rcp)\n",
    "    ds = utils.compile_run_output(gdirs, input_filesuffix=rid)\n",
    "    ds.isel(rgi_id=0).volume.plot(ax=ax1, label=rcp);\n",
    "    ds.isel(rgi_id=1).volume.plot(ax=ax2, label=rcp);\n",
    "plt.legend();"
   ]
  },
  {
   "cell_type": "markdown",
   "metadata": {},
   "source": [
    "## What's next?\n",
    "\n",
    "- return to the [OGGM documentation](https://docs.oggm.org)\n",
    "- back to the [table of contents](welcome.ipynb)"
   ]
  }
 ],
 "metadata": {
  "hide_input": false,
  "kernelspec": {
   "display_name": "Python 3",
   "language": "python",
   "name": "python3"
  },
  "language_info": {
   "codemirror_mode": {
    "name": "ipython",
    "version": 3
   },
   "file_extension": ".py",
   "mimetype": "text/x-python",
   "name": "python",
   "nbconvert_exporter": "python",
   "pygments_lexer": "ipython3",
   "version": "3.8.5"
  },
  "latex_envs": {
   "LaTeX_envs_menu_present": true,
   "autoclose": false,
   "autocomplete": true,
   "bibliofile": "biblio.bib",
   "cite_by": "apalike",
   "current_citInitial": 1,
   "eqLabelWithNumbers": true,
   "eqNumInitial": 1,
   "hotkeys": {
    "equation": "Ctrl-E",
    "itemize": "Ctrl-I"
   },
   "labels_anchors": false,
   "latex_user_defs": false,
   "report_style_numbering": false,
   "user_envs_cfg": false
  },
  "nbTranslate": {
   "displayLangs": [
    "*"
   ],
   "hotkey": "alt-t",
   "langInMainMenu": true,
   "sourceLang": "en",
   "targetLang": "fr",
   "useGoogleTranslate": true
  },
  "toc": {
   "base_numbering": 1,
   "nav_menu": {},
   "number_sections": false,
   "sideBar": true,
   "skip_h1_title": true,
   "title_cell": "Table of Contents",
   "title_sidebar": "Contents",
   "toc_cell": false,
   "toc_position": {},
   "toc_section_display": true,
   "toc_window_display": false
  }
 },
 "nbformat": 4,
 "nbformat_minor": 4
}
