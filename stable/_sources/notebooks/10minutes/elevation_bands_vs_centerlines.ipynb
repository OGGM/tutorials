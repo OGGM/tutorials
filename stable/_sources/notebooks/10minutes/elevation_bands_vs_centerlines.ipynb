{
 "cells": [
  {
   "cell_type": "markdown",
   "metadata": {},
   "source": [
    "# 10 minutes to... \"elevation band\" and \"centerline\" flowlines"
   ]
  },
  {
   "cell_type": "markdown",
   "metadata": {},
   "source": [
    "In version 1.4, OGGM introduced a new way to compute flowlines: the so-called \"elevation-band flowlines\" (after [Huss & Farinotti, 2012](https://agupubs.onlinelibrary.wiley.com/doi/full/10.1029/2012JF002523)). These elevation bands complement the already available \"multiple centerlines\" glacier representation. This notebook allows you to compare the two representations."
   ]
  },
  {
   "cell_type": "code",
   "execution_count": null,
   "metadata": {
    "tags": []
   },
   "outputs": [],
   "source": [
    "from oggm import cfg, utils, workflow, graphics, tasks\n",
    "import xarray as xr\n",
    "import numpy as np\n",
    "import matplotlib.pyplot as plt\n",
    "import seaborn as sns"
   ]
  },
  {
   "cell_type": "code",
   "execution_count": null,
   "metadata": {
    "tags": []
   },
   "outputs": [],
   "source": [
    "cfg.initialize(logging_level='WARNING')"
   ]
  },
  {
   "cell_type": "code",
   "execution_count": null,
   "metadata": {
    "tags": []
   },
   "outputs": [],
   "source": [
    "# Pick the glacier you want! We use Baltoro here\n",
    "rgi_ids = ['RGI60-14.06794']"
   ]
  },
  {
   "cell_type": "markdown",
   "metadata": {},
   "source": [
    "## Get ready"
   ]
  },
  {
   "cell_type": "markdown",
   "metadata": {},
   "source": [
    "In order to open the same glacier on two different glacier directories, we apply a trick: we set a new working directory for each case! This trick is not recommended for real runs: if you have a use case for such a workflow (the same glacier with different flowline types, please [get in touch with us](https://docs.oggm.org/en/stable/#get-in-touch))."
   ]
  },
  {
   "cell_type": "code",
   "execution_count": null,
   "metadata": {
    "tags": []
   },
   "outputs": [],
   "source": [
    "# Geometrical centerline\n",
    "# Where to store the data \n",
    "cfg.PATHS['working_dir'] = utils.gettempdir(dirname='OGGM-centerlines', reset=True)\n",
    "\n",
    "# We start from prepro level 3 with all data ready - note the url here\n",
    "base_url = 'https://cluster.klima.uni-bremen.de/~oggm/gdirs/oggm_v1.6/L3-L5_files/2023.3/centerlines/W5E5/'\n",
    "gdirs = workflow.init_glacier_directories(rgi_ids, from_prepro_level=3, prepro_border=80, prepro_base_url=base_url)\n",
    "gdir_cl = gdirs[0]\n",
    "gdir_cl"
   ]
  },
  {
   "cell_type": "code",
   "execution_count": null,
   "metadata": {
    "tags": []
   },
   "outputs": [],
   "source": [
    "# Elevation band flowline\n",
    "# New working directory\n",
    "cfg.PATHS['working_dir'] = utils.gettempdir(dirname='OGGM-elevbands', reset=True)\n",
    "\n",
    "# Note the new url\n",
    "base_url = 'https://cluster.klima.uni-bremen.de/~oggm/gdirs/oggm_v1.6/L3-L5_files/2023.3/elev_bands/W5E5/'\n",
    "gdirs = workflow.init_glacier_directories(rgi_ids, from_prepro_level=3, prepro_border=80, prepro_base_url=base_url)\n",
    "gdir_eb = gdirs[0]\n",
    "gdir_eb"
   ]
  },
  {
   "cell_type": "markdown",
   "metadata": {},
   "source": [
    "## Some reading first "
   ]
  },
  {
   "cell_type": "markdown",
   "metadata": {},
   "source": [
    "We wrote a bit of information about the differences between these two. First, go to the [glacier flowlines](https://docs.oggm.org/en/stable/flowlines.html#glacier-flowlines) documentation where you can find detailed information about the two flowline types and also a [guideline when to use which flowline method](https://docs.oggm.org/en/stable/flowlines.html#pros-and-cons-of-both-methods).\n",
    "\n",
    "The examples below illustrate these differences, without much text for now because of lack of time:"
   ]
  },
  {
   "cell_type": "markdown",
   "metadata": {},
   "source": [
    "##  Glacier length and cross section"
   ]
  },
  {
   "cell_type": "code",
   "execution_count": null,
   "metadata": {
    "tags": []
   },
   "outputs": [],
   "source": [
    "fls_cl = gdir_cl.read_pickle('model_flowlines')\n",
    "fls_eb = gdir_eb.read_pickle('model_flowlines')"
   ]
  },
  {
   "cell_type": "code",
   "execution_count": null,
   "metadata": {
    "tags": []
   },
   "outputs": [],
   "source": [
    "f, (ax1, ax2) = plt.subplots(2, 1, figsize=(10, 14), sharex=True, sharey=True)\n",
    "graphics.plot_modeloutput_section(fls_cl, ax=ax1)\n",
    "ax1.set_title('Geometrical centerline')\n",
    "graphics.plot_modeloutput_section(fls_eb, ax=ax2)\n",
    "ax2.set_title('Elevation band flowline');"
   ]
  },
  {
   "cell_type": "markdown",
   "metadata": {},
   "source": [
    "**Note that the elevation band flowline length is shorter than the geometrical centerline!**"
   ]
  },
  {
   "cell_type": "markdown",
   "metadata": {},
   "source": [
    "## Projections: often relatively small differences in volume, but more in geometry  "
   ]
  },
  {
   "cell_type": "markdown",
   "metadata": {},
   "source": [
    "Thanks to OGGM's modular workflow, simulating both geometries is very similar in terms of code. For example, we can process the climate data for both representations with the same command:"
   ]
  },
  {
   "cell_type": "code",
   "execution_count": null,
   "metadata": {
    "tags": []
   },
   "outputs": [],
   "source": [
    "gdirs = [gdir_cl, gdir_eb]"
   ]
  },
  {
   "cell_type": "code",
   "execution_count": null,
   "metadata": {
    "tags": []
   },
   "outputs": [],
   "source": [
    "from oggm.shop import gcm_climate\n",
    "\n",
    "# you can choose one of these 5 different GCMs:\n",
    "# 'gfdl-esm4_r1i1p1f1', 'mpi-esm1-2-hr_r1i1p1f1', 'mri-esm2-0_r1i1p1f1' (\"low sensitivity\" models, within typical ranges from AR6)\n",
    "# 'ipsl-cm6a-lr_r1i1p1f1', 'ukesm1-0-ll_r1i1p1f2' (\"hotter\" models, especially ukesm1-0-ll)\n",
    "member = 'mri-esm2-0_r1i1p1f1' \n",
    "\n",
    "for ssp in ['ssp126', 'ssp370','ssp585']:\n",
    "    # bias correct them\n",
    "    workflow.execute_entity_task(gcm_climate.process_monthly_isimip_data, gdirs, \n",
    "                                 ssp = ssp,\n",
    "                                 # gcm member -> you can choose another one\n",
    "                                 member=member,\n",
    "                                 # recognize the climate file for later\n",
    "                                 output_filesuffix=f'_ISIMIP3b_{member}_{ssp}'\n",
    "                                 );"
   ]
  },
  {
   "cell_type": "markdown",
   "metadata": {},
   "source": [
    "For the ice dynamics simulations, the commands are exactly the same as well. The only difference is that centerlines require the more flexible \"FluxBased\" numerical model, while the elevation bands can also use the more robust \"SemiImplicit\" one. **The runs are considerabily faster with the elevation bands flowlines.**"
   ]
  },
  {
   "cell_type": "code",
   "execution_count": null,
   "metadata": {
    "tags": []
   },
   "outputs": [],
   "source": [
    "# add additional outputs to default OGGM\n",
    "cfg.PARAMS['store_model_geometry'] = True  \n",
    "cfg.PARAMS['store_fl_diagnostics'] = True\n",
    "\n",
    "for gdir in gdirs:\n",
    "    if gdir is gdir_cl:\n",
    "        cfg.PARAMS['evolution_model'] = 'FluxBased'\n",
    "    else:\n",
    "        cfg.PARAMS['evolution_model'] = 'SemiImplicit'\n",
    "\n",
    "    workflow.execute_entity_task(tasks.run_from_climate_data, [gdir],\n",
    "                                 output_filesuffix='_historical',  \n",
    "                                );\n",
    "\n",
    "    for ssp in ['ssp126', 'ssp370', 'ssp585']:\n",
    "        rid = f'_ISIMIP3b_{member}_{ssp}'\n",
    "\n",
    "        workflow.execute_entity_task(tasks.run_from_climate_data, [gdir],\n",
    "                                     climate_filename='gcm_data',  # use gcm_data, not climate_historical\n",
    "                                     climate_input_filesuffix=rid,  # use the chosen scenario\n",
    "                                     init_model_filesuffix='_historical',  # this is important! Start from 2020 glacier\n",
    "                                     output_filesuffix=rid,  # recognize the run for later\n",
    "                                    );"
   ]
  },
  {
   "cell_type": "code",
   "execution_count": null,
   "metadata": {},
   "outputs": [],
   "source": [
    "f, (ax1, ax2) = plt.subplots(1, 2, figsize=(14, 4))\n",
    "\n",
    "# Pick some colors for the lines\n",
    "color_dict={'ssp126':'blue', 'ssp370':'orange', 'ssp585':'red'}\n",
    "\n",
    "for ssp in ['ssp126','ssp370', 'ssp585']:\n",
    "    rid = f'_ISIMIP3b_{member}_{ssp}'\n",
    "    with xr.open_dataset(gdir_cl.get_filepath('model_diagnostics', filesuffix=rid)) as ds:\n",
    "        ds.volume_m3.plot(ax=ax1, label=ssp, c=color_dict[ssp]);\n",
    "for ssp in ['ssp126','ssp370', 'ssp585']:\n",
    "    rid = f'_ISIMIP3b_{member}_{ssp}'\n",
    "    with xr.open_dataset(gdir_eb.get_filepath('model_diagnostics', filesuffix=rid)) as ds:\n",
    "        ds.volume_m3.plot(ax=ax1, label=ssp, c=color_dict[ssp], ls='--');\n",
    "    ax1.set_title('Glacier volume')\n",
    "    ax1.set_xlim([2020,2100])\n",
    "    ax1.set_ylim([0, ds.volume_m3.max().max()*1.1])\n",
    "\n",
    "for ssp in ['ssp126','ssp370', 'ssp585']:\n",
    "    rid = f'_ISIMIP3b_{member}_{ssp}'\n",
    "    with xr.open_dataset(gdir_cl.get_filepath('model_diagnostics', filesuffix=rid)) as ds:\n",
    "        ds.length_m.plot(ax=ax2, label=ssp, c=color_dict[ssp]);\n",
    "    ax2.set_ylim([0, ds.length_m.max().max()*1.1])\n",
    "for ssp in ['ssp126','ssp370', 'ssp585']:\n",
    "    rid = f'_ISIMIP3b_{member}_{ssp}'\n",
    "    with xr.open_dataset(gdir_eb.get_filepath('model_diagnostics', filesuffix=rid)) as ds:\n",
    "        ds.length_m.plot(ax=ax2, label=ssp, c=color_dict[ssp], ls='--');\n",
    "    ax2.set_title('Glacier length')\n",
    "    ax2.set_xlim([2020,2100])\n",
    "    \n",
    "plt.legend();   "
   ]
  },
  {
   "cell_type": "markdown",
   "metadata": {
    "tags": []
   },
   "source": [
    "As you can see, for this disappearing glacier, the representations create slightly different volume projections. The differences can be quite a bit larger at times, for example for length projections."
   ]
  },
  {
   "cell_type": "markdown",
   "metadata": {},
   "source": [
    "## Graphical representation: centerlines win by short margin (for now)"
   ]
  },
  {
   "cell_type": "code",
   "execution_count": null,
   "metadata": {
    "tags": []
   },
   "outputs": [],
   "source": [
    "rid = f'_ISIMIP3b_{member}_ssp126'"
   ]
  },
  {
   "cell_type": "markdown",
   "metadata": {},
   "source": [
    "Both models can be reprensented with a cross-section, like this: "
   ]
  },
  {
   "cell_type": "code",
   "execution_count": null,
   "metadata": {
    "tags": []
   },
   "outputs": [],
   "source": [
    "sel_years = np.linspace(2020, 2100, 17).astype(int)\n",
    "colors = sns.color_palette('rocket', len(sel_years))\n",
    "with plt.rc_context({'axes.prop_cycle': plt.cycler(color=colors)}):\n",
    "    f, (ax1, ax2) = plt.subplots(1, 2, figsize=(15, 5.5), sharey=True, sharex=True)\n",
    "    n_lines = len(gdir_cl.read_pickle('model_flowlines'))\n",
    "    with xr.open_dataset(gdir_cl.get_filepath('fl_diagnostics', filesuffix=rid), group=f'fl_{n_lines-1}') as ds:\n",
    "        (ds.bed_h + ds.sel(time=sel_years).thickness_m).plot(ax=ax1, hue='time')\n",
    "        ds.bed_h.plot(ax=ax1, c='k')\n",
    "        ax1.set_title('Centerlines')\n",
    "    with xr.open_dataset(gdir_eb.get_filepath('fl_diagnostics', filesuffix=rid), group='fl_0') as ds:\n",
    "        (ds.bed_h + ds.sel(time=sel_years).thickness_m).plot(ax=ax2, hue='time')\n",
    "        ds.bed_h.plot(ax=ax2, c='k')\n",
    "        ax2.set_ylabel('')\n",
    "        ax2.set_title('Elevation bands')"
   ]
  },
  {
   "cell_type": "markdown",
   "metadata": {
    "tags": []
   },
   "source": [
    "However, only centerlines can be plotted as a map:"
   ]
  },
  {
   "cell_type": "code",
   "execution_count": null,
   "metadata": {
    "tags": []
   },
   "outputs": [],
   "source": [
    "# this can take some time\n",
    "# if you want to see more thickness differences you can use ssp585 instead of ssp126\n",
    "# by uncomment the following line\n",
    "# rid = f'_ISIMIP3b_{member}_ssp585'\n",
    "f, (ax1, ax2, ax3) = plt.subplots(1, 3, figsize=(14, 6))\n",
    "# let's have the same colorbar for every subplot for better comparability\n",
    "graphics.plot_modeloutput_map(gdir_cl, filesuffix=rid, modelyr=2020, ax=ax1, vmax=600) \n",
    "graphics.plot_modeloutput_map(gdir_cl, filesuffix=rid, modelyr=2050, ax=ax2, vmax=600)\n",
    "graphics.plot_modeloutput_map(gdir_cl, filesuffix=rid, modelyr=2100, ax=ax3, vmax=600)\n",
    "plt.tight_layout();"
   ]
  },
  {
   "cell_type": "markdown",
   "metadata": {},
   "source": [
    "We are however working on a better representation of retreating glaciers for outreach. Have a look at [this tutorial](../beginner/distribute_flowline.ipynb)!"
   ]
  },
  {
   "cell_type": "markdown",
   "metadata": {},
   "source": [
    "## Take home messages "
   ]
  },
  {
   "cell_type": "markdown",
   "metadata": {},
   "source": [
    "TODO, but in short: \n",
    "- in the absence of additional data to better calibrate the mass balance model, using multiple centerlines is not useful unless for growing glacier cases and cases where geometry plays an important role (e.g. lakes, paleo applications)."
   ]
  },
  {
   "cell_type": "markdown",
   "metadata": {},
   "source": [
    "## What's next?\n",
    "\n",
    "- return to the [OGGM documentation](https://docs.oggm.org)\n",
    "- back to the [table of contents](../welcome.ipynb)"
   ]
  }
 ],
 "metadata": {
  "celltoolbar": "Tags",
  "hide_input": false,
  "kernelspec": {
   "display_name": "Python 3 (ipykernel)",
   "language": "python",
   "name": "python3"
  },
  "language_info": {
   "codemirror_mode": {
    "name": "ipython",
    "version": 3
   },
   "file_extension": ".py",
   "mimetype": "text/x-python",
   "name": "python",
   "nbconvert_exporter": "python",
   "pygments_lexer": "ipython3",
   "version": "3.11.4"
  },
  "latex_envs": {
   "LaTeX_envs_menu_present": true,
   "autoclose": false,
   "autocomplete": true,
   "bibliofile": "biblio.bib",
   "cite_by": "apalike",
   "current_citInitial": 1,
   "eqLabelWithNumbers": true,
   "eqNumInitial": 1,
   "hotkeys": {
    "equation": "Ctrl-E",
    "itemize": "Ctrl-I"
   },
   "labels_anchors": false,
   "latex_user_defs": false,
   "report_style_numbering": false,
   "user_envs_cfg": false
  },
  "nbTranslate": {
   "displayLangs": [
    "*"
   ],
   "hotkey": "alt-t",
   "langInMainMenu": true,
   "sourceLang": "en",
   "targetLang": "fr",
   "useGoogleTranslate": true
  },
  "papermill": {
   "duration": 78.878142,
   "end_time": "2019-05-02T12:30:59.784271",
   "environment_variables": {},
   "exception": null,
   "input_path": "dem_comparison.ipynb",
   "output_path": "out-param.ipynb",
   "parameters": {
    "rgi_id": "RGI60-03.02489"
   },
   "start_time": "2019-05-02T12:29:40.906129",
   "version": "1.0.0"
  },
  "toc": {
   "base_numbering": 1,
   "nav_menu": {},
   "number_sections": false,
   "sideBar": true,
   "skip_h1_title": true,
   "title_cell": "Table of Contents",
   "title_sidebar": "Contents",
   "toc_cell": false,
   "toc_position": {},
   "toc_section_display": true,
   "toc_window_display": false
  }
 },
 "nbformat": 4,
 "nbformat_minor": 4
}
