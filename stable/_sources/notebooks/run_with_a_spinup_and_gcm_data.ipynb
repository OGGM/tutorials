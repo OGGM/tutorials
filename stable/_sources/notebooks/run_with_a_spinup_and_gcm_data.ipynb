{
 "cells": [
  {
   "cell_type": "markdown",
   "metadata": {},
   "source": [
    "# Run with a spinup and GCM data\n",
    "\n",
    "The initial state of glaciers play a large role for the model output. In this example we illustrate how to “spinup” a glacier (e.g.: make them grow) before running over the period of interest. For this example we use climate data from the CESM Last Millennium Ensemble."
   ]
  },
  {
   "cell_type": "code",
   "execution_count": null,
   "metadata": {},
   "outputs": [],
   "source": [
    "# Libs\n",
    "import matplotlib.pyplot as plt\n",
    "\n",
    "# Locals\n",
    "import oggm.cfg as cfg\n",
    "from oggm import tasks, utils, workflow\n",
    "from oggm.workflow import execute_entity_task\n",
    "from oggm.utils import get_demo_file"
   ]
  },
  {
   "cell_type": "code",
   "execution_count": null,
   "metadata": {},
   "outputs": [],
   "source": [
    "# Initialize OGGM and set up the default run parameters\n",
    "cfg.initialize()\n",
    "\n",
    "# Local working directory (where OGGM will write its output)\n",
    "WORKING_DIR = utils.gettempdir('OGGM_spinup_run')\n",
    "utils.mkdir(WORKING_DIR, reset=True)\n",
    "cfg.PATHS['working_dir'] = WORKING_DIR\n",
    "\n",
    "# Use multiprocessing?\n",
    "cfg.PARAMS['use_multiprocessing'] = False"
   ]
  },
  {
   "cell_type": "markdown",
   "metadata": {},
   "source": [
    "Pre-processed directories are being used here."
   ]
  },
  {
   "cell_type": "code",
   "execution_count": null,
   "metadata": {},
   "outputs": [],
   "source": [
    "# How many grid points around the glacier?\n",
    "# Make it large if you expect your glaciers to grow large\n",
    "cfg.PARAMS['border'] = 80\n",
    "\n",
    "# Go - initialize glacier directories\n",
    "gdirs = workflow.init_glacier_regions(['RGI60-11.00897'], from_prepro_level=4)"
   ]
  },
  {
   "cell_type": "markdown",
   "metadata": {},
   "source": [
    "Here the paths to the CESM-LME files are set. (The demo files that are being used in this example don't contain the whole last millennium, neither do they have the global coverage that they original files have. These demo files have been made for test purposes and to reduce the time it takes to run the example. If you use the demo files for a glacier outside the domain, you won't get an error. Instead the climate of the nearest point to the glacier that is available in the demo files will be used, which could be thousands of kilometers away.)"
   ]
  },
  {
   "cell_type": "code",
   "execution_count": null,
   "metadata": {},
   "outputs": [],
   "source": [
    "# Additional climate file (CESM)\n",
    "cfg.PATHS['cesm_temp_file'] = get_demo_file('cesm.TREFHT.160001-200512'\n",
    "                                            '.selection.nc')\n",
    "cfg.PATHS['cesm_precc_file'] = get_demo_file('cesm.PRECC.160001-200512'\n",
    "                                             '.selection.nc')\n",
    "cfg.PATHS['cesm_precl_file'] = get_demo_file('cesm.PRECL.160001-200512'\n",
    "                                             '.selection.nc')\n",
    "execute_entity_task(tasks.process_cesm_data, gdirs);"
   ]
  },
  {
   "cell_type": "markdown",
   "metadata": {},
   "source": [
    "Here the CESM-LME data is being pre-processed. This process makes use of the delta method and uses scaled temperature anomalies by default (it is strongly recommended to use this default setting of scaling the temperature anomalies, unless you have very good reasons not to do so)."
   ]
  },
  {
   "cell_type": "code",
   "execution_count": null,
   "metadata": {},
   "outputs": [],
   "source": [
    "execute_entity_task(tasks.process_cesm_data, gdirs)"
   ]
  },
  {
   "cell_type": "code",
   "execution_count": null,
   "metadata": {},
   "outputs": [],
   "source": [
    "# Run the last 200 years with the default starting point (current glacier)\n",
    "# and CESM data as input\n",
    "execute_entity_task(tasks.run_from_climate_data, gdirs,\n",
    "                    climate_filename='gcm_data',\n",
    "                    ys=1801, ye=2000,\n",
    "                    output_filesuffix='_no_spinup')"
   ]
  },
  {
   "cell_type": "code",
   "execution_count": null,
   "metadata": {},
   "outputs": [],
   "source": [
    "# Run the spinup simulation - t* climate with a cold temperature bias\n",
    "execute_entity_task(tasks.run_constant_climate, gdirs,\n",
    "                    nyears=100, bias=0, temperature_bias=-0.5,\n",
    "                    output_filesuffix='_spinup')\n",
    "# Run a past climate run based on this spinup\n",
    "execute_entity_task(tasks.run_from_climate_data, gdirs,\n",
    "                    climate_filename='gcm_data',\n",
    "                    ys=1801, ye=2000,\n",
    "                    init_model_filesuffix='_spinup',\n",
    "                    output_filesuffix='_with_spinup')"
   ]
  },
  {
   "cell_type": "markdown",
   "metadata": {},
   "source": [
    "When starting from a spin-up, by default the last year of the spin-up is being used to initialize a glacier. With `init_model_yr`, you can select any other year from the spin-up as initial year."
   ]
  },
  {
   "cell_type": "code",
   "execution_count": null,
   "metadata": {},
   "outputs": [],
   "source": [
    "# Run a past climate run based on this spinup\n",
    "execute_entity_task(tasks.run_from_climate_data, gdirs,\n",
    "                    climate_filename='gcm_data',\n",
    "                    ys=1801, ye=2000, init_model_yr=50,\n",
    "                    init_model_filesuffix='_spinup',\n",
    "                    output_filesuffix='_with_spinup_50yr')"
   ]
  },
  {
   "cell_type": "code",
   "execution_count": null,
   "metadata": {},
   "outputs": [],
   "source": [
    "# Compile output\n",
    "utils.compile_glacier_statistics(gdirs)\n",
    "ds1 = utils.compile_run_output(gdirs, input_filesuffix='_no_spinup')\n",
    "ds2 = utils.compile_run_output(gdirs, input_filesuffix='_with_spinup')\n",
    "ds3 = utils.compile_run_output(gdirs, input_filesuffix='_with_spinup_50yr')"
   ]
  },
  {
   "cell_type": "code",
   "execution_count": null,
   "metadata": {},
   "outputs": [],
   "source": [
    "# Plot\n",
    "f, ax = plt.subplots(figsize=(9, 4))\n",
    "(ds1.volume.sum(dim='rgi_id') * 1e-9).plot(ax=ax, label='No spinup')\n",
    "(ds2.volume.sum(dim='rgi_id') * 1e-9).plot(ax=ax, label='With 100-yr spinup')\n",
    "(ds3.volume.sum(dim='rgi_id') * 1e-9).plot(ax=ax, label='With 50-yr spinup')\n",
    "ax.set_ylabel('Volume (km$^3$)')\n",
    "ax.set_xlabel('')\n",
    "ax.set_title('Hintereisferner volume under CESM-LME forcing')\n",
    "plt.legend()\n",
    "plt.tight_layout()"
   ]
  },
  {
   "cell_type": "markdown",
   "metadata": {},
   "source": [
    "## What's next?\n",
    "\n",
    "- look on the tutorial of how a typical \"projection run\" (there CMIP5) is done at [run_with_gcm.ipynb](run_with_gcm.ipynb)\n",
    "- return to the [OGGM documentation](https://docs.oggm.org)\n",
    "- back to the [table of contents](welcome.ipynb)"
   ]
  },
  {
   "cell_type": "code",
   "execution_count": null,
   "metadata": {},
   "outputs": [],
   "source": []
  }
 ],
 "metadata": {
  "kernelspec": {
   "display_name": "Python 3",
   "language": "python",
   "name": "python3"
  },
  "language_info": {
   "codemirror_mode": {
    "name": "ipython",
    "version": 3
   },
   "file_extension": ".py",
   "mimetype": "text/x-python",
   "name": "python",
   "nbconvert_exporter": "python",
   "pygments_lexer": "ipython3",
   "version": "3.9.1"
  }
 },
 "nbformat": 4,
 "nbformat_minor": 4
}
