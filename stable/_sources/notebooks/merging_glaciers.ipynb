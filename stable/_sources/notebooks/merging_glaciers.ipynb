{
 "cells": [
  {
   "cell_type": "markdown",
   "metadata": {},
   "source": [
    "# Merging glaciers for past climate simulations"
   ]
  },
  {
   "cell_type": "markdown",
   "metadata": {},
   "source": [
    "OGGM initializes glaciers based on [RGI outlines](https://www.glims.org/RGI/) which allows for fully automated simulations starting from a recent global glacier state. OGGM also treats every glacier as entity which basically means that individual glaciers do not know about each other even if they are modelled within one specific run.\n",
    "\n",
    "This is a good approach for current and future simulations in a warming climate where we mainly expect glacier retreat. But if we want to look at colder climates, either from the past or in a synthetic way, we might have to adjust this glacier centric view and take the influence of neighbouring glaciers into account.\n",
    "\n",
    "In this notebook we show how OGGM can merge several neighbouring glaciers into one coupled glacier system. The general approach for this is to view the surrounding glaciers in the same way as tributary [flowlines](https://docs.oggm.org/en/stable/flowlines.html) to an existing glacier entity.\n",
    "\n",
    "\n",
    "**But before using this method please be aware of its limitations:** We are only able to merge glaciers which are present in the Randolph Glacier Inventory. This limits the time we can go back into the past as we are not able to *create* a glacier with OGGM at a place where there is no glacier today. The merging procedure was developed with typcial Alpine valley glaciers and their extensions around the Little Ice Age in mind. We did not develop this with glacial time scales in mind and [this statement about long term glacier evolution](https://docs.oggm.org/en/stable/faq.html#can-i-use-oggm-to-simulate-long-term-glacier-evolution) still holds up."
   ]
  },
  {
   "cell_type": "markdown",
   "metadata": {},
   "source": [
    "## Set-up"
   ]
  },
  {
   "cell_type": "markdown",
   "metadata": {},
   "source": [
    "These are the usual OGGM workflow commands."
   ]
  },
  {
   "cell_type": "code",
   "execution_count": null,
   "metadata": {},
   "outputs": [],
   "source": [
    "import matplotlib.pyplot as plt\n",
    "import geopandas as gpd\n",
    "import os\n",
    "\n",
    "from oggm import cfg, utils, workflow, tasks, graphics\n",
    "from oggm.core.flowline import FileModel"
   ]
  },
  {
   "cell_type": "code",
   "execution_count": null,
   "metadata": {},
   "outputs": [],
   "source": [
    "# Set-up\n",
    "cfg.initialize(logging_level='WARNING')\n",
    "cfg.PATHS['working_dir'] = utils.gettempdir(dirname='OGGM-merging', reset=True)\n",
    "# Use a suitable border size for your domain\n",
    "cfg.PARAMS['border'] = 80\n",
    "# This is useful here\n",
    "cfg.PARAMS['use_multiprocessing'] = True"
   ]
  },
  {
   "cell_type": "markdown",
   "metadata": {},
   "source": [
    "## Pick a main glacier and identify all its possible tributaries"
   ]
  },
  {
   "cell_type": "markdown",
   "metadata": {},
   "source": [
    "In this case we are looking at Mont Mine Glacier (`RGI60-11.02709`) as our main glacier of interest."
   ]
  },
  {
   "cell_type": "code",
   "execution_count": null,
   "metadata": {},
   "outputs": [],
   "source": [
    "montmine = workflow.init_glacier_directories(['RGI60-11.02709'], from_prepro_level=3)[0]"
   ]
  },
  {
   "cell_type": "code",
   "execution_count": null,
   "metadata": {},
   "outputs": [],
   "source": [
    "fig, ax = plt.subplots(figsize=[10,10])\n",
    "graphics.plot_centerlines(montmine, ax=ax, use_flowlines=True);"
   ]
  },
  {
   "cell_type": "markdown",
   "metadata": {},
   "source": [
    "At the moment it is not possible to automatically search for tributary glaciers but this is planed for a later release.\n",
    "\n",
    "Right now we have to provide all **possible** tributary glaciers as OGGM GlacierDirectories. \"Possible\" because OGGM will check if the provided glaciers will actually flow together with the main glacier by intersecting their downstream flowlines. If a \"false\" glacier is provided, it will not be merged.\n",
    "\n",
    "The easiest way to obtain the GlacierDirectories is by using [preprocessed glacier directories](http://docs.oggm.org/en/stable/input-data.html#pre-processed-directories), initialized with a list of RGI-IDs. The list of RGI-IDs can be manually made. Another way, more suitable for larger glacier complexes would be to extract the RGI-IDs directly from a RGI shapefile.\n",
    "For the Mont Mine example we provide a subset, containing the surrounding glaciers.\n",
    "\n",
    "That way it is possible to select and extract a region of interest from the RGI within a GIS software. OGGM will then test and merge all glacieres of this subset and use the feasible ones.\n"
   ]
  },
  {
   "cell_type": "code",
   "execution_count": null,
   "metadata": {},
   "outputs": [],
   "source": [
    "tfile = utils.file_downloader(\"https://cluster.klima.uni-bremen.de/~oggm/tutorials/montmine_shapefile.tar\")\n",
    "utils.robust_tar_extract(tfile, os.path.join(cfg.PATHS['working_dir'], 'shapefile/'))\n",
    "basin = gpd.read_file(os.path.join(cfg.PATHS['working_dir'], 'shapefile', 'mont_mine.shp'))\n",
    "\n",
    "# plot and highlight Mont Mine glacier in green\n",
    "fig, ax = plt.subplots(figsize=[8,8])\n",
    "basin.plot(ax=ax)\n",
    "basin.loc[basin.RGIId=='RGI60-11.02709'].plot(ax=ax, color='green');"
   ]
  },
  {
   "cell_type": "markdown",
   "metadata": {},
   "source": [
    "We can now use these RGI-IDs to initialize the OGGM GlacierDirectories.\n",
    "\n",
    "In order to merge the glaciers we need the model flowlines and other files from **preprocessing level 3** which will be used by the dynamical model. The border size depends upon the specific topography and on how much glacier growth is expected. For the Mont Mine setting a border of 80 is sufficient.\n",
    "\n",
    "Note that we also have to include the main glacier (Mont Mine glacier in this case) in the list of RGI-IDs."
   ]
  },
  {
   "cell_type": "code",
   "execution_count": null,
   "metadata": {},
   "outputs": [],
   "source": [
    "# This can take some time\n",
    "gdirs = workflow.init_glacier_directories(basin.RGIId.tolist(), from_prepro_level=3)\n",
    "workflow.execute_entity_task(tasks.init_present_time_glacier, gdirs);"
   ]
  },
  {
   "cell_type": "markdown",
   "metadata": {},
   "source": [
    "## Merging tributary glaciers to a main glacier"
   ]
  },
  {
   "cell_type": "markdown",
   "metadata": {},
   "source": [
    "The merging process is fully automated done with the function `workflow.merge_glacier_tasks`.\n",
    "It needs at least a list of OGGM GlacierDirectories, which contains all possible tributaries **and** the main glacier.\n",
    "If as second argument a specific RGI ID is provided as string, this will be used to identify the main glacier of interest and all tributary glaciers are merged to this one. If no RGI ID is provided, OGGM will use the largest glacier as the main one. In the latter case the return value of the function is not a single GlacierDirectory but a list of GlacierDirectories containing all remaining glaciers, merged as much as possible.\n",
    "\n",
    "This function also takes additional arguments to use custom climate data. The procedure for this would be to first run the necessary climate tasks on the individual glaciers and afterwards merge the glaciers to one complex. See the [API](http://docs.oggm.org/en/stable/generated/oggm.workflow.merge_glacier_tasks.html) for details.\n",
    "\n",
    "`workflow.merge_glacier_tasks` performs three important tasks:\n",
    "1. Starting from either the main or the largest glacier it checks if its downstream flowline intersects with the downstream flowlines of all other glaciers provided within the list.\n",
    "2. It initializes a new OGGM GlacierDirectory for the merged glacier. This new glacier will have the RGI-ID of the main glacier with the suffix '_merged'. E.g. `RGI60-11.02709_merged` in this example. \n",
    "3. It merges the tributary glaciers (identified in step 1) to the main glacier."
   ]
  },
  {
   "cell_type": "code",
   "execution_count": null,
   "metadata": {},
   "outputs": [],
   "source": [
    "cfg.PARAMS['use_intersects'] = False\n",
    "gdirs_merged = workflow.merge_glacier_tasks(gdirs, main_rgi_id='RGI60-11.02709', return_all=False, \n",
    "                                            filename='climate_historical', dem_source='SRTM')"
   ]
  },
  {
   "cell_type": "markdown",
   "metadata": {},
   "source": [
    "Let's have a look at the now merged glacier complex and compare it with the selected glaciers from the RGI shapefile:"
   ]
  },
  {
   "cell_type": "code",
   "execution_count": null,
   "metadata": {},
   "outputs": [],
   "source": [
    "fig, (ax1, ax2) = plt.subplots(1, 2, figsize=[15,8])\n",
    "graphics.plot_centerlines(gdirs_merged, ax=ax1, use_model_flowlines=True);\n",
    "graphics.plot_centerlines(gdirs_merged, ax=ax1, use_model_flowlines=True);\n",
    "basin.plot(ax=ax2)\n",
    "basin.loc[basin.RGIId=='RGI60-11.02709'].plot(ax=ax2, color='green')\n",
    "\n",
    "for rgiid in ['RGI60-11.02772', 'RGI60-11.02789', 'RGI60-11.02756', 'RGI60-11.02778', 'RGI60-11.02779', 'RGI60-11.02768']:\n",
    "    basin.loc[basin.RGIId==rgiid].plot(ax=ax2, color='orange')\n",
    "\n",
    "basin.loc[basin.RGIId=='RGI60-11.02701'].plot(ax=ax2, color='red')\n",
    "plt.tight_layout();"
   ]
  },
  {
   "cell_type": "markdown",
   "metadata": {},
   "source": [
    "We see that several glaciers are now part of one big glacier complex, but we are also missing some:\n",
    "- The green glacier ist our main glacier Mont Mine\n",
    "- The blue glaciers are succesfully merged to the main glacier. Either directly or first to another glacier which itself tributes to Mont Mine.\n",
    "- The orange glaciers do not flow into the same valley as Mont Mine glacier and were therefor correctly dismissed\n",
    "- The red glacier could have been merged to Mont Mine, but it is small and to far away so its downstream line within its individual domain does not reach the downstream line of Mont Mine. It would be possible to solve this by using higher border values for this glacier."
   ]
  },
  {
   "cell_type": "markdown",
   "metadata": {},
   "source": [
    "## Influence on glacier advance"
   ]
  },
  {
   "cell_type": "markdown",
   "metadata": {},
   "source": [
    "Merging two or more glaciers might become relevant for scenarios where you might expect an influence(or more specific: **mass contribution**) from one glacier to another. To test this effect we can model our main glacier Mont Mine as single *\"entity\"* glacier and a merged glacier complex.\n",
    "\n",
    "We do this with constant climate but with a rather strong negative temperatur bias of -1°C. This will lead to a rapid glacier advance. "
   ]
  },
  {
   "cell_type": "code",
   "execution_count": null,
   "metadata": {},
   "outputs": [],
   "source": [
    "# some model settings\n",
    "years = 125\n",
    "tbias = -1.5\n",
    "\n",
    "# model Mont Mine glacier as entity and complile the output\n",
    "tasks.run_constant_climate(montmine, nyears=years, output_filesuffix='_entity', temperature_bias=tbias)\n",
    "ds_entity = utils.compile_run_output([montmine], path=False, input_filesuffix='_entity')\n",
    "\n",
    "# model the merged glacier and complile the output\n",
    "tasks.run_constant_climate(gdirs_merged, nyears=years, output_filesuffix='_merged', temperature_bias=tbias, climate_filename='climate_historical')\n",
    "ds_merged = utils.compile_run_output([gdirs_merged], path=False, input_filesuffix='_merged')"
   ]
  },
  {
   "cell_type": "code",
   "execution_count": null,
   "metadata": {},
   "outputs": [],
   "source": [
    "fig, (ax1, ax2) = plt.subplots(1, 2, figsize=[15, 6])\n",
    "graphics.plot_modeloutput_map(montmine, ax=ax1, filesuffix='_entity', modelyr=years, vmax=350, title='entity');\n",
    "graphics.plot_modeloutput_map(gdirs_merged, ax=ax2, filesuffix='_merged', modelyr=years, vmax=350, title='merged');"
   ]
  },
  {
   "cell_type": "code",
   "execution_count": null,
   "metadata": {},
   "outputs": [],
   "source": [
    "fig, ax = plt.subplots(figsize=[15,7])\n",
    "dse = ds_entity.length.to_series().rolling(10, center=True).mean()\n",
    "dsm = ds_merged.length.to_series().rolling(10, center=True).mean()\n",
    "ax.plot(dse.values, 'C1', label='Entity glacier', linewidth=3)\n",
    "ax.plot(dsm.values, 'C2', label='Merged glacier', linewidth=3)\n",
    "ax.set_xlabel('Simulation time [years]')\n",
    "ax.set_ylabel('Glacier length[meters]')\n",
    "ax.grid(True)\n",
    "ax.legend();"
   ]
  },
  {
   "cell_type": "markdown",
   "metadata": {},
   "source": [
    "The difference betwee the two simulations is not immediately visible from the topographic plots as the domains are slightly different. But if we compare the glacier length change we see that after ~20 years in this climate scenario the merged glacier advances with a stronger rate. Around this point the tongues of Mont Mine and Ferpecle glacier in the east connect to one common tongue.\n",
    "\n",
    "And after around 90 years the merged glacier shows an additional small advance. At that point some of the smaller tributary glaciers start to contribute mass."
   ]
  },
  {
   "cell_type": "markdown",
   "metadata": {},
   "source": [
    "## Influence on glacier retreat"
   ]
  },
  {
   "cell_type": "markdown",
   "metadata": {},
   "source": [
    "We can also look at what influence a merged glacier has on glacier retreat.\n",
    "For this we first try to grow the entity glacier to the same length as the merged glacer with a more negative temperature bias:"
   ]
  },
  {
   "cell_type": "code",
   "execution_count": null,
   "metadata": {},
   "outputs": [],
   "source": [
    "# some model settings\n",
    "tbias = -2.25\n",
    "years = 125\n",
    "\n",
    "tasks.run_constant_climate(montmine, nyears=years, output_filesuffix='_entity1', temperature_bias=tbias)\n",
    "ds_entity1 = utils.compile_run_output([montmine], path=False, input_filesuffix='_entity1');"
   ]
  },
  {
   "cell_type": "code",
   "execution_count": null,
   "metadata": {},
   "outputs": [],
   "source": [
    "fig, ax = plt.subplots(figsize=[15,7])\n",
    "dse1 = ds_entity1.length.to_series().rolling(10, center=True).mean()\n",
    "ax.plot(dse1.values, 'C1', label='Entity glacier', linewidth=3)\n",
    "ax.plot(dsm.values, 'C2', label='Merged glacier', linewidth=3)\n",
    "ax.set_xlabel('Simulation time [years]')\n",
    "ax.set_ylabel('Glacier length [meters]')\n",
    "ax.grid(True)\n",
    "ax.legend();"
   ]
  },
  {
   "cell_type": "markdown",
   "metadata": {},
   "source": [
    "Now when both glaciers have roughly the same length we can let them shrink with a slightly warmer climate than before.\n",
    "For this we use the simulated glacier extends from the previous runs and then apply the an identical climate to both glaciers.\n"
   ]
  },
  {
   "cell_type": "code",
   "execution_count": null,
   "metadata": {},
   "outputs": [],
   "source": [
    "# some model settings\n",
    "tbias = -0.5\n",
    "years = 100\n",
    "\n",
    "# load the previous entity run \n",
    "tmp_mine = FileModel(montmine.get_filepath('model_geometry', filesuffix='_entity1'))\n",
    "tmp_mine.run_until(years)\n",
    "\n",
    "tasks.run_constant_climate(montmine, nyears=years, output_filesuffix='_entity2', init_model_fls=tmp_mine.fls,temperature_bias=tbias)\n",
    "ds_entity2 = utils.compile_run_output([montmine], path=False, input_filesuffix='_entity2');\n",
    "\n",
    "# model the merged glacier and complile the output\n",
    "tmp_merged = FileModel(gdirs_merged.get_filepath('model_geometry', filesuffix='_merged'))\n",
    "tmp_merged.run_until(years)\n",
    "\n",
    "tasks.run_constant_climate(gdirs_merged, nyears=years, output_filesuffix='_merged2', init_model_fls=tmp_merged.fls, temperature_bias=tbias,\n",
    "                           climate_filename='climate_historical')\n",
    "ds_merged2 = utils.compile_run_output([gdirs_merged], path=False, input_filesuffix='_merged2')"
   ]
  },
  {
   "cell_type": "code",
   "execution_count": null,
   "metadata": {},
   "outputs": [],
   "source": [
    "fig, ax = plt.subplots(figsize=(15, 7))\n",
    "dse2 = ds_entity2.length.to_series().rolling(10, center=True).mean()\n",
    "dsm2 = ds_merged2.length.to_series().rolling(10, center=True).mean()\n",
    "ax.plot(dse2.values, 'C1', label='Entity glacier', linewidth=3)\n",
    "ax.plot(dsm2.values, 'C2', label='Merged glacier', linewidth=3)\n",
    "ax.set_xlabel('Simulation time [years]')\n",
    "ax.set_ylabel('Glacier length [meters]')\n",
    "ax.grid(True)\n",
    "ax.legend();"
   ]
  },
  {
   "cell_type": "markdown",
   "metadata": {},
   "source": [
    "Starting from roughly the same extend, the entity glacier retreats much faster than the merged one, especially during the first 20 years. After that the rates of retreat seem more similar. But it takes more then 80 years until both glaciers are back to the same extend.\n",
    "\n",
    "Reaching the same extent in the end is to be exected, as the tributaries stop contributing mass to the merged Mont Mine at some point."
   ]
  },
  {
   "cell_type": "markdown",
   "metadata": {},
   "source": [
    "## Known problems, future improvements and limitations"
   ]
  },
  {
   "cell_type": "markdown",
   "metadata": {},
   "source": [
    "- In future OGGM should be able to automatically identify tributary glaciers in a given distance\n",
    "- Currently some glaciers are not merged as their downstream line does not reach the main glacier's line. This is especially the case for smaller tributary glaciers, as their domain is also smaller.\n",
    "- Glacier length in OGGM is calculated as the glaciated length of the main flowline. Usually this will also work for merged glaciers. But there are scenarios where merging glaciers might produce unexpected results: If a tributary glacier is contributing mass to the main glaciers downstream flowline but the main glacier did not already advance up to the tributary glacier (or has retreated again) the OGGM glacier length will be the sum of all glaciated parts on the main flowline. \n",
    "- Glacier area and volume in OGGM are calculated from all parts of the individual glacier. For a merged glacier all tributary glaciers are added to the total area and volume, even if they are not or were never connected to the actual main glacier.\n",
    "\n",
    "Especially the last two points show that even if merging glaciers will become a fully automated task in OGGM it should not be used without carfully assessing the results. Model results for merged glaciers might contain logical errors which are not obvious if only pure numbers (e.g. volume change) are evaluated. "
   ]
  },
  {
   "cell_type": "markdown",
   "metadata": {},
   "source": [
    "## What's next?\n",
    "\n",
    "- return to the [OGGM documentation](https://docs.oggm.org)\n",
    "- back to the [table of contents](welcome.ipynb)"
   ]
  }
 ],
 "metadata": {
  "celltoolbar": "Raw Cell Format",
  "hide_input": false,
  "kernelspec": {
   "display_name": "Python 3",
   "language": "python",
   "name": "python3"
  },
  "language_info": {
   "codemirror_mode": {
    "name": "ipython",
    "version": 3
   },
   "file_extension": ".py",
   "mimetype": "text/x-python",
   "name": "python",
   "nbconvert_exporter": "python",
   "pygments_lexer": "ipython3",
   "version": "3.8.5"
  },
  "toc": {
   "base_numbering": 1,
   "nav_menu": {},
   "number_sections": false,
   "sideBar": true,
   "skip_h1_title": true,
   "title_cell": "Table of Contents",
   "title_sidebar": "Contents",
   "toc_cell": false,
   "toc_position": {},
   "toc_section_display": true,
   "toc_window_display": false
  }
 },
 "nbformat": 4,
 "nbformat_minor": 4
}
